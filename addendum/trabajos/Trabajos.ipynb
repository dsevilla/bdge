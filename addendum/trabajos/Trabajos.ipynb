{
 "cells": [
  {
   "cell_type": "markdown",
   "id": "d0d7a1d2-85e3-47ff-b259-f34b37968ba9",
   "metadata": {},
   "source": [
    "# Trabajos Bases de Datos a Gran Escala, 2023-2024"
   ]
  },
  {
   "cell_type": "markdown",
   "id": "4c722b39-2e1b-458b-95c9-09af716063e1",
   "metadata": {},
   "source": [
    "En las siguientes transparencias se incluyen los trabajos propuestos para la asignatura. Cada trabajo incluye el estudio de una base de datos no vista en clase y la importación de los datos de Stackoverflow.\n",
    "\n",
    "**El trabajo será INDIVIDUAL**\n",
    "\n",
    "Más de un alumno podrá elegir el mismo trabajo, pero como máximo un trabajo podrá ser elegido por dos alumnos. Se entregará una memoria (y código, si se ha generado) en\n",
    "una tarea abierta a tal fin.\n",
    "\n",
    "La **fecha de entrega será el día del examen de la asignatura**."
   ]
  },
  {
   "cell_type": "markdown",
   "id": "c2c6864a-9453-43d1-a501-481cda260312",
   "metadata": {},
   "source": [
    "Para apuntarse a un trabajo el alumno tendrá que:\n",
    "\n",
    "1. Conectarse al servidor. \n",
    "   Usuario: alumno2324, \n",
    "   pass: (se enviará aparte en un mensaje en el aula virtual)\n",
    "  \n",
    "   ```bash\n",
    "   $ mysql -hdsevilla-proxy.inf.um.es -P3307 -ualumno2324 -p<password> --default-char-set=utf8 --protocol=tcp trabajos2324\n",
    "  ```\n",
    "  Esto también se puede hacer en el notebook de SQL cambiando la cadena de conexión de la celda del Notebook de la sesión 2 a:\n",
    "\n",
    "```sql\n",
    "%%sql \n",
    "mysql+pymysql://alumno2324:<password>@dsevilla-proxy.inf.um.es:3307/?charset=utf8mb4\n",
    "```\n",
    "\n",
    "2. Añadir una entrada a la tabla `asignacion_trabajos` con su dni, nombre y id del trabajo elegido.\n",
    "\n",
    "3. Se pueden listar qué trabajos hay y cuáles quedan libres:\n",
    "\n",
    "```\n",
    "mysql> use trabajos2324;\n",
    "Database changed\n",
    "mysql> select id,titulo from trabajos;\n",
    "+-----+-----------------------+\n",
    "| id  | titulo                |\n",
    "+-----+-----------------------+\n",
    "| Txx | Título                |\n",
    "| ... | .................     |\n",
    "+-----+-----------------------+\n",
    "mysql> select * from asignados;\n",
    "+-----+-----------------------+------------+\n",
    "| id  | titulo                | nasignados |\n",
    "+-----+-----------------------+------------+\n",
    "| Txx | Título                |          0 |\n",
    "| ... | ................      |          0 |\n",
    "+-----+-----------------------+------------+\n",
    "```\n",
    "\n",
    "- Las tablas disponibles:\n",
    "\n",
    "```\n",
    "mysql> show tables;\n",
    "+---------------------+\n",
    "| Tables_in_trabajos  |\n",
    "+---------------------+\n",
    "| asignacion_trabajos |\n",
    "| asignados           |\n",
    "| trabajos            |\n",
    "+---------------------+\n",
    "```"
   ]
  },
  {
   "cell_type": "markdown",
   "id": "f7f34a34-dc74-420c-8728-737463cc3dad",
   "metadata": {},
   "source": [
    "## T01 -- Open TSDB\n",
    "\n",
    "- Pasos de instalación de la base de datos\n",
    "- Descripción de la base de datos, modo de funcionamiento,\n",
    "  posibilidades de modelado de datos y características (si permite\n",
    "  transacciones, framework de procesamiento map/reduce, replicación\n",
    "  multiservidor, etc.)\n",
    "- Mostrar cómo importar los datos de Stackoverflow\n",
    "- Mostrar cómo redistribuir los datos de Stackoverflow de forma\n",
    "  óptima (uso de series de datos, como si, por ejemplo, comentarios,\n",
    "  posts, etc. se ejecutaran en un stream)\n",
    "- Mostrar cómo se realizarían las consultas RQ1 a RQ4 de los\n",
    "  artículos vistos en la sesión 2\n",
    "- Realizar pruebas de eficiencia comparada con alguna de las bases de\n",
    "  datos vistas en la asignatura\n",
    "- http://opentsdb.net/"
   ]
  },
  {
   "cell_type": "markdown",
   "id": "47e8d239-e569-45b6-aafd-721eab4bdea0",
   "metadata": {},
   "source": [
    "## T02 -- Apache Cassandra\n",
    "\n",
    "- Pasos de instalación de la base de datos\n",
    "- Descripción de la base de datos, modo de funcionamiento,\n",
    "  posibilidades de modelado de datos y características (si permite\n",
    "  transacciones, framework de procesamiento map/reduce, replicación\n",
    "  multiservidor, lenguaje de consultas CQL, etc.)\n",
    "- Mostrar cómo importar los datos de Stackoverflow\n",
    "- Mostrar cómo redistribuir los datos de Stackoverflow de forma\n",
    "  óptima (uso de agregación siguiendo el modelo de documentos)\n",
    "- Mostrar cómo se realizarían las consultas RQ1 a RQ4 de los\n",
    "  artículos vistos en la sesión 2\n",
    "- Realizar pruebas de eficiencia comparada con alguna de las bases de\n",
    "  datos vistas en la asignatura\n"
   ]
  },
  {
   "cell_type": "markdown",
   "id": "09346a88-1e9d-44a6-aff3-88ddee2c721b",
   "metadata": {},
   "source": [
    "## T03 -- OrientDB\n",
    "\n",
    "- Pasos de instalación de la base de datos\n",
    "- Descripción de la base de datos, modo de funcionamiento,\n",
    "  posibilidades de modelado de datos y características (si permite\n",
    "  transacciones, framework de procesamiento map/reduce, replicación\n",
    "  multiservidor, lenguaje de consultas, grafos vs. documentos, etc.)\n",
    "- Mostrar cómo importar los datos de Stackoverflow\n",
    "- Mostrar cómo redistribuir los datos de Stackoverflow de forma\n",
    "  óptima (uso de agregación y grafos)\n",
    "- Mostrar cómo se realizarían las consultas RQ1 a RQ4 de los\n",
    "  artículos vistos en la sesión 2\n",
    "- Realizar pruebas de eficiencia comparada con alguna de las bases de\n",
    "  datos vistas en la asignatura"
   ]
  },
  {
   "cell_type": "markdown",
   "id": "1d6bb926-5354-4826-a1b6-727aeec7587e",
   "metadata": {},
   "source": [
    "## T04 -- Redis\n",
    "\n",
    "- Pasos de instalación de la base de datos\n",
    "- Descripción de la base de datos, modo de funcionamiento,\n",
    "  posibilidades de modelado de datos y características (si permite\n",
    "  transacciones, _framework_ de procesamiento map/reduce, replicación\n",
    "  multiservidor, lenguaje de consultas, uso de varias estructuras de\n",
    "  datos (listas, mapas), etc.)\n",
    "- Mostrar cómo importar los datos de Stackoverflow\n",
    "- Mostrar cómo redistribuir los datos de Stackoverflow de forma\n",
    "  óptima (uso de diferentes estructuras de datos)\n",
    "- Mostrar cómo se realizarían las consultas RQ1 a RQ4 de los\n",
    "  artículos vistos en la sesión 2\n",
    "- Realizar pruebas de eficiencia comparada con alguna de las bases de\n",
    "  datos vistas en la asignatura"
   ]
  },
  {
   "cell_type": "markdown",
   "id": "848a2190-c389-42f5-8eb6-84bb9568e847",
   "metadata": {},
   "source": [
    "## T05 -- Elasticsearch\n",
    "\n",
    "- Pasos de instalación de la base de datos\n",
    "- Descripción de la base de datos, modo de funcionamiento,\n",
    "  posibilidades de modelado de datos y características (si permite\n",
    "  transacciones, organización en etiquetas, búsquedas complejas,\n",
    "  replicación multiservidor, lenguaje de consultas, etc.)\n",
    "- Mostrar cómo importar los datos de Stackoverflow\n",
    "- Mostrar cómo redistribuir los datos de Stackoverflow de forma\n",
    "  óptima (organización de etiquetas)\n",
    "- Mostrar cómo se realizarían las consultas RQ1 a RQ4 de los\n",
    "  artículos vistos en la sesión 2\n",
    "- Realizar pruebas de eficiencia comparada con alguna de las bases de\n",
    "  datos vistas en la asignatura"
   ]
  },
  {
   "cell_type": "markdown",
   "id": "364e75eb-1b4d-4cfa-83e3-22b6618ec84c",
   "metadata": {},
   "source": [
    "## T06 -- CouchBase y N1QL\n",
    "\n",
    "- Pasos de instalación de la base de datos\n",
    "- Descripción de la base de datos, modo de funcionamiento,\n",
    "  posibilidades de modelado de datos y características (si permite\n",
    "  transacciones, organización en etiquetas, búsquedas complejas,\n",
    "  replicación multiservidor, lenguaje de consultas N1QL, etc.)\n",
    "- Mostrar cómo importar los datos de Stackoverflow\n",
    "- Mostrar cómo redistribuir los datos de Stackoverflow de forma\n",
    "  óptima (documentos y consultas)\n",
    "- Mostrar cómo se realizarían las consultas RQ1 a RQ4 de los\n",
    "  artículos vistos en la sesión 2\n",
    "- Realizar pruebas de eficiencia comparada con alguna de las bases de\n",
    "  datos vistas en la asignatura"
   ]
  },
  {
   "cell_type": "markdown",
   "id": "1d3e47f1-a2cf-46de-9a1b-c413eda1ccc3",
   "metadata": {},
   "source": [
    "## T07 -- Riak\n",
    "\n",
    "- Pasos de instalación de la base de datos\n",
    "- Descripción de la base de datos, modo de funcionamiento,\n",
    "  posibilidades de modelado de datos y características (si permite\n",
    "  transacciones, framework de procesamiento map/reduce, replicación\n",
    "  multiservidor, etc.)\n",
    "- Mostrar cómo importar los datos de Stackoverflow\n",
    "- Mostrar cómo redistribuir los datos de Stackoverflow de forma\n",
    "  óptima (uso de agregación siguiendo el modelo de documentos)\n",
    "- Mostrar cómo se realizarían las consultas RQ1 a RQ4 de los\n",
    "  artículos vistos en la sesión 2\n",
    "- Realizar pruebas de eficiencia comparada con alguna de las bases de\n",
    "  datos vistas en la asignatura"
   ]
  },
  {
   "cell_type": "markdown",
   "id": "e8ef8f7b-32e3-4962-9db3-fa4d6413d16d",
   "metadata": {},
   "source": [
    "## T08 -- RethinkDB\n",
    "\n",
    "- https://rethinkdb.com/. Pasos de instalación de la base de datos\n",
    "- Descripción de la base de datos, modo de funcionamiento,\n",
    "  posibilidades de modelado de datos y características (si permite\n",
    "  transacciones, framework de procesamiento map/reduce, replicación\n",
    "  multiservidor, etc.)\n",
    "- Mostrar cómo importar los datos de Stackoverflow\n",
    "- Mostrar cómo redistribuir los datos de Stackoverflow de forma\n",
    "  óptima (uso de agregación donde sea posible)\n",
    "- Mostrar cómo se realizarían las consultas RQ1 a RQ4 de los\n",
    "  artículos vistos en la sesión 2\n",
    "- Realizar pruebas de eficiencia comparada con alguna de las bases de\n",
    "  datos vistas en la asignatura"
   ]
  },
  {
   "cell_type": "markdown",
   "id": "48767260-c4d9-4bd5-ba1f-b6f8a39952da",
   "metadata": {},
   "source": [
    "## T09 -- InfluxDB\n",
    "\n",
    "- https://www.influxdata.com/. Pasos de instalación de la base de datos.\n",
    "- Descripción de la base de datos, modo de funcionamiento,\n",
    "  posibilidades de modelado de datos y características (si permite\n",
    "  transacciones, tratamiento de series temporales, uso del API HTTP,\n",
    "  replicación multiservidor, etc.)\n",
    "- Mostrar cómo importar los datos de Stackoverflow\n",
    "- Mostrar cómo redistribuir los datos de Stackoverflow de forma\n",
    "  óptima (uso de agregación donde sea posible)\n",
    "- Mostrar cómo se realizarían las consultas RQ1 a RQ4 de los\n",
    "  artículos vistos en la sesión 2\n",
    "- Realizar pruebas de eficiencia comparada con alguna de las bases de\n",
    "  datos vistas en la asignatura\n"
   ]
  },
  {
   "cell_type": "markdown",
   "id": "0ffe0762-95f5-4a8c-ad9a-443c1da47d24",
   "metadata": {},
   "source": [
    "## T10 -- Accumulo\n",
    "\n",
    "- http://accumulo.apache.org/. Pasos de instalación de la base de datos\n",
    "- Descripción de la base de datos, modo de funcionamiento,\n",
    "  posibilidades de modelado de datos y características (si permite\n",
    "  transacciones, tratamiento de columnas, replicación multiservidor, etc.)\n",
    "- Mostrar cómo importar los datos de Stackoverflow\n",
    "- Mostrar cómo redistribuir los datos de Stackoverflow de forma\n",
    "  óptima (uso de columnas)\n",
    "- Mostrar cómo se realizarían las consultas RQ1 a RQ4 de los\n",
    "  artículos vistos en la sesión 2\n",
    "- Realizar pruebas de eficiencia comparada con alguna de las bases de\n",
    "  datos vistas en la asignatura"
   ]
  },
  {
   "cell_type": "markdown",
   "id": "ba2d94d3-1cbe-406d-a845-1672526d4827",
   "metadata": {},
   "source": [
    "## T11 -- ArangoDB\n",
    "\n",
    "- https://www.arangodb.com/. Pasos de instalación de la base de\n",
    "  datos\n",
    "- Descripción de la base de datos, modo de funcionamiento,\n",
    "  posibilidades de modelado de datos y características (si permite\n",
    "  transacciones, framework de procesamiento map/reduce, replicación\n",
    "  multiservidor, lenguaje de consultas AQL, grafos vs. documentos, etc.)\n",
    "- Mostrar cómo importar los datos de Stackoverflow\n",
    "- Mostrar cómo redistribuir los datos de Stackoverflow de forma\n",
    "  óptima (uso de agregación y grafos)\n",
    "- Mostrar cómo se realizarían las consultas RQ1 a RQ4 de los\n",
    "  artículos vistos en la sesión 2\n",
    "- Realizar pruebas de eficiencia comparada con alguna de las bases de\n",
    "  datos vistas en la asignatura"
   ]
  },
  {
   "cell_type": "markdown",
   "id": "91b316fe-9652-4bbd-af41-84db96054083",
   "metadata": {},
   "source": [
    "## T12 -- Tecnologías Serverless\n",
    "\n",
    "- Pasos de uso de cada plataforma. Al menos: AWS Lambda y Azure\n",
    "  Functions (también se puede considerar Google UDF)\n",
    "- Descripción del modo de funcionamiento,\n",
    "  posibilidades de modelado de datos y características\n",
    "- Mostrar cómo trabajar con los datos de Stackoverflow\n",
    "- Mostrar cómo se realizarían las consultas RQ1 a RQ4 de los\n",
    "  artículos vistos en la sesión 2\n",
    "- Realizar pruebas de eficiencia comparada con alguna de las bases de\n",
    "  datos vistas en la asignatura"
   ]
  },
  {
   "cell_type": "markdown",
   "id": "3a6ecefb-f70d-4377-8bbe-771a91687417",
   "metadata": {},
   "source": [
    "## T13 -- Apache Drill\n",
    "\n",
    "- http://drill.apache.org/. Pasos de instalación de la herramienta\n",
    "- Descripción de la herramienta, posibilidades de carga de datos, posibilidades de uso de ficheros de diferentes fuentes.\n",
    "- Mostrar cómo usar directamente los datos de Stackoverflow (de CSV por ejemplo, y también de una base de datos MySQL).\n",
    "- Comparar la eficiencia con respecto a la base de datos por debajo."
   ]
  },
  {
   "cell_type": "markdown",
   "id": "f21132a2-a8d1-403e-865f-e369d5f382a8",
   "metadata": {},
   "source": [
    "## T14 -- Apache Pig\n",
    "\n",
    "- Pasos de instalación de la herramienta\n",
    "- Descripción de la herramienta, posibilidades de transformación y\n",
    "  carga de datos, modos de funcionamiento, posibilidades de proceso de\n",
    "  datos, etc.\n",
    "- Mostrar cómo trabajar con los datos CSV de Stackoverflow y mostrar\n",
    "  cómo se realizarían las consultas RQ1 a RQ4 de los artículos vistos en la\n",
    "  sesión 2\n",
    "- Realizar pruebas de eficiencia comparada con alguna de las bases de\n",
    "  datos vistas en la asignatura"
   ]
  },
  {
   "cell_type": "markdown",
   "id": "62bf8948-9eea-412f-8851-b5a3766bda16",
   "metadata": {},
   "source": [
    "## T15 -- Apache Nifi\n",
    "\n",
    "- https://nifi.apache.org/\n",
    "- Pasos de instalación\n",
    "- Descripción de la herramienta, modo de funcionamiento,\n",
    "  posibilidades de modelado de datos y características\n",
    "- Mostrar cómo importar en flujo los datos de Stackoverflow\n",
    "- Mostrar cómo se realizarían las consultas RQ1 a RQ4 de los\n",
    "  artículos vistos en la sesión 2"
   ]
  },
  {
   "cell_type": "markdown",
   "id": "34be6660-8f8d-409d-b244-658331bb0145",
   "metadata": {},
   "source": [
    "## T16 -- Apache Druid\n",
    "\n",
    "- https://druid.apache.org/\n",
    "- Pasos de instalación\n",
    "- Descripción de la herramienta, modo de funcionamiento,\n",
    "  posibilidades de modelado de datos y características\n",
    "- Mostrar cómo importar los datos de Stackoverflow\n",
    "- Mostrar consultas sobre la base de datos de StackOverflow y si se\n",
    "  podrían realizar las consultas RQ1 a RQ4 de los artículos vistos en la\n",
    "  sesión 2"
   ]
  },
  {
   "cell_type": "markdown",
   "id": "1bd3c390-7550-4f42-9c51-c3665dffa975",
   "metadata": {},
   "source": [
    "## T17 -- ClickHouse\n",
    "\n",
    "- https://clickhouse.com/\n",
    "- Pasos de instalación\n",
    "- Descripción de la BD\n",
    "- Mostrar cómo importar los datos de Stackoverflow\n",
    "- Es una base de datos SQL pero tiene características columnares. Mostrar posibles optimizaciones para realizar RQ1 a RQ4 vistos en la sesión 2"
   ]
  },
  {
   "cell_type": "markdown",
   "id": "15bf8f80-ad1e-4e74-b894-69fe1eb0f2d3",
   "metadata": {},
   "source": [
    "## T18 -- SurrealDB\n",
    "\n",
    "- https://surrealdb.com/\n",
    "- Pasos de instalación\n",
    "- Descripción de la BD\n",
    "- Mostrar cómo importar los datos de Stackoverflow\n",
    "- Es una base de datos SQL pero tiene características de varios paradigmas. Mostrar posibles optimizaciones para realizar RQ1 a RQ4 vistos en la sesión 2"
   ]
  },
  {
   "cell_type": "markdown",
   "id": "1fa29fc6-7367-443b-b63e-e822a1e81f6b",
   "metadata": {},
   "source": [
    "## T19 -- EdgeDB\n",
    "\n",
    "- https://edgedb.com/\n",
    "- Pasos de instalación\n",
    "- Descripción de la BD\n",
    "- Mostrar cómo importar los datos de Stackoverflow\n",
    "- Es una base de datos SQL pero tiene características de varios paradigmas. Mostrar posibles optimizaciones para realizar RQ1 a RQ4 vistos en la sesión 2"
   ]
  },
  {
   "cell_type": "markdown",
   "id": "662baaa4-9c7b-4302-b3be-9bddfc9c729e",
   "metadata": {},
   "source": [
    "## T20 -- RavenDB\n",
    "\n",
    "- https://ravendb.net/\n",
    "- Pasos de instalación\n",
    "- Descripción de la BD\n",
    "- Mostrar cómo importar los datos de Stackoverflow\n",
    "- Es una base de datos NoSQL. Mostrar posibles optimizaciones para realizar RQ1 a RQ4 vistos en la sesión 2"
   ]
  },
  {
   "cell_type": "markdown",
   "id": "7da97563-94b3-465f-9b1c-260f39e88746",
   "metadata": {},
   "source": [
    "## T21 -- ScyllaDB\n",
    "\n",
    "- https://www.scylladb.com/\n",
    "- Pasos de instalación\n",
    "- Descripción de la BD\n",
    "- Mostrar cómo importar los datos de Stackoverflow\n",
    "- Es una base de datos NoSQL similar a Cassandra. Mostrar posibles optimizaciones para realizar RQ1 a RQ4 vistos en la sesión 2"
   ]
  },
  {
   "cell_type": "markdown",
   "id": "9bda0b57-f599-4c1d-94ff-13e0f4eb83a3",
   "metadata": {},
   "source": [
    "## T22 -- Apache Geode\n",
    "\n",
    "- https://geode.apache.org/\n",
    "- Pasos de instalación, distribución en regiones\n",
    "- Descripción de la BD\n",
    "- Mostrar cómo importar los datos de Stackoverflow\n",
    "- Mostrar posibles optimizaciones para realizar RQ1 a RQ4 vistos en la sesión 2\n",
    "- Mostrar cómo construir un API REST"
   ]
  }
 ],
 "metadata": {
  "kernelspec": {
   "display_name": "Python 3 (ipykernel)",
   "language": "python",
   "name": "python3"
  },
  "language_info": {
   "codemirror_mode": {
    "name": "ipython",
    "version": 3
   },
   "file_extension": ".py",
   "mimetype": "text/x-python",
   "name": "python",
   "nbconvert_exporter": "python",
   "pygments_lexer": "ipython3",
   "version": "3.11.6"
  }
 },
 "nbformat": 4,
 "nbformat_minor": 5
}
