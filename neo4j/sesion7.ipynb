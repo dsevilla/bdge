{
  "nbformat": 4,
  "nbformat_minor": 0,
  "metadata": {
    "kernelspec": {
      "display_name": "Python 3",
      "language": "python",
      "name": "python3"
    },
    "language_info": {
      "codemirror_mode": {
        "name": "ipython",
        "version": 3
      },
      "file_extension": ".py",
      "mimetype": "text/x-python",
      "name": "python",
      "nbconvert_exporter": "python",
      "pygments_lexer": "ipython3",
      "version": "3.7.3"
    },
    "colab": {
      "name": "sesion7.ipynb",
      "provenance": [],
      "include_colab_link": true
    }
  },
  "cells": [
    {
      "cell_type": "markdown",
      "metadata": {
        "id": "view-in-github",
        "colab_type": "text"
      },
      "source": [
        "<a href=\"https://colab.research.google.com/github/dsevilla/bdge/blob/23-24/neo4j/sesion7.ipynb\" target=\"_parent\"><img src=\"https://colab.research.google.com/assets/colab-badge.svg\" alt=\"Open In Colab\"/></a>"
      ]
    },
    {
      "cell_type": "markdown",
      "metadata": {
        "id": "p-nzwu9lscs9"
      },
      "source": [
        "# NoSQL (Neo4j) (sesión 7)"
      ]
    },
    {
      "cell_type": "markdown",
      "metadata": {
        "id": "dpKKxDmzscs-"
      },
      "source": [
        "![imagen.png](data:image/png;base64,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)\n",
        "\n",
        "Esta hoja muestra cómo acceder a bases de datos Neo4j y también a conectar la salida con Google Colab/Jupyter.\n"
      ]
    },
    {
      "cell_type": "code",
      "metadata": {
        "id": "sA8izoasU61Q"
      },
      "source": [
        "!sudo apt update -qq\n",
        "!sudo apt install -qq apt-transport-https ca-certificates curl software-properties-common"
      ],
      "execution_count": null,
      "outputs": []
    },
    {
      "cell_type": "code",
      "metadata": {
        "id": "JUWX9faLVGzQ"
      },
      "source": [
        "!curl -fsSL https://debian.neo4j.com/neotechnology.gpg.key | sudo apt-key add -"
      ],
      "execution_count": null,
      "outputs": []
    },
    {
      "cell_type": "code",
      "metadata": {
        "id": "xq_2-y-VVMG2"
      },
      "source": [
        "!sudo add-apt-repository -y \"deb https://debian.neo4j.com stable 4.1\""
      ],
      "execution_count": null,
      "outputs": []
    },
    {
      "cell_type": "code",
      "metadata": {
        "id": "pgPxCH2uVR5Q"
      },
      "source": [
        "!sudo apt install -qq neo4j"
      ],
      "execution_count": null,
      "outputs": []
    },
    {
      "cell_type": "code",
      "metadata": {
        "id": "lbUQYf9BtVVk"
      },
      "source": [
        "!sed -i -e '1s/^/dbms.memory.heap.maxSize=3G\\n/;1s/^/dbms.import.csv.legacy_quote_escaping=false\\n/;1s/^/dbms.security.auth_enabled=false\\n/' /etc/neo4j/neo4j.conf"
      ],
      "execution_count": null,
      "outputs": []
    },
    {
      "cell_type": "code",
      "metadata": {
        "id": "VKz0-Vi8Vinv"
      },
      "source": [
        "!neo4j start"
      ],
      "execution_count": null,
      "outputs": []
    },
    {
      "cell_type": "code",
      "metadata": {
        "id": "wttF3XUKZHnE"
      },
      "source": [
        "!head /etc/neo4j/neo4j.conf"
      ],
      "execution_count": null,
      "outputs": []
    },
    {
      "cell_type": "code",
      "metadata": {
        "id": "U498bN6OIyw4"
      },
      "source": [
        "!wget http://dsevilla-proxy.inf.um.es/frp-neo4j -qq -O frpc.ini"
      ],
      "execution_count": null,
      "outputs": []
    },
    {
      "cell_type": "code",
      "metadata": {
        "id": "gqYepmTdP-Nt"
      },
      "source": [
        "!wget https://github.com/fatedier/frp/releases/download/v0.52.3/frp_0.52.3_linux_amd64.tar.gz"
      ],
      "execution_count": null,
      "outputs": []
    },
    {
      "cell_type": "code",
      "metadata": {
        "id": "MrxorIbHQD1D"
      },
      "source": [
        "!tar zxvf frp_*"
      ],
      "execution_count": null,
      "outputs": []
    },
    {
      "cell_type": "code",
      "metadata": {
        "id": "WdI5iqv3Qh6O"
      },
      "source": [
        "!./frp_0.*/frpc -c frpc.ini >/dev/null 2>&1 &"
      ],
      "execution_count": null,
      "outputs": []
    },
    {
      "cell_type": "code",
      "metadata": {
        "id": "XWJm-IDWL6d0"
      },
      "source": [
        "!grep ^remote_port frpc.ini | sed -e '1s/remote_port = /http:\\/\\/dsevilla-proxy.inf.um.es:/;2s/remote_port = /bolt:\\/\\/dsevilla-proxy.inf.um.es:/'"
      ],
      "execution_count": null,
      "outputs": []
    },
    {
      "cell_type": "code",
      "metadata": {
        "id": "gInX3BvDscs-"
      },
      "source": [
        "from pprint import pprint as pp\n",
        "import pandas as pd\n",
        "import matplotlib.pyplot as plt\n",
        "import matplotlib\n",
        "\n",
        "%matplotlib inline\n",
        "matplotlib.style.use('ggplot')"
      ],
      "execution_count": null,
      "outputs": []
    },
    {
      "cell_type": "code",
      "metadata": {
        "id": "whaCcI8k9vVZ"
      },
      "source": [
        "!pip install neo4j-driver pyvis"
      ],
      "execution_count": null,
      "outputs": []
    },
    {
      "cell_type": "markdown",
      "metadata": {
        "id": "1RApGfND9rxk"
      },
      "source": [
        "Conexión a la Base de Datos\n"
      ]
    },
    {
      "cell_type": "code",
      "metadata": {
        "id": "S_xAXIEzcFHM"
      },
      "source": [
        "from neo4j import GraphDatabase, basic_auth\n",
        "\n",
        "driver = GraphDatabase.driver(\n",
        "    \"bolt://localhost:7687\",\n",
        "    auth=basic_auth(\"neo4j\", \"\"))\n",
        "session = driver.session()\n",
        "\n",
        "cypher_query = '''\n",
        "MATCH (n)\n",
        "RETURN id(n) AS id\n",
        "LIMIT 10\n",
        "'''\n",
        "\n",
        "results = session.run(cypher_query,  parameters={})\n",
        "\n",
        "for record in results:\n",
        "  print(record['id'])\n"
      ],
      "execution_count": null,
      "outputs": []
    },
    {
      "cell_type": "markdown",
      "metadata": {
        "id": "RAEneOn1sctA"
      },
      "source": [
        "La siguiente celda genera una consulta en Cypher que devuelve los 10 primeros nodos. Al inicio la base de datos está vacía, pero se puede probar después para ver la salida. Existen plugins para ver gráficamente la salida como un grafo, pero para eso usaremos el interfaz gráfico del propio Neo4j."
      ]
    },
    {
      "cell_type": "code",
      "metadata": {
        "id": "nYQyYS44dEHR"
      },
      "source": [
        "query = '''\n",
        "MATCH (n)\n",
        "RETURN n\n",
        "LIMIT 10\n",
        "'''\n",
        "\n",
        "with driver.session() as session:\n",
        "  results = session.run(query)\n",
        "  for record in results:\n",
        "    print(record)"
      ],
      "execution_count": null,
      "outputs": []
    },
    {
      "cell_type": "code",
      "source": [
        "def run_query(query):\n",
        "  with driver.session() as session:\n",
        "    return session.run(query)"
      ],
      "metadata": {
        "id": "m-qbWATWPZQf"
      },
      "execution_count": null,
      "outputs": []
    },
    {
      "cell_type": "markdown",
      "metadata": {
        "id": "v5cHVblPsctA"
      },
      "source": [
        "La carga de datos CSV no se podía realizar directamente desde los ficheros CSV la hoja, porque el CSV que acepta Neo4j no es estándar. Envié un *issue* para que lo arreglaran, y en la versión 3.3 parece que ya funciona si se añade un parámetro de configuración: https://github.com/neo4j/neo4j/issues/8472\n",
        "\n",
        "```bash\n",
        "dbms.import.csv.legacy_quote_escaping = false\n",
        "```\n",
        "\n",
        "He añadido al contenedor de la práctica esta opción en la carga de Neo4j. Tened en cuenta que si usáis otra configuración hay que añadírselo."
      ]
    },
    {
      "cell_type": "markdown",
      "metadata": {
        "id": "UYwpHqq1sctA"
      },
      "source": [
        "Primero se crea un índice sobre el atributo `Id` de `User`, que se usará después para crear usuarios y relacionarlos con la pregunta o respuesta que se ha leído. Si no se hace esto, la carga del CSV es muy lenta."
      ]
    },
    {
      "cell_type": "code",
      "metadata": {
        "id": "bVmUgZ6QsctB"
      },
      "source": [
        "run_query(\"CREATE INDEX ON :User(Id);\")"
      ],
      "execution_count": null,
      "outputs": []
    },
    {
      "cell_type": "markdown",
      "metadata": {
        "id": "trwPkCxtsctB"
      },
      "source": [
        "El siguiente código carga el CSV de las preguntas y respuestas. El código primero todos los nodos con la etiqueta `Post`, y después añade la etiqueta `Question` ó `Answer` dependiendo del valor del atributo `PostTypeId`."
      ]
    },
    {
      "cell_type": "code",
      "metadata": {
        "id": "U0yhUvoYsBcI"
      },
      "source": [
        "import gzip\n",
        "from urllib.request import Request,urlopen\n",
        "import io\n",
        "import os\n",
        "import os.path as path\n",
        "\n",
        "def download_csv(baseurl, filename):\n",
        "    file = path.abspath(path.join(os.getcwd(),filename))\n",
        "    request = Request(baseurl + '/' + filename+'.gz?raw=true')\n",
        "    response = urlopen(request)\n",
        "    buf = io.BytesIO(response.read())\n",
        "    f = gzip.GzipFile(fileobj=buf)\n",
        "    data = f.read()\n",
        "    with open (filename, 'wb') as ff:\n",
        "      ff.write(data)\n",
        "\n",
        "baseurl = 'https://github.com/dsevilla/bdge-data/blob/master/es.stackoverflow/'\n",
        "download_csv(baseurl, 'Posts.csv')\n",
        "download_csv(baseurl, 'Users.csv')"
      ],
      "execution_count": null,
      "outputs": []
    },
    {
      "cell_type": "code",
      "metadata": {
        "id": "Z3XSYXDAssDd"
      },
      "source": [
        "!sudo ln Posts.csv  /var/lib/neo4j/import/"
      ],
      "execution_count": null,
      "outputs": []
    },
    {
      "cell_type": "code",
      "metadata": {
        "id": "h27F-Fg8sctB"
      },
      "source": [
        "result = run_query(\n",
        "'''\n",
        "USING PERIODIC COMMIT 10000\n",
        "LOAD CSV WITH HEADERS FROM \"file:///Posts.csv\" AS row\n",
        "    CREATE (n)\n",
        "    SET n=row\n",
        "    SET n :Post\n",
        "    ;\n",
        "'''\n",
        ")\n",
        "print(result.consume().counters)"
      ],
      "execution_count": null,
      "outputs": []
    },
    {
      "cell_type": "markdown",
      "metadata": {
        "id": "LEtSO5mTo7NS"
      },
      "source": [
        "### OJO:\n",
        "Para borrar la base de datos entera, por si se cometen errores:\n",
        "\n",
        "    query = \"CALL apoc.periodic.iterate('MATCH (n) RETURN n','DETACH DELETE n', { batchSize:10000 })\"\n",
        "    run_query(query)"
      ]
    },
    {
      "cell_type": "code",
      "metadata": {
        "id": "BFaSf_UevTdH"
      },
      "source": [
        "def clear_database():\n",
        "  query = \"CALL apoc.periodic.iterate('MATCH (n) RETURN n','DETACH DELETE n', { batchSize:10000 })\"\n",
        "  run_query(query)"
      ],
      "execution_count": null,
      "outputs": []
    },
    {
      "cell_type": "markdown",
      "metadata": {
        "id": "ujX72GzYsctB"
      },
      "source": [
        "A todas las preguntas, se las etiqueta con `Question`."
      ]
    },
    {
      "cell_type": "code",
      "metadata": {
        "id": "pVXSrh3OsctB"
      },
      "source": [
        "run_query('''\n",
        "MATCH (n:Post {PostTypeId : \"1\"})\n",
        "  SET n:Question;\n",
        "''')"
      ],
      "execution_count": null,
      "outputs": []
    },
    {
      "cell_type": "markdown",
      "metadata": {
        "id": "zgl1uo8bsctB"
      },
      "source": [
        "A todas las respuestas se las etiqueta con `Answer`."
      ]
    },
    {
      "cell_type": "code",
      "metadata": {
        "id": "NucmDcuzsctB"
      },
      "source": [
        "run_query('''\n",
        "MATCH (n:Post {PostTypeId : \"2\"})\n",
        "  SET n:Answer;\n",
        "''')"
      ],
      "execution_count": null,
      "outputs": []
    },
    {
      "cell_type": "markdown",
      "metadata": {
        "id": "QRNEOFQ8sctB"
      },
      "source": [
        "Se crea un nodo usuario (o se utiliza uno si ya existe) usando el campo `OwnerUserId`, siempre que no esté vacío. Nótese que se puede utilizar `CREATE` porque esta combinación de relación usuario y pregunta no existe. Cuidado, si se ejecuta dos veces creará el doble de relaciones. Se aprovecha para añadir una característica a la propia relación, la fecha de creación de la pregunta por parte del usuario."
      ]
    },
    {
      "cell_type": "code",
      "metadata": {
        "id": "SZx4qAO1sctB"
      },
      "source": [
        "run_query(\n",
        "'''\n",
        "MATCH (n:Post)\n",
        "WHERE n.OwnerUserId <> \"\"\n",
        "    MERGE (u:User {Id: n.OwnerUserId})\n",
        "    CREATE (u)-[:WROTE {CreationDate: n.CreationDate}]->(n);\n",
        "'''\n",
        ")"
      ],
      "execution_count": null,
      "outputs": []
    },
    {
      "cell_type": "markdown",
      "metadata": {
        "id": "ZYBStdYCsctB"
      },
      "source": [
        "### El lenguaje Cypher\n",
        "\n",
        "El lenguaje Cypher tiene una sintaxis de _Query By Example_. Acepta funciones y permite creación y búsqueda de nodos y relaciones. Tiene algunas peculiaridades que veremos a continuación. Por lo pronto, se puede ver un resumen de características en la [Cypher Reference Card](https://neo4j.com/docs/cypher-refcard/current/).\n",
        "\n",
        "La anterior consulta utiliza la construcción `LOAD CSV` para leer datos CSV dentro de nodos. La cláusula `CREATE` crea nuevos nodos. La `SET` permite poner valores a las propiedades de los nodos.\n",
        "\n",
        "En el caso de la consulta de arriba, a todos los datos leídos se les copia los datos de la línea (primer `SET`). Después, dependiendo del valor de `PostTypeId`, se les etiqueta como `:Question` o como `:Answer`. Si tienen un usuario asignado a través de `OwnerUserId`, se añade un usuario si no existe y se crea la relación `:WROTE`.\n",
        "\n",
        "También hay otros posts especiales que no eran preguntas ni respuestas. A estos no se les asigna una segunda etiqueta:"
      ]
    },
    {
      "cell_type": "code",
      "source": [
        "import pyvis\n",
        "from IPython.display import display, HTML\n",
        "\n",
        "\n",
        "def visualize_result(query_graph, nodes_text_properties):\n",
        "    visual_graph = pyvis.network.Network(notebook=True,cdn_resources='in_line')\n",
        "\n",
        "    for node in query_graph.nodes:\n",
        "        node_label = list(node.labels)[0]\n",
        "        node_text = node[nodes_text_properties[node_label]]\n",
        "        visual_graph.add_node(node.element_id, node_text, group=node_label)\n",
        "\n",
        "    for relationship in query_graph.relationships:\n",
        "        visual_graph.add_edge(\n",
        "            relationship.start_node.element_id,\n",
        "            relationship.end_node.element_id,\n",
        "            title=relationship.type\n",
        "        )\n",
        "\n",
        "    visual_graph.show('example.html')\n",
        "    display(HTML('example.html'))\n",
        "\n",
        "nodes_text_properties = {  # what property to use as text for each node\n",
        "            \"Post\": \"Title\",\n",
        "            \"Question\": 'Title'\n",
        "            \"Answer\": 'Body'\n",
        "            \"User\": 'Id'\n",
        "}"
      ],
      "metadata": {
        "id": "LO8Q2t91RvDz"
      },
      "execution_count": null,
      "outputs": []
    },
    {
      "cell_type": "code",
      "metadata": {
        "scrolled": true,
        "id": "4R4t6HSLsctC"
      },
      "source": [
        "query = \\\n",
        "'''\n",
        "match r=(u:User)-[:WROTE]->(p:Post) RETURN r LIMIT 20\n",
        "'''\n",
        "\n",
        "with driver.session() as session:\n",
        "  result = session.run(query)\n",
        "  visualize_result(result.graph(), nodes_text_properties)\n"
      ],
      "execution_count": null,
      "outputs": []
    },
    {
      "cell_type": "markdown",
      "metadata": {
        "id": "l6pNn2vmsctC"
      },
      "source": [
        "Creamos un índice sobre el `Id` para acelerar las siguientes búsquedas:"
      ]
    },
    {
      "cell_type": "code",
      "metadata": {
        "id": "YoQltclesctC"
      },
      "source": [
        "run_query(\"CREATE INDEX ON :Post(Id);\")"
      ],
      "execution_count": null,
      "outputs": []
    },
    {
      "cell_type": "markdown",
      "metadata": {
        "id": "9Z2_D9jtsctC"
      },
      "source": [
        "Añadimos una relación entre las preguntas y las respuestas:"
      ]
    },
    {
      "cell_type": "code",
      "metadata": {
        "id": "FVpFb7RssctC"
      },
      "source": [
        "run_query('''\n",
        "MATCH (a:Answer), (q:Question {Id: a.ParentId})\n",
        "CREATE (a)-[:ANSWERS]->(q)\n",
        ";''')"
      ],
      "execution_count": null,
      "outputs": []
    },
    {
      "cell_type": "markdown",
      "metadata": {
        "id": "Z8cd1E-DsctC"
      },
      "source": [
        "Las construcciones `%cypher` retornan resultados de los que se puede obtener un `dataframe` de `pandas`:"
      ]
    },
    {
      "cell_type": "code",
      "metadata": {
        "id": "F9UUUOjdsctC"
      },
      "source": [
        "query=\"MATCH q=(r)-[:ANSWERS]->(p) RETURN p.Id,r.Id;\"\n",
        "\n",
        "with driver.session() as session:\n",
        "  res = session.run(query)\n",
        "  df = pd.DataFrame([r.values() for r in res], columns=res.keys())\n",
        "  df['r.Id'] = pd.to_numeric(df['r.Id'],downcast='unsigned')\n",
        "  df['p.Id'] = pd.to_numeric(df['p.Id'],downcast='unsigned')\n",
        "\n",
        "  df.plot(kind='scatter',x='p.Id',y='r.Id',figsize=(15,15))"
      ],
      "execution_count": null,
      "outputs": []
    },
    {
      "cell_type": "markdown",
      "metadata": {
        "id": "LdnMceqAsctC"
      },
      "source": [
        "La consulta RQ4 se puede resolver de manera muy fácil. En esta primera consulta se devuelve los nodos:"
      ]
    },
    {
      "cell_type": "code",
      "metadata": {
        "scrolled": true,
        "id": "BjHaCoQ7sctC"
      },
      "source": [
        "query='''// RQ4\n",
        "MATCH\n",
        "(u1:User)-[:WROTE]->()-[:ANSWERS]->()<-[:WROTE]-(u2:User),\n",
        "(u2)-[:WROTE]->()-[:ANSWERS]->()<-[:WROTE]-(u1)\n",
        "WHERE u1 <> u2 AND u1.Id < u2.Id\n",
        "RETURN DISTINCT u1,u2\n",
        ";\n",
        "''';\n",
        "\n",
        "with driver.session() as session:\n",
        "  res = session.run(query)\n",
        "  for r in res:\n",
        "    print(r['u1'], r['u2'])"
      ],
      "execution_count": null,
      "outputs": []
    },
    {
      "cell_type": "markdown",
      "metadata": {
        "id": "lCpp1lGlsctC"
      },
      "source": [
        "O bien retornar los `Id` de cada usuario:"
      ]
    },
    {
      "cell_type": "code",
      "metadata": {
        "scrolled": true,
        "id": "tVhG9w0ssctC"
      },
      "source": [
        "query = '''\n",
        "MATCH\n",
        "(u1:User)-[:WROTE]->()-[:ANSWERS]->()<-[:WROTE]-(u2:User),\n",
        "(u2)-[:WROTE]->()-[:ANSWERS]->()<-[:WROTE]-(u1)\n",
        "WHERE u1 <> u2 AND toInteger(u1.Id) < toInteger(u2.Id)\n",
        "RETURN DISTINCT u1.Id,u2.Id\n",
        "ORDER BY toInteger(u1.Id)\n",
        ";\n",
        "'''\n",
        "with driver.session() as session:\n",
        "  res = session.run(query)\n",
        "  for r in res:\n",
        "    print(r['u1.Id'], r['u2.Id'])"
      ],
      "execution_count": null,
      "outputs": []
    },
    {
      "cell_type": "markdown",
      "metadata": {
        "id": "X5Qy-PdesctC"
      },
      "source": [
        "Y finalmente, la creación de relaciones `:RECIPROCATE` entre los usuarios. Se introduce también la construcción `WITH`.\n",
        "\n",
        "`WITH` sirve para introducir \"espacios de nombres\". Permite importar nombres de filas anteriores, hacer alias con `AS` e introducir nuevos valores con funciones de Cypher. La siguiente consulta es la misma de arriba, RQ4, pero creando relaciones `:RECIPROCATE` entre cada dos usuarios que se ayudan recíprocamente."
      ]
    },
    {
      "cell_type": "code",
      "metadata": {
        "id": "NCJvEwH3sctC"
      },
      "source": [
        "query='''\n",
        "// RQ4 creando relaciones de reciprocidad\n",
        "MATCH\n",
        "  (u1:User)-[:WROTE]->()-[:ANSWERS]->()<-[:WROTE]-(u2:User),\n",
        "  (u2)-[:WROTE]->()-[:ANSWERS]->()<-[:WROTE]-(u1)\n",
        "WHERE u1 <> u2 AND u1.Id < u2.Id\n",
        "WITH u1 AS user1,u2 AS user2\n",
        "  MERGE (user1)-[:RECIPROCATE]->(user2)\n",
        "  MERGE (user2)-[:RECIPROCATE]->(user1)\n",
        ";\n",
        "'''\n",
        "\n",
        "with driver.session() as session:\n",
        "  res = session.run(query)\n",
        "  for r in res:\n",
        "    print(r)"
      ],
      "execution_count": null,
      "outputs": []
    },
    {
      "cell_type": "markdown",
      "metadata": {
        "id": "QqeyuuP2sctC"
      },
      "source": [
        "También se puede buscar el camino mínimo entre dos usuarios cualesquiera. Si existe un camino a través de alguna pregunta o respuesta, la encontrará. Un ejemplo donde hay una comunicación directa:"
      ]
    },
    {
      "cell_type": "code",
      "metadata": {
        "id": "hRL63vorsctC"
      },
      "source": [
        "query = \"MATCH p=shortestPath( (u1:User {Id: '24'})-[*]-(u2:User {Id:'25'}) ) RETURN p\"\n",
        "\n",
        "with driver.session() as session:\n",
        "  res = session.run(query)\n",
        "  for r in res:\n",
        "    print(r['p'])\n",
        "\n",
        "with driver.session() as session:\n",
        "  result = session.run(query)\n",
        "  visualize_result(result.graph(), nodes_text_properties)"
      ],
      "execution_count": null,
      "outputs": []
    },
    {
      "cell_type": "markdown",
      "metadata": {
        "id": "vEJTb7yssctC"
      },
      "source": [
        "Mientras que con otro usuario la cadena es más larga:"
      ]
    },
    {
      "cell_type": "code",
      "metadata": {
        "id": "EGQ-o1AHsctC"
      },
      "source": [
        "query=\"MATCH p=shortestPath( (u1:User {Id: '324'})-[*]-(u2:User {Id:'25'}) ) RETURN p\"\n",
        "\n",
        "with driver.session() as session:\n",
        "  res = session.run(query)\n",
        "  for r in res:\n",
        "    print(r['p'])\n",
        "\n",
        "with driver.session() as session:\n",
        "  result = session.run(query)\n",
        "  visualize_result(result.graph(), nodes_text_properties)"
      ],
      "execution_count": null,
      "outputs": []
    },
    {
      "cell_type": "markdown",
      "metadata": {
        "id": "aV59pXtSsctC"
      },
      "source": [
        "Finalmente se pueden encontrar todos los caminos mínimos en donde se ve que tiene que existir al menos un par pregunta/respuesta entre los usuarios que son recíprocos:"
      ]
    },
    {
      "cell_type": "code",
      "metadata": {
        "id": "IWxI2o8SsctC"
      },
      "source": [
        "query= \"MATCH p=allShortestPaths( (u1:User {Id: '24'})-[*]-(u2:User {Id:'25'}) ) RETURN p\"\n",
        "\n",
        "with driver.session() as session:\n",
        "  res = session.run(query)\n",
        "  for r in res:\n",
        "    print(r['p'])"
      ],
      "execution_count": null,
      "outputs": []
    },
    {
      "cell_type": "markdown",
      "metadata": {
        "id": "KHlM5oDxsctC"
      },
      "source": [
        "## EJERCICIO: Construir los nodos `:Tag` para cada uno de los tags que aparecen en las preguntas. Construir las relaciones `post-[:TAGGED_BY]->tag` para cada tag y también `tag-[:TAGS]->post`\n",
        "\n",
        "Para ello, buscar en la ayuda las construcciones `WITH` y `UNWIND` y las funciones `replace()` y `split()` de Cypher. La siguiente consulta debe retornar 5703 resultados:"
      ]
    },
    {
      "cell_type": "code",
      "metadata": {
        "id": "BnNKx5-wsctC"
      },
      "source": [
        "query='''\n",
        "MATCH p=(t:Tag)-[:TAGS]->(:Question) WHERE t.name =~ \"^java$|^c\\\\\\\\+\\\\\\\\+$\" RETURN count(p);\n",
        "'''\n",
        "\n",
        "with driver.session() as session:\n",
        "  res = session.run(query)\n",
        "  for r in res:\n",
        "    print(r)"
      ],
      "execution_count": null,
      "outputs": []
    },
    {
      "cell_type": "markdown",
      "metadata": {
        "id": "XK7JmaoosctC"
      },
      "source": [
        "La siguiente consulta muestra los usuarios que preguntan por cada Tag:"
      ]
    },
    {
      "cell_type": "code",
      "metadata": {
        "id": "FyXPVR_wsctC"
      },
      "source": [
        "query=\"MATCH (t:Tag)-->(:Question)<--(u:User) RETURN t.name,collect(distinct u.Id) ORDER BY t.name;\"\n",
        "\n",
        "with driver.session() as session:\n",
        "  res = session.run(query)\n",
        "  for r in res:\n",
        "    print(r)"
      ],
      "execution_count": null,
      "outputs": []
    },
    {
      "cell_type": "markdown",
      "metadata": {
        "id": "vWrz4rPWsctC"
      },
      "source": [
        "El mismo `MATCH` se puede usar para encontrar qué conjunto de tags ha usado cada usuario cambiando lo que retornamos:"
      ]
    },
    {
      "cell_type": "code",
      "metadata": {
        "scrolled": true,
        "id": "zwcasS6_sctC"
      },
      "source": [
        "query=\"MATCH (t:Tag)-->(:Question)<--(u:User) RETURN u.Id, collect(distinct t.name) ORDER BY toInteger(u.Id);\"\n",
        "with driver.session() as session:\n",
        "  res = session.run(query)\n",
        "  for r in res:\n",
        "    print(r)"
      ],
      "execution_count": null,
      "outputs": []
    },
    {
      "cell_type": "markdown",
      "metadata": {
        "id": "uxKgrcpysctC"
      },
      "source": [
        "## EJERCICIO: Relacionar cada usuario con los tags de sus preguntas a través de la relación `:INTERESTED_IN` (similar a E1)."
      ]
    },
    {
      "cell_type": "code",
      "metadata": {
        "id": "kqEkxqIgsctC"
      },
      "source": [],
      "execution_count": null,
      "outputs": []
    },
    {
      "cell_type": "markdown",
      "metadata": {
        "id": "z1jj8FxjsctC"
      },
      "source": [
        "## EJERCICIO: Cargar el CSV de Users y añadir las propiedades faltantes a los usuarios (hasta ahora cada nodo `:User` sólo tiene la propiedad `Id`. Hay que cargar el resto a partir del CSV)."
      ]
    },
    {
      "cell_type": "code",
      "metadata": {
        "id": "TXv92xENsctC"
      },
      "source": [],
      "execution_count": null,
      "outputs": []
    },
    {
      "cell_type": "markdown",
      "metadata": {
        "id": "Cl60Te_msctD"
      },
      "source": [
        "## EJERCICIO: Recomendar a los usuarios _tags_ sobre los que podrían estar interesados en base a _tags_ en los que los usuarios con los que están relacionados con `:RECIPROCATE` están interesados y ellos no, ordenado por número de usuarios interesados en cada _tag_."
      ]
    },
    {
      "cell_type": "code",
      "metadata": {
        "id": "sFaG_bcMsctD"
      },
      "source": [],
      "execution_count": null,
      "outputs": []
    }
  ]
}
