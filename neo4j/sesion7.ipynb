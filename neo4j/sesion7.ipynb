{
 "cells": [
  {
   "cell_type": "markdown",
   "metadata": {
    "collapsed": true
   },
   "source": [
    "# NoSQL (Neo4j) (sesión 7)"
   ]
  },
  {
   "attachments": {
    "neo4j-logo-2015.png": {
     "image/png": "[encoded data removed]"
    }
   },
   "cell_type": "markdown",
   "metadata": {},
   "source": [
    "![Image of HBase](attachment:neo4j-logo-2015.png)\n",
    "\n",
    "Esta hoja muestra cómo acceder a bases de datos Neo4j y también a conectar la salida con Jupyter.\n",
    "\n",
    "Se puede utilizar el propio interfaz de Neo4j también en la dirección http://127.0.0.1:7474."
   ]
  },
  {
   "cell_type": "code",
   "execution_count": null,
   "metadata": {},
   "outputs": [],
   "source": [
    "from pprint import pprint as pp\n",
    "import pandas as pd\n",
    "import matplotlib.pyplot as plt\n",
    "import matplotlib\n",
    "\n",
    "%matplotlib inline\n",
    "matplotlib.style.use('ggplot')"
   ]
  },
  {
   "cell_type": "markdown",
   "metadata": {},
   "source": [
    "Vamos a cargar la extensión `ipython-cypher` para poder lanzar consultas Cypher directamente a través de la hoja.\n",
    "    \n",
    "Todas las celdas que comiencen por `%%cypher` y todas las instrucciones Python que comiencen por `%cypher` se enviarán a Neo4j para su interpretación."
   ]
  },
  {
   "cell_type": "code",
   "execution_count": null,
   "metadata": {
    "scrolled": true
   },
   "outputs": [],
   "source": [
    "!pip install ipython-cypher"
   ]
  },
  {
   "cell_type": "code",
   "execution_count": null,
   "metadata": {},
   "outputs": [],
   "source": [
    "%load_ext cypher\n",
    "%config CypherMagic.uri='http://neo4j:7474/db/data'"
   ]
  },
  {
   "cell_type": "code",
   "execution_count": null,
   "metadata": {},
   "outputs": [],
   "source": [
    "%config CypherMagic.auto_html=False"
   ]
  },
  {
   "cell_type": "code",
   "execution_count": null,
   "metadata": {},
   "outputs": [],
   "source": [
    "%%cypher\n",
    "match (n) return n limit 10;"
   ]
  },
  {
   "cell_type": "markdown",
   "metadata": {},
   "source": [
    "La carga de datos CSV no se puede realizar directamente desde la hoja, porque la extensión `ipython-cypher` falla por alguna cuestión de codificación UTF-8. Además, el CSV que acepta Neo4j no es estándar y he enviado un fallo para que lo arreglen. Lo han cambiado el la herramienta `neo4j-import`, pero no desde Cypher:\n",
    "\n",
    "https://github.com/neo4j/neo4j/issues/8472\n",
    "\n",
    "Mientras tanto, se pueden importar los Posts de Stackoverflow español simplemente añadiendo una barra inversa a cada barra inversa que aparece en el fichero:\n",
    "\n",
    "    sed -ie 's/\\\\/\\\\\\\\/g' Posts.csv\n",
    "    \n",
    "He preparado un conjunto de datos en mi servidor para que los pueda importar Neo4j."
   ]
  },
  {
   "cell_type": "markdown",
   "metadata": {},
   "source": [
    "Primero se crea un índice sobre el atributo `Id` de `User`, que se usará después para crear usuarios y relacionarlos con la pregunta o respuesta que se ha leído. Si no se hace esto, la carga del CSV es muy lenta."
   ]
  },
  {
   "cell_type": "code",
   "execution_count": null,
   "metadata": {},
   "outputs": [],
   "source": [
    "%%cypher\n",
    "CREATE INDEX ON :User(Id);"
   ]
  },
  {
   "cell_type": "markdown",
   "metadata": {},
   "source": [
    "El siguiente código carga el CSV de las preguntas y respuestas. El código primero todos los nodos con la etiqueta `Post`, y después añade la etiqueta `Question` ó `Answer` dependiendo del valor del atributo `PostTypeId`."
   ]
  },
  {
   "cell_type": "code",
   "execution_count": null,
   "metadata": {},
   "outputs": [],
   "source": [
    "%%cypher\n",
    "USING PERIODIC COMMIT 10000\n",
    "LOAD CSV WITH HEADERS FROM \"http://neuromancer.inf.um.es:8080/es.stackoverflow/Posts-neo4j.csv\" AS row\n",
    "    CREATE (n)\n",
    "    SET n=row\n",
    "    SET n :Post\n",
    "    ;"
   ]
  },
  {
   "cell_type": "markdown",
   "metadata": {},
   "source": [
    "A todas las preguntas, se las etiqueta con `Question`."
   ]
  },
  {
   "cell_type": "code",
   "execution_count": null,
   "metadata": {},
   "outputs": [],
   "source": [
    "%%cypher\n",
    "MATCH (n:Post {PostTypeId : \"1\"})\n",
    "  SET n:Question;"
   ]
  },
  {
   "cell_type": "markdown",
   "metadata": {},
   "source": [
    "A todas las respuestas se las etiqueta con `Answer`."
   ]
  },
  {
   "cell_type": "code",
   "execution_count": null,
   "metadata": {},
   "outputs": [],
   "source": [
    "%%cypher\n",
    "MATCH (n:Post {PostTypeId : \"2\"})\n",
    "  SET n:Answer;"
   ]
  },
  {
   "cell_type": "markdown",
   "metadata": {},
   "source": [
    "Se crea un nodo usuario (o se utiliza uno si ya existe) usando el campo `OwnerUserId`, siempre que no esté vacío."
   ]
  },
  {
   "cell_type": "code",
   "execution_count": null,
   "metadata": {},
   "outputs": [],
   "source": [
    "%%cypher\n",
    "MATCH (n:Post)\n",
    "WHERE n.OwnerUserId <> \"\"\n",
    "    MERGE (u:User {Id: n.OwnerUserId})\n",
    "    MERGE (u)-[:WROTE]->(n);"
   ]
  },
  {
   "cell_type": "markdown",
   "metadata": {},
   "source": [
    "### El lenguaje Cypher\n",
    "\n",
    "El lenguaje Cypher tiene una sintaxis de _Query By Example_. Acepta funciones y permite creación y búsqueda de nodos y relaciones. Tiene algunas peculiaridades que veremos a continuación. Por lo pronto, se puede ver un resumen de características en la [Cypher Reference Card](https://neo4j.com/docs/cypher-refcard/current/).\n",
    "\n",
    "La anterior consulta utiliza la construcción `LOAD CSV` para leer datos CSV dentro de nodos. La cláusula `CREATE` crea nuevos nodos. La `SET` permite poner valores a las propiedades de los nodos.\n",
    "\n",
    "En el caso de la consulta de arriba, a todos los datos leídos se les copia los datos de la línea (primer `SET`). Después, dependiendo del valor de `PostTypeId`, se les etiqueta como `:Question` o como `:Answer`. Si tienen un usuario asignado a través de `OwnerUserId`, se añade un usuario si no existe y se crea la relación `:WROTE`.\n",
    "\n",
    "También hay otros posts especiales que no eran preguntas ni respuestas. A estos no se les asigna una segunda etiqueta:"
   ]
  },
  {
   "cell_type": "code",
   "execution_count": null,
   "metadata": {
    "scrolled": true
   },
   "outputs": [],
   "source": [
    "%%cypher\n",
    "match (n:Post) WHERE size(labels(n)) = 1 RETURN n;"
   ]
  },
  {
   "cell_type": "markdown",
   "metadata": {},
   "source": [
    "Creamos un índice sobre el `Id` para acelerar las siguientes búsquedas:"
   ]
  },
  {
   "cell_type": "code",
   "execution_count": null,
   "metadata": {},
   "outputs": [],
   "source": [
    "%%cypher\n",
    "CREATE INDEX ON :Post(Id);"
   ]
  },
  {
   "cell_type": "markdown",
   "metadata": {},
   "source": [
    "Añadimos una relación entre las preguntas y las respuestas:"
   ]
  },
  {
   "cell_type": "code",
   "execution_count": null,
   "metadata": {
    "scrolled": false
   },
   "outputs": [],
   "source": [
    "%%cypher\n",
    "MATCH (a:Answer), (q:Question {Id: a.ParentId})\n",
    "MERGE (a)-[:ANSWERS]->(q)\n",
    ";"
   ]
  },
  {
   "cell_type": "markdown",
   "metadata": {},
   "source": [
    "Las construcciones `%cypher` retornan resultados de los que se puede obtener un `dataframe` de `pandas`:"
   ]
  },
  {
   "cell_type": "code",
   "execution_count": null,
   "metadata": {
    "scrolled": false
   },
   "outputs": [],
   "source": [
    "#%%cypher\n",
    "res = %cypher MATCH q=(r)-[:ANSWERS]->(p) RETURN p.Id,r.Id;\n",
    "df = res.get_dataframe()\n",
    "df['r.Id'] = pd.to_numeric(df['r.Id'],downcast='unsigned')\n",
    "df['p.Id'] = pd.to_numeric(df['p.Id'],downcast='unsigned')\n",
    "\n",
    "df.plot(kind='scatter',x='p.Id',y='r.Id',figsize=(15,15))"
   ]
  },
  {
   "cell_type": "markdown",
   "metadata": {},
   "source": [
    "La consulta RQ4 se puede resolver de manera muy fácil. En esta primera consulta se devuelve los nodos:"
   ]
  },
  {
   "cell_type": "code",
   "execution_count": null,
   "metadata": {
    "scrolled": true
   },
   "outputs": [],
   "source": [
    "%%cypher\n",
    "// RQ4\n",
    "MATCH\n",
    "(u1)-[:WROTE]->()-[:ANSWERS]->()<-[:WROTE]-(u2),\n",
    "(u2)-[:WROTE]->()-[:ANSWERS]->()<-[:WROTE]-(u1)\n",
    "WHERE u1 <> u2 AND u1.Id < u2.Id\n",
    "RETURN DISTINCT u1,u2\n",
    ";"
   ]
  },
  {
   "cell_type": "markdown",
   "metadata": {},
   "source": [
    "O bien retornar los `Id` de cada usuario:"
   ]
  },
  {
   "cell_type": "code",
   "execution_count": null,
   "metadata": {
    "scrolled": true
   },
   "outputs": [],
   "source": [
    "%%cypher\n",
    "MATCH\n",
    "(u1)-[:WROTE]->()-[:ANSWERS]->()<-[:WROTE]-(u2),\n",
    "(u2)-[:WROTE]->()-[:ANSWERS]->()<-[:WROTE]-(u1)\n",
    "WHERE u1 <> u2 AND toInt(u1.Id) < toInt(u2.Id)\n",
    "RETURN DISTINCT u1.Id,u2.Id\n",
    "ORDER BY toInt(u1.Id)\n",
    ";"
   ]
  },
  {
   "cell_type": "markdown",
   "metadata": {},
   "source": [
    "Y finalmente, la creación de relaciones `:RECIPROCATE` entre los usuarios. Se introduce también la construcción `WITH`.\n",
    "\n",
    "`WITH` sirve para introducir \"espacios de nombres\". Permite importar nombres de filas anteriores, hacer alias con `AS` e introducir nuevos valores con funciones de Cypher. La siguiente consulta es la misma de arriba, RQ4, pero creando relaciones `:RECIPROCATE` entre cada dos usuarios que se ayudan recíprocamente."
   ]
  },
  {
   "cell_type": "code",
   "execution_count": null,
   "metadata": {},
   "outputs": [],
   "source": [
    "%%cypher\n",
    "// RQ4 creando relaciones de reciprocidad\n",
    "MATCH\n",
    "  (u1:User)-[:WROTE]->()-[:ANSWERS]->()<-[:WROTE]-(u2:User),\n",
    "  (u2)-[:WROTE]->()-[:ANSWERS]->()<-[:WROTE]-(u1)\n",
    "WHERE u1 <> u2 AND u1.Id < u2.Id\n",
    "WITH u1 AS user1,u2 AS user2\n",
    "  MERGE (user1)-[:RECIPROCATE]->(user2)\n",
    "  MERGE (user2)-[:RECIPROCATE]->(user1)\n",
    ";"
   ]
  },
  {
   "cell_type": "markdown",
   "metadata": {},
   "source": [
    "También se puede buscar el camino mínimo entre dos usuarios cualesquiera. Si existe un camino a través de alguna pregunta o respuesta, la encontrará. Un ejemplo donde hay una comunicación directa:"
   ]
  },
  {
   "cell_type": "code",
   "execution_count": null,
   "metadata": {},
   "outputs": [],
   "source": [
    "%%cypher\n",
    "MATCH p=shortestPath( (u1:User {Id: '24'})-[*]-(u2:User {Id:'25'}) ) RETURN p"
   ]
  },
  {
   "cell_type": "markdown",
   "metadata": {},
   "source": [
    "Mientras que con otro usuario la cadena es más larga:"
   ]
  },
  {
   "cell_type": "code",
   "execution_count": null,
   "metadata": {},
   "outputs": [],
   "source": [
    "%%cypher\n",
    "MATCH p=shortestPath( (u1:User {Id: '324'})-[*]-(u2:User {Id:'25'}) ) RETURN p"
   ]
  },
  {
   "cell_type": "markdown",
   "metadata": {},
   "source": [
    "Finalmente se pueden encontrar todos los caminos mínimos en donde se ve que tiene que existir al menos un par pregunta/respuesta entre los usuarios que son recíprocos:"
   ]
  },
  {
   "cell_type": "code",
   "execution_count": null,
   "metadata": {},
   "outputs": [],
   "source": [
    "%%cypher\n",
    "MATCH p=allShortestPaths( (u1:User {Id: '24'})-[*]-(u2:User {Id:'25'}) ) RETURN p"
   ]
  },
  {
   "cell_type": "markdown",
   "metadata": {},
   "source": [
    "## EJERCICIO: Construir los nodos `:Tag` para cada uno de los tags que aparecen en las preguntas. Construir las relaciones `post-[:TAGGED]->tag` para cada tag y también `tag-[:TAGS]->post`\n",
    "\n",
    "Para ello, buscar en la ayuda las construcciones `WITH` y `UNWIND` y las funciones `replace()` y `split()` de Cypher. La siguiente consulta debe retornar 5703 resultados:"
   ]
  },
  {
   "cell_type": "code",
   "execution_count": null,
   "metadata": {},
   "outputs": [],
   "source": [
    "%%cypher\n",
    "MATCH p=(t:Tag)-[:TAGS]->(:Question) WHERE t.name =~ \"^java$|^c\\\\+\\\\+$\" RETURN count(p);"
   ]
  },
  {
   "cell_type": "markdown",
   "metadata": {},
   "source": [
    "La siguiente consulta muestra los usuarios que preguntan por cada Tag:"
   ]
  },
  {
   "cell_type": "code",
   "execution_count": null,
   "metadata": {},
   "outputs": [],
   "source": [
    "%%cypher\n",
    "MATCH (t:Tag)-->(:Question)<--(u:User) RETURN t.name,collect(distinct u.Id) ORDER BY t.name;"
   ]
  },
  {
   "cell_type": "markdown",
   "metadata": {},
   "source": [
    "El mismo `MATCH` se puede usar para encontrar qué conjunto de tags ha usado cada usuario cambiando lo que retornamos:"
   ]
  },
  {
   "cell_type": "code",
   "execution_count": null,
   "metadata": {
    "scrolled": true
   },
   "outputs": [],
   "source": [
    "%%cypher\n",
    "MATCH (t:Tag)-->(:Question)<--(u:User) RETURN u.Id,collect(distinct t.name) ORDER BY toInt(u.Id);"
   ]
  },
  {
   "cell_type": "markdown",
   "metadata": {},
   "source": [
    "## EJERCICIO: Relacionar cada usuario con los tags de sus preguntas a través de la relación `:INTERESTED_IN`."
   ]
  },
  {
   "cell_type": "markdown",
   "metadata": {},
   "source": [
    "## EJERCICIO: Recomendar a los usuarios _tags_ sobre los que podrían estar interesados en base a _tags_ en los que los usuarios con los que están relacionados con `:RECIPROCATE` están interesados y ellos no, ordenado por número de usuarios interesados en cada _tag_."
   ]
  }
 ],
 "metadata": {
  "kernelspec": {
   "display_name": "Python 3",
   "language": "python",
   "name": "python3"
  },
  "language_info": {
   "codemirror_mode": {
    "name": "ipython",
    "version": 3
   },
   "file_extension": ".py",
   "mimetype": "text/x-python",
   "name": "python",
   "nbconvert_exporter": "python",
   "pygments_lexer": "ipython3",
   "version": "3.6.3"
  }
 },
 "nbformat": 4,
 "nbformat_minor": 1
}
