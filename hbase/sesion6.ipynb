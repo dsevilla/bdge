{
 "cells": [
  {
   "cell_type": "markdown",
   "metadata": {
    "collapsed": true
   },
   "source": [
    "# NoSQL (HBase) (sesión 6)"
   ]
  },
  {
   "attachments": {
    "hbase_logo_with_orca_large.png": {
     "image/png": "[encoded data removed]"
    }
   },
   "cell_type": "markdown",
   "metadata": {},
   "source": [
    "![hbase_logo_with_orca_large.png](attachment:hbase_logo_with_orca_large.png)\n",
    "\n",
    "Esta hoja muestra cómo acceder a bases de datos HBase y también a conectar la salida con Jupyter.\n",
    "\n",
    "Se puede utilizar el *shell* propio de HBase en el contenedor.\n",
    "\n",
    "Con HBase vamos a simular un _clúster_ de varias máquinas con varios contenedores conectados. En el directorio `hbase` del repositorio git hay un script para ejecutar la instalación con `docker-compose`.\n",
    "\n",
    "Para conectarse al _clúster_ con un _shell_ de hbase, hay que ejecutar, desde una terminal el siguiente comando de docker:\n",
    "\n",
    "    $ docker exec -ti regionserver-1 hbase shell\n",
    "    Base Shell; enter 'help<RETURN>' for list of supported commands.\n",
    "    Type \"exit<RETURN>\" to leave the HBase Shell\n",
    "    Version 1.2.7, rac57c51f7ad25e312b4275665d62b34a5945422f, Fri Sep  7 16:11:05 CDT 2018\n",
    "\n",
    "    hbase(main):001:0> \n"
   ]
  },
  {
   "cell_type": "code",
   "execution_count": null,
   "metadata": {},
   "outputs": [],
   "source": [
    "from pprint import pprint as pp\n",
    "import pandas as pd\n",
    "import matplotlib.pyplot as plt\n",
    "import matplotlib\n",
    "\n",
    "%matplotlib inline\n",
    "matplotlib.style.use('ggplot')"
   ]
  },
  {
   "cell_type": "markdown",
   "metadata": {},
   "source": [
    "Usaremos la librería `happybase` para python. La cargamos a continuación y hacemos la conexión."
   ]
  },
  {
   "cell_type": "code",
   "execution_count": null,
   "metadata": {},
   "outputs": [],
   "source": [
    "!pip install happybase"
   ]
  },
  {
   "cell_type": "code",
   "execution_count": null,
   "metadata": {},
   "outputs": [],
   "source": [
    "import happybase\n",
    "\n",
    "host = 'hbasethrift-1.vnet'\n",
    "connection = happybase.Connection(host)\n",
    "connection.tables()"
   ]
  },
  {
   "cell_type": "markdown",
   "metadata": {},
   "source": [
    "Para la carga inicial, vamos a crear todas las tablas con una única familia de columnas, `rawdata`, donde meteremos toda la información _raw_ comprimida. Después podremos hacer reorganizaciones de los datos para hacer el acceso más eficiente. Es una de las muchas ventajas de no tener un esquema."
   ]
  },
  {
   "cell_type": "code",
   "execution_count": null,
   "metadata": {},
   "outputs": [],
   "source": [
    "%%bash\n",
    "file=../Posts.csv\n",
    "test -e $file || wget http://neuromancer.inf.um.es:8080/es.stackoverflow/`basename ${file}`.gz -O - 2>/dev/null | gunzip > $file"
   ]
  },
  {
   "cell_type": "code",
   "execution_count": null,
   "metadata": {},
   "outputs": [],
   "source": [
    "%%bash\n",
    "file=../Users.csv\n",
    "test -e $file || wget http://neuromancer.inf.um.es:8080/es.stackoverflow/`basename ${file}`.gz -O - 2>/dev/null | gunzip > $file"
   ]
  },
  {
   "cell_type": "code",
   "execution_count": null,
   "metadata": {},
   "outputs": [],
   "source": [
    "%%bash\n",
    "file=../Tags.csv\n",
    "test -e $file || wget http://neuromancer.inf.um.es:8080/es.stackoverflow/`basename ${file}`.gz -O - 2>/dev/null | gunzip > $file"
   ]
  },
  {
   "cell_type": "code",
   "execution_count": null,
   "metadata": {},
   "outputs": [],
   "source": [
    "%%bash\n",
    "file=../Comments.csv\n",
    "test -e $file || wget http://neuromancer.inf.um.es:8080/es.stackoverflow/`basename ${file}`.gz -O - 2>/dev/null | gunzip > $file"
   ]
  },
  {
   "cell_type": "code",
   "execution_count": null,
   "metadata": {},
   "outputs": [],
   "source": [
    "%%bash\n",
    "file=../Votes.csv\n",
    "test -e $file || wget http://neuromancer.inf.um.es:8080/es.stackoverflow/`basename ${file}`.gz -O - 2>/dev/null | gunzip > $file"
   ]
  },
  {
   "cell_type": "code",
   "execution_count": null,
   "metadata": {},
   "outputs": [],
   "source": [
    "# Create tables\n",
    "tables = ['posts', 'votes', 'users', 'tags', 'comments']\n",
    "for t in tables:\n",
    "    try:\n",
    "        connection.create_table(\n",
    "            t,\n",
    "            {\n",
    "                'rawdata': dict(max_versions=1,compression='GZ')\n",
    "            })\n",
    "    except:\n",
    "        print(\"Database already exists: {0}.\".format(t))\n",
    "        pass\n",
    "connection.tables()"
   ]
  },
  {
   "cell_type": "markdown",
   "metadata": {},
   "source": [
    "El código de importación es siempre el mismo, ya que se coge la primera fila del CSV que contiene el nombre de las columnas y se utiliza para generar nombres de columnas dentro de la familia de columnas dada como parámetro. La función `csv_to_hbase()` acepta un fichero CSV a abrir, un nombre de tabla y una familia de columnas donde agregar las columnas del fichero CSV. En nuestro caso siempre va a ser `rawdata`."
   ]
  },
  {
   "cell_type": "code",
   "execution_count": null,
   "metadata": {},
   "outputs": [],
   "source": [
    "import csv\n",
    "\n",
    "def csv_to_hbase(file, tablename, cf):\n",
    "    table = connection.table(tablename)\n",
    "    \n",
    "    with open(file) as f:\n",
    "        # La llamada csv.reader() crea un iterador sobre un fichero CSV\n",
    "        reader = csv.reader(f, dialect='excel')\n",
    "        \n",
    "        # Se leen las columnas. Sus nombres se usarán para crear las diferentes columnas en la familia\n",
    "        columns = next(reader)\n",
    "        columns = [cf + ':' + c for c in columns]\n",
    "        \n",
    "        with table.batch(batch_size=500) as b:\n",
    "            for row in reader:\n",
    "                # La primera columna se usará como Row Key\n",
    "                b.put(row[0], dict(zip(columns[1:], row[1:])))"
   ]
  },
  {
   "cell_type": "code",
   "execution_count": null,
   "metadata": {},
   "outputs": [],
   "source": [
    "for t in tables:\n",
    "    print(\"Importando tabla {0}...\".format(t))\n",
    "    %time csv_to_hbase('../'+t.capitalize() + '.csv', t, 'rawdata')"
   ]
  },
  {
   "cell_type": "markdown",
   "metadata": {},
   "source": [
    "### Consultas sencillas desde Python\n",
    "\n",
    "A continuación veremos algunas consultas sencillas desde python usando el API de `happybase`."
   ]
  },
  {
   "cell_type": "code",
   "execution_count": null,
   "metadata": {},
   "outputs": [],
   "source": [
    "posts = connection.table('posts')"
   ]
  },
  {
   "cell_type": "markdown",
   "metadata": {},
   "source": [
    "Obtener el Post con `Id` 5. La orden más sencilla e inmediata de HBase es obtener una fila, opcionalmente limitando las columnas a mostrar:"
   ]
  },
  {
   "cell_type": "code",
   "execution_count": null,
   "metadata": {},
   "outputs": [],
   "source": [
    "posts.row(b'5',columns=[b'rawdata:Body'])"
   ]
  },
  {
   "cell_type": "markdown",
   "metadata": {},
   "source": [
    "El siguiente código permite mostrar de forma amigable las tablas extraídas de la base de datos en forma de diccionario:"
   ]
  },
  {
   "cell_type": "code",
   "execution_count": null,
   "metadata": {},
   "outputs": [],
   "source": [
    "# http://stackoverflow.com/a/30525061/62365\n",
    "class DictTable(dict):\n",
    "    # Overridden dict class which takes a dict in the form {'a': 2, 'b': 3},\n",
    "    # and renders an HTML Table in IPython Notebook.\n",
    "    def _repr_html_(self):\n",
    "        htmltext = [\"<table width=100%>\"]\n",
    "        for key, value in self.items():\n",
    "            htmltext.append(\"<tr>\")\n",
    "            htmltext.append(\"<td>{0}</td>\".format(key.decode('utf-8')))\n",
    "            htmltext.append(\"<td>{0}</td>\".format(value.decode('utf-8')))\n",
    "            htmltext.append(\"</tr>\")\n",
    "        htmltext.append(\"</table>\")\n",
    "        return ''.join(htmltext)"
   ]
  },
  {
   "cell_type": "code",
   "execution_count": null,
   "metadata": {
    "scrolled": true
   },
   "outputs": [],
   "source": [
    "# Muestra cómo queda la fila del Id del Post 9997\n",
    "DictTable(posts.row(b'5'))"
   ]
  },
  {
   "cell_type": "code",
   "execution_count": null,
   "metadata": {},
   "outputs": [],
   "source": [
    "DictTable(posts.row(b'5',columns=[b'rawdata:AnswerCount',b'rawdata:AcceptedAnswerId']))"
   ]
  },
  {
   "cell_type": "markdown",
   "metadata": {},
   "source": [
    "Y también se puede recorrer como un diccionario normal (el `decode` se utiliza para convertir los valores binarios de la base de datos a una codificación UTF-8):"
   ]
  },
  {
   "cell_type": "code",
   "execution_count": null,
   "metadata": {},
   "outputs": [],
   "source": [
    "row = posts.row(b'5')\n",
    "for key, value in row.items():\n",
    "    print(\"Key = '%s', Value = '%s'\" %(key,value.decode('utf-8')[:40]))"
   ]
  },
  {
   "cell_type": "markdown",
   "metadata": {},
   "source": [
    "Finalmente, también se puede recorrer toda la tabla estableciendo filtros, que se estudiarán después. Se utiliza la función `scan`. Se puede iterar con los parámetros `key` y `data`. Por ejemplo, calcular el tamaño máximo de la longitud del texto de los posts:\n",
    "\n",
    "**(OJO, es un ejemplo, no se debería hacer así)**"
   ]
  },
  {
   "cell_type": "code",
   "execution_count": null,
   "metadata": {},
   "outputs": [],
   "source": [
    "max_len = 0\n",
    "for key, data in posts.scan():\n",
    "    cur_len = len(data[b'rawdata:Body'].decode('utf-8'))\n",
    "    if cur_len > max_len:\n",
    "        max_len = cur_len\n",
    "\n",
    "print(\"Máxima longitud: %s caracteres.\" % (max_len))"
   ]
  },
  {
   "cell_type": "markdown",
   "metadata": {},
   "source": [
    "### Construcción de estructuras anidadas\n",
    "\n",
    "Al igual que pasaba con MongoDB, las bases de datos NoSQL como en este caso HBase permiten almacenar estructuras de datos complejas. En nuestro caso vamos a agregar los comentarios de cada pregunta o respuesta (post) en columnas del mismo. Para ello, creamos una nueva familia de columnas `comments`.\n",
    "\n",
    "HBase es bueno para añadir columnas sencillas, por ejemplo que contengan un valor. Sin embargo, si queremos añadir objetos complejos, tenemos que jugar con la codificación de la familia de columnas y columna.\n",
    "\n",
    "Usaremos el shell porque `happybase` no permite alterar tablas ya creadas.\n",
    "\n",
    "En el `shell` de HBase pondremos lo siguiente:\n",
    "\n",
    "```\n",
    "disable 'posts'\n",
    "alter 'posts', {NAME => 'comments', VERSIONS => 1}\n",
    "enable 'posts'\n",
    "```\n",
    "\n",
    "Cada comentario que añadimos contiene, al menos:\n",
    "\n",
    "- un id único\n",
    "- un texto\n",
    "- un autor\n",
    "- etc.\n",
    "\n",
    "¿Cómo se consigue meterlo en una única familia de columnas?\n",
    "\n",
    "Hay varias formas. La que usaremos aquí, añadiremos el **id** de cada comentario como parte del nombre de la columna. Por ejemplo, el comentario con Id 2000, generará las columnas:\n",
    "\n",
    "- `Id_2000` (valor 2000)\n",
    "- `UserId_2000`\n",
    "- `PostId_2000`\n",
    "- `Text_2000`\n",
    "\n",
    "con sus correspondientes valores. Así, todos los datos relativos al comentario con Id original 2000, estarán almacenados en todas las columnas que terminen en \"`_2000`\". La base de datos permite implementar filtros que nos permiten buscar esto de forma muy sencilla. Los veremos después."
   ]
  },
  {
   "cell_type": "code",
   "execution_count": null,
   "metadata": {
    "scrolled": true
   },
   "outputs": [],
   "source": [
    "comments = connection.table('comments')\n",
    "posts = connection.table('posts')\n",
    "\n",
    "with posts.batch(batch_size=500) as bp:\n",
    "    # Hacer un scan de la tabla\n",
    "    for key, data in comments.scan():\n",
    "        comment = {'comments:' +\n",
    "                   d.decode('utf-8').split(':')[1] + \"_\" +\n",
    "                   key.decode('utf-8') : \n",
    "                   data[d].decode('utf-8') for d in data.keys()}\n",
    "        bp.put(data[b'rawdata:PostId'], comment)"
   ]
  },
  {
   "cell_type": "code",
   "execution_count": null,
   "metadata": {},
   "outputs": [],
   "source": [
    "%%bash\n",
    "file=../eswiki.xml\n",
    "test -e $file || wget http://neuromancer.inf.um.es:8080/wikipedia/`basename ${file}`.gz -O - 2>/dev/null | gunzip > $file"
   ]
  },
  {
   "cell_type": "code",
   "execution_count": null,
   "metadata": {},
   "outputs": [],
   "source": [
    "!head -200 ../eswiki.xml"
   ]
  },
  {
   "cell_type": "markdown",
   "metadata": {},
   "source": [
    "Se crea la tabla para albergar la `wikipedia`. Igual que la vista en teoría, pero aquí se usa `wikipedia` en vez de `wiki` para que no colisionen la versión completa con la reducida."
   ]
  },
  {
   "cell_type": "markdown",
   "metadata": {},
   "source": [
    "De nuevo en el `shell` de HBase:\n",
    "\n",
    "```\n",
    "create 'wikipedia' , 'text', 'revision'\n",
    "disable 'wikipedia' # Para evitar su uso temporal\n",
    "alter 'wikipedia' , { NAME => 'text', VERSIONS => org.apache.hadoop.hbase.HConstants::ALL_VERSIONS }\n",
    "alter 'wikipedia' , { NAME => 'revision', VERSIONS => org.apache.hadoop.hbase.HConstants::ALL_VERSIONS }\n",
    "alter 'wikipedia' , { NAME => 'text', COMPRESSION => 'GZ', BLOOMFILTER => 'ROW'}\n",
    "enable 'wikipedia' \n",
    "```"
   ]
  },
  {
   "cell_type": "markdown",
   "metadata": {},
   "source": [
    "Este código, visto en teoría, recorre el árbol XML construyendo documentos y llamando a la función `callback` con cada uno. Los documentos son diccionarios con las claves encontradas dentro de los tags `<page>...</page>`."
   ]
  },
  {
   "cell_type": "code",
   "execution_count": null,
   "metadata": {},
   "outputs": [],
   "source": [
    "import xml.sax\n",
    "import re\n",
    "\n",
    "class WikiHandler(xml.sax.handler.ContentHandler):\n",
    "\n",
    "    def __init__(self):\n",
    "        self._charBuffer = ''\n",
    "        self.document = {}\n",
    "\n",
    "    def _getCharacterData(self):\n",
    "        data = self._charBuffer\n",
    "        self._charBuffer = ''\n",
    "        return data\n",
    "\n",
    "    def parse(self, f, callback):\n",
    "        self.callback = callback\n",
    "        xml.sax.parse(f, self)\n",
    "\n",
    "    def characters(self, data):\n",
    "        self._charBuffer = self._charBuffer + data\n",
    "\n",
    "    def startElement(self, name, attrs):\n",
    "        if name == 'page':\n",
    "        # print 'Start of page'\n",
    "            self.document = {}\n",
    "        if re.match(r'title|timestamp|username|comment|text', name):\n",
    "            self._charBuffer = ''\n",
    "\n",
    "    def endElement(self, name):\n",
    "        if re.match(r'title|timestamp|username|comment|text', name):\n",
    "            self.document[name] = self._getCharacterData()\n",
    "            # print(name, ': ', self.document[name][:20])\n",
    "        if 'revision' == name:\n",
    "            self.callback(self.document)\n"
   ]
  },
  {
   "cell_type": "markdown",
   "metadata": {},
   "source": [
    "El codigo a continuación, cada vez que el código anterior llama a la función `processdoc()` se añade un documento a la base de datos."
   ]
  },
  {
   "cell_type": "code",
   "execution_count": null,
   "metadata": {},
   "outputs": [],
   "source": [
    "import time\n",
    "\n",
    "class FillWikiTable():\n",
    "    \"\"\"Llena la tabla Wiki\"\"\"\n",
    "    def __init__(self):\n",
    "        # Conectar a la base de datos a través de Thrift\n",
    "        self.table = connection.table('wikipedia')\n",
    "\n",
    "    def run(_s):\n",
    "        def processdoc(d):\n",
    "            print(\"Callback called with {0}\".format(d['title']))\n",
    "            tuple_time = time.strptime(d['timestamp'], \"%Y-%m-%dT%H:%M:%SZ\")\n",
    "            timestamp = int(time.mktime(tuple_time))\n",
    "            _s.table.put(d['title'],\n",
    "                         {'text:': d.get('text',''),\n",
    "                          'revision:author': d.get('username',''),\n",
    "                          'revision:comment': d.get('comment','')},\n",
    "                         timestamp=timestamp)\n",
    "\n",
    "        with open('../eswiki.xml','r') as f:\n",
    "            start = time.time()\n",
    "            WikiHandler().parse(f, processdoc)\n",
    "            end = time.time()\n",
    "            print (\"End adding documents. Time: %.5f\" % (end - start))"
   ]
  },
  {
   "cell_type": "code",
   "execution_count": null,
   "metadata": {},
   "outputs": [],
   "source": [
    "FillWikiTable().run()"
   ]
  },
  {
   "cell_type": "markdown",
   "metadata": {},
   "source": [
    "El código a continuación permite ver las diferentes versiones de una revisión. Como la versión reducida es muy pequeña no da lugar a que haya ninguna revisión, pero con este código se vería. Hace uso del _shell_ de HBase:\n",
    "\n",
    "    get 'wikipedia', 'Commodore Amiga', {COLUMN => 'revision',VERSIONS=>10}"
   ]
  },
  {
   "cell_type": "code",
   "execution_count": null,
   "metadata": {},
   "outputs": [],
   "source": [
    "wikipedia = connection.table('wikipedia')"
   ]
  },
  {
   "cell_type": "code",
   "execution_count": null,
   "metadata": {},
   "outputs": [],
   "source": [
    "for key,data in wikipedia.scan(columns=['revision'], row_start='A', row_stop='B', limit=10):\n",
    "    print(key,'->',data)"
   ]
  },
  {
   "cell_type": "markdown",
   "metadata": {},
   "source": [
    "La siguiente consulta no poduce resultados. ¿Por qué?"
   ]
  },
  {
   "cell_type": "code",
   "execution_count": null,
   "metadata": {},
   "outputs": [],
   "source": [
    "for key,data in wikipedia.scan(columns=['revision'], row_start='A', row_stop='B',\n",
    "                               filter=\"PrefixFilter('B')\",\n",
    "                               limit=10):\n",
    "    print (key,'->',data)"
   ]
  },
  {
   "cell_type": "markdown",
   "metadata": {},
   "source": [
    "En los siguientes ejercicios, usando `happybase`, utiliza o bien `scan` o bien `row` donde sea conveniente:"
   ]
  },
  {
   "cell_type": "markdown",
   "metadata": {},
   "source": [
    "## EJERCICIO: Mostrar la familia de columnas `revision` para la entrada `ASCII` de la tabla `wikipedia`."
   ]
  },
  {
   "cell_type": "code",
   "execution_count": null,
   "metadata": {},
   "outputs": [],
   "source": []
  },
  {
   "cell_type": "markdown",
   "metadata": {},
   "source": [
    "## EJERCICIO: Mostrar las 20 primeras filas de la tabla `wikipedia` cuyas columnas empiecen por 'com'."
   ]
  },
  {
   "cell_type": "code",
   "execution_count": null,
   "metadata": {},
   "outputs": [],
   "source": []
  },
  {
   "cell_type": "markdown",
   "metadata": {},
   "source": [
    "## EJERCICIO: Mostrar las 20 primeras filas de la tabla `wikipedia` cuyas columnas empiecen por 'com' y la clave de fila empieza por 'B'."
   ]
  },
  {
   "cell_type": "code",
   "execution_count": null,
   "metadata": {},
   "outputs": [],
   "source": []
  },
  {
   "cell_type": "markdown",
   "metadata": {},
   "source": [
    "## EJERCICIO: Mostrar sólo la columna `revision:author` de las filas de la tabla `wikipedia` cuya clave empiece por `a` y termine por `a` (obviando mayúsculas y minúsculas)."
   ]
  },
  {
   "cell_type": "code",
   "execution_count": null,
   "metadata": {},
   "outputs": [],
   "source": []
  },
  {
   "cell_type": "markdown",
   "metadata": {},
   "source": [
    "## EJERCICIO: Mostrar las filas de la tabla `wikipedia` cuya clave contenga al menos un número."
   ]
  },
  {
   "cell_type": "code",
   "execution_count": null,
   "metadata": {},
   "outputs": [],
   "source": []
  },
  {
   "cell_type": "markdown",
   "metadata": {},
   "source": [
    "## EJERCICIO: Mostrar las filas de la tabla `wikipedia` cuyo autor de revisión sea `Addbot`."
   ]
  },
  {
   "cell_type": "code",
   "execution_count": null,
   "metadata": {},
   "outputs": [],
   "source": []
  },
  {
   "cell_type": "markdown",
   "metadata": {},
   "source": [
    "## EJERCICIO: Mostrar las filas de la tabla `wikipedia` tales que alguno de sus valores de campos de columnas sea menor que 1."
   ]
  },
  {
   "cell_type": "code",
   "execution_count": null,
   "metadata": {},
   "outputs": [],
   "source": []
  },
  {
   "cell_type": "markdown",
   "metadata": {},
   "source": [
    "## EJERCICIO: Mostrar las filas de la tabla `users` (sólo la columna `rawdata:Location`) de usuarios de España (se supondrá que su localización (columna `rawdata:Location`) contiene `España` o `ES`, obviando mayúsculas y minúsculas)."
   ]
  },
  {
   "cell_type": "code",
   "execution_count": null,
   "metadata": {},
   "outputs": [],
   "source": []
  },
  {
   "cell_type": "markdown",
   "metadata": {},
   "source": [
    "## EJERCICIO: Comparar si hay más usuarios de Santiago de Compostela que de Murcia :)."
   ]
  },
  {
   "cell_type": "code",
   "execution_count": null,
   "metadata": {},
   "outputs": [],
   "source": []
  },
  {
   "cell_type": "markdown",
   "metadata": {},
   "source": [
    "## EJERCICIO: Mostrar las filas de la tabla `posts` que hacen referencia al tag \"clojure\"."
   ]
  },
  {
   "cell_type": "code",
   "execution_count": null,
   "metadata": {},
   "outputs": [],
   "source": []
  },
  {
   "cell_type": "markdown",
   "metadata": {},
   "source": [
    "## EJERCICIO (opcional): Crear una nueva tabla `poststags` que, de forma eficiente, para cada _tag_, liste los `Id` de los posts que utilizan ese _tag_.\n",
    "\n",
    "*Nota: El código de ejemplo para separar todas las etiquetas del campo Tags de un post está en la sesión 1.*"
   ]
  },
  {
   "cell_type": "code",
   "execution_count": null,
   "metadata": {},
   "outputs": [],
   "source": []
  }
 ],
 "metadata": {
  "kernelspec": {
   "display_name": "Python 3",
   "language": "python",
   "name": "python3"
  },
  "language_info": {
   "codemirror_mode": {
    "name": "ipython",
    "version": 3
   },
   "file_extension": ".py",
   "mimetype": "text/x-python",
   "name": "python",
   "nbconvert_exporter": "python",
   "pygments_lexer": "ipython3",
   "version": "3.6.3"
  }
 },
 "nbformat": 4,
 "nbformat_minor": 1
}
