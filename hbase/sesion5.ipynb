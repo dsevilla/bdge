{
  "cells": [
    {
      "cell_type": "markdown",
      "metadata": {
        "id": "2cKTkIePOBbX"
      },
      "source": [
        "# NoSQL (HBase) (sesión 5)"
      ]
    },
    {
      "cell_type": "markdown",
      "metadata": {
        "id": "wiopea6aOBbi"
      },
      "source": [
        "![hbase-logo.e139b77f7031062f738f0fc28210e0ffa6ca26c8.png](data:image/png;base64,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)\n",
        "\n"
      ]
    },
    {
      "cell_type": "markdown",
      "metadata": {
        "id": "4HLSQ6r6Ok9v"
      },
      "source": [
        "Esta hoja muestra cómo acceder a bases de datos HBase y también a conectar la salida con Jupyter.\n",
        "\n",
        "Se puede utilizar el *shell* propio de HBase en la máquina virtual.\n",
        "\n",
        "Con HBase vamos a simular un modo _semi-clúster_ con una sola máquina.\n"
      ]
    },
    {
      "cell_type": "code",
      "execution_count": null,
      "metadata": {},
      "outputs": [],
      "source": [
        "%%bash\n",
        "sudo apt-get update -qq\n",
        "sudo apt-get install -y default-jdk"
      ]
    },
    {
      "cell_type": "code",
      "execution_count": null,
      "metadata": {},
      "outputs": [],
      "source": [
        "import os\n",
        "from pathlib import Path\n",
        "p = Path('/usr/lib/jvm')\n",
        "(_, dirs, _) = next(os.walk(str(p)))\n",
        "os.environ['JAVA_HOME'] = str(p / dirs[0])"
      ]
    },
    {
      "cell_type": "code",
      "execution_count": null,
      "metadata": {
        "id": "J37gp7PeoJIA"
      },
      "outputs": [],
      "source": [
        "%pip install bs4 lxml"
      ]
    },
    {
      "cell_type": "code",
      "execution_count": null,
      "metadata": {},
      "outputs": [],
      "source": [
        "# Determinar qué versión 2.x de HBase es la más reciente.\n",
        "from bs4 import BeautifulSoup\n",
        "from urllib.request import Request, urlopen\n",
        "import re\n",
        "from re import Pattern, Match\n",
        "\n",
        "version_re: Pattern = re.compile(r'^(2\\.[0-9]+(\\.[0-9]+)?)')\n",
        "req = Request(\"https://downloads.apache.org/hbase/\")\n",
        "html_page = urlopen(req)\n",
        "\n",
        "soup = BeautifulSoup(html_page)\n",
        "\n",
        "bigger2x = '2.0.0'  # Base version 2.x.x\n",
        "for link in soup.findAll('a'):\n",
        "  mresult: Match | None = version_re.match(link.get_text())\n",
        "  if mresult and mresult.group(0) > bigger2x:\n",
        "    bigger2x = mresult.group(0)"
      ]
    },
    {
      "cell_type": "code",
      "execution_count": null,
      "metadata": {
        "id": "nqEVgAChMFcR"
      },
      "outputs": [],
      "source": [
        "%env HBASE_VERSION=$bigger2x"
      ]
    },
    {
      "cell_type": "code",
      "execution_count": null,
      "metadata": {
        "id": "9hv1DUSoFOys"
      },
      "outputs": [],
      "source": [
        "%%bash\n",
        "wget -q https://downloads.apache.org/hbase/$HBASE_VERSION/hbase-$HBASE_VERSION-bin.tar.gz\n",
        "tar -xzf hbase-$HBASE_VERSION-bin.tar.gz\n",
        "rm -rf hbase-$HBASE_VERSION-bin.tar.gz"
      ]
    },
    {
      "cell_type": "code",
      "execution_count": null,
      "metadata": {
        "id": "uMmB5l_oaNJD"
      },
      "outputs": [],
      "source": [
        "%%bash\n",
        "hbase-$HBASE_VERSION/bin/start-hbase.sh\n",
        "hbase-$HBASE_VERSION/bin/hbase-daemon.sh restart thrift"
      ]
    },
    {
      "cell_type": "code",
      "execution_count": null,
      "metadata": {
        "id": "_PjCnzExOBbo"
      },
      "outputs": [],
      "source": [
        "from pprint import pprint as pp\n",
        "import pandas as pd\n",
        "import matplotlib.pyplot as plt\n",
        "import matplotlib\n",
        "\n",
        "%matplotlib inline\n",
        "matplotlib.style.use('ggplot')"
      ]
    },
    {
      "cell_type": "markdown",
      "metadata": {
        "id": "h8JfspqJOBb_"
      },
      "source": [
        "Usaremos la librería `happybase` para python. La cargamos a continuación y hacemos la conexión."
      ]
    },
    {
      "cell_type": "code",
      "execution_count": null,
      "metadata": {},
      "outputs": [],
      "source": [
        "%pip install git+https://github.com/python-happybase/happybase.git"
      ]
    },
    {
      "cell_type": "markdown",
      "metadata": {},
      "source": [
        "La conexión con la BD dura pocos segundos abierta porque está pensada para que un programa se conecte, haga una consulta y se desconecte. Al estar en una sesión interactiva, construyo un objeto `Connection` que genera un pool de conexiones. Si se desconecta, prueba otra vez."
      ]
    },
    {
      "cell_type": "code",
      "execution_count": null,
      "metadata": {},
      "outputs": [],
      "source": [
        "from typing import Generator\n",
        "import happybase\n",
        "from happybase import ConnectionPool\n",
        "from contextlib import contextmanager\n",
        "\n",
        "HBASEHOST: str = 'localhost'\n",
        "\n",
        "class Connection():\n",
        "\n",
        "    def __init__(self, host: str):\n",
        "        self.host: str = host\n",
        "        self._genpool()\n",
        "\n",
        "    def _genpool(self):\n",
        "        self.pool = ConnectionPool(size=5, host=self.host)\n",
        "\n",
        "    @contextmanager\n",
        "    def connection(self) -> Generator[happybase.Connection, None, None]:\n",
        "        for _ in range(5): # Probar 5 veces a regenerar el pool\n",
        "            for _ in range(5): # Probar 5 veces a conectar\n",
        "                with self.pool.connection() as connection:\n",
        "                    try:\n",
        "                        connection.tables()\n",
        "                        yield connection\n",
        "                        return\n",
        "                    except Exception as _:\n",
        "                        pass\n",
        "            self._genpool()\n",
        "        raise Exception(\"HBase Connection Error\")"
      ]
    },
    {
      "cell_type": "code",
      "execution_count": null,
      "metadata": {
        "id": "VtKRqSdOA_0V"
      },
      "outputs": [],
      "source": [
        "pool = Connection(HBASEHOST)"
      ]
    },
    {
      "cell_type": "markdown",
      "metadata": {
        "id": "gLv-t_j8OBcg"
      },
      "source": [
        "Para la carga inicial, vamos a crear todas las tablas con una única familia de columnas, `rawdata`, donde meteremos toda la información _raw_ comprimida. Después podremos hacer reorganizaciones de los datos para hacer el acceso más eficiente. Es una de las muchas ventajas de no tener un esquema."
      ]
    },
    {
      "cell_type": "code",
      "execution_count": null,
      "metadata": {
        "id": "LwPDDfFiOBch"
      },
      "outputs": [],
      "source": [
        "# Create tables\n",
        "tables = ['posts', 'votes', 'users', 'tags', 'comments']\n",
        "for t in tables:\n",
        "    try:\n",
        "        with pool.connection() as connection:\n",
        "            connection.create_table(\n",
        "                t,\n",
        "                {\n",
        "                    'rawdata': dict(max_versions=1,compression='GZ')\n",
        "                })\n",
        "    except Exception as e:\n",
        "        print(\"Database already exists: {0}. {1}\".format(t, e))\n",
        "        pass\n",
        "with pool.connection() as connection:\n",
        "    print(connection.tables())"
      ]
    },
    {
      "cell_type": "markdown",
      "metadata": {},
      "source": [
        "Descarga de datos:"
      ]
    },
    {
      "cell_type": "code",
      "execution_count": null,
      "metadata": {},
      "outputs": [],
      "source": [
        "%%bash\n",
        "wget https://github.com/dsevilla/bd2-data/raw/main/es.stackoverflow/es.stackoverflow.csv.7z.001\n",
        "wget https://github.com/dsevilla/bd2-data/raw/main/es.stackoverflow/es.stackoverflow.csv.7z.002"
      ]
    },
    {
      "cell_type": "code",
      "execution_count": null,
      "metadata": {},
      "outputs": [],
      "source": [
        "%%bash\n",
        "7zr x es.stackoverflow.csv.7z.001\n",
        "rm -rf es.stackoverflow.csv.7z.001\n",
        "rm -rf es.stackoverflow.csv.7z.002"
      ]
    },
    {
      "cell_type": "code",
      "execution_count": null,
      "metadata": {},
      "outputs": [],
      "source": [
        "!head Users.csv"
      ]
    },
    {
      "cell_type": "markdown",
      "metadata": {
        "id": "X0A93p5eOBcq"
      },
      "source": [
        "El código de importación es siempre el mismo, ya que se coge la primera fila del CSV que contiene el nombre de las columnas y se utiliza para generar nombres de columnas dentro de la familia de columnas dada como parámetro. La función `csv_to_hbase()` acepta un fichero CSV a abrir, un nombre de tabla y una familia de columnas donde agregar las columnas del fichero CSV. En nuestro caso siempre va a ser `rawdata`."
      ]
    },
    {
      "cell_type": "code",
      "execution_count": null,
      "metadata": {
        "id": "yQTEVqATOBcs"
      },
      "outputs": [],
      "source": [
        "import csv\n",
        "\n",
        "def csv_to_hbase(file, tablename, cf):\n",
        "    with pool.connection() as connection, open(file) as f:\n",
        "        table = connection.table(tablename)\n",
        "\n",
        "        # La llamada csv.reader() crea un iterador sobre un fichero CSV\n",
        "        reader = csv.reader(f, dialect='excel')\n",
        "\n",
        "        # Se leen las columnas. Sus nombres se usarán para crear las diferentes columnas en la familia\n",
        "        columns = next(reader)\n",
        "        columns = [cf + ':' + c for c in columns]\n",
        "\n",
        "        with table.batch(batch_size=500) as b:\n",
        "            for row in reader:\n",
        "                # La primera columna se usará como Row Key\n",
        "                b.put(row[0], dict(zip(columns[1:], row[1:])))"
      ]
    },
    {
      "cell_type": "code",
      "execution_count": null,
      "metadata": {
        "id": "Wu7h1zCEOBcz"
      },
      "outputs": [],
      "source": [
        "for t in tables:\n",
        "    print(f\"Importando tabla {t}...\")\n",
        "    %time csv_to_hbase(t.capitalize() + '.csv', t, 'rawdata')"
      ]
    },
    {
      "cell_type": "markdown",
      "metadata": {
        "id": "Pf9Y8j0vOBc6"
      },
      "source": [
        "### Consultas sencillas desde Python\n",
        "\n",
        "A continuación veremos algunas consultas sencillas desde python usando el API de `happybase`."
      ]
    },
    {
      "cell_type": "code",
      "execution_count": null,
      "metadata": {
        "id": "WkWbOAOOOBc7"
      },
      "outputs": [],
      "source": [
        "with pool.connection() as connection:\n",
        "    posts = connection.table('posts')"
      ]
    },
    {
      "cell_type": "markdown",
      "metadata": {
        "id": "T9SodPXwOBdB"
      },
      "source": [
        "Obtener el Post con `Id` 5. La orden más sencilla e inmediata de HBase es obtener una fila, opcionalmente limitando las columnas a mostrar:"
      ]
    },
    {
      "cell_type": "code",
      "execution_count": null,
      "metadata": {
        "id": "0brFuhLjOBdC"
      },
      "outputs": [],
      "source": [
        "posts.row(b'5',columns=[b'rawdata:Body'])"
      ]
    },
    {
      "cell_type": "markdown",
      "metadata": {
        "id": "5_VbrH2sOBdI"
      },
      "source": [
        "El siguiente código permite mostrar de forma amigable las tablas extraídas de la base de datos en forma de diccionario:"
      ]
    },
    {
      "cell_type": "code",
      "execution_count": null,
      "metadata": {
        "id": "GnRHhyCXOBdJ"
      },
      "outputs": [],
      "source": [
        "# http://stackoverflow.com/a/30525061/62365\n",
        "class DictTable(dict):\n",
        "    # Overridden dict class which takes a dict in the form {'a': 2, 'b': 3},\n",
        "    # and renders an HTML Table in IPython Notebook.\n",
        "    def _repr_html_(self):\n",
        "        htmltext = [\"<table width=100%>\"]\n",
        "        for key, value in self.items():\n",
        "            htmltext.append(\"<tr>\")\n",
        "            htmltext.append(\"<td>{0}</td>\".format(key.decode('utf-8')))\n",
        "            htmltext.append(\"<td>{0}</td>\".format(value.decode('utf-8')))\n",
        "            htmltext.append(\"</tr>\")\n",
        "        htmltext.append(\"</table>\")\n",
        "        return ''.join(htmltext)"
      ]
    },
    {
      "cell_type": "code",
      "execution_count": null,
      "metadata": {
        "id": "45sK--OEOBdP",
        "scrolled": true
      },
      "outputs": [],
      "source": [
        "# Muestra cómo queda la fila del Id del Post 9997\n",
        "DictTable(posts.row(b'5'))"
      ]
    },
    {
      "cell_type": "code",
      "execution_count": null,
      "metadata": {
        "id": "lE4KxtcBOBdW"
      },
      "outputs": [],
      "source": [
        "DictTable(posts.row(b'5',columns=[b'rawdata:AnswerCount',b'rawdata:AcceptedAnswerId']))"
      ]
    },
    {
      "cell_type": "markdown",
      "metadata": {
        "id": "KSOo03zZOBdd"
      },
      "source": [
        "Y también se puede recorrer como un diccionario normal (el `decode` se utiliza para convertir los valores binarios de la base de datos a una codificación UTF-8):"
      ]
    },
    {
      "cell_type": "code",
      "execution_count": null,
      "metadata": {
        "id": "SnECljFcOBde"
      },
      "outputs": [],
      "source": [
        "row = posts.row(b'5')\n",
        "for key, value in row.items():\n",
        "    print(\"Key = '%s', Value = '%s'\" % (key, value.decode('utf-8')[:40]))"
      ]
    },
    {
      "cell_type": "markdown",
      "metadata": {
        "id": "mfnD0vcnOBdj"
      },
      "source": [
        "Finalmente, también se puede recorrer toda la tabla estableciendo filtros, que se estudiarán después. Se utiliza la función `scan`. Se puede iterar con los parámetros `key` y `data`. Por ejemplo, calcular el tamaño máximo de la longitud del texto de los posts:\n",
        "\n",
        "**(OJO, es un ejemplo, no se debería hacer así)**"
      ]
    },
    {
      "cell_type": "code",
      "execution_count": null,
      "metadata": {
        "id": "Y-Z1B6kDOBdl"
      },
      "outputs": [],
      "source": [
        "max_len = 0\n",
        "for key, data in posts.scan():\n",
        "    cur_len = len(data[b'rawdata:Body'].decode('utf-8'))\n",
        "    if cur_len > max_len:\n",
        "        max_len = cur_len\n",
        "\n",
        "print(\"Máxima longitud: %s caracteres.\" % (max_len))"
      ]
    },
    {
      "cell_type": "markdown",
      "metadata": {
        "id": "8P3IXqjXOBdr"
      },
      "source": [
        "### Construcción de estructuras anidadas\n",
        "\n",
        "Al igual que pasaba con MongoDB, las bases de datos NoSQL como en este caso HBase permiten almacenar estructuras de datos complejas. En nuestro caso vamos a agregar los comentarios de cada pregunta o respuesta (post) en columnas del mismo. Para ello, creamos una nueva familia de columnas `comments`.\n",
        "\n",
        "HBase es bueno para añadir columnas sencillas, por ejemplo que contengan un valor. Sin embargo, si queremos añadir objetos complejos, tenemos que jugar con la codificación de la familia de columnas y columna.\n",
        "\n",
        "Usaremos el shell porque `happybase` no permite alterar tablas ya creadas. Para acceder al shell de HBase, tenemos que contactar al contenedor `hbase-regionserver`, de esta forma:\n",
        "\n",
        "```bash\n",
        "hbase-$HBASE_VERSION/bin/hbase shell\n",
        "```\n",
        "\n",
        "En el `shell` de HBase pondremos lo siguiente:\n",
        "\n",
        "```\n",
        "disable 'posts'\n",
        "alter 'posts', {NAME => 'comments', VERSIONS => 1}\n",
        "enable 'posts'\n",
        "```\n",
        "\n",
        "Cada comentario que añadimos contiene, al menos:\n",
        "\n",
        "- un id único\n",
        "- un texto\n",
        "- un autor\n",
        "- etc.\n",
        "\n",
        "¿Cómo se consigue meterlo en una única familia de columnas?\n",
        "\n",
        "Hay varias formas. La que usaremos aquí, añadiremos el **id** de cada comentario como parte del nombre de la columna. Por ejemplo, el comentario con Id 2000, generará las columnas:\n",
        "\n",
        "- `Id_2000` (valor 2000)\n",
        "- `UserId_2000`\n",
        "- `PostId_2000`\n",
        "- `Text_2000`\n",
        "\n",
        "con sus correspondientes valores. Así, todos los datos relativos al comentario con Id original 2000, estarán almacenados en todas las columnas que terminen en \"`_2000`\". La base de datos permite implementar filtros que nos permiten buscar esto de forma muy sencilla. Los veremos después."
      ]
    },
    {
      "cell_type": "code",
      "execution_count": null,
      "metadata": {
        "id": "ClXr1tTTZXXN"
      },
      "outputs": [],
      "source": [
        "!hbase-$HBASE_VERSION/bin/hbase shell"
      ]
    },
    {
      "cell_type": "code",
      "execution_count": null,
      "metadata": {
        "id": "AbHyhVlcOBds",
        "scrolled": true
      },
      "outputs": [],
      "source": [
        "with pool.connection() as connection:\n",
        "    comments = connection.table('comments')\n",
        "    posts = connection.table('posts')\n",
        "\n",
        "    with posts.batch(batch_size=500) as bp:\n",
        "        # Hacer un scan de la tabla\n",
        "        for key, data in comments.scan():\n",
        "            comment = {'comments:' +\n",
        "                       d.decode('utf-8').split(':')[1] + \"_\" +\n",
        "                       key.decode('utf-8') :\n",
        "                       data[d].decode('utf-8') for d in data.keys()}\n",
        "            bp.put(data[b'rawdata:PostId'], comment)"
      ]
    },
    {
      "cell_type": "code",
      "execution_count": null,
      "metadata": {
        "id": "kMecrt8POBdx",
        "scrolled": true
      },
      "outputs": [],
      "source": [
        "DictTable(posts.row(b'7251'))"
      ]
    },
    {
      "cell_type": "code",
      "execution_count": null,
      "metadata": {
        "id": "OMUULdgAOBd2"
      },
      "outputs": [],
      "source": [
        "%timeit q = posts.row(b'7251')"
      ]
    },
    {
      "cell_type": "code",
      "execution_count": null,
      "metadata": {
        "id": "F8NaqWyUOBd6"
      },
      "outputs": [],
      "source": [
        "from functools import reduce\n",
        "\n",
        "def doit():\n",
        "    q = posts.row(b'7251')\n",
        "    (s,n) = reduce(lambda res, e:\n",
        "                    (res[0]+len(e[1].decode('utf-8')), res[1]+1) if e[0].decode('utf-8').startswith('comments:Text') else res\n",
        "                   , q.items(), (0,0))\n",
        "    return (s/n)\n",
        "\n",
        "%timeit doit()\n",
        "# MySQL -> 1.12 ms\n",
        "# HBase -> 1.47 ms"
      ]
    },
    {
      "cell_type": "markdown",
      "metadata": {
        "id": "2vHpU9bJOBd-"
      },
      "source": [
        "## EJERCICIO: ¿Cómo sería el código para saber qué usuarios han comentado un post en particular?"
      ]
    },
    {
      "cell_type": "markdown",
      "metadata": {
        "id": "ZXogGacbOBd_"
      },
      "source": [
        "## Wikipedia\n",
        "\n",
        "Como otro ejemplo de carga de datos y de organización en HBase, veremos de manera simplificada el ejemplo de la wikipedia visto en teoría.\n",
        "\n",
        "A continuación se descarga una pequeña parte del fichero de la wikipedia en XML:"
      ]
    },
    {
      "cell_type": "code",
      "execution_count": null,
      "metadata": {
        "id": "kUZ0dUx1OBeB"
      },
      "outputs": [],
      "source": [
        "download_csv('https://github.com/dsevilla/bdge-data/blob/master/wikipedia/','eswiki.xml')"
      ]
    },
    {
      "cell_type": "markdown",
      "metadata": {
        "id": "JPbgmxz0OBeF"
      },
      "source": [
        "Se crea la tabla para albergar la `wikipedia`. Igual que la vista en teoría, pero aquí se usa `wikipedia` en vez de `wiki` para que no colisionen la versión completa con la reducida."
      ]
    },
    {
      "cell_type": "markdown",
      "metadata": {
        "id": "V5uBRP5vOBeG"
      },
      "source": [
        "De nuevo en el `shell` de HBase:\n",
        "\n",
        "```\n",
        "create 'wikipedia' , 'text', 'revision'\n",
        "disable 'wikipedia' # Para evitar su uso temporal\n",
        "alter 'wikipedia' , { NAME => 'text', VERSIONS => org.apache.hadoop.hbase.HConstants::ALL_VERSIONS }\n",
        "alter 'wikipedia' , { NAME => 'revision', VERSIONS => org.apache.hadoop.hbase.HConstants::ALL_VERSIONS }\n",
        "alter 'wikipedia' , { NAME => 'text', COMPRESSION => 'GZ', BLOOMFILTER => 'ROW'}\n",
        "enable 'wikipedia'\n",
        "```"
      ]
    },
    {
      "cell_type": "code",
      "execution_count": null,
      "metadata": {
        "id": "XCf76cikazt-"
      },
      "outputs": [],
      "source": [
        "!hbase-$HBASE_VERSION/bin/hbase shell"
      ]
    },
    {
      "cell_type": "markdown",
      "metadata": {
        "id": "PypOR4xDOBeH"
      },
      "source": [
        "Este código, visto en teoría, recorre el árbol XML construyendo documentos y llamando a la función `callback` con cada uno. Los documentos son diccionarios con las claves encontradas dentro de los tags `<page>...</page>`."
      ]
    },
    {
      "cell_type": "code",
      "execution_count": null,
      "metadata": {
        "id": "lVr_F9ldOBeI"
      },
      "outputs": [],
      "source": [
        "import xml.sax\n",
        "import re\n",
        "\n",
        "class WikiHandler(xml.sax.handler.ContentHandler):\n",
        "\n",
        "    def __init__(self):\n",
        "        self._charBuffer = ''\n",
        "        self.document = {}\n",
        "\n",
        "    def _getCharacterData(self):\n",
        "        data = self._charBuffer\n",
        "        self._charBuffer = ''\n",
        "        return data\n",
        "\n",
        "    def parse(self, f, callback):\n",
        "        self.callback = callback\n",
        "        xml.sax.parse(f, self)\n",
        "\n",
        "    def characters(self, data):\n",
        "        self._charBuffer = self._charBuffer + data\n",
        "\n",
        "    def startElement(self, name, attrs):\n",
        "        if name == 'page':\n",
        "        # print 'Start of page'\n",
        "            self.document = {}\n",
        "        if re.match(r'title|timestamp|username|comment|text', name):\n",
        "            self._charBuffer = ''\n",
        "\n",
        "    def endElement(self, name):\n",
        "        if re.match(r'title|timestamp|username|comment|text', name):\n",
        "            self.document[name] = self._getCharacterData()\n",
        "            # print(name, ': ', self.document[name][:20])\n",
        "        if 'revision' == name:\n",
        "            self.callback(self.document)"
      ]
    },
    {
      "cell_type": "markdown",
      "metadata": {
        "id": "hC7HBYT2OBeO"
      },
      "source": [
        "El codigo a continuación, cada vez que el código anterior llama a la función `processdoc()` se añade un documento a la base de datos."
      ]
    },
    {
      "cell_type": "code",
      "execution_count": null,
      "metadata": {
        "id": "d4Pw9mBIOBeO"
      },
      "outputs": [],
      "source": [
        "import time\n",
        "import os\n",
        "import gzip\n",
        "\n",
        "class FillWikiTable():\n",
        "    \"\"\"Llena la tabla Wiki\"\"\"\n",
        "    def __init__(self,connection):\n",
        "        # Conectar a la base de datos a través de Thrift\n",
        "        self.table = connection.table('wikipedia')\n",
        "\n",
        "    def run(_s):\n",
        "        def processdoc(d):\n",
        "            print(\"Callback called with {0}\".format(d['title']))\n",
        "            tuple_time = time.strptime(d['timestamp'], \"%Y-%m-%dT%H:%M:%SZ\")\n",
        "            timestamp = int(time.mktime(tuple_time))\n",
        "            _s.table.put(d['title'],\n",
        "                         {'text:': d.get('text',''),\n",
        "                          'revision:author': d.get('username',''),\n",
        "                          'revision:comment': d.get('comment','')},\n",
        "                         timestamp=timestamp)\n",
        "\n",
        "        with open('eswiki.xml','r') as f:\n",
        "            start = time.time()\n",
        "            WikiHandler().parse(f, processdoc)\n",
        "            end = time.time()\n",
        "            print (\"End adding documents. Time: %.5f\" % (end - start))"
      ]
    },
    {
      "cell_type": "code",
      "execution_count": null,
      "metadata": {
        "id": "SaYxqTf-OBeU"
      },
      "outputs": [],
      "source": [
        "with pool.connection() as connection:\n",
        "    FillWikiTable(connection).run()"
      ]
    },
    {
      "cell_type": "markdown",
      "metadata": {
        "id": "eemX4RQmOBen"
      },
      "source": [
        "El código a continuación permite ver las diferentes versiones de una revisión. Como la versión reducida es muy pequeña no da lugar a que haya ninguna revisión, pero con este código se vería. Hace uso del _shell_ de HBase:\n",
        "\n",
        "```\n",
        "get 'wikipedia', 'Commodore Amiga', {COLUMN => 'revision',VERSIONS=>10}\n",
        "```"
      ]
    },
    {
      "cell_type": "markdown",
      "metadata": {
        "id": "8h2c8U4NOBeo"
      },
      "source": [
        "### Enlazado de documentos en la wikipedia\n",
        "\n",
        "Los artículos de la wikipedia llevan enlaces entre sí, incluyendo referencias del tipo `[[artículo referenciado]]`. Se pueden extraer estos enlaces y se puede construir un grafo de conexiones. Para cada artículo, se anotarán qué enlaces hay que salen de él y hacia qué otros artículos enlazan y también qué enlaces llegan a él. Esto se hará con dos familias de columnas, `from` y `to`.\n",
        "\n",
        "En cada momento, se añadirá una columna `from:artículo` cuando un artículo nos apunte, y otras columnas `to:articulo` con los artículos que nosotros enlazamos."
      ]
    },
    {
      "cell_type": "code",
      "execution_count": null,
      "metadata": {
        "id": "Z1nq18qoOBeq"
      },
      "outputs": [],
      "source": [
        "import sys\n",
        "\n",
        "class BuildLinks():\n",
        "    \"\"\"Llena la tabla de Links\"\"\"\n",
        "    def __init__(self,connection):\n",
        "        # Create table\n",
        "        try:\n",
        "            connection.create_table(\n",
        "                \"wikilinks\",\n",
        "                {\n",
        "                    'from': dict(bloom_filter_type='ROW',max_versions=1),\n",
        "                    'to' : dict(bloom_filter_type='ROW',max_versions=1)\n",
        "                })\n",
        "        except:\n",
        "            print (\"Database wikilinks already exists.\")\n",
        "            pass\n",
        "\n",
        "        self.table = connection.table('wikilinks')\n",
        "        self.wikitable = connection.table('wikipedia')\n",
        "\n",
        "    def run(self):\n",
        "        print(\"run\")\n",
        "        linkpattern = r'\\[\\[([^\\[\\]\\|\\:\\#][^\\[\\]\\|:]*)(?:\\|([^\\[\\]\\|]+))?\\]\\]'\n",
        "        # target, label\n",
        "\n",
        "        with self.table.batch(batch_size=500) as b:\n",
        "            for key, data in self.wikitable.scan():\n",
        "                to_dict = {}\n",
        "                doc = key.strip().decode('utf-8')\n",
        "                print(\"\\n{0}:\".format(doc))\n",
        "                for mo in re.finditer(linkpattern, data[b'text:'].decode('utf-8')):\n",
        "                    (target, label) = mo.groups()\n",
        "\n",
        "                    target = target.strip()\n",
        "\n",
        "                    if target == '':\n",
        "                        continue\n",
        "\n",
        "                    label = '' if not label else label\n",
        "                    label = label.strip()\n",
        "\n",
        "                    to_dict['to:' + target] = label\n",
        "\n",
        "                    sys.stdout.write(\".\")\n",
        "\n",
        "                    b.put(target, {'from:' + doc : label})\n",
        "\n",
        "                if bool(to_dict):\n",
        "                    b.put(doc, to_dict)"
      ]
    },
    {
      "cell_type": "code",
      "execution_count": null,
      "metadata": {
        "id": "UacTweYbOBev",
        "scrolled": true
      },
      "outputs": [],
      "source": [
        "with pool.connection() as connection:\n",
        "    BuildLinks(connection).run()"
      ]
    },
    {
      "cell_type": "markdown",
      "metadata": {
        "id": "VtIWSdc0OBey"
      },
      "source": [
        "En la siguiente sesión veremos técnicas más sofisticadas de filtrado, pero por ahora se puede jugar con estas construcciones. Se puede seleccionar qué columnas se quiere mostrar e incluso filtros. En el _shell_:\n",
        "\n",
        "```\n",
        "scan 'wikilinks', {COLUMNS=>'to', FILTER => \"ColumnPrefixFilter('A')\", LIMIT => 300}\n",
        "```"
      ]
    },
    {
      "cell_type": "markdown",
      "metadata": {
        "id": "PBts-lNKOBe2"
      },
      "source": [
        "El proceso de `scan` recorre toda la tabla mostrando sólo las filas seleccionadas. HBase ofrece ciertas optimizaciones para que el escaneo sea eficiente, que veremos en la siguiente sesión.\n",
        "\n",
        "Una introducción a los filtros y parámetros disponibles se puede ver [aquí](https://www.oreilly.com/library/view/hbase-the-definitive/9781449314682/ch04.html). En el _shell_:\n",
        "\n",
        "```\n",
        "scan 'wikipedia', {COLUMNS=>['revision'] , STARTROW => 'A', ENDROW=>'B'}\n",
        "```"
      ]
    },
    {
      "cell_type": "markdown",
      "metadata": {
        "id": "WoIoBhMW6HZF"
      },
      "source": [
        "Se puede intentar visualizar la conexión entre páginas con la bibliotea `pyvis`. El código siguiente es de prueba por ahora."
      ]
    },
    {
      "cell_type": "code",
      "execution_count": null,
      "metadata": {
        "id": "sLAOmIpM6GCL"
      },
      "outputs": [],
      "source": [
        "!pip install pyvis"
      ]
    },
    {
      "cell_type": "code",
      "execution_count": null,
      "metadata": {
        "id": "-FsulMn_6arV"
      },
      "outputs": [],
      "source": [
        "import pyvis\n",
        "from IPython.display import display, HTML\n",
        "\n",
        "limit=2000\n",
        "\n",
        "def visualize_result_wikipedia(table):\n",
        "    visual_graph = pyvis.network.Network(notebook=True,cdn_resources='in_line')\n",
        "    added_nodes = set()\n",
        "\n",
        "    # Two passes through the table because first the nodes have to be added\n",
        "    for key, _ in table.scan(filter=\"KeyOnlyFilter()\",limit=limit):\n",
        "        keystr = key.decode('utf-8')\n",
        "        visual_graph.add_node(keystr)\n",
        "        added_nodes.add(keystr) # Only because we cannot add all the nodes to the graph\n",
        "\n",
        "    for key, data in table.scan(filter=\"KeyOnlyFilter()\", limit=limit):\n",
        "        keystr = key.decode('utf-8')\n",
        "        for destkey, _ in data.items():\n",
        "            destkeystr = destkey.decode('utf-8').split(':',1)\n",
        "            #if len(table.row(destkeystr)) != 0:  # Check if the destination exists\n",
        "            if destkeystr[0] == 'to' and destkeystr[1] in added_nodes:\n",
        "                visual_graph.add_edge(\n",
        "                    keystr,\n",
        "                    destkeystr[1],\n",
        "                    title=\"Link\"\n",
        "                )\n",
        "\n",
        "    visual_graph.show('example.html')\n",
        "    display(HTML('example.html'))"
      ]
    },
    {
      "cell_type": "code",
      "execution_count": null,
      "metadata": {
        "id": "EmB8TtjXY0fA"
      },
      "outputs": [],
      "source": [
        "with pool.connection() as connection:\n",
        "  visualize_result_wikipedia(connection.table('wikilinks'))"
      ]
    },
    {
      "cell_type": "markdown",
      "metadata": {
        "id": "EV_p9MO9OBe3"
      },
      "source": [
        "## EJERCICIO: Encontrar páginas que estén enlazadas y que ambas estén en la tabla `wikipedia`\n",
        "\n",
        "(Ojo, no estarán todas porque es una versión reducida de la wikipedia)"
      ]
    },
    {
      "cell_type": "markdown",
      "metadata": {
        "id": "3bFS9QkQOBe5"
      },
      "source": [
        "## EJERCICIO: Probar diversas búsquedas sobre las tablas `wikipedia` y `wikilinks`"
      ]
    },
    {
      "cell_type": "markdown",
      "metadata": {
        "id": "bj_VaehGOBe6"
      },
      "source": [
        "## EJERCICIO: Modificar la tabla `posts` para añadir una familia de columnas que guarde el histórico de ediciones guardado en `PostHistory.csv`. Usar como ejemplo la función `csv_to_hbase`"
      ]
    }
  ],
  "metadata": {
    "colab": {
      "include_colab_link": true,
      "name": "sesion5.ipynb",
      "provenance": []
    },
    "kernelspec": {
      "display_name": "Python 3",
      "language": "python",
      "name": "python3"
    },
    "language_info": {
      "codemirror_mode": {
        "name": "ipython",
        "version": 3
      },
      "file_extension": ".py",
      "mimetype": "text/x-python",
      "name": "python",
      "nbconvert_exporter": "python",
      "pygments_lexer": "ipython3",
      "version": "3.7.3"
    }
  },
  "nbformat": 4,
  "nbformat_minor": 0
}
