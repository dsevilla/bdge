{
  "cells": [
    {
      "cell_type": "markdown",
      "metadata": {
        "id": "HnLp0SNrIWqW"
      },
      "source": [
        "![Mysql](https://labs.mysql.com/common/logos/mysql-logo.svg)\n"
      ]
    },
    {
      "cell_type": "markdown",
      "metadata": {
        "id": "yULxkMKuIWqZ"
      },
      "source": [
        "# Toma de contacto con Jupyter/Colab y SQL"
      ]
    },
    {
      "cell_type": "markdown",
      "metadata": {
        "id": "NVBsiBj1IWqc"
      },
      "source": [
        "Esta hoja muestra cómo acceder a bases de datos SQL y también a conectar la salida con Jupyter. Las partes en SQL también se pueden realizar directamente en MySQL ejecutando el programa `mysql` del entorno de ejecución.\n",
        "\n"
      ]
    },
    {
      "cell_type": "markdown",
      "metadata": {
        "id": "DvNUhF8qIWqe"
      },
      "source": [
        "Instalación de los paquetes Python necesarios:"
      ]
    },
    {
      "cell_type": "code",
      "execution_count": null,
      "metadata": {
        "id": "c3CXfty1iRum"
      },
      "outputs": [],
      "source": [
        "!apt-get update -qq"
      ]
    },
    {
      "cell_type": "code",
      "execution_count": null,
      "metadata": {
        "id": "Xcy7h029JBPQ"
      },
      "outputs": [],
      "source": [
        "!apt-get install -y mysql-server"
      ]
    },
    {
      "cell_type": "code",
      "execution_count": null,
      "metadata": {
        "id": "kNuEvfooJPQ8"
      },
      "outputs": [],
      "source": [
        "!service mysql start"
      ]
    },
    {
      "cell_type": "code",
      "execution_count": null,
      "metadata": {
        "id": "7HUlENglJYSH"
      },
      "outputs": [],
      "source": [
        "!mysql -e \"ALTER USER 'root'@'localhost' IDENTIFIED WITH mysql_native_password BY 'root'\""
      ]
    },
    {
      "cell_type": "code",
      "execution_count": null,
      "metadata": {
        "id": "FW-KsTLSIWqg",
        "scrolled": true
      },
      "outputs": [],
      "source": [
        "!pip install sqlalchemy mysqlclient"
      ]
    },
    {
      "cell_type": "code",
      "execution_count": null,
      "metadata": {
        "id": "TQ0a3uknIWqt"
      },
      "outputs": [],
      "source": [
        "%load_ext sql\n",
        "#%config SqlMagic.feedback = False # Evitar que muestre el número de filas\n",
        "%config SqlMagic.autopandas=True"
      ]
    },
    {
      "cell_type": "code",
      "execution_count": null,
      "metadata": {
        "id": "F3UMoNLIIWq1"
      },
      "outputs": [],
      "source": [
        "import pandas as pd\n",
        "import matplotlib.pyplot as plt\n",
        "import matplotlib\n",
        "\n",
        "%matplotlib inline\n",
        "matplotlib.style.use('ggplot')"
      ]
    },
    {
      "cell_type": "code",
      "source": [
        "RunningInCOLAB = 'google.colab' in str(get_ipython()) if hasattr(__builtins__,'__IPYTHON__') else False"
      ],
      "metadata": {
        "id": "rsST-J-3jCTA"
      },
      "execution_count": null,
      "outputs": []
    },
    {
      "cell_type": "code",
      "source": [
        "db_hostname = \"localhost\" if RunningInCOLAB else \"mysql\""
      ],
      "metadata": {
        "id": "rQGAs6ydmMTH"
      },
      "execution_count": null,
      "outputs": []
    },
    {
      "cell_type": "code",
      "execution_count": null,
      "metadata": {
        "id": "JeLNiqCCIWq7"
      },
      "outputs": [],
      "source": [
        "%env DATABASE_URL=mysql://root:root@{db_hostname}/?charset=utf8mb4&local_infile=1"
      ]
    },
    {
      "cell_type": "markdown",
      "metadata": {
        "id": "SLJIbLlcIWrB"
      },
      "source": [
        " - Format: 7zipped\n",
        " - Files:\n",
        "   - **badges**.xml\n",
        "       - UserId, e.g.: \"420\"\n",
        "       - Name, e.g.: \"Teacher\"\n",
        "       - Date, e.g.: \"2008-09-15T08:55:03.923\"\n",
        "   - **comments**.xml\n",
        "       - Id\n",
        "       - PostId\n",
        "       - Score\n",
        "       - Text, e.g.: \"@Stu Thompson: Seems possible to me - why not try it?\"\n",
        "       - CreationDate, e.g.:\"2008-09-06T08:07:10.730\"\n",
        "       - UserId\n",
        "   - **posts**.xml\n",
        "       - Id\n",
        "       - PostTypeId\n",
        "          - 1: Question\n",
        "          - 2: Answer\n",
        "       - ParentID (only present if PostTypeId is 2)\n",
        "       - AcceptedAnswerId (only present if PostTypeId is 1)\n",
        "       - CreationDate\n",
        "       - Score\n",
        "       - ViewCount\n",
        "       - Body\n",
        "       - OwnerUserId\n",
        "       - LastEditorUserId\n",
        "       - LastEditorDisplayName=\"Jeff Atwood\"\n",
        "       - LastEditDate=\"2009-03-05T22:28:34.823\"\n",
        "       - LastActivityDate=\"2009-03-11T12:51:01.480\"\n",
        "       - CommunityOwnedDate=\"2009-03-11T12:51:01.480\"\n",
        "       - ClosedDate=\"2009-03-11T12:51:01.480\"\n",
        "       - Title=\n",
        "       - Tags=\n",
        "       - AnswerCount\n",
        "       - CommentCount\n",
        "       - FavoriteCount\n",
        "   - **posthistory**.xml\n",
        "\t   - Id\n",
        "\t   - PostHistoryTypeId\n",
        "\t\t\t- 1: Initial Title - The first title a question is asked with.\n",
        "\t\t\t- 2: Initial Body - The first raw body text a post is submitted with.\n",
        "\t\t\t- 3: Initial Tags - The first tags a question is asked with.\n",
        "\t\t\t- 4: Edit Title - A question's title has been changed.\n",
        "\t\t\t- 5: Edit Body - A post's body has been changed, the raw text is stored here as markdown.\n",
        "\t\t\t- 6: Edit Tags - A question's tags have been changed.\n",
        "\t\t\t- 7: Rollback Title - A question's title has reverted to a previous version.\n",
        "\t\t\t- 8: Rollback Body - A post's body has reverted to a previous version - the raw text is stored here.\n",
        "\t\t\t- 9: Rollback Tags - A question's tags have reverted to a previous version.\n",
        "\t\t\t- 10: Post Closed - A post was voted to be closed.\n",
        "\t\t\t- 11: Post Reopened - A post was voted to be reopened.\n",
        "\t\t\t- 12: Post Deleted - A post was voted to be removed.\n",
        "\t\t\t- 13: Post Undeleted - A post was voted to be restored.\n",
        "\t\t\t- 14: Post Locked - A post was locked by a moderator.\n",
        "\t\t\t- 15: Post Unlocked - A post was unlocked by a moderator.\n",
        "\t\t\t- 16: Community Owned - A post has become community owned.\n",
        "\t\t\t- 17: Post Migrated - A post was migrated.\n",
        "\t\t\t- 18: Question Merged - A question has had another, deleted question merged into itself.\n",
        "\t\t\t- 19: Question Protected - A question was protected by a moderator\n",
        "\t\t\t- 20: Question Unprotected - A question was unprotected by a moderator\n",
        "\t\t\t- 21: Post Disassociated - An admin removes the OwnerUserId from a post.\n",
        "\t\t\t- 22: Question Unmerged - A previously merged question has had its answers and votes restored.\n",
        "\t\t- PostId\n",
        "\t\t- RevisionGUID: At times more than one type of history record can be recorded by a single action.  All of these will be grouped using the same RevisionGUID\n",
        "\t\t- CreationDate: \"2009-03-05T22:28:34.823\"\n",
        "\t\t- UserId\n",
        "\t\t- UserDisplayName: populated if a user has been removed and no longer referenced by user Id\n",
        "\t\t- Comment: This field will contain the comment made by the user who edited a post\n",
        "\t\t- Text: A raw version of the new value for a given revision\n",
        "\t\t\t- If PostHistoryTypeId = 10, 11, 12, 13, 14, or 15  this column will contain a JSON encoded string with all users who have voted for the PostHistoryTypeId\n",
        "\t\t\t- If PostHistoryTypeId = 17 this column will contain migration details of either \"from <url>\" or \"to <url>\"\n",
        "\t\t- CloseReasonId\n",
        "\t\t\t- 1: Exact Duplicate - This question covers exactly the same ground as earlier questions on this topic; its answers may be merged with another identical question.\n",
        "\t\t\t- 2: off-topic\n",
        "\t\t\t- 3: subjective\n",
        "\t\t\t- 4: not a real question\n",
        "\t\t\t- 7: too localized\n",
        "   - **postlinks**.xml\n",
        "     - Id\n",
        "     - CreationDate\n",
        "     - PostId\n",
        "     - RelatedPostId\n",
        "     - PostLinkTypeId\n",
        "       - 1: Linked\n",
        "       - 3: Duplicate\n",
        "   - **users**.xml\n",
        "     - Id\n",
        "     - Reputation\n",
        "     - CreationDate\n",
        "     - DisplayName\n",
        "     - EmailHash\n",
        "     - LastAccessDate\n",
        "     - WebsiteUrl\n",
        "     - Location\n",
        "     - Age\n",
        "     - AboutMe\n",
        "     - Views\n",
        "     - UpVotes\n",
        "     - DownVotes\n",
        "   - **votes**.xml\n",
        "     - Id\n",
        "     - PostId\n",
        "     - VoteTypeId\n",
        "        - ` 1`: AcceptedByOriginator\n",
        "        - ` 2`: UpMod\n",
        "        - ` 3`: DownMod\n",
        "        - ` 4`: Offensive\n",
        "        - ` 5`: Favorite - if VoteTypeId = 5 UserId will be populated\n",
        "        - ` 6`: Close\n",
        "        - ` 7`: Reopen\n",
        "        - ` 8`: BountyStart\n",
        "        - ` 9`: BountyClose\n",
        "        - `10`: Deletion\n",
        "        - `11`: Undeletion\n",
        "        - `12`: Spam\n",
        "        - `13`: InformModerator\n",
        "     - CreationDate\n",
        "     - UserId (only for VoteTypeId 5)\n",
        "     - BountyAmount (only for VoteTypeId 9)"
      ]
    },
    {
      "cell_type": "markdown",
      "metadata": {
        "id": "GIP652ciIWrD"
      },
      "source": [
        "Descargar todos los CSVs:"
      ]
    },
    {
      "cell_type": "code",
      "execution_count": null,
      "metadata": {
        "id": "PP5jW7W0IWrF"
      },
      "outputs": [],
      "source": [
        "import gzip\n",
        "from urllib.request import Request,urlopen\n",
        "import io\n",
        "import os\n",
        "import os.path as path\n",
        "\n",
        "def download_csv(baseurl, filename):\n",
        "    file = path.abspath(path.join(os.getcwd(),filename))\n",
        "    request = Request(baseurl + filename + '.gz')\n",
        "    response = urlopen(request)\n",
        "    buf = io.BytesIO(response.read())\n",
        "    f = gzip.GzipFile(fileobj=buf)\n",
        "    data = f.read()\n",
        "    with open (filename, 'wb') as ff:\n",
        "      ff.write(data)\n",
        "\n",
        "baseurl = 'https://raw.githubusercontent.com/dsevilla/bdge-data/master/es.stackoverflow/'\n",
        "download_csv(baseurl, 'Posts.csv')\n",
        "download_csv(baseurl, 'Users.csv')\n",
        "download_csv(baseurl, 'Tags.csv')\n",
        "download_csv(baseurl, 'Comments.csv')\n",
        "download_csv(baseurl, 'Votes.csv')"
      ]
    },
    {
      "cell_type": "code",
      "execution_count": null,
      "metadata": {
        "id": "olhNo2TiIWrM"
      },
      "outputs": [],
      "source": [
        "%%sql\n",
        "DROP SCHEMA IF EXISTS stackoverflow;\n",
        "CREATE SCHEMA stackoverflow CHARACTER SET utf8mb4 COLLATE utf8mb4_unicode_ci;"
      ]
    },
    {
      "cell_type": "code",
      "execution_count": null,
      "metadata": {
        "id": "nj6IXG0gIWrQ"
      },
      "outputs": [],
      "source": [
        "%%sql\n",
        "USE stackoverflow;"
      ]
    },
    {
      "cell_type": "markdown",
      "metadata": {
        "id": "p1hVORsQIWrU"
      },
      "source": [
        "Se tiene que habilitar esto para que se permita importar CSVs."
      ]
    },
    {
      "cell_type": "code",
      "execution_count": null,
      "metadata": {
        "id": "GOpjdz4RIWrV"
      },
      "outputs": [],
      "source": [
        "%%sql\n",
        "SET GLOBAL local_infile = true;"
      ]
    },
    {
      "cell_type": "code",
      "execution_count": null,
      "metadata": {
        "id": "wWi44-cVIWra"
      },
      "outputs": [],
      "source": [
        "%%sql\n",
        "DROP TABLE IF EXISTS Posts;\n",
        "CREATE TABLE Posts (\n",
        "    Id INT,\n",
        "    AcceptedAnswerId INT NULL DEFAULT NULL,\n",
        "    AnswerCount INT DEFAULT 0,\n",
        "    Body TEXT,\n",
        "    ClosedDate DATETIME(6) NULL DEFAULT NULL,\n",
        "    CommentCount INT DEFAULT 0,\n",
        "    CommunityOwnedDate DATETIME(6) NULL DEFAULT NULL,\n",
        "    CreationDate DATETIME(6) NULL DEFAULT NULL,\n",
        "    FavoriteCount INT DEFAULT 0,\n",
        "    LastActivityDate DATETIME(6) NULL DEFAULT NULL,\n",
        "    LastEditDate DATETIME(6) NULL DEFAULT NULL,\n",
        "    LastEditorDisplayName TEXT,\n",
        "    LastEditorUserId INT NULL DEFAULT NULL,\n",
        "    OwnerDisplayName TEXT,\n",
        "    OwnerUserId INT NULL DEFAULT NULL,\n",
        "    ParentId INT NULL DEFAULT NULL,\n",
        "    PostTypeId INT, -- 1 = Question, 2 = Answer\n",
        "    Score INT DEFAULT 0,\n",
        "    Tags TEXT,\n",
        "    Title TEXT,\n",
        "    ViewCount INT DEFAULT 0,\n",
        "    PRIMARY KEY(Id)\n",
        ")\n",
        "CHARACTER SET utf8mb4 COLLATE utf8mb4_unicode_ci;"
      ]
    },
    {
      "cell_type": "code",
      "execution_count": null,
      "metadata": {
        "id": "dx3GfAnVIWrf",
        "scrolled": true
      },
      "outputs": [],
      "source": [
        "%%sql\n",
        "LOAD DATA LOCAL INFILE \"Posts.csv\" INTO TABLE Posts\n",
        "CHARACTER SET utf8mb4\n",
        "COLUMNS TERMINATED BY ','\n",
        "OPTIONALLY ENCLOSED BY '\"'\n",
        "ESCAPED BY '\"'\n",
        "LINES TERMINATED BY '\\r\\n'\n",
        "IGNORE 1 LINES\n",
        "(Id,\n",
        "@AcceptedAnswerId,\n",
        "@AnswerCount,\n",
        "Body,\n",
        "@ClosedDate,\n",
        "@CommentCount,\n",
        "@CommunityOwnedDate,\n",
        "CreationDate,\n",
        "@FavoriteCount,\n",
        "@LastActivityDate,\n",
        "@LastEditDate,\n",
        "LastEditorDisplayName,\n",
        "@LastEditorUserId,\n",
        "OwnerDisplayName,\n",
        "@OwnerUserId,\n",
        "@ParentId,\n",
        "PostTypeId,\n",
        "Score,\n",
        "Tags,\n",
        "Title,\n",
        "@ViewCount)\n",
        "SET ParentId = nullif (@ParentId, ''),\n",
        "ClosedDate = nullif(@ClosedDate, ''),\n",
        "LastEditorUserId = nullif(@OLastEditorUserId, ''),\n",
        "LastActivityDate = nullif(@LastActivityDate, ''),\n",
        "LastEditDate = nullif(@LastEditDate, ''),\n",
        "AcceptedAnswerId = nullif (@AcceptedAnswerId, ''),\n",
        "OwnerUserId = nullif(@OwnerUserId, ''),\n",
        "LastEditorUserId = nullif(@LastEditorUserId, ''),\n",
        "CommunityOwnedDate = nullif(@CommunityOwnedDate, ''),\n",
        "FavoriteCount = if(@FavoriteCount = '',0,@FavoriteCount),\n",
        "CommentCount = if(@CommentCount = '',0,@CommentCount),\n",
        "ViewCount = if(@ViewCount = '',0,@ViewCount),\n",
        "AnswerCount = if(@AnswerCount = '',0,@AnswerCount)\n",
        ";"
      ]
    },
    {
      "cell_type": "code",
      "execution_count": null,
      "metadata": {
        "id": "jv5miLzAIWrl"
      },
      "outputs": [],
      "source": [
        "%%sql\n",
        "select count(*) from Posts;"
      ]
    },
    {
      "cell_type": "code",
      "execution_count": null,
      "metadata": {
        "id": "IDxBulNHIWrs"
      },
      "outputs": [],
      "source": [
        "%%sql\n",
        "select Id,Title,CreationDate from Posts LIMIT 2;"
      ]
    },
    {
      "cell_type": "code",
      "execution_count": null,
      "metadata": {
        "id": "O7b0QGVQIWrx"
      },
      "outputs": [],
      "source": [
        "%%sql\n",
        "DROP TABLE IF EXISTS Users;\n",
        "CREATE TABLE Users (\n",
        "    Id INT,\n",
        "    AboutMe TEXT,\n",
        "    AccountId INT,\n",
        "    Age INT NULL DEFAULT NULL,\n",
        "    CreationDate DATETIME(6) NULL DEFAULT NULL,\n",
        "    DisplayName TEXT,\n",
        "    DownVotes INT DEFAULT 0,\n",
        "    LastAccessDate DATETIME(6) NULL DEFAULT NULL,\n",
        "    Location TEXT,\n",
        "    ProfileImageUrl TEXT,\n",
        "    Reputation INT DEFAULT 0,\n",
        "    UpVotes INT DEFAULT 0,\n",
        "    Views INT DEFAULT 0,\n",
        "    WebsiteUrl TEXT,\n",
        "    PRIMARY KEY(Id)\n",
        ")\n",
        "CHARACTER SET utf8mb4 COLLATE utf8mb4_unicode_ci;"
      ]
    },
    {
      "cell_type": "code",
      "execution_count": null,
      "metadata": {
        "id": "carp1wr4IWr2",
        "scrolled": true
      },
      "outputs": [],
      "source": [
        "%%sql\n",
        "LOAD DATA LOCAL INFILE \"Users.csv\" INTO TABLE Users\n",
        "CHARACTER SET utf8mb4\n",
        "COLUMNS TERMINATED BY ','\n",
        "OPTIONALLY ENCLOSED BY '\"'\n",
        "ESCAPED BY '\"'\n",
        "LINES TERMINATED BY '\\r\\n'\n",
        "IGNORE 1 LINES\n",
        "(Id,AboutMe,@AccountId,@Age,@CreationDate,DisplayName,DownVotes,LastAccessDate,Location,ProfileImageUrl,\n",
        " Reputation,UpVotes,Views,WebsiteUrl)\n",
        "SET LastAccessDate = nullif(@LastAccessDate,''),\n",
        "Age = nullif(@Age, ''),\n",
        "CreationDate = nullif(@CreationDate,''),\n",
        "AccountId = nullif(@AccountId, '')\n",
        ";"
      ]
    },
    {
      "cell_type": "code",
      "execution_count": null,
      "metadata": {
        "id": "iUzeW6MwIWr7"
      },
      "outputs": [],
      "source": [
        "%%sql\n",
        "select count(*) from Users;"
      ]
    },
    {
      "cell_type": "code",
      "execution_count": null,
      "metadata": {
        "id": "fL1BKK5AIWr_"
      },
      "outputs": [],
      "source": [
        "%%sql\n",
        "DROP TABLE IF EXISTS Tags;\n",
        "CREATE TABLE Tags (\n",
        "    Id INT,\n",
        "    Count INT DEFAULT 0,\n",
        "    ExcerptPostId INT NULL DEFAULT NULL,\n",
        "    TagName TEXT,\n",
        "    WikiPostId INT NULL DEFAULT NULL,\n",
        "    PRIMARY KEY(Id)\n",
        ")\n",
        "CHARACTER SET utf8mb4 COLLATE utf8mb4_unicode_ci;"
      ]
    },
    {
      "cell_type": "code",
      "execution_count": null,
      "metadata": {
        "id": "nsMY8dj6IWsE",
        "scrolled": true
      },
      "outputs": [],
      "source": [
        "%%sql\n",
        "LOAD DATA LOCAL INFILE \"Tags.csv\" INTO TABLE Tags\n",
        "CHARACTER SET utf8mb4\n",
        "COLUMNS TERMINATED BY ','\n",
        "OPTIONALLY ENCLOSED BY '\"'\n",
        "ESCAPED BY '\"'\n",
        "LINES TERMINATED BY '\\r\\n'\n",
        "IGNORE 1 LINES\n",
        "(Id,Count,@ExcerptPostId,TagName,@WikiPostId)\n",
        "SET WikiPostId = nullif(@WikiPostId, ''),\n",
        "ExcerptPostId = nullif(@ExcerptPostId, '')\n",
        ";"
      ]
    },
    {
      "cell_type": "code",
      "execution_count": null,
      "metadata": {
        "id": "jdsxqW7vIWsI"
      },
      "outputs": [],
      "source": [
        "%%sql\n",
        "DROP TABLE IF EXISTS Comments;\n",
        "CREATE TABLE Comments (\n",
        "    Id INT,\n",
        "    CreationDate DATETIME(6) NULL DEFAULT NULL,\n",
        "    PostId INT NULL DEFAULT NULL,\n",
        "    Score INT DEFAULT 0,\n",
        "    Text TEXT,\n",
        "    UserDisplayName TEXT,\n",
        "    UserId INT NULL DEFAULT NULL,\n",
        "    PRIMARY KEY(Id)\n",
        ")\n",
        "CHARACTER SET utf8mb4 COLLATE utf8mb4_unicode_ci;"
      ]
    },
    {
      "cell_type": "code",
      "execution_count": null,
      "metadata": {
        "id": "ySvn8HVwIWsL",
        "scrolled": true
      },
      "outputs": [],
      "source": [
        "%%sql\n",
        "LOAD DATA LOCAL INFILE \"Comments.csv\" INTO TABLE Comments\n",
        "CHARACTER SET utf8mb4\n",
        "COLUMNS TERMINATED BY ','\n",
        "OPTIONALLY ENCLOSED BY '\"'\n",
        "ESCAPED BY '\"'\n",
        "LINES TERMINATED BY '\\r\\n'\n",
        "IGNORE 1 LINES\n",
        "(Id,@CreationDate,@PostId,Score,Text,@UserDisplayName,@UserId)\n",
        "SET UserId = nullif(@UserId, ''),\n",
        "PostId = nullif(@PostId, ''),\n",
        "CreationDate = nullif(@CreationDate,''),\n",
        "UserDisplayName = nullif(@UserDisplayName,'')\n",
        ";"
      ]
    },
    {
      "cell_type": "code",
      "execution_count": null,
      "metadata": {
        "id": "c5f0hClOIWsO"
      },
      "outputs": [],
      "source": [
        "%%sql\n",
        "SELECT Count(*) FROM Comments;"
      ]
    },
    {
      "cell_type": "code",
      "execution_count": null,
      "metadata": {
        "id": "85FikV2uIWsT"
      },
      "outputs": [],
      "source": [
        "%%sql\n",
        "DROP TABLE IF EXISTS Votes;\n",
        "CREATE TABLE Votes (\n",
        "    Id INT,\n",
        "    BountyAmount INT DEFAULT 0,\n",
        "    CreationDate DATETIME(6) NULL DEFAULT NULL,\n",
        "    PostId INT NULL DEFAULT NULL,\n",
        "    UserId INT NULL DEFAULT NULL,\n",
        "    VoteTypeId INT,\n",
        "    PRIMARY KEY(Id)\n",
        ")\n",
        "CHARACTER SET utf8mb4 COLLATE utf8mb4_unicode_ci;"
      ]
    },
    {
      "cell_type": "code",
      "execution_count": null,
      "metadata": {
        "id": "8DVwuv2kIWsY",
        "scrolled": true
      },
      "outputs": [],
      "source": [
        "%%sql\n",
        "LOAD DATA LOCAL INFILE \"Votes.csv\" INTO TABLE Votes\n",
        "CHARACTER SET utf8mb4\n",
        "COLUMNS TERMINATED BY ','\n",
        "OPTIONALLY ENCLOSED BY '\"'\n",
        "ESCAPED BY '\"'\n",
        "LINES TERMINATED BY '\\r\\n'\n",
        "IGNORE 1 LINES\n",
        "(Id,@BountyAmount,@CreationDate,@PostId,@UserId,VoteTypeId)\n",
        "SET UserId = nullif(@UserId, ''),\n",
        "PostId = nullif(@PostId, ''),\n",
        "BountyAmount = if(@BountyAmount = '',0,@BountyAmount),\n",
        "CreationDate = nullif(@CreationDate, '')\n",
        ";"
      ]
    },
    {
      "cell_type": "markdown",
      "metadata": {
        "id": "ai7TEV1IIWsb"
      },
      "source": [
        "## Añadimos las claves ajenas para que todas las tablas estén referenciadas correctamente\n",
        "\n",
        "Usaremos los comandos `alter table`."
      ]
    },
    {
      "cell_type": "code",
      "execution_count": null,
      "metadata": {
        "id": "FlkdX8k5IWsc"
      },
      "outputs": [],
      "source": [
        "%%sql\n",
        "\n",
        "ALTER TABLE Posts ADD FOREIGN KEY (ParentId) REFERENCES Posts(Id);\n",
        "ALTER TABLE Posts ADD FOREIGN KEY (OwnerUserId) REFERENCES Users(Id);\n",
        "ALTER TABLE Posts ADD FOREIGN KEY (LastEditorUserId) REFERENCES Users(Id);\n",
        "ALTER TABLE Posts ADD FOREIGN KEY (AcceptedAnswerId) REFERENCES Posts(Id);"
      ]
    },
    {
      "cell_type": "code",
      "execution_count": null,
      "metadata": {
        "id": "rQZS4VuGIWsg"
      },
      "outputs": [],
      "source": [
        "%%sql\n",
        "\n",
        "ALTER TABLE Tags ADD FOREIGN KEY (WikiPostId) REFERENCES Posts(Id);\n",
        "ALTER TABLE Tags ADD FOREIGN KEY (ExcerptPostId) REFERENCES Posts(Id);"
      ]
    },
    {
      "cell_type": "code",
      "execution_count": null,
      "metadata": {
        "id": "N9CNm77kIWsj"
      },
      "outputs": [],
      "source": [
        "%%sql\n",
        "\n",
        "ALTER TABLE Comments ADD FOREIGN KEY (PostId) REFERENCES Posts(Id);\n",
        "ALTER TABLE Comments ADD FOREIGN KEY (UserId) REFERENCES Users(Id);"
      ]
    },
    {
      "cell_type": "code",
      "execution_count": null,
      "metadata": {
        "id": "zhWkqoQSIWsn",
        "scrolled": true
      },
      "outputs": [],
      "source": [
        "%%sql\n",
        "\n",
        "ALTER TABLE Votes ADD FOREIGN KEY (PostId) REFERENCES Posts(Id);\n",
        "ALTER TABLE Votes ADD FOREIGN KEY (UserId) REFERENCES Users(Id);"
      ]
    },
    {
      "cell_type": "code",
      "execution_count": null,
      "metadata": {
        "id": "IqreyTq0IWsq",
        "scrolled": true
      },
      "outputs": [],
      "source": [
        "%%sql\n",
        "EXPLAIN\n",
        "SELECT Y.PostId,Y.Present\n",
        "FROM (SELECT v.PostId AS PostId, COALESCE(p.Id,CONCAT('No: ', v.PostId)) AS Present\n",
        "      FROM Votes v LEFT JOIN Posts p ON v.PostId = p.Id) AS Y\n",
        "WHERE Y.Present LIKE 'No%';"
      ]
    },
    {
      "cell_type": "code",
      "execution_count": null,
      "metadata": {
        "id": "N5jJsAD2IWst",
        "scrolled": true
      },
      "outputs": [],
      "source": [
        "%%sql\n",
        "EXPLAIN SELECT PostId from Votes WHERE PostId NOT IN (select Id from Posts);"
      ]
    },
    {
      "cell_type": "code",
      "execution_count": null,
      "metadata": {
        "id": "CeRh5yWUIWsw"
      },
      "outputs": [],
      "source": [
        "%%sql\n",
        "select * from Votes LIMIT 20;"
      ]
    },
    {
      "cell_type": "code",
      "execution_count": null,
      "metadata": {
        "id": "3MDzp0tIIWs0"
      },
      "outputs": [],
      "source": [
        "%%sql\n",
        "SELECT Y.Id, Y.PostId, Y.Present\n",
        "FROM (SELECT v.PostId AS PostId, v.Id AS Id, p.Id AS Pid, COALESCE(p.Id, CONCAT('No: ', v.PostId)) AS Present\n",
        "      FROM Votes v LEFT JOIN Posts p ON v.PostId = p.Id) AS Y\n",
        "WHERE Y.Pid IS NULL\n",
        "LIMIT 1000"
      ]
    },
    {
      "cell_type": "markdown",
      "metadata": {
        "id": "FY1a_HMuIWs3"
      },
      "source": [
        "## EJERCICIO: Eliminar de `Votes` las entradas que se refieran a Posts inexistentes"
      ]
    },
    {
      "cell_type": "code",
      "execution_count": null,
      "metadata": {
        "id": "xtqw6LLxIWs4"
      },
      "outputs": [],
      "source": [
        "%%sql\n",
        "-- DELETE FROM Votes WHERE ...;"
      ]
    },
    {
      "cell_type": "code",
      "execution_count": null,
      "metadata": {
        "id": "ObWAJoBZIWs7",
        "scrolled": true
      },
      "outputs": [],
      "source": [
        "%%sql\n",
        "-- Y ahora sí\n",
        "ALTER TABLE Votes ADD FOREIGN KEY (PostId) REFERENCES Posts(Id);\n",
        "ALTER TABLE Votes ADD FOREIGN KEY (UserId) REFERENCES Users(Id);"
      ]
    },
    {
      "cell_type": "code",
      "execution_count": null,
      "metadata": {
        "id": "sf4jeUVVIWs9"
      },
      "outputs": [],
      "source": [
        "%sql use stackoverflow"
      ]
    },
    {
      "cell_type": "code",
      "execution_count": null,
      "metadata": {
        "id": "wn8j4-dhIWtB"
      },
      "outputs": [],
      "source": [
        "%%sql\n",
        "SHOW TABLES;"
      ]
    },
    {
      "cell_type": "code",
      "execution_count": null,
      "metadata": {
        "id": "55N7t13zIWtE"
      },
      "outputs": [],
      "source": [
        "%%sql\n",
        "DESCRIBE Posts;"
      ]
    },
    {
      "cell_type": "code",
      "execution_count": null,
      "metadata": {
        "id": "hYh23PKlIWtH"
      },
      "outputs": [],
      "source": [
        "top_tags = %sql SELECT Id, TagName, Count FROM Tags ORDER BY Count DESC LIMIT 40;"
      ]
    },
    {
      "cell_type": "markdown",
      "metadata": {
        "id": "RAUQ7B42IWtJ"
      },
      "source": [
        "¡¡Los resultados de `%sql` son un `DataFrame`!!"
      ]
    },
    {
      "cell_type": "code",
      "execution_count": null,
      "metadata": {
        "id": "GBx0TxBQIWtM"
      },
      "outputs": [],
      "source": [
        "# invert_y_axis() hace que el más usado aparezca primero. Por defecto es al revés.\n",
        "top_tags.plot(kind='barh',x='TagName', y='Count', figsize=(14,14*2/3)).invert_yaxis()"
      ]
    },
    {
      "cell_type": "code",
      "execution_count": null,
      "metadata": {
        "id": "TlE_jfdfIWtO",
        "scrolled": true
      },
      "outputs": [],
      "source": [
        "top_tags"
      ]
    },
    {
      "cell_type": "code",
      "execution_count": null,
      "metadata": {
        "id": "2IMPH6pLIWtS",
        "scrolled": true
      },
      "outputs": [],
      "source": [
        "%%sql\n",
        "select Id,TagName,Count from Tags WHERE Count > 5 ORDER BY Count ASC LIMIT 40;"
      ]
    },
    {
      "cell_type": "markdown",
      "metadata": {
        "id": "OrqqwLXpIWtU"
      },
      "source": [
        "### Para comparación con HBase\n",
        "\n",
        "Voy a hacer unas consultas para comparar la eficiencia con HBase. Calcularé el tamaño medio del texto de los comentarios de un post en particular (he seleccionado el 7251, que es el que más tiene comentarios, 32). Hago el cálculo en local porque aunque existe la función `AVG` de SQL, es posible que la función que tuviéramos que calcular no la tuviera la base de datos, con lo que tenemos que obtener todos los datos y calcularla en local. Eso también nos dará una idea de la eficiencia de recuperación de la base de datos."
      ]
    },
    {
      "cell_type": "code",
      "execution_count": null,
      "metadata": {
        "id": "6LceLvqbIWtV"
      },
      "outputs": [],
      "source": [
        "%%sql\n",
        "SELECT p.Id, MAX(p.CommentCount) AS c FROM Posts p GROUP BY p.Id ORDER BY c DESC LIMIT 1;"
      ]
    },
    {
      "cell_type": "code",
      "execution_count": null,
      "metadata": {
        "id": "ORfGVY-jIWtY",
        "scrolled": true
      },
      "outputs": [],
      "source": [
        "%sql SELECT AVG(CHAR_LENGTH(Text)) from Comments WHERE PostId = 7251;"
      ]
    },
    {
      "cell_type": "code",
      "execution_count": null,
      "metadata": {
        "id": "Y31GRyTGIWtb"
      },
      "outputs": [],
      "source": [
        "from functools import reduce\n",
        "\n",
        "def doit():\n",
        "    q = %sql select Text from Comments WHERE PostId = 7251;\n",
        "    (s,n) = reduce(lambda res, e: (res[0]+len(e[0]), res[1]+1), q, (0,0))\n",
        "    return (s/n)\n",
        "\n",
        "%timeit doit()"
      ]
    },
    {
      "cell_type": "markdown",
      "metadata": {
        "id": "RwZFeIdKIWtf"
      },
      "source": [
        "## EJERCICIO: Calcular las preguntas con más respuestas\n",
        "\n",
        "En la casilla siguiente:"
      ]
    },
    {
      "cell_type": "code",
      "execution_count": null,
      "metadata": {
        "id": "ckNO1MXRIWtg"
      },
      "outputs": [],
      "source": [
        "%%sql\n",
        "-- Preguntas con más respuestas (20 primeras)\n"
      ]
    },
    {
      "cell_type": "code",
      "execution_count": null,
      "metadata": {
        "id": "HRWtlwiGIWtj"
      },
      "outputs": [],
      "source": [
        "%%sql\n",
        "select Title from Posts where Id = 5;"
      ]
    },
    {
      "cell_type": "markdown",
      "metadata": {
        "id": "HB6yQwYeIWtl"
      },
      "source": [
        "### Código de suma de posts de cada Tag"
      ]
    },
    {
      "cell_type": "code",
      "execution_count": null,
      "metadata": {
        "id": "tEWqF_-wIWtl",
        "scrolled": true
      },
      "outputs": [],
      "source": [
        "# Calcular la suma de posts cada Tag de manera eficiente\n",
        "import re\n",
        "\n",
        "# Obtener los datos iniciales de los Tags\n",
        "results = %sql SELECT Id, Tags FROM Posts where Tags IS NOT NULL;\n",
        "\n",
        "tagcount = {}\n",
        "\n",
        "for result in results.itertuples():\n",
        "    # Inserta las tags en la tabla Tag\n",
        "    tags = re.findall('<(.*?)>', result[2])\n",
        "    for tag in tags:\n",
        "        tagcount[tag] = tagcount.get(tag,0) + 1;\n",
        "\n",
        "# Comprobar que son iguales las cuentas\n",
        "for k in tagcount:\n",
        "    res = %sql select TagName,SUM(Count) from Tags WHERE TagName = :k GROUP BY TagName;\n",
        "    if tagcount[k] != res.iloc[0][1]:\n",
        "        print(\"Tag %s NO coincide (%d)!!\" % (k, res[0][1]))"
      ]
    },
    {
      "cell_type": "code",
      "execution_count": null,
      "metadata": {
        "id": "rK6xVevaIWtp",
        "scrolled": true
      },
      "outputs": [],
      "source": [
        "tagcount"
      ]
    },
    {
      "cell_type": "code",
      "execution_count": null,
      "metadata": {
        "id": "8q6Sl9vzIWtt",
        "scrolled": true
      },
      "outputs": [],
      "source": [
        "df = pd.DataFrame({'count' : pd.Series(list(tagcount.values()),\n",
        "                                       index=list(tagcount.keys()))})\n",
        "df"
      ]
    },
    {
      "cell_type": "code",
      "execution_count": null,
      "metadata": {
        "id": "aHZh5iHYIWtx"
      },
      "outputs": [],
      "source": [
        "sort_df = df.sort_values(by='count',ascending=False)"
      ]
    },
    {
      "cell_type": "code",
      "execution_count": null,
      "metadata": {
        "id": "ZMHNEQBbIWt0",
        "scrolled": true
      },
      "outputs": [],
      "source": [
        "sort_df"
      ]
    },
    {
      "cell_type": "code",
      "execution_count": null,
      "metadata": {
        "id": "tByewzY4IWt3"
      },
      "outputs": [],
      "source": [
        "sort_df[:100].plot(kind='bar',figsize=(20,20*2/3))"
      ]
    },
    {
      "cell_type": "code",
      "execution_count": null,
      "metadata": {
        "id": "RGDJhSr8IWt6"
      },
      "outputs": [],
      "source": [
        "sort_df[-100:].plot(kind='bar',figsize=(20,20*2/3))"
      ]
    },
    {
      "cell_type": "markdown",
      "metadata": {
        "id": "0iVRWxQ4IWt-"
      },
      "source": [
        "## EJERCICIO: Crear una tabla \"PostTags\" que relaciona cada Tag con su Post\n",
        "\n",
        "Tendrá cuatro entradas, Id, PostId (referencia a Posts.Id), TagId (referencia a Tags.Id) y TagName (nombre del tag copiado de Tags)"
      ]
    },
    {
      "cell_type": "markdown",
      "metadata": {
        "id": "wdS7HzUAIWt-"
      },
      "source": [
        "## EJERCICIO: ¿Cómo se podría encontrar lo más rápido posible todos los Posts de un Tag en particular (dando el TagName)?\n",
        "\n",
        "Se pueden dar varias alternativas comparando la eficiencia de cada una. Se pueden hacer pruebas de eficiencia."
      ]
    }
  ],
  "metadata": {
    "colab": {
      "name": "sesion1.ipynb",
      "provenance": []
    },
    "kernelspec": {
      "display_name": "Python 3 (ipykernel)",
      "language": "python",
      "name": "python3"
    },
    "language_info": {
      "codemirror_mode": {
        "name": "ipython",
        "version": 3
      },
      "file_extension": ".py",
      "mimetype": "text/x-python",
      "name": "python",
      "nbconvert_exporter": "python",
      "pygments_lexer": "ipython3",
      "version": "3.9.6"
    }
  },
  "nbformat": 4,
  "nbformat_minor": 0
}