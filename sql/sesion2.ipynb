{
  "cells": [
    {
      "cell_type": "markdown",
      "metadata": {
        "id": "sSknT9fOwo3z"
      },
      "source": [
        "# SQL (ii) (sesión 2)"
      ]
    },
    {
      "cell_type": "markdown",
      "metadata": {
        "id": "HnLp0SNrIWqW"
      },
      "source": [
        "![Mysql](https://labs.mysql.com/common/logos/mysql-logo.svg)\n"
      ]
    },
    {
      "cell_type": "markdown",
      "metadata": {
        "id": "yULxkMKuIWqZ"
      },
      "source": [
        "# Inicialización y carga de paquetes\n",
        "\n"
      ]
    },
    {
      "cell_type": "markdown",
      "metadata": {
        "id": "NVBsiBj1IWqc"
      },
      "source": [
        "Esta hoja muestra cómo acceder a bases de datos SQL y también a conectar la salida con Jupyter/Colab. Las partes en SQL también se pueden realizar directamente en MySQL ejecutando el programa `mysql` del entorno de ejecución.\n",
        "\n"
      ]
    },
    {
      "cell_type": "markdown",
      "metadata": {
        "id": "mcbunjxhia87"
      },
      "source": [
        "Instalación de los paquetes Python necesarios:"
      ]
    },
    {
      "cell_type": "code",
      "execution_count": null,
      "metadata": {
        "id": "VeMs4ES_ia89"
      },
      "outputs": [],
      "source": [
        "!sudo apt-get update -qq"
      ]
    },
    {
      "cell_type": "code",
      "execution_count": null,
      "metadata": {
        "id": "NkgL_dHcia8-"
      },
      "outputs": [],
      "source": [
        "!sudo apt-get install -y mysql-server p7zip"
      ]
    },
    {
      "cell_type": "code",
      "execution_count": null,
      "metadata": {
        "id": "CQWskKUHia9B"
      },
      "outputs": [],
      "source": [
        "RunningInCOLAB = 'google.colab' in str(get_ipython()) if hasattr(__builtins__,'__IPYTHON__') else False"
      ]
    },
    {
      "cell_type": "code",
      "execution_count": null,
      "metadata": {
        "id": "q81F6t_qia8-"
      },
      "outputs": [],
      "source": [
        "if RunningInCOLAB:\n",
        "  !sudo service mysql start\n",
        "  !mysql -e \"ALTER USER 'root'@'localhost' IDENTIFIED WITH mysql_native_password BY 'root'\""
      ]
    },
    {
      "cell_type": "code",
      "execution_count": null,
      "metadata": {
        "id": "0iKuwEUgia8_"
      },
      "outputs": [],
      "source": [
        "%pip install sqlalchemy mysqlclient ipython-sql"
      ]
    },
    {
      "cell_type": "code",
      "execution_count": null,
      "metadata": {
        "id": "U3zqPsbRia9B"
      },
      "outputs": [],
      "source": [
        "%load_ext sql\n",
        "#%config SqlMagic.feedback = False # Evitar que muestre el número de filas\n",
        "%config SqlMagic.autopandas=True\n",
        "%config SqlMagic.displaycon=False"
      ]
    },
    {
      "cell_type": "code",
      "execution_count": null,
      "metadata": {
        "id": "ObYdMvEwia9B"
      },
      "outputs": [],
      "source": [
        "import pandas as pd\n",
        "import matplotlib.pyplot as plt\n",
        "import matplotlib\n",
        "\n",
        "%matplotlib inline\n",
        "matplotlib.style.use('ggplot')"
      ]
    },
    {
      "cell_type": "code",
      "execution_count": null,
      "metadata": {
        "id": "ULnvmeUNia9C"
      },
      "outputs": [],
      "source": [
        "import os\n",
        "db_hostname = os.getenv(\"DB_HOSTNAME\") or (\"localhost\" if RunningInCOLAB else \"mysql\")"
      ]
    },
    {
      "cell_type": "code",
      "execution_count": null,
      "metadata": {
        "id": "gvD1rsYqia9C"
      },
      "outputs": [],
      "source": [
        "%env DATABASE_URL=mysql://root:root@{db_hostname}/?charset=utf8mb4&local_infile=1"
      ]
    },
    {
      "cell_type": "markdown",
      "metadata": {
        "id": "p_FRcxpvia9C"
      },
      "source": [
        " - Format: 7zipped\n",
        " - Files:\n",
        "   - **badges**.xml\n",
        "       - UserId, e.g.: \"420\"\n",
        "       - Name, e.g.: \"Teacher\"\n",
        "       - Date, e.g.: \"2008-09-15T08:55:03.923\"\n",
        "   - **comments**.xml\n",
        "       - Id\n",
        "       - PostId\n",
        "       - Score\n",
        "       - Text, e.g.: \"@Stu Thompson: Seems possible to me - why not try it?\"\n",
        "       - CreationDate, e.g.:\"2008-09-06T08:07:10.730\"\n",
        "       - UserId\n",
        "   - **posts**.xml\n",
        "       - Id\n",
        "       - PostTypeId\n",
        "          - 1: Question\n",
        "          - 2: Answer\n",
        "       - ParentID (only present if PostTypeId is 2)\n",
        "       - AcceptedAnswerId (only present if PostTypeId is 1)\n",
        "       - CreationDate\n",
        "       - Score\n",
        "       - ViewCount\n",
        "       - Body\n",
        "       - OwnerUserId\n",
        "       - LastEditorUserId\n",
        "       - LastEditorDisplayName=\"Jeff Atwood\"\n",
        "       - LastEditDate=\"2009-03-05T22:28:34.823\"\n",
        "       - LastActivityDate=\"2009-03-11T12:51:01.480\"\n",
        "       - CommunityOwnedDate=\"2009-03-11T12:51:01.480\"\n",
        "       - ClosedDate=\"2009-03-11T12:51:01.480\"\n",
        "       - Title=\n",
        "       - Tags=\n",
        "       - AnswerCount\n",
        "       - CommentCount\n",
        "       - FavoriteCount\n",
        "   - **posthistory**.xml\n",
        "\t   - Id\n",
        "\t   - PostHistoryTypeId\n",
        "\t\t\t- 1: Initial Title - The first title a question is asked with.\n",
        "\t\t\t- 2: Initial Body - The first raw body text a post is submitted with.\n",
        "\t\t\t- 3: Initial Tags - The first tags a question is asked with.\n",
        "\t\t\t- 4: Edit Title - A question's title has been changed.\n",
        "\t\t\t- 5: Edit Body - A post's body has been changed, the raw text is stored here as markdown.\n",
        "\t\t\t- 6: Edit Tags - A question's tags have been changed.\n",
        "\t\t\t- 7: Rollback Title - A question's title has reverted to a previous version.\n",
        "\t\t\t- 8: Rollback Body - A post's body has reverted to a previous version - the raw text is stored here.\n",
        "\t\t\t- 9: Rollback Tags - A question's tags have reverted to a previous version.\n",
        "\t\t\t- 10: Post Closed - A post was voted to be closed.\n",
        "\t\t\t- 11: Post Reopened - A post was voted to be reopened.\n",
        "\t\t\t- 12: Post Deleted - A post was voted to be removed.\n",
        "\t\t\t- 13: Post Undeleted - A post was voted to be restored.\n",
        "\t\t\t- 14: Post Locked - A post was locked by a moderator.\n",
        "\t\t\t- 15: Post Unlocked - A post was unlocked by a moderator.\n",
        "\t\t\t- 16: Community Owned - A post has become community owned.\n",
        "\t\t\t- 17: Post Migrated - A post was migrated.\n",
        "\t\t\t- 18: Question Merged - A question has had another, deleted question merged into itself.\n",
        "\t\t\t- 19: Question Protected - A question was protected by a moderator\n",
        "\t\t\t- 20: Question Unprotected - A question was unprotected by a moderator\n",
        "\t\t\t- 21: Post Disassociated - An admin removes the OwnerUserId from a post.\n",
        "\t\t\t- 22: Question Unmerged - A previously merged question has had its answers and votes restored.\n",
        "\t\t- PostId\n",
        "\t\t- RevisionGUID: At times more than one type of history record can be recorded by a single action.  All of these will be grouped using the same RevisionGUID\n",
        "\t\t- CreationDate: \"2009-03-05T22:28:34.823\"\n",
        "\t\t- UserId\n",
        "\t\t- UserDisplayName: populated if a user has been removed and no longer referenced by user Id\n",
        "\t\t- Comment: This field will contain the comment made by the user who edited a post\n",
        "\t\t- Text: A raw version of the new value for a given revision\n",
        "\t\t\t- If PostHistoryTypeId = 10, 11, 12, 13, 14, or 15  this column will contain a JSON encoded string with all users who have voted for the PostHistoryTypeId\n",
        "\t\t\t- If PostHistoryTypeId = 17 this column will contain migration details of either \"from <url>\" or \"to <url>\"\n",
        "\t\t- CloseReasonId\n",
        "\t\t\t- 1: Exact Duplicate - This question covers exactly the same ground as earlier questions on this topic; its answers may be merged with another identical question.\n",
        "\t\t\t- 2: off-topic\n",
        "\t\t\t- 3: subjective\n",
        "\t\t\t- 4: not a real question\n",
        "\t\t\t- 7: too localized\n",
        "   - **postlinks**.xml\n",
        "     - Id\n",
        "     - CreationDate\n",
        "     - PostId\n",
        "     - RelatedPostId\n",
        "     - PostLinkTypeId\n",
        "       - 1: Linked\n",
        "       - 3: Duplicate\n",
        "   - **users**.xml\n",
        "     - Id\n",
        "     - Reputation\n",
        "     - CreationDate\n",
        "     - DisplayName\n",
        "     - EmailHash\n",
        "     - LastAccessDate\n",
        "     - WebsiteUrl\n",
        "     - Location\n",
        "     - Age\n",
        "     - AboutMe\n",
        "     - Views\n",
        "     - UpVotes\n",
        "     - DownVotes\n",
        "   - **votes**.xml\n",
        "     - Id\n",
        "     - PostId\n",
        "     - VoteTypeId\n",
        "        - ` 1`: AcceptedByOriginator\n",
        "        - ` 2`: UpMod\n",
        "        - ` 3`: DownMod\n",
        "        - ` 4`: Offensive\n",
        "        - ` 5`: Favorite - if VoteTypeId = 5 UserId will be populated\n",
        "        - ` 6`: Close\n",
        "        - ` 7`: Reopen\n",
        "        - ` 8`: BountyStart\n",
        "        - ` 9`: BountyClose\n",
        "        - `10`: Deletion\n",
        "        - `11`: Undeletion\n",
        "        - `12`: Spam\n",
        "        - `13`: InformModerator\n",
        "     - CreationDate\n",
        "     - UserId (only for VoteTypeId 5)\n",
        "     - BountyAmount (only for VoteTypeId 9)"
      ]
    },
    {
      "cell_type": "markdown",
      "metadata": {
        "id": "Ogw9l3Kqia9D"
      },
      "source": [
        "Descargar todos los CSVs:"
      ]
    },
    {
      "cell_type": "code",
      "execution_count": null,
      "metadata": {
        "id": "mhZ03RLLia9E"
      },
      "outputs": [],
      "source": [
        "!wget https://github.com/dsevilla/bd2-data/raw/main/es.stackoverflow/es.stackoverflow.csv.7z.001 -O - > es.stackoverflow.csv.7z\n",
        "!wget https://github.com/dsevilla/bd2-data/raw/main/es.stackoverflow/es.stackoverflow.csv.7z.002 -O - >> es.stackoverflow.csv.7z"
      ]
    },
    {
      "cell_type": "code",
      "execution_count": null,
      "metadata": {
        "id": "KfqUMa0Sia9F"
      },
      "outputs": [],
      "source": [
        "!7zr x -aoa es.stackoverflow.csv.7z\n",
        "!rm es.stackoverflow.csv.7z"
      ]
    },
    {
      "cell_type": "code",
      "execution_count": null,
      "metadata": {
        "id": "sY2MeKOmia9F"
      },
      "outputs": [],
      "source": [
        "%%sql\n",
        "DROP SCHEMA IF EXISTS stackoverflow;\n",
        "CREATE SCHEMA stackoverflow CHARACTER SET utf8mb4 COLLATE utf8mb4_unicode_ci;"
      ]
    },
    {
      "cell_type": "code",
      "execution_count": null,
      "metadata": {
        "id": "pdoUtA43ia9F"
      },
      "outputs": [],
      "source": [
        "%%sql\n",
        "USE stackoverflow;"
      ]
    },
    {
      "cell_type": "markdown",
      "metadata": {
        "id": "qsOR5Vb7ia9G"
      },
      "source": [
        "Se tiene que habilitar esto para que se permita importar CSVs."
      ]
    },
    {
      "cell_type": "code",
      "execution_count": null,
      "metadata": {
        "id": "pKM91tI9ia9G"
      },
      "outputs": [],
      "source": [
        "%%sql\n",
        "SET GLOBAL local_infile = true;"
      ]
    },
    {
      "cell_type": "code",
      "execution_count": null,
      "metadata": {
        "id": "uivikQvyia9G"
      },
      "outputs": [],
      "source": [
        "%%sql\n",
        "DROP TABLE IF EXISTS PostsPart;\n",
        "CREATE TABLE PostsPart (\n",
        "    Id INT,\n",
        "    AcceptedAnswerId INT NULL DEFAULT NULL,\n",
        "    AnswerCount INT DEFAULT 0,\n",
        "    Body TEXT,\n",
        "    ClosedDate DATETIME(6) NULL DEFAULT NULL,\n",
        "    CommentCount INT DEFAULT 0,\n",
        "    CommunityOwnedDate DATETIME(6) NULL DEFAULT NULL,\n",
        "    ContentLicense TEXT NULL DEFAULT NULL,\n",
        "    CreationDate DATETIME(6) NULL DEFAULT NULL,\n",
        "    FavoriteCount INT DEFAULT 0,\n",
        "    LastActivityDate DATETIME(6) NULL DEFAULT NULL,\n",
        "    LastEditDate DATETIME(6) NULL DEFAULT NULL,\n",
        "    LastEditorDisplayName TEXT,\n",
        "    LastEditorUserId INT NULL DEFAULT NULL,\n",
        "    OwnerDisplayName TEXT,\n",
        "    OwnerUserId INT NULL DEFAULT NULL,\n",
        "    ParentId INT NULL DEFAULT NULL,\n",
        "    PostTypeId INT, -- 1 = Question, 2 = Answer\n",
        "    Score INT DEFAULT 0,\n",
        "    Tags TEXT,\n",
        "    Title TEXT,\n",
        "    ViewCount INT DEFAULT 0,\n",
        "    PRIMARY KEY(Id)\n",
        ")\n",
        "CHARACTER SET utf8mb4 COLLATE utf8mb4_unicode_ci\n",
        "PARTITION BY KEY(Id)\n",
        "PARTITIONS 6;"
      ]
    },
    {
      "cell_type": "code",
      "execution_count": null,
      "metadata": {
        "id": "a06C4Clwia9G"
      },
      "outputs": [],
      "source": [
        "%%sql\n",
        "LOAD DATA LOCAL INFILE \"Posts.csv\" INTO TABLE PostsPart\n",
        "CHARACTER SET utf8mb4\n",
        "COLUMNS TERMINATED BY ','\n",
        "OPTIONALLY ENCLOSED BY '\"'\n",
        "ESCAPED BY '\"'\n",
        "LINES TERMINATED BY '\\r\\n'\n",
        "IGNORE 1 LINES\n",
        "(Id,\n",
        "@AcceptedAnswerId,\n",
        "@AnswerCount,\n",
        "Body,\n",
        "@ClosedDate,\n",
        "@CommentCount,\n",
        "@CommunityOwnedDate,\n",
        "ContentLicense,\n",
        "CreationDate,\n",
        "@FavoriteCount,\n",
        "@LastActivityDate,\n",
        "@LastEditDate,\n",
        "LastEditorDisplayName,\n",
        "@LastEditorUserId,\n",
        "OwnerDisplayName,\n",
        "@OwnerUserId,\n",
        "@ParentId,\n",
        "PostTypeId,\n",
        "Score,\n",
        "Tags,\n",
        "Title,\n",
        "@ViewCount)\n",
        "SET ParentId = nullif (@ParentId, ''),\n",
        "ClosedDate = nullif(@ClosedDate, ''),\n",
        "LastEditorUserId = nullif(@OLastEditorUserId, ''),\n",
        "LastActivityDate = nullif(@LastActivityDate, ''),\n",
        "LastEditDate = nullif(@LastEditDate, ''),\n",
        "AcceptedAnswerId = nullif (@AcceptedAnswerId, ''),\n",
        "OwnerUserId = nullif(@OwnerUserId, ''),\n",
        "LastEditorUserId = nullif(@LastEditorUserId, ''),\n",
        "CommunityOwnedDate = nullif(@CommunityOwnedDate, ''),\n",
        "FavoriteCount = if(@FavoriteCount = '',0,@FavoriteCount),\n",
        "CommentCount = if(@CommentCount = '',0,@CommentCount),\n",
        "ViewCount = if(@ViewCount = '',0,@ViewCount),\n",
        "AnswerCount = if(@AnswerCount = '',0,@AnswerCount)\n",
        ";"
      ]
    },
    {
      "cell_type": "code",
      "execution_count": null,
      "metadata": {
        "id": "KqGHcW8Yia9H"
      },
      "outputs": [],
      "source": [
        "%%sql\n",
        "select count(*) from PostsPart;"
      ]
    },
    {
      "cell_type": "code",
      "execution_count": null,
      "metadata": {
        "id": "42F0tPgfia9H"
      },
      "outputs": [],
      "source": [
        "%%sql\n",
        "select Id,Title,CreationDate from PostsPart LIMIT 2;"
      ]
    },
    {
      "cell_type": "code",
      "execution_count": null,
      "metadata": {
        "id": "OJL6M307ia9I"
      },
      "outputs": [],
      "source": [
        "%%sql\n",
        "DROP TABLE IF EXISTS Users;\n",
        "CREATE TABLE Users (\n",
        "    Id INT,\n",
        "    AboutMe TEXT,\n",
        "    AccountId INT,\n",
        "    CreationDate DATETIME(6) NULL DEFAULT NULL,\n",
        "    DisplayName TEXT,\n",
        "    DownVotes INT DEFAULT 0,\n",
        "    LastAccessDate DATETIME(6) NULL DEFAULT NULL,\n",
        "    Location TEXT,\n",
        "    Reputation INT DEFAULT 0,\n",
        "    UpVotes INT DEFAULT 0,\n",
        "    Views INT DEFAULT 0,\n",
        "    WebsiteUrl TEXT,\n",
        "    PRIMARY KEY(Id)\n",
        ")\n",
        "CHARACTER SET utf8mb4 COLLATE utf8mb4_unicode_ci;"
      ]
    },
    {
      "cell_type": "code",
      "execution_count": null,
      "metadata": {
        "id": "L6XDaxmdia9I"
      },
      "outputs": [],
      "source": [
        "%%sql\n",
        "LOAD DATA LOCAL INFILE \"Users.csv\" INTO TABLE Users\n",
        "CHARACTER SET utf8mb4\n",
        "COLUMNS TERMINATED BY ','\n",
        "OPTIONALLY ENCLOSED BY '\"'\n",
        "ESCAPED BY '\"'\n",
        "LINES TERMINATED BY '\\r\\n'\n",
        "IGNORE 1 LINES\n",
        "(Id,AboutMe,@AccountId,@CreationDate,DisplayName,DownVotes,LastAccessDate,Location,\n",
        " Reputation,UpVotes,Views,WebsiteUrl)\n",
        "SET LastAccessDate = nullif(@LastAccessDate,''),\n",
        "CreationDate = nullif(@CreationDate,''),\n",
        "AccountId = nullif(@AccountId, '')\n",
        ";"
      ]
    },
    {
      "cell_type": "code",
      "execution_count": null,
      "metadata": {
        "id": "LS-gnfQ4ia9I"
      },
      "outputs": [],
      "source": [
        "%%sql\n",
        "select count(*) from Users;"
      ]
    },
    {
      "cell_type": "code",
      "execution_count": null,
      "metadata": {
        "id": "CVqK7ImFia9I"
      },
      "outputs": [],
      "source": [
        "%%sql\n",
        "select * from Users LIMIT 2;"
      ]
    },
    {
      "cell_type": "code",
      "execution_count": null,
      "metadata": {
        "id": "GBqbR8AEia9J"
      },
      "outputs": [],
      "source": [
        "%%sql\n",
        "DROP TABLE IF EXISTS Tags;\n",
        "CREATE TABLE Tags (\n",
        "    Id INT,\n",
        "    Count INT DEFAULT 0,\n",
        "    ExcerptPostId INT NULL DEFAULT NULL,\n",
        "    TagName TEXT,\n",
        "    WikiPostId INT NULL DEFAULT NULL,\n",
        "    PRIMARY KEY(Id)\n",
        ")\n",
        "CHARACTER SET utf8mb4 COLLATE utf8mb4_unicode_ci;"
      ]
    },
    {
      "cell_type": "code",
      "execution_count": null,
      "metadata": {
        "id": "l9zMkbTwia9J"
      },
      "outputs": [],
      "source": [
        "%%sql\n",
        "LOAD DATA LOCAL INFILE \"Tags.csv\" INTO TABLE Tags\n",
        "CHARACTER SET utf8mb4\n",
        "COLUMNS TERMINATED BY ','\n",
        "OPTIONALLY ENCLOSED BY '\"'\n",
        "ESCAPED BY '\"'\n",
        "LINES TERMINATED BY '\\r\\n'\n",
        "IGNORE 1 LINES\n",
        "(Id,Count,@ExcerptPostId,TagName,@WikiPostId)\n",
        "SET WikiPostId = nullif(@WikiPostId, ''),\n",
        "ExcerptPostId = nullif(@ExcerptPostId, '')\n",
        ";"
      ]
    },
    {
      "cell_type": "code",
      "execution_count": null,
      "metadata": {
        "id": "7-pi35GHia9K"
      },
      "outputs": [],
      "source": [
        "%%sql\n",
        "DROP TABLE IF EXISTS Comments;\n",
        "CREATE TABLE Comments (\n",
        "    Id INT,\n",
        "    ContentLicense TEXT NULL DEFAULT NULL,\n",
        "    CreationDate DATETIME(6) NULL DEFAULT NULL,\n",
        "    PostId INT NULL DEFAULT NULL,\n",
        "    Score INT DEFAULT 0,\n",
        "    Text TEXT,\n",
        "    UserDisplayName TEXT,\n",
        "    UserId INT NULL DEFAULT NULL,\n",
        "    PRIMARY KEY(Id)\n",
        ")\n",
        "CHARACTER SET utf8mb4 COLLATE utf8mb4_unicode_ci;"
      ]
    },
    {
      "cell_type": "code",
      "execution_count": null,
      "metadata": {
        "id": "JbeplPoyia9K"
      },
      "outputs": [],
      "source": [
        "%%sql\n",
        "LOAD DATA LOCAL INFILE \"Comments.csv\" INTO TABLE Comments\n",
        "CHARACTER SET utf8mb4\n",
        "COLUMNS TERMINATED BY ','\n",
        "OPTIONALLY ENCLOSED BY '\"'\n",
        "ESCAPED BY '\"'\n",
        "LINES TERMINATED BY '\\r\\n'\n",
        "IGNORE 1 LINES\n",
        "(Id,ContentLicense,@CreationDate,@PostId,Score,Text,@UserDisplayName,@UserId)\n",
        "SET UserId = nullif(@UserId, ''),\n",
        "PostId = nullif(@PostId, ''),\n",
        "CreationDate = nullif(@CreationDate,''),\n",
        "UserDisplayName = nullif(@UserDisplayName,'')\n",
        ";"
      ]
    },
    {
      "cell_type": "code",
      "execution_count": null,
      "metadata": {
        "id": "nTiHSn-kia9K"
      },
      "outputs": [],
      "source": [
        "%%sql\n",
        "SELECT Count(*) FROM Comments;"
      ]
    },
    {
      "cell_type": "code",
      "execution_count": null,
      "metadata": {
        "id": "GhSn2Aepia9L"
      },
      "outputs": [],
      "source": [
        "%%sql\n",
        "SELECT * FROM Comments LIMIT 2;"
      ]
    },
    {
      "cell_type": "code",
      "execution_count": null,
      "metadata": {
        "id": "QU1teBVtia9L"
      },
      "outputs": [],
      "source": [
        "%%sql\n",
        "DROP TABLE IF EXISTS Votes;\n",
        "CREATE TABLE Votes (\n",
        "    Id INT,\n",
        "    BountyAmount INT DEFAULT 0,\n",
        "    CreationDate DATETIME(6) NULL DEFAULT NULL,\n",
        "    PostId INT NULL DEFAULT NULL,\n",
        "    UserId INT NULL DEFAULT NULL,\n",
        "    VoteTypeId INT,\n",
        "    PRIMARY KEY(Id)\n",
        ")\n",
        "CHARACTER SET utf8mb4 COLLATE utf8mb4_unicode_ci;"
      ]
    },
    {
      "cell_type": "code",
      "execution_count": null,
      "metadata": {
        "id": "DZAolsSuia9M"
      },
      "outputs": [],
      "source": [
        "%%sql\n",
        "LOAD DATA LOCAL INFILE \"Votes.csv\" INTO TABLE Votes\n",
        "CHARACTER SET utf8mb4\n",
        "COLUMNS TERMINATED BY ','\n",
        "OPTIONALLY ENCLOSED BY '\"'\n",
        "ESCAPED BY '\"'\n",
        "LINES TERMINATED BY '\\r\\n'\n",
        "IGNORE 1 LINES\n",
        "(Id,@BountyAmount,@CreationDate,@PostId,@UserId,VoteTypeId)\n",
        "SET UserId = nullif(@UserId, ''),\n",
        "PostId = nullif(@PostId, ''),\n",
        "BountyAmount = if(@BountyAmount = '',0,@BountyAmount),\n",
        "CreationDate = nullif(@CreationDate, '')\n",
        ";"
      ]
    },
    {
      "cell_type": "code",
      "execution_count": null,
      "metadata": {
        "id": "eO4mrhRuwo7k"
      },
      "outputs": [],
      "source": [
        "%%sql\n",
        "USE stackoverflow"
      ]
    },
    {
      "cell_type": "code",
      "execution_count": null,
      "metadata": {
        "id": "yXgw0XUSwo7q"
      },
      "outputs": [],
      "source": [
        "%%sql\n",
        "SHOW TABLES;"
      ]
    },
    {
      "cell_type": "code",
      "execution_count": null,
      "metadata": {
        "id": "-G_Gub7Pwo70"
      },
      "outputs": [],
      "source": [
        "%%sql\n",
        "EXPLAIN SELECT * FROM PostsPart;"
      ]
    },
    {
      "cell_type": "code",
      "execution_count": null,
      "metadata": {
        "id": "tJF9D1uTwo7_"
      },
      "outputs": [],
      "source": [
        "%%sql\n",
        "EXPLAIN SELECT * FROM PostsPart WHERE Id = 5;"
      ]
    },
    {
      "cell_type": "code",
      "execution_count": null,
      "metadata": {
        "id": "LUMrooU-wo8F",
        "scrolled": true
      },
      "outputs": [],
      "source": [
        "%%sql\n",
        "SELECT * FROM PostsPart PARTITION(p0) LIMIT 10;"
      ]
    },
    {
      "cell_type": "code",
      "execution_count": null,
      "metadata": {
        "id": "Ski3lcF3wo8N"
      },
      "outputs": [],
      "source": [
        "%%sql\n",
        "DROP TABLE IF EXISTS Posts;\n",
        "CREATE TABLE Posts AS SELECT * FROM PostsPart;"
      ]
    },
    {
      "cell_type": "code",
      "execution_count": null,
      "metadata": {
        "id": "YaYqdd0Owo8U"
      },
      "outputs": [],
      "source": [
        "%%sql\n",
        "DESCRIBE Posts;"
      ]
    },
    {
      "cell_type": "code",
      "execution_count": null,
      "metadata": {
        "id": "yaTnf9X5ia9O"
      },
      "outputs": [],
      "source": [
        "from sqlalchemy import text, create_engine\n",
        "from typing import Any\n",
        "from concurrent.futures import Future, ThreadPoolExecutor,as_completed\n",
        "import os\n",
        "\n",
        "class BackgroundExecution:\n",
        "  def __init__(self):\n",
        "    self.engine = create_engine(os.getenv(\"DATABASE_URL\") or \"ERROR\")\n",
        "    self.executor = ThreadPoolExecutor(max_workers=5)\n",
        "    self.futures: list[Future] = []\n",
        "\n",
        "  def _execute_query(self, query):\n",
        "    with self.engine.connect() as connection:\n",
        "      result = connection.execute(query)\n",
        "      if result.returns_rows:\n",
        "        return result.fetchall()\n",
        "      return result.rowcount\n",
        "\n",
        "  def pending_futures(self) -> list[Future]:\n",
        "    return [f for f in self.futures if not f.done()]\n",
        "\n",
        "  def all_done(self) -> bool:\n",
        "    return all([f.done() for f in self.futures])\n",
        "\n",
        "  def get_results(self) -> list[Any]:\n",
        "    return [f.result() for f in as_completed(self.futures)]\n",
        "\n",
        "  def execute_background_queries(self, queries: list[str]) -> list[Future]:\n",
        "    \"\"\"\n",
        "    Execute the set of background queries in parallel, returning the list of futures\n",
        "    \"\"\"\n",
        "    # Use a thread pool executor to execute the queries in parallel\n",
        "    self.futures = [self.executor.submit(lambda q: self._execute_query(text(q)), query) for query in queries]\n",
        "    return self.futures\n",
        "\n",
        "  def get_futures(self) -> list[Future]:\n",
        "    return self.futures\n",
        "\n",
        "  def close(self):\n",
        "    self.executor.shutdown()\n",
        "    self.engine.dispose()\n"
      ]
    },
    {
      "cell_type": "code",
      "execution_count": null,
      "metadata": {
        "id": "Qi7xjsW4wo8c"
      },
      "outputs": [],
      "source": [
        "alter_table_posts = BackgroundExecution()\n",
        "alter_table_posts.execute_background_queries([\n",
        "'''\n",
        "ALTER TABLE stackoverflow.Posts ADD PRIMARY KEY (Id);\n",
        "''',\n",
        "'''\n",
        "ALTER TABLE stackoverflow.Posts ADD FOREIGN KEY(OwnerUserId) REFERENCES stackoverflow.Users(Id),\n",
        "                                ADD FOREIGN KEY(ParentId) REFERENCES stackoverflow.Posts(Id)\n",
        ";\n",
        "'''\n",
        "])"
      ]
    },
    {
      "cell_type": "markdown",
      "metadata": {
        "id": "moKPVJtQwo8p"
      },
      "source": [
        "Creamos un índice full-text para Tags de Posts."
      ]
    },
    {
      "cell_type": "code",
      "execution_count": null,
      "metadata": {
        "id": "RL1v8nx4ia9P"
      },
      "outputs": [],
      "source": [
        "full_text_index_posts_tags = BackgroundExecution()\n",
        "full_text_index_posts_tags.execute_background_queries([\n",
        "'''\n",
        "CREATE FULLTEXT INDEX idx_tags ON stackoverflow.Posts(Tags);\n",
        "'''\n",
        "])"
      ]
    },
    {
      "cell_type": "code",
      "execution_count": null,
      "metadata": {
        "id": "e1h1zCuuwo8r",
        "scrolled": true
      },
      "outputs": [],
      "source": [
        "full_text_index_posts_tags.all_done()"
      ]
    },
    {
      "cell_type": "code",
      "execution_count": null,
      "metadata": {
        "id": "2mTRXum-ia9Q"
      },
      "outputs": [],
      "source": [
        "# OJO: Se esperan los resultados de las queries para que se ejecuten\n",
        "full_text_index_posts_tags.get_results()"
      ]
    },
    {
      "cell_type": "code",
      "execution_count": null,
      "metadata": {
        "id": "pw48cIViwo8_",
        "scrolled": true
      },
      "outputs": [],
      "source": [
        "%%sql\n",
        "EXPLAIN SELECT * FROM Posts WHERE MATCH(Tags) AGAINST ('java');"
      ]
    },
    {
      "cell_type": "code",
      "execution_count": null,
      "metadata": {
        "id": "eoENt9Lowo9F",
        "scrolled": true
      },
      "outputs": [],
      "source": [
        "%%sql\n",
        "EXPLAIN SELECT COUNT(*) FROM Posts WHERE MATCH(Tags) AGAINST ('java');"
      ]
    },
    {
      "cell_type": "code",
      "execution_count": null,
      "metadata": {
        "id": "J7gVe9n9wo9f",
        "scrolled": true
      },
      "outputs": [],
      "source": [
        "%%sql\n",
        "EXPLAIN SELECT * FROM Posts WHERE Tags LIKE '%java%';"
      ]
    },
    {
      "cell_type": "code",
      "execution_count": null,
      "metadata": {
        "id": "Om8lYk26wo83",
        "scrolled": true
      },
      "outputs": [],
      "source": [
        "%timeit %sql SELECT * FROM Posts WHERE MATCH(Tags) AGAINST ('java');"
      ]
    },
    {
      "cell_type": "code",
      "execution_count": null,
      "metadata": {
        "id": "7EOuKx5Jwo8z",
        "scrolled": true
      },
      "outputs": [],
      "source": [
        "%timeit %sql SELECT * FROM Posts WHERE Tags LIKE '%java%';"
      ]
    },
    {
      "cell_type": "code",
      "execution_count": null,
      "metadata": {},
      "outputs": [],
      "source": [
        "# Comprobar si ha terminado la ejecución de las queries\n",
        "alter_table_posts.all_done()"
      ]
    },
    {
      "cell_type": "markdown",
      "metadata": {
        "id": "OaEiQBAjwo9l"
      },
      "source": [
        "## Decline de Stackoverflow\n",
        "\n",
        "En [esta dirección](https://hackernoon.com/the-decline-of-stack-overflow-7cb69faa575d#.pbf8nmlwx) se habla del decline de Stackoverflow. Por ejemplo, se habla de que el 77% de los usuarios sólo hacen una pregunta, que el 65% sólo responde a una pregunta y que sólo el 8% de los usuarios responden a más de una pregunta.\n",
        "\n",
        "Los siguientes ejercicios están orientados a ver si esto también se cumple en stackoverflow en español.\n",
        "\n",
        "En el artículo, se habla de una referencia, que se muestra a continuación. En una página web se listan un conjunto de trabajos de investigación que utilizan el conjunto de datos de stackoveflow para hacer estudios. La idea es reproducir esos resultados y ver cómo se comparan con los de español. Se muestran dos artículos."
      ]
    },
    {
      "cell_type": "markdown",
      "metadata": {
        "id": "eZuzFzZhwo9m"
      },
      "source": [
        "## Estudio empírico de Stackoverflow\n",
        "\n",
        "Artículo que se puede encontrar [aquí](http://ink.library.smu.edu.sg/cgi/viewcontent.cgi?article=2810&context=sis_research). La fuente original que lista varios artículos con fuente en los datos de Stackoverflow se puede ver [aquí](http://www.stackprinter.com/export?service=meta.stackoverflow&question=134495&printer=false&linktohome=true)."
      ]
    },
    {
      "cell_type": "code",
      "execution_count": null,
      "metadata": {
        "id": "ibOG-eCowo9o"
      },
      "outputs": [],
      "source": [
        "# http://stackoverflow.com/questions/19470099/view-pdf-image-in-an-ipython-notebook\n",
        "class PDF(object):\n",
        "  def __init__(self, pdf, size=(200,200)):\n",
        "    self.pdf = pdf\n",
        "    self.size = size\n",
        "\n",
        "  def _repr_html_(self):\n",
        "    return '<iframe src={0} width={1[0]} height={1[1]}></iframe>'.format(self.pdf, self.size)\n",
        "\n",
        "  def _repr_latex_(self):\n",
        "    return r'\\includegraphics[width=\\textwidth]{{{0}}}'.format(self.pdf)"
      ]
    },
    {
      "cell_type": "code",
      "execution_count": null,
      "metadata": {
        "id": "zRlDoOWqwo9w"
      },
      "outputs": [],
      "source": [
        "PDF('http://ink.library.smu.edu.sg/cgi/viewcontent.cgi?article=2810&context=sis_research',size=(800,600))"
      ]
    },
    {
      "cell_type": "markdown",
      "metadata": {
        "id": "KLNNZCzswo96"
      },
      "source": [
        "# EJERCICIO: Mostrar cómo conseguir RQ1, RQ2, RQ3 y RQ4 (tablas y gráficas) del artículo anterior, y ver si la tendencia también se repite en Stackoverflow en español"
      ]
    },
    {
      "cell_type": "markdown",
      "metadata": {
        "id": "M4JqtKjCwo-D"
      },
      "source": [
        "# EJERCICIO (E1): Idear las tablas e índices necesarios para que la consulta de: dados un usuario y un tag (dado como su ID de tag), se pueda saber de la forma más rápida:\n",
        "\n",
        "1. Qué posts tiene ese usuario de ese tag, y también,\n",
        "2. Dado un tag, saber qué usuarios han preguntado sobre ese tag.\n",
        "\n",
        "Rellenar las tablas. Mostrar con un EXPLAIN que realmente no se usa una búsqueda secuencial sobre la tabla."
      ]
    },
    {
      "cell_type": "code",
      "execution_count": null,
      "metadata": {
        "id": "lHImFwj6wo-D"
      },
      "outputs": [],
      "source": []
    },
    {
      "cell_type": "markdown",
      "metadata": {
        "id": "NSHsn8vlwo-I"
      },
      "source": [
        "# EJERCICIO (E2): Crear una tabla de hechos `StackOverflowFacts` que incluya y ordene, por el campo `CreationDate`, todos los eventos de los datos obtenidos, Posts (diferenciad entre la creación de una pregunta y una respuesta), Users, Votes, Comments. Téngase en cuenta como se vió que puede haber información (p. ej. en la tabla Votes) que no mantenga la integridad referencial. Defina las claves ajenas y los índices que considere necesarios."
      ]
    },
    {
      "cell_type": "code",
      "execution_count": null,
      "metadata": {
        "id": "DpZ4Agukwo-J"
      },
      "outputs": [],
      "source": []
    },
    {
      "cell_type": "markdown",
      "metadata": {
        "id": "rebPemPWwo-N"
      },
      "source": [
        "# EJERCICIO (E3): Con la información de la tabla `StackOverflowFacts` (y sólo con esta), escriba una consulta SQL que calcule el tiempo medio en segundos, para todas las preguntas, entre la pregunta y su primera respuesta (si no tiene respuestas se ignora para el cálculo), y también entre la pregunta y la respuesta aceptada (si no tiene respuesta aceptada se ignora para el cálculo)"
      ]
    },
    {
      "cell_type": "code",
      "execution_count": null,
      "metadata": {
        "id": "B_4bZ-N2wo-O"
      },
      "outputs": [],
      "source": []
    },
    {
      "cell_type": "markdown",
      "metadata": {
        "id": "TLpkVSiRwo-T"
      },
      "source": [
        "# EJERCICIO (E4): Muestre un histograma de tiempo hasta la primera respuesta que clasifique a las preguntas en grupos de número de días desde que se hace la pregunta hasta la primera respuesta el último periodo como \"una semana o más\""
      ]
    },
    {
      "cell_type": "code",
      "execution_count": null,
      "metadata": {
        "id": "pEwP4VqCO1JZ"
      },
      "outputs": [],
      "source": []
    }
  ],
  "metadata": {
    "colab": {
      "name": "sesion2.ipynb",
      "provenance": []
    },
    "kernelspec": {
      "display_name": "Python 3 (ipykernel)",
      "language": "python",
      "name": "python3"
    },
    "language_info": {
      "codemirror_mode": {
        "name": "ipython",
        "version": 3
      },
      "file_extension": ".py",
      "mimetype": "text/x-python",
      "name": "python",
      "nbconvert_exporter": "python",
      "pygments_lexer": "ipython3",
      "version": "3.9.6"
    }
  },
  "nbformat": 4,
  "nbformat_minor": 0
}
