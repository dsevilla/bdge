{
  "cells": [
    {
      "cell_type": "markdown",
      "metadata": {
        "id": "view-in-github",
        "colab_type": "text"
      },
      "source": [
        "<a href=\"https://colab.research.google.com/github/dsevilla/bdge/blob/23-24/mongo/sesion3.ipynb\" target=\"_parent\"><img src=\"https://colab.research.google.com/assets/colab-badge.svg\" alt=\"Open In Colab\"/></a>"
      ]
    },
    {
      "cell_type": "markdown",
      "metadata": {
        "id": "rMc4yQncXK2N"
      },
      "source": [
        "# NoSQL (MongoDB) (sesión 3)\n"
      ]
    },
    {
      "cell_type": "markdown",
      "metadata": {
        "id": "ZbikzCBUXK2P"
      },
      "source": [
        "![MongoDB](https://webassets.mongodb.com/_com_assets/cms/MongoDB_Logo_FullColorBlack_RGB-4td3yuxzjs.png)\n",
        "\n",
        "Esta hoja muestra cómo acceder a bases de datos MongoDB y también a conectar la salida con Jupyter. Se puede utilizar el *shell* propio de MongoDB en el contenedor usando el programa `mongo`. La diferencia es que ese programa espera código Javascript y aquí trabajaremos con Python."
      ]
    },
    {
      "cell_type": "markdown",
      "metadata": {
        "id": "4DEamgKU-TiK"
      },
      "source": [
        "## Instalación inicial de MongoDB (no necesaria si se utiliza Docker en local)\n"
      ]
    },
    {
      "cell_type": "code",
      "source": [
        "RunningInCOLAB = 'google.colab' in str(get_ipython()) if hasattr(__builtins__,'__IPYTHON__') else False"
      ],
      "metadata": {
        "id": "x9-RN4ZSY5o9"
      },
      "execution_count": null,
      "outputs": []
    },
    {
      "cell_type": "code",
      "source": [
        "db_hostname = \"localhost\" if RunningInCOLAB else \"mongo\""
      ],
      "metadata": {
        "id": "n5BdH3KOZA47"
      },
      "execution_count": null,
      "outputs": []
    },
    {
      "cell_type": "code",
      "source": [
        "!wget -qO - https://www.mongodb.org/static/pgp/server-6.0.asc | sudo gpg --dearmor > /etc/apt/trusted.gpg.d/mongo-server-6.gpg"
      ],
      "metadata": {
        "id": "J2M97e3BfQfB"
      },
      "execution_count": null,
      "outputs": []
    },
    {
      "cell_type": "code",
      "execution_count": null,
      "metadata": {
        "id": "LxPjolcjjRPv"
      },
      "outputs": [],
      "source": [
        "%%bash\n",
        "sudo adduser --system --no-create-home mongodb\n",
        "sudo addgroup --system mongodb\n",
        "sudo adduser mongodb mongodb\n",
        "\n",
        "# create db -- note: this should agree with dbpath in mongod.conf\n",
        "if [ ! -d /var/lib/mongodb ]; then\n",
        "  sudo mkdir -p /var/lib/mongodb\n",
        "  sudo chown mongodb:mongodb /var/lib/mongodb\n",
        "fi\n",
        "\n",
        "# create logdir -- note: this should agree with logpath in mongod.conf\n",
        "if [ ! -d /var/log/mongodb ]; then\n",
        "  sudo mkdir -p /var/log/mongodb\n",
        "  sudo chown mongodb:mongodb /var/log/mongodb\n",
        "fi"
      ]
    },
    {
      "cell_type": "code",
      "execution_count": null,
      "metadata": {
        "id": "TUqh2wrue14R"
      },
      "outputs": [],
      "source": [
        "!echo \"deb [ arch=amd64,arm64 ] https://repo.mongodb.org/apt/ubuntu jammy/mongodb-org/6.0 multiverse\" | sudo tee /etc/apt/sources.list.d/mongodb-org-6.0.list"
      ]
    },
    {
      "cell_type": "code",
      "execution_count": null,
      "metadata": {
        "id": "eYZiYC5KfAgT"
      },
      "outputs": [],
      "source": [
        "!sudo apt-get update -qq"
      ]
    },
    {
      "cell_type": "code",
      "execution_count": null,
      "metadata": {
        "id": "olxoLhh4ai9T"
      },
      "outputs": [],
      "source": [
        "!sudo ln -sf /bin/true /bin/systemctl"
      ]
    },
    {
      "cell_type": "code",
      "execution_count": null,
      "metadata": {
        "id": "ksbGiW3pf_mQ"
      },
      "outputs": [],
      "source": [
        "!sudo apt-get install -y -qq dialog mongodb-org"
      ]
    },
    {
      "cell_type": "code",
      "execution_count": null,
      "metadata": {
        "id": "JpRH8JIrktfm"
      },
      "outputs": [],
      "source": [
        "!sudo /usr/bin/mongod --config /etc/mongod.conf --fork"
      ]
    },
    {
      "cell_type": "code",
      "execution_count": null,
      "metadata": {
        "id": "tmkqwbidaynX"
      },
      "outputs": [],
      "source": [
        "!sudo mongod --version"
      ]
    },
    {
      "cell_type": "markdown",
      "metadata": {
        "id": "GaTsWPro-oOG"
      },
      "source": [
        "## Inicio de la hoja\n"
      ]
    },
    {
      "cell_type": "code",
      "execution_count": null,
      "metadata": {
        "id": "xE0Sl869XK2Y"
      },
      "outputs": [],
      "source": [
        "!pip install --upgrade pymongo"
      ]
    },
    {
      "cell_type": "code",
      "execution_count": null,
      "metadata": {
        "id": "C0Le2anDXK2k"
      },
      "outputs": [],
      "source": [
        "from pprint import pprint as pp\n",
        "import pandas as pd\n",
        "import matplotlib.pyplot as plt\n",
        "import matplotlib\n",
        "\n",
        "%matplotlib inline\n",
        "matplotlib.style.use('ggplot')"
      ]
    },
    {
      "cell_type": "markdown",
      "metadata": {
        "id": "O92AlPcMXK2r"
      },
      "source": [
        "Usaremos la librería `pymongo` para python. La cargamos a continuación."
      ]
    },
    {
      "cell_type": "code",
      "execution_count": null,
      "metadata": {
        "id": "Pc7akqe0XK2t"
      },
      "outputs": [],
      "source": [
        "import pymongo\n",
        "from pymongo import MongoClient"
      ]
    },
    {
      "cell_type": "markdown",
      "metadata": {
        "id": "mkiP6rzXXK2z"
      },
      "source": [
        "La conexión se inicia con `MongoClient` en el `host` descrito en el fichero `docker-compose.yml` (`mongo`)."
      ]
    },
    {
      "cell_type": "code",
      "execution_count": null,
      "metadata": {
        "id": "s4BiT5o9XK20"
      },
      "outputs": [],
      "source": [
        "client = MongoClient(db_hostname,27017)\n",
        "client"
      ]
    },
    {
      "cell_type": "code",
      "execution_count": null,
      "metadata": {
        "id": "3xqmSSGdXK25"
      },
      "outputs": [],
      "source": [
        "client.list_database_names()"
      ]
    },
    {
      "cell_type": "markdown",
      "metadata": {
        "id": "aavQysLzXK2-"
      },
      "source": [
        " - Format: 7zipped\n",
        " - Files:\n",
        "   - **badges**.xml\n",
        "       - UserId, e.g.: \"420\"\n",
        "       - Name, e.g.: \"Teacher\"\n",
        "       - Date, e.g.: \"2008-09-15T08:55:03.923\"\n",
        "   - **comments**.xml\n",
        "       - Id\n",
        "       - PostId\n",
        "       - Score\n",
        "       - Text, e.g.: \"@Stu Thompson: Seems possible to me - why not try it?\"\n",
        "       - CreationDate, e.g.:\"2008-09-06T08:07:10.730\"\n",
        "       - UserId\n",
        "   - **posts**.xml\n",
        "       - Id\n",
        "       - PostTypeId\n",
        "          - 1: Question\n",
        "          - 2: Answer\n",
        "       - ParentID (only present if PostTypeId is 2)\n",
        "       - AcceptedAnswerId (only present if PostTypeId is 1)\n",
        "       - CreationDate\n",
        "       - Score\n",
        "       - ViewCount\n",
        "       - Body\n",
        "       - OwnerUserId\n",
        "       - LastEditorUserId\n",
        "       - LastEditorDisplayName=\"Jeff Atwood\"\n",
        "       - LastEditDate=\"2009-03-05T22:28:34.823\"\n",
        "       - LastActivityDate=\"2009-03-11T12:51:01.480\"\n",
        "       - CommunityOwnedDate=\"2009-03-11T12:51:01.480\"\n",
        "       - ClosedDate=\"2009-03-11T12:51:01.480\"\n",
        "       - Title=\n",
        "       - Tags=\n",
        "       - AnswerCount\n",
        "       - CommentCount\n",
        "       - FavoriteCount\n",
        "   - **posthistory**.xml\n",
        "\t   - Id\n",
        "\t   - PostHistoryTypeId\n",
        "\t\t\t- 1: Initial Title - The first title a question is asked with.\n",
        "\t\t\t- 2: Initial Body - The first raw body text a post is submitted with.\n",
        "\t\t\t- 3: Initial Tags - The first tags a question is asked with.\n",
        "\t\t\t- 4: Edit Title - A question's title has been changed.\n",
        "\t\t\t- 5: Edit Body - A post's body has been changed, the raw text is stored here as markdown.\n",
        "\t\t\t- 6: Edit Tags - A question's tags have been changed.\n",
        "\t\t\t- 7: Rollback Title - A question's title has reverted to a previous version.\n",
        "\t\t\t- 8: Rollback Body - A post's body has reverted to a previous version - the raw text is stored here.\n",
        "\t\t\t- 9: Rollback Tags - A question's tags have reverted to a previous version.\n",
        "\t\t\t- 10: Post Closed - A post was voted to be closed.\n",
        "\t\t\t- 11: Post Reopened - A post was voted to be reopened.\n",
        "\t\t\t- 12: Post Deleted - A post was voted to be removed.\n",
        "\t\t\t- 13: Post Undeleted - A post was voted to be restored.\n",
        "\t\t\t- 14: Post Locked - A post was locked by a moderator.\n",
        "\t\t\t- 15: Post Unlocked - A post was unlocked by a moderator.\n",
        "\t\t\t- 16: Community Owned - A post has become community owned.\n",
        "\t\t\t- 17: Post Migrated - A post was migrated.\n",
        "\t\t\t- 18: Question Merged - A question has had another, deleted question merged into itself.\n",
        "\t\t\t- 19: Question Protected - A question was protected by a moderator\n",
        "\t\t\t- 20: Question Unprotected - A question was unprotected by a moderator\n",
        "\t\t\t- 21: Post Disassociated - An admin removes the OwnerUserId from a post.\n",
        "\t\t\t- 22: Question Unmerged - A previously merged question has had its answers and votes restored.\n",
        "\t\t- PostId\n",
        "\t\t- RevisionGUID: At times more than one type of history record can be recorded by a single action.  All of these will be grouped using the same RevisionGUID\n",
        "\t\t- CreationDate: \"2009-03-05T22:28:34.823\"\n",
        "\t\t- UserId\n",
        "\t\t- UserDisplayName: populated if a user has been removed and no longer referenced by user Id\n",
        "\t\t- Comment: This field will contain the comment made by the user who edited a post\n",
        "\t\t- Text: A raw version of the new value for a given revision\n",
        "\t\t\t- If PostHistoryTypeId = 10, 11, 12, 13, 14, or 15  this column will contain a JSON encoded string with all users who have voted for the PostHistoryTypeId\n",
        "\t\t\t- If PostHistoryTypeId = 17 this column will contain migration details of either \"from <url>\" or \"to <url>\"\n",
        "\t\t- CloseReasonId\n",
        "\t\t\t- 1: Exact Duplicate - This question covers exactly the same ground as earlier questions on this topic; its answers may be merged with another identical question.\n",
        "\t\t\t- 2: off-topic\n",
        "\t\t\t- 3: subjective\n",
        "\t\t\t- 4: not a real question\n",
        "\t\t\t- 7: too localized\n",
        "   - **postlinks**.xml\n",
        "     - Id\n",
        "     - CreationDate\n",
        "     - PostId\n",
        "     - RelatedPostId\n",
        "     - PostLinkTypeId\n",
        "       - 1: Linked\n",
        "       - 3: Duplicate\n",
        "   - **users**.xml\n",
        "     - Id\n",
        "     - Reputation\n",
        "     - CreationDate\n",
        "     - DisplayName\n",
        "     - EmailHash\n",
        "     - LastAccessDate\n",
        "     - WebsiteUrl\n",
        "     - Location\n",
        "     - Age\n",
        "     - AboutMe\n",
        "     - Views\n",
        "     - UpVotes\n",
        "     - DownVotes\n",
        "   - **votes**.xml\n",
        "     - Id\n",
        "     - PostId\n",
        "     - VoteTypeId\n",
        "        - ` 1`: AcceptedByOriginator\n",
        "        - ` 2`: UpMod\n",
        "        - ` 3`: DownMod\n",
        "        - ` 4`: Offensive\n",
        "        - ` 5`: Favorite - if VoteTypeId = 5 UserId will be populated\n",
        "        - ` 6`: Close\n",
        "        - ` 7`: Reopen\n",
        "        - ` 8`: BountyStart\n",
        "        - ` 9`: BountyClose\n",
        "        - `10`: Deletion\n",
        "        - `11`: Undeletion\n",
        "        - `12`: Spam\n",
        "        - `13`: InformModerator\n",
        "     - CreationDate\n",
        "     - UserId (only for VoteTypeId 5)\n",
        "     - BountyAmount (only for VoteTypeId 9)"
      ]
    },
    {
      "cell_type": "code",
      "execution_count": null,
      "metadata": {
        "id": "c5hJC4G4XK3A"
      },
      "outputs": [],
      "source": [
        "import csv\n",
        "from datetime import datetime\n",
        "\n",
        "def csv_to_mongo(file, coll):\n",
        "    \"\"\"\n",
        "    Carga un fichero CSV en Mongo. file especifica el fichero, coll la colección\n",
        "    dentro de la base de datos, y date_cols las columnas que serán interpretadas\n",
        "    como fechas.\n",
        "    \"\"\"\n",
        "    # Convertir todos los elementos que se puedan a números\n",
        "    def to_numeric(d):\n",
        "        try:\n",
        "            return int(d)\n",
        "        except ValueError:\n",
        "            try:\n",
        "                return float(d)\n",
        "            except ValueError:\n",
        "                return d\n",
        "\n",
        "    def to_date(d):\n",
        "        \"\"\"To ISO Date. If this cannot be converted, return NULL (None)\"\"\"\n",
        "        try:\n",
        "            return datetime.strptime(d, \"%Y-%m-%dT%H:%M:%S.%f\")\n",
        "        except ValueError:\n",
        "            return None\n",
        "\n",
        "    coll.drop()\n",
        "\n",
        "    with open(file, encoding='utf-8') as f:\n",
        "        # La llamada csv.reader() crea un iterador sobre un fichero CSV\n",
        "        reader = csv.reader(f, dialect='excel')\n",
        "\n",
        "        # Se leen las columnas. Sus nombres se usarán para crear las diferentes columnas en la familia\n",
        "        columns = next(reader)\n",
        "\n",
        "        # Las columnas que contienen 'Date' se interpretan como fechas\n",
        "        func_to_cols = list(map(lambda c: to_date if 'date' in c.lower() else to_numeric, columns))\n",
        "\n",
        "        docs=[]\n",
        "        for row in reader:\n",
        "            row = [func(e) for (func,e) in zip(func_to_cols, row)]\n",
        "            docs.append(dict(zip(columns, row)))\n",
        "        coll.insert_many(docs)"
      ]
    },
    {
      "cell_type": "code",
      "execution_count": null,
      "metadata": {
        "id": "6_aUDmh6U9vp"
      },
      "outputs": [],
      "source": [
        "import gzip\n",
        "from urllib.request import Request,urlopen\n",
        "import io\n",
        "import os\n",
        "import os.path as path\n",
        "\n",
        "def download_csv(baseurl, filename):\n",
        "    file = path.abspath(path.join(os.getcwd(),filename))\n",
        "    request = Request(baseurl + filename + '.gz')\n",
        "    response = urlopen(request)\n",
        "    buf = io.BytesIO(response.read())\n",
        "    f = gzip.GzipFile(fileobj=buf)\n",
        "    data = f.read()\n",
        "    with open (filename, 'wb') as ff:\n",
        "      ff.write(data)\n",
        "\n",
        "baseurl = 'https://raw.githubusercontent.com/dsevilla/bdge-data/master/es.stackoverflow/'\n",
        "download_csv(baseurl, 'Posts.csv')\n",
        "download_csv(baseurl, 'Users.csv')\n",
        "download_csv(baseurl, 'Tags.csv')\n",
        "download_csv(baseurl, 'Comments.csv')\n",
        "download_csv(baseurl, 'Votes.csv')"
      ]
    },
    {
      "cell_type": "markdown",
      "metadata": {
        "id": "UjFA83uvXK3M"
      },
      "source": [
        "Las bases de datos se crean conforme se nombran. Se puede utilizar la notación punto o la de diccionario. Las colecciones también."
      ]
    },
    {
      "cell_type": "code",
      "execution_count": null,
      "metadata": {
        "id": "HymD7vS1XK3N"
      },
      "outputs": [],
      "source": [
        "db = client.stackoverflow\n",
        "db = client['stackoverflow']\n",
        "db"
      ]
    },
    {
      "cell_type": "markdown",
      "metadata": {
        "id": "iUTaeq9LXK3R"
      },
      "source": [
        "Las bases de datos están compuestas por un conjunto de **colecciones**. Cada colección aglutina a un conjunto de objetos (documentos) del mismo tipo, aunque como vimos en teoría, cada documento puede tener un conjunto de atributos diferente."
      ]
    },
    {
      "cell_type": "code",
      "execution_count": null,
      "metadata": {
        "id": "q3MS76ltXK3T"
      },
      "outputs": [],
      "source": [
        "posts = db.posts\n",
        "posts"
      ]
    },
    {
      "cell_type": "markdown",
      "metadata": {
        "id": "jVz9DkvlXK3X"
      },
      "source": [
        "Importación de los ficheros CSV. Por ahora creamos una colección diferente para cada uno. Después estudiaremos cómo poder optimizar el acceso usando agregación."
      ]
    },
    {
      "cell_type": "code",
      "execution_count": null,
      "metadata": {
        "id": "Xd8DOMERXK3Y"
      },
      "outputs": [],
      "source": [
        "csv_to_mongo('Posts.csv',db.posts)"
      ]
    },
    {
      "cell_type": "code",
      "execution_count": null,
      "metadata": {
        "id": "0MUQZUdeXK3d"
      },
      "outputs": [],
      "source": [
        "csv_to_mongo('Users.csv',db.users)"
      ]
    },
    {
      "cell_type": "code",
      "execution_count": null,
      "metadata": {
        "id": "Zko9SDIaXK3g"
      },
      "outputs": [],
      "source": [
        "csv_to_mongo('Votes.csv',db.votes)"
      ]
    },
    {
      "cell_type": "code",
      "execution_count": null,
      "metadata": {
        "id": "xUdHYFeMXK3k"
      },
      "outputs": [],
      "source": [
        "csv_to_mongo('Comments.csv',db.comments)"
      ]
    },
    {
      "cell_type": "code",
      "execution_count": null,
      "metadata": {
        "id": "Iqs7InmnXK3o"
      },
      "outputs": [],
      "source": [
        "csv_to_mongo('Tags.csv',db.tags)"
      ]
    },
    {
      "cell_type": "code",
      "execution_count": null,
      "metadata": {
        "id": "fqMlbZ13XK3s"
      },
      "outputs": [],
      "source": [
        "posts.count_documents({})"
      ]
    },
    {
      "cell_type": "markdown",
      "metadata": {
        "id": "NP7ojzBzXK3v"
      },
      "source": [
        "### El API de colección de MongoDB\n",
        "\n",
        "El API de colección en Python se puede encontrar aquí: https://docs.mongodb.com/drivers/pymongo/. La mayoría de libros y referencias muestran el uso de mongo desde Javascript, ya que el *shell* de MongoDB acepta ese lenguaje. La sintaxis con respecto a Python cambia un poco, y se puede seguir en el enlace anterior. Existe incluso un curso de la MongoDB University que se puede realizar de forma gratuita: https://university.mongodb.com/courses/M220P/about"
      ]
    },
    {
      "cell_type": "code",
      "execution_count": null,
      "metadata": {
        "id": "MQ9FdKC2XK3v",
        "scrolled": true
      },
      "outputs": [],
      "source": [
        "post = posts.find_one()\n",
        "post"
      ]
    },
    {
      "cell_type": "markdown",
      "metadata": {
        "id": "0BlhT5EXXK3y"
      },
      "source": [
        "Utilizo la librería `pp` para imprimir los objetos grandes de una manera amigable."
      ]
    },
    {
      "cell_type": "code",
      "execution_count": null,
      "metadata": {
        "id": "PdeMzw8MXK3z",
        "scrolled": true
      },
      "outputs": [],
      "source": [
        "users = db.users\n",
        "pp(users.find_one())"
      ]
    },
    {
      "cell_type": "markdown",
      "metadata": {
        "id": "bIE2Gv9sXK32"
      },
      "source": [
        "A cada objeto se le asigna una clave implícita con nombre \"`_id`\" (si el objeto no lo incluye)."
      ]
    },
    {
      "cell_type": "code",
      "execution_count": null,
      "metadata": {
        "id": "H9aJ6YSAXK32"
      },
      "outputs": [],
      "source": [
        "print (type(post['_id']))\n",
        "post['_id']"
      ]
    },
    {
      "cell_type": "markdown",
      "metadata": {
        "id": "n-PbOm7HXK36"
      },
      "source": [
        "La siguiente sintaxis está descatalogada en las nuevas versiones, pero era más conveniente:"
      ]
    },
    {
      "cell_type": "code",
      "execution_count": null,
      "metadata": {
        "id": "-Tn9YI4kXK36",
        "scrolled": true
      },
      "outputs": [],
      "source": [
        "#posts.save(post)"
      ]
    },
    {
      "cell_type": "markdown",
      "metadata": {
        "id": "IiQ1Wl3QXK3-"
      },
      "source": [
        "Ahora hay que hacerlo así (el resultado debe ser 1 documento modificado):"
      ]
    },
    {
      "cell_type": "code",
      "execution_count": null,
      "metadata": {
        "id": "Uk21YQGyXK3-"
      },
      "outputs": [],
      "source": [
        "result = posts.replace_one({\"_id\": post['_id']}, post)\n",
        "result.modified_count"
      ]
    },
    {
      "cell_type": "code",
      "execution_count": null,
      "metadata": {
        "id": "k7CsMmRhXK4D"
      },
      "outputs": [],
      "source": [
        "post = posts.find_one()\n",
        "pp(post)"
      ]
    },
    {
      "cell_type": "code",
      "execution_count": null,
      "metadata": {
        "id": "N3UfvDXNXK4G",
        "scrolled": true
      },
      "outputs": [],
      "source": [
        "for k,v in post.items():\n",
        "    print(\"%s: %s\" % (k,v))"
      ]
    },
    {
      "cell_type": "markdown",
      "metadata": {
        "id": "IVShFHvnXK4J"
      },
      "source": [
        "Además de `find_one()`, la función principal de búsqueda es `find()`. Esta función ofrece un conjunto muy ámplio de opciones para búsqueda, que estudiaremos a continuación.\n",
        "\n",
        "Primero, una consulta sencilla, con el valor de un campo:"
      ]
    },
    {
      "cell_type": "code",
      "execution_count": null,
      "metadata": {
        "id": "2PKMP9d1XK4J"
      },
      "outputs": [],
      "source": [
        "respuestas = posts.find({\"PostTypeId\": 2})\n",
        "respuestas.count()"
      ]
    },
    {
      "cell_type": "markdown",
      "metadata": {
        "id": "jTBq7CmiXK4N"
      },
      "source": [
        "También existe `explain()`, al estilo de SQL."
      ]
    },
    {
      "cell_type": "code",
      "execution_count": null,
      "metadata": {
        "id": "m0iF81EEXK4N",
        "scrolled": true
      },
      "outputs": [],
      "source": [
        "posts.find({\"PostTypeId\": 2}).explain()"
      ]
    },
    {
      "cell_type": "markdown",
      "metadata": {
        "id": "onM1DoExXK4Q"
      },
      "source": [
        "También se puede limitar la búsqueda."
      ]
    },
    {
      "cell_type": "code",
      "execution_count": null,
      "metadata": {
        "id": "gbqfnOusXK4R"
      },
      "outputs": [],
      "source": [
        "respuestas = posts.find({\"PostTypeId\": 2}).limit(10)"
      ]
    },
    {
      "cell_type": "markdown",
      "metadata": {
        "id": "GWqOek7JXK4U"
      },
      "source": [
        "La respuesta no es un conjunto de elementos, sino un cursor que puede ir recorriéndose."
      ]
    },
    {
      "cell_type": "code",
      "execution_count": null,
      "metadata": {
        "id": "VmIDFzQzXK4U",
        "scrolled": true
      },
      "outputs": [],
      "source": [
        "respuestas"
      ]
    },
    {
      "cell_type": "code",
      "execution_count": null,
      "metadata": {
        "id": "unyEux3PXK4X"
      },
      "outputs": [],
      "source": [
        "list(respuestas)"
      ]
    },
    {
      "cell_type": "markdown",
      "metadata": {
        "id": "55kzbjTDXK4Z"
      },
      "source": [
        "También se puede importar en un dataframe de pandas:"
      ]
    },
    {
      "cell_type": "code",
      "execution_count": null,
      "metadata": {
        "id": "oSdgwy9FXK4a"
      },
      "outputs": [],
      "source": [
        "respuestas = posts.find({\"PostTypeId\": 2}).limit(30)\n",
        "df = pd.DataFrame(respuestas)\n",
        "df['Id'].plot()"
      ]
    },
    {
      "cell_type": "markdown",
      "metadata": {
        "id": "Rr2WveazXK4d"
      },
      "source": [
        "La función `find()` tiene un gran número de posibilidades para especificar la búsqueda. Se pueden utilizar cualificadores complejos como:\n",
        "\n",
        "- `$and`\n",
        "- `$or`\n",
        "- `$not`\n",
        "\n",
        "Estos calificadores unen \"objetos\", no valores. Por otro lado, hay otros calificadores que se refieren a valores:\n",
        "\n",
        "- `$lt` (menor)\n",
        "- `$lte` (menor o igual)\n",
        "- `$gt` (mayor)\n",
        "- `$gte` (mayor o igual)"
      ]
    },
    {
      "cell_type": "code",
      "execution_count": null,
      "metadata": {
        "id": "bUOQcTXuXK4d",
        "scrolled": true
      },
      "outputs": [],
      "source": [
        "respuestas = posts.find({ '$and' : [ {\"PostTypeId\": 2} ,\n",
        "                                    {\"Id\" : {'$gte' : 100}} ]}).limit(10)\n",
        "list(respuestas)"
      ]
    },
    {
      "cell_type": "markdown",
      "metadata": {
        "id": "y21BPIjOXK4g"
      },
      "source": [
        "## Map-Reduce\n",
        "\n",
        "Mongodb incluye dos APIs para procesar y buscar documentos: el API de Map-Reduce y el API de agregación. Veremos primero el de Map-Reduce. Manual: https://www.mongodb.com/docs/manual/core/map-reduce/\n",
        "\n",
        "![map-reduce.bakedsvg.svg](https://github.com/dsevilla/bdge-data/raw/master/misc/mongo-map-reduce.png)"
      ]
    },
    {
      "cell_type": "code",
      "execution_count": null,
      "metadata": {
        "id": "xJefhsFzXK4g"
      },
      "outputs": [],
      "source": [
        "from bson.code import Code"
      ]
    },
    {
      "cell_type": "code",
      "execution_count": null,
      "metadata": {
        "id": "2vfH5iRtXK4k"
      },
      "outputs": [],
      "source": [
        "map = Code(\n",
        "'''\n",
        "function () {\n",
        "    emit(this.OwnerUserId, 1);\n",
        "}\n",
        "''')"
      ]
    },
    {
      "cell_type": "code",
      "execution_count": null,
      "metadata": {
        "id": "BG5wFOQaXK4n"
      },
      "outputs": [],
      "source": [
        "reduce = Code(\n",
        "'''\n",
        "function (key, values)\n",
        "{\n",
        "    return Array.sum(values);\n",
        "}\n",
        "''')"
      ]
    },
    {
      "cell_type": "code",
      "execution_count": null,
      "metadata": {
        "id": "NNpd3oa-XK4p"
      },
      "outputs": [],
      "source": [
        "results = db.posts.map_reduce(map, reduce, \"myresults\")"
      ]
    },
    {
      "cell_type": "code",
      "execution_count": null,
      "metadata": {
        "id": "JLals36_XK4s"
      },
      "outputs": [],
      "source": [
        "db.list_collection_names()"
      ]
    },
    {
      "cell_type": "code",
      "execution_count": null,
      "metadata": {
        "id": "Z5qj9C8XXK4u",
        "scrolled": true
      },
      "outputs": [],
      "source": [
        "list(results.find())"
      ]
    },
    {
      "cell_type": "code",
      "execution_count": null,
      "metadata": {
        "id": "Zix4vBa8XK4w"
      },
      "outputs": [],
      "source": [
        "results = db.posts.map_reduce(map, reduce, \"myresults\", query={\"Score\": {'$gt' : 20}})"
      ]
    },
    {
      "cell_type": "code",
      "execution_count": null,
      "metadata": {
        "id": "O0qcopVkXK4z"
      },
      "outputs": [],
      "source": [
        "list(results.find())"
      ]
    },
    {
      "cell_type": "code",
      "execution_count": null,
      "metadata": {
        "id": "GF427kSEXK40"
      },
      "outputs": [],
      "source": [
        "db.users.find_one({'Id':20})"
      ]
    },
    {
      "cell_type": "markdown",
      "metadata": {
        "id": "v9fkqQyEXK43"
      },
      "source": [
        "También hay operaciones específicas de la coleción, como `count()`, `groupby()` y `distinct()`:![distinct.bakedsvg.svg](https://github.com/dsevilla/bdge-data/raw/master/misc/mongo-distinct.png)"
      ]
    },
    {
      "cell_type": "code",
      "execution_count": null,
      "metadata": {
        "id": "Le1hoZ79XK45",
        "scrolled": true
      },
      "outputs": [],
      "source": [
        "db.posts.distinct('Score')"
      ]
    },
    {
      "cell_type": "markdown",
      "metadata": {
        "id": "rwrJSwdffbrI"
      },
      "source": [
        "## Framework de Agregación\n",
        "\n",
        "Framework de agregación: https://docs.mongodb.com/manual/reference/operator/aggregation/. Y aquí una presentación interesante sobre el tema: https://www.mongodb.com/presentations/aggregation-framework-0?jmp=docs&_ga=1.223708571.1466850754.1477658152. A continuación otro vídeo interseante:"
      ]
    },
    {
      "cell_type": "code",
      "execution_count": null,
      "metadata": {
        "id": "4om0lizwCHJZ"
      },
      "outputs": [],
      "source": [
        "from IPython.display import YouTubeVideo\n",
        "YouTubeVideo('VSX4a3h4SmQ',width=600)"
      ]
    },
    {
      "cell_type": "markdown",
      "metadata": {
        "id": "7D-qyfvZXK48",
        "tags": []
      },
      "source": [
        "![](https://miro.medium.com/max/1060/1*2lDBxvZ8Cr3JYkoODTa0lQ.png)"
      ]
    },
    {
      "cell_type": "markdown",
      "metadata": {
        "id": "uXVupHnTXK48"
      },
      "source": [
        "Proyección:"
      ]
    },
    {
      "cell_type": "code",
      "execution_count": null,
      "metadata": {
        "id": "hHjF49GqXK48"
      },
      "outputs": [],
      "source": [
        "respuestas = db['posts'].aggregate( [ {'$project' : { 'Id' : True }}, {'$limit': 20} ])\n",
        "list(respuestas)"
      ]
    },
    {
      "cell_type": "markdown",
      "metadata": {
        "id": "dkaF-MXPXK4_"
      },
      "source": [
        "_Lookup_!"
      ]
    },
    {
      "cell_type": "code",
      "execution_count": null,
      "metadata": {
        "id": "CFH1_XvOXK5A",
        "scrolled": true
      },
      "outputs": [],
      "source": [
        "respuestas = posts.aggregate( [\n",
        "        {'$match': { 'Score' : {'$gte': 40}}},\n",
        "        {'$lookup': {\n",
        "            'from': \"users\",\n",
        "            'localField': \"OwnerUserId\",\n",
        "            'foreignField': \"Id\",\n",
        "            'as': \"owner\"}\n",
        "        }\n",
        "        ])\n",
        "list(respuestas)"
      ]
    },
    {
      "cell_type": "markdown",
      "metadata": {
        "id": "UoBeNpgdXK5D"
      },
      "source": [
        "El `$lookup` genera un _array_ con todos los resultados. El operador `$arrayElementAt` accede al primer elemento."
      ]
    },
    {
      "cell_type": "code",
      "execution_count": null,
      "metadata": {
        "id": "Kbg5QWiaXK5D"
      },
      "outputs": [],
      "source": [
        "respuestas = db.posts.aggregate( [\n",
        "        {'$match': { 'Score' : {'$gte': 40}}},\n",
        "        {'$lookup': {\n",
        "            'from': \"users\",\n",
        "            'localField': \"OwnerUserId\",\n",
        "            'foreignField': \"Id\",\n",
        "            'as': \"owner\"}\n",
        "        },\n",
        "        { '$project' :\n",
        "        {\n",
        "            'Id' : True,\n",
        "            'Score' : True,\n",
        "            'username' : {'$arrayElemAt' : ['$owner.DisplayName', 0]},\n",
        "            'owner.DisplayName'  : True\n",
        "        }}\n",
        "        ])\n",
        "list(respuestas)"
      ]
    },
    {
      "cell_type": "markdown",
      "metadata": {
        "id": "5fJwA3gMXK5F"
      },
      "source": [
        "`$unwind` también puede usarse. \"Desdobla\" cada fila por cada elemento del array. En este caso, como sabemos que el array sólo contiene un elemento, sólo habrá una fila por fila original, pero sin el _array_. Finalmente se puede proyectar el campo que se quiera."
      ]
    },
    {
      "cell_type": "code",
      "execution_count": null,
      "metadata": {
        "id": "vNuMIDTMXK5F"
      },
      "outputs": [],
      "source": [
        "respuestas = db.posts.aggregate( [\n",
        "        {'$match': { 'Score' : {'$gte': 40}}},\n",
        "        {'$lookup': {\n",
        "            'from': \"users\",\n",
        "            'localField': \"OwnerUserId\",\n",
        "            'foreignField': \"Id\",\n",
        "            'as': \"owner\"}\n",
        "        },\n",
        "        { '$unwind': '$owner'},\n",
        "        { '$project' :\n",
        "         {\n",
        "             'Id' : True,\n",
        "             'Score': True,\n",
        "             'username': '$owner.DisplayName'\n",
        "         }\n",
        "        }\n",
        "        ])\n",
        "list(respuestas)"
      ]
    },
    {
      "cell_type": "markdown",
      "metadata": {
        "id": "nGQdY8W9XK5I"
      },
      "source": [
        "Se pueden crear más índices, de tipos `ASCENDING`, `DESCENDING`, `HASHED`, y otros geoespaciales. https://api.mongodb.com/python/current/api/pymongo/collection.html#pymongo.collection.Collection.create_index"
      ]
    },
    {
      "cell_type": "code",
      "execution_count": null,
      "metadata": {
        "id": "4w4la0MhXK5K"
      },
      "outputs": [],
      "source": [
        "posts.create_index([('Id', pymongo.HASHED)])"
      ]
    },
    {
      "cell_type": "markdown",
      "metadata": {
        "id": "zrIqOPuLXK5M"
      },
      "source": [
        "## EJERCICIO: Separar en dos colecciones las preguntas de las respuestas"
      ]
    },
    {
      "cell_type": "code",
      "execution_count": null,
      "metadata": {
        "id": "_2c_HBO_XK5N"
      },
      "outputs": [],
      "source": []
    },
    {
      "cell_type": "markdown",
      "metadata": {
        "id": "OR0aB5K-XK5R"
      },
      "source": [
        "## EJERCICIO: Con Map-Reduce y Agregación, mostrar las consulta RQ1 de la sesión 2"
      ]
    },
    {
      "cell_type": "code",
      "execution_count": null,
      "metadata": {
        "id": "8KrKiRl1XK5R"
      },
      "outputs": [],
      "source": []
    }
  ],
  "metadata": {
    "colab": {
      "name": "sesion3.ipynb",
      "provenance": [],
      "include_colab_link": true
    },
    "kernelspec": {
      "display_name": "Python 3 (ipykernel)",
      "language": "python",
      "name": "python3"
    },
    "language_info": {
      "codemirror_mode": {
        "name": "ipython",
        "version": 3
      },
      "file_extension": ".py",
      "mimetype": "text/x-python",
      "name": "python",
      "nbconvert_exporter": "python",
      "pygments_lexer": "ipython3",
      "version": "3.9.6"
    }
  },
  "nbformat": 4,
  "nbformat_minor": 0
}