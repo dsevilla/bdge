{
  "cells": [
    {
      "cell_type": "markdown",
      "metadata": {
        "id": "WdqTiGhdfbo4"
      },
      "source": [
        "## NoSQL (MongoDB) (sesión 4)\n"
      ]
    },
    {
      "cell_type": "markdown",
      "metadata": {
        "id": "ZbikzCBUXK2P"
      },
      "source": [
        "![MongoDB](https://webassets.mongodb.com/_com_assets/cms/MongoDB_Logo_FullColorBlack_RGB-4td3yuxzjs.png)\n",
        "\n",
        "Esta hoja muestra cómo acceder a bases de datos MongoDB y también a conectar la salida con Jupyter. Se puede utilizar el *shell* propio de MongoDB en el contenedor usando el programa `mongo`. La diferencia es que ese programa espera código Javascript y aquí trabajaremos con Python."
      ]
    },
    {
      "cell_type": "code",
      "execution_count": 1,
      "metadata": {},
      "outputs": [],
      "source": [
        "RunningInCOLAB = 'google.colab' in str(get_ipython()) if hasattr(__builtins__,'__IPYTHON__') else False"
      ]
    },
    {
      "cell_type": "code",
      "execution_count": 2,
      "metadata": {},
      "outputs": [],
      "source": [
        "import os\n",
        "db_hostname = os.getenv('DB_HOSTNAME') or (\"localhost\" if RunningInCOLAB else \"mongo\")"
      ]
    },
    {
      "cell_type": "code",
      "execution_count": 3,
      "metadata": {},
      "outputs": [],
      "source": [
        "!sudo apt-get update -qq"
      ]
    },
    {
      "cell_type": "code",
      "execution_count": null,
      "metadata": {},
      "outputs": [],
      "source": [
        "!sudo apt-get install -y -qq p7zip"
      ]
    },
    {
      "cell_type": "markdown",
      "metadata": {},
      "source": [
        "## Instalación inicial de MongoDB (sólo necesaria en Google Colab)"
      ]
    },
    {
      "cell_type": "code",
      "execution_count": 5,
      "metadata": {},
      "outputs": [],
      "source": [
        "if RunningInCOLAB:\n",
        "  !wget -q https://raw.githubusercontent.com/dsevilla/bdge/refs/heads/24-25/addendum/mongo-utils/run-mongo-local.sh\n",
        "  !bash run-mongo-local.sh"
      ]
    },
    {
      "cell_type": "markdown",
      "metadata": {},
      "source": [
        "## Inicio de la hoja\n"
      ]
    },
    {
      "cell_type": "code",
      "execution_count": null,
      "metadata": {},
      "outputs": [],
      "source": [
        "%pip install --upgrade pymongo"
      ]
    },
    {
      "cell_type": "code",
      "execution_count": 7,
      "metadata": {},
      "outputs": [],
      "source": [
        "from pprint import pprint as pp\n",
        "import pandas as pd\n",
        "import matplotlib.pyplot as plt\n",
        "import matplotlib\n",
        "\n",
        "%matplotlib inline\n",
        "matplotlib.style.use('ggplot')"
      ]
    },
    {
      "cell_type": "markdown",
      "metadata": {},
      "source": [
        "Usaremos la librería `pymongo` para python. La cargamos a continuación."
      ]
    },
    {
      "cell_type": "code",
      "execution_count": 8,
      "metadata": {},
      "outputs": [],
      "source": [
        "from pymongo import MongoClient"
      ]
    },
    {
      "cell_type": "markdown",
      "metadata": {},
      "source": [
        "La conexión se inicia con `MongoClient` en el `host` descrito en el fichero `docker-compose.yml` (`mongo`), o bien a `localhost` si lo estamos haciendo en Colab."
      ]
    },
    {
      "cell_type": "code",
      "execution_count": null,
      "metadata": {},
      "outputs": [],
      "source": [
        "client: MongoClient = MongoClient(db_hostname, 27017)\n",
        "client"
      ]
    },
    {
      "cell_type": "code",
      "execution_count": null,
      "metadata": {},
      "outputs": [],
      "source": [
        "client.list_database_names()"
      ]
    },
    {
      "cell_type": "markdown",
      "metadata": {},
      "source": [
        " - Format: 7zipped\n",
        " - Files:\n",
        "   - **badges**.xml\n",
        "       - UserId, e.g.: \"420\"\n",
        "       - Name, e.g.: \"Teacher\"\n",
        "       - Date, e.g.: \"2008-09-15T08:55:03.923\"\n",
        "   - **comments**.xml\n",
        "       - Id\n",
        "       - PostId\n",
        "       - Score\n",
        "       - Text, e.g.: \"@Stu Thompson: Seems possible to me - why not try it?\"\n",
        "       - CreationDate, e.g.:\"2008-09-06T08:07:10.730\"\n",
        "       - UserId\n",
        "   - **posts**.xml\n",
        "       - Id\n",
        "       - PostTypeId\n",
        "          - 1: Question\n",
        "          - 2: Answer\n",
        "       - ParentID (only present if PostTypeId is 2)\n",
        "       - AcceptedAnswerId (only present if PostTypeId is 1)\n",
        "       - CreationDate\n",
        "       - Score\n",
        "       - ViewCount\n",
        "       - Body\n",
        "       - OwnerUserId\n",
        "       - LastEditorUserId\n",
        "       - LastEditorDisplayName=\"Jeff Atwood\"\n",
        "       - LastEditDate=\"2009-03-05T22:28:34.823\"\n",
        "       - LastActivityDate=\"2009-03-11T12:51:01.480\"\n",
        "       - CommunityOwnedDate=\"2009-03-11T12:51:01.480\"\n",
        "       - ClosedDate=\"2009-03-11T12:51:01.480\"\n",
        "       - Title=\n",
        "       - Tags=\n",
        "       - AnswerCount\n",
        "       - CommentCount\n",
        "       - FavoriteCount\n",
        "   - **posthistory**.xml\n",
        "\t   - Id\n",
        "\t   - PostHistoryTypeId\n",
        "\t\t\t- 1: Initial Title - The first title a question is asked with.\n",
        "\t\t\t- 2: Initial Body - The first raw body text a post is submitted with.\n",
        "\t\t\t- 3: Initial Tags - The first tags a question is asked with.\n",
        "\t\t\t- 4: Edit Title - A question's title has been changed.\n",
        "\t\t\t- 5: Edit Body - A post's body has been changed, the raw text is stored here as markdown.\n",
        "\t\t\t- 6: Edit Tags - A question's tags have been changed.\n",
        "\t\t\t- 7: Rollback Title - A question's title has reverted to a previous version.\n",
        "\t\t\t- 8: Rollback Body - A post's body has reverted to a previous version - the raw text is stored here.\n",
        "\t\t\t- 9: Rollback Tags - A question's tags have reverted to a previous version.\n",
        "\t\t\t- 10: Post Closed - A post was voted to be closed.\n",
        "\t\t\t- 11: Post Reopened - A post was voted to be reopened.\n",
        "\t\t\t- 12: Post Deleted - A post was voted to be removed.\n",
        "\t\t\t- 13: Post Undeleted - A post was voted to be restored.\n",
        "\t\t\t- 14: Post Locked - A post was locked by a moderator.\n",
        "\t\t\t- 15: Post Unlocked - A post was unlocked by a moderator.\n",
        "\t\t\t- 16: Community Owned - A post has become community owned.\n",
        "\t\t\t- 17: Post Migrated - A post was migrated.\n",
        "\t\t\t- 18: Question Merged - A question has had another, deleted question merged into itself.\n",
        "\t\t\t- 19: Question Protected - A question was protected by a moderator\n",
        "\t\t\t- 20: Question Unprotected - A question was unprotected by a moderator\n",
        "\t\t\t- 21: Post Disassociated - An admin removes the OwnerUserId from a post.\n",
        "\t\t\t- 22: Question Unmerged - A previously merged question has had its answers and votes restored.\n",
        "\t\t- PostId\n",
        "\t\t- RevisionGUID: At times more than one type of history record can be recorded by a single action.  All of these will be grouped using the same RevisionGUID\n",
        "\t\t- CreationDate: \"2009-03-05T22:28:34.823\"\n",
        "\t\t- UserId\n",
        "\t\t- UserDisplayName: populated if a user has been removed and no longer referenced by user Id\n",
        "\t\t- Comment: This field will contain the comment made by the user who edited a post\n",
        "\t\t- Text: A raw version of the new value for a given revision\n",
        "\t\t\t- If PostHistoryTypeId = 10, 11, 12, 13, 14, or 15  this column will contain a JSON encoded string with all users who have voted for the PostHistoryTypeId\n",
        "\t\t\t- If PostHistoryTypeId = 17 this column will contain migration details of either \"from <url>\" or \"to <url>\"\n",
        "\t\t- CloseReasonId\n",
        "\t\t\t- 1: Exact Duplicate - This question covers exactly the same ground as earlier questions on this topic; its answers may be merged with another identical question.\n",
        "\t\t\t- 2: off-topic\n",
        "\t\t\t- 3: subjective\n",
        "\t\t\t- 4: not a real question\n",
        "\t\t\t- 7: too localized\n",
        "   - **postlinks**.xml\n",
        "     - Id\n",
        "     - CreationDate\n",
        "     - PostId\n",
        "     - RelatedPostId\n",
        "     - PostLinkTypeId\n",
        "       - 1: Linked\n",
        "       - 3: Duplicate\n",
        "   - **users**.xml\n",
        "     - Id\n",
        "     - Reputation\n",
        "     - CreationDate\n",
        "     - DisplayName\n",
        "     - EmailHash\n",
        "     - LastAccessDate\n",
        "     - WebsiteUrl\n",
        "     - Location\n",
        "     - Age\n",
        "     - AboutMe\n",
        "     - Views\n",
        "     - UpVotes\n",
        "     - DownVotes\n",
        "   - **votes**.xml\n",
        "     - Id\n",
        "     - PostId\n",
        "     - VoteTypeId\n",
        "        - ` 1`: AcceptedByOriginator\n",
        "        - ` 2`: UpMod\n",
        "        - ` 3`: DownMod\n",
        "        - ` 4`: Offensive\n",
        "        - ` 5`: Favorite - if VoteTypeId = 5 UserId will be populated\n",
        "        - ` 6`: Close\n",
        "        - ` 7`: Reopen\n",
        "        - ` 8`: BountyStart\n",
        "        - ` 9`: BountyClose\n",
        "        - `10`: Deletion\n",
        "        - `11`: Undeletion\n",
        "        - `12`: Spam\n",
        "        - `13`: InformModerator\n",
        "     - CreationDate\n",
        "     - UserId (only for VoteTypeId 5)\n",
        "     - BountyAmount (only for VoteTypeId 9)"
      ]
    },
    {
      "cell_type": "markdown",
      "metadata": {},
      "source": [
        "### Descarga de todos los CSVs"
      ]
    },
    {
      "cell_type": "code",
      "execution_count": null,
      "metadata": {},
      "outputs": [],
      "source": [
        "!wget https://github.com/dsevilla/bd2-data/raw/main/es.stackoverflow/es.stackoverflow.csv.7z.001 -O - > es.stackoverflow.csv.7z\n",
        "!wget https://github.com/dsevilla/bd2-data/raw/main/es.stackoverflow/es.stackoverflow.csv.7z.002 -O - >> es.stackoverflow.csv.7z"
      ]
    },
    {
      "cell_type": "code",
      "execution_count": null,
      "metadata": {},
      "outputs": [],
      "source": [
        "!7zr x -aoa es.stackoverflow.csv.7z\n",
        "!rm es.stackoverflow.csv.7z"
      ]
    },
    {
      "cell_type": "markdown",
      "metadata": {},
      "source": [
        "### Importación de los ficheros CSV e inicio del uso de Pymongo"
      ]
    },
    {
      "cell_type": "markdown",
      "metadata": {},
      "source": [
        "Importación de los ficheros CSV. Por ahora creamos una colección diferente para cada uno. Después estudiaremos cómo poder optimizar el acceso usando agregación."
      ]
    },
    {
      "cell_type": "code",
      "execution_count": 3,
      "metadata": {},
      "outputs": [],
      "source": [
        "!wget -q https://raw.githubusercontent.com/dsevilla/bdge/24-25/addendum/mongo-utils/csv_to_mongo.py"
      ]
    },
    {
      "cell_type": "code",
      "execution_count": null,
      "metadata": {},
      "outputs": [],
      "source": [
        "from IPython.display import display_markdown\n",
        "\n",
        "display_markdown(f\"\"\"\n",
        "### `csv_to_mongo.py`\n",
        "```python\n",
        "{open('csv_to_mongo.py').read()}\n",
        "```\n",
        "\"\"\",raw=True)"
      ]
    },
    {
      "cell_type": "code",
      "execution_count": null,
      "metadata": {},
      "outputs": [],
      "source": [
        "from csv_to_mongo import csv_to_mongo\n",
        "help(csv_to_mongo)"
      ]
    },
    {
      "cell_type": "markdown",
      "metadata": {},
      "source": [
        "Las bases de datos se crean conforme se nombran. Se puede utilizar la notación punto o la de diccionario. Las colecciones también."
      ]
    },
    {
      "cell_type": "code",
      "execution_count": null,
      "metadata": {},
      "outputs": [],
      "source": [
        "from pymongo.database import Database\n",
        "\n",
        "db: Database = client.stackoverflow\n",
        "# db = client['stackoverflow'] (equivalente)\n",
        "db"
      ]
    },
    {
      "cell_type": "code",
      "execution_count": 17,
      "metadata": {},
      "outputs": [],
      "source": [
        "csv_to_mongo('Posts.csv',db.posts)"
      ]
    },
    {
      "cell_type": "code",
      "execution_count": 18,
      "metadata": {},
      "outputs": [],
      "source": [
        "csv_to_mongo('Users.csv',db.users)"
      ]
    },
    {
      "cell_type": "code",
      "execution_count": 19,
      "metadata": {},
      "outputs": [],
      "source": [
        "csv_to_mongo('Votes.csv',db.votes)"
      ]
    },
    {
      "cell_type": "code",
      "execution_count": 20,
      "metadata": {},
      "outputs": [],
      "source": [
        "csv_to_mongo('Comments.csv',db.comments)"
      ]
    },
    {
      "cell_type": "code",
      "execution_count": 21,
      "metadata": {},
      "outputs": [],
      "source": [
        "csv_to_mongo('Tags.csv',db.tags)"
      ]
    },
    {
      "cell_type": "markdown",
      "metadata": {
        "id": "UNt6Pgy4I-lh"
      },
      "source": [
        "### El API de colección de MongoDB"
      ]
    },
    {
      "cell_type": "markdown",
      "metadata": {},
      "source": [
        "Las bases de datos están compuestas por un conjunto de **colecciones**. Cada colección aglutina a un conjunto de objetos (documentos) del mismo tipo, aunque como vimos en teoría, cada documento puede tener un conjunto de atributos diferente."
      ]
    },
    {
      "cell_type": "markdown",
      "metadata": {},
      "source": [
        "El API de colección en Python se puede encontrar aquí: https://docs.mongodb.com/drivers/pymongo/. La mayoría de libros y referencias muestran el uso de mongo desde Javascript, ya que el *shell* de MongoDB acepta ese lenguaje. La sintaxis con respecto a Python cambia un poco, y se puede seguir en el enlace anterior. Existe incluso un curso de la MongoDB University que se puede realizar de forma gratuita: https://learn.mongodb.com/learning-paths/using-mongodb-with-python."
      ]
    },
    {
      "cell_type": "code",
      "execution_count": null,
      "metadata": {},
      "outputs": [],
      "source": [
        "from pymongo.collection import Collection\n",
        "\n",
        "posts: Collection = db.posts\n",
        "posts"
      ]
    },
    {
      "cell_type": "code",
      "execution_count": null,
      "metadata": {},
      "outputs": [],
      "source": [
        "posts.count_documents({})"
      ]
    },
    {
      "cell_type": "markdown",
      "metadata": {
        "id": "y4Ysbsxyfbqf"
      },
      "source": [
        "### Creación de índices\n",
        "\n",
        "Para que el proceso de agregación funcione mejor, voy a crear índices sobre los atributos que se usarán como índice... Ojo, si no se crea las consultas pueden tardar mucho."
      ]
    },
    {
      "cell_type": "code",
      "execution_count": null,
      "metadata": {
        "id": "kEFZ3Db8fbqg"
      },
      "outputs": [],
      "source": [
        "from pymongo import ASCENDING, DESCENDING, HASHED\n",
        "(\n",
        "    db.posts.create_index([('Id', HASHED)]),\n",
        "    db.comments.create_index([('Id', HASHED)]),\n",
        "    db.users.create_index([('Id', HASHED)])\n",
        ")"
      ]
    },
    {
      "cell_type": "markdown",
      "metadata": {
        "id": "TyYDP31ufbq3"
      },
      "source": [
        "También hay operaciones específicas de la coleción, como `count()`, `groupby()` y `distinct()`:\n",
        "\n",
        "![distinct.bakedsvg.svg](https://github.com/dsevilla/bdge-data/raw/master/misc/mongo-distinct.png)"
      ]
    },
    {
      "cell_type": "code",
      "execution_count": null,
      "metadata": {
        "id": "t2UnpYlJfbq3",
        "scrolled": true
      },
      "outputs": [],
      "source": [
        "db.posts.distinct('Score')"
      ]
    },
    {
      "cell_type": "markdown",
      "metadata": {},
      "source": [
        "### Limpieza inicial de las bases de datos para MongoDB\n",
        "\n",
        "En las anteriores hojas con SQL se observó que ciertas columnas tenían valores que debían ser convertidos bien en nulos, bien en ceros.\n",
        "\n",
        "Esto que puede parecer trivial, es muy importante, por varias razones, y sobre todo en MongoDB. El proceso de importación permite que los atributos tengan cualquier tipo de valor, a diferencia de lo que pasaba en SQL. Esto puede llevar a que se creen índices con valores que no son válidos, o que se hagan operaciones con valores que no son los esperados.\n",
        "\n",
        "Por ejemplo, en la colección `Posts`, el campo `OwnerUserId` puede estar vacío, en unos casos muy especificos. Por ejemplo, que el usuario que hizo el *post* haya sido eliminado. Para permitir tratar estos casos correctamente, decidimos que estos valores \"inexistentes\" sean `None` (`NULL` en la terminología de SQL). En MongoDB se convertirán a `null`, que es la representación de nulo que ofrece JSON.\n",
        "\n",
        "Nótese sin embargo, que hay que ser muy cuidadoso con esto. En todos los CSV, el valor para \"vacío\" por defecto es `''`. Esto significa cosas diferentes según el campo o tipo de dato:\n",
        "\n",
        "- Para campos de texto, `''` es una cadena vacía.\n",
        "- Para campos numéricos, `''` es un `0` en nuestro caso. Se podría elegir representar con cualqueir otro valor, como un valor negativo, que es inválido como identificador de usuario.\n",
        "- Para campos de fecha, y para referencias a otras tablas/colecciones, `''` es `None` (`NULL`).\n",
        "\n",
        "Esto funciona bien para los `JOIN` de SQL, ya que ningún valor `NULL` casa con otro valor presente en una clave ajena. En el caso de MongoDB tenemos que establecer una estrategia parecida, teniendo en cuenta que tenemos dos opciones en cuanto a un campo vacío:\n",
        "\n",
        "- Se puede o bien optar por incluir ese atributo a valor `None` (`null`),\n",
        "- O bien no incluirlo en absoluto.\n",
        "\n",
        "En nuestro caso, creo que es más sencillo establecer el valor nulo. Lo haremos a continuación.\n",
        "\n",
        "Nótese que este código a continuación es equivalente al código de importación existente en SQL, donde los campos se modificaban según su valor **semántico**."
      ]
    },
    {
      "cell_type": "markdown",
      "metadata": {},
      "source": [
        "**NOTA:** Esto es muy tedioso y propenso a errores. Lo ideal es tener una definición del esquema que se pueda procesar por un programa, y que pueda generar de forma automática este tipo de actuaciones sobre los datos."
      ]
    },
    {
      "cell_type": "markdown",
      "metadata": {},
      "source": [
        "#### Opción 1: Efectiva, pero más lenta\n",
        "\n",
        "Podemos hacer un `update_many` con cada atributo. Esto hará que se hagan muchas pasadas por los datos, y además, en cada modificación, se obliga a mantener la integridad de la base de datos, etc. Se puede ver el ejemplo del código aquí:\n",
        "\n",
        "```python\n",
        "# Atributos que se deben poner a nulo\n",
        "for att in ['AcceptedAnswerId', 'ClosedDate', 'CommunityOwnedDate', 'CreationDate',\n",
        "            'LastActivityDate', 'LastEditDate', 'LastEditorUserId', 'OwnerUserId', 'ParentId']:\n",
        "    posts.update_many({att: ''}, {'$set': { att: None}})\n",
        "\n",
        "# Atributos que se deben poner a 0\n",
        "for att in ['AnswerCount', 'CommentCount', 'FavoriteCount', 'Score', 'ViewCount']:\n",
        "    posts.update_many({att: ''}, {'$set': { att: 0}})\n",
        "```\n",
        "\n",
        "(y así para el resto de colecciones)."
      ]
    },
    {
      "cell_type": "markdown",
      "metadata": {},
      "source": [
        "#### Opción 2: Más rápida, pero que requiere de código especializado\n",
        "\n",
        "Todas las bases de datos, en general, ofrecen un mecanismo para añadir datos lo más ráido posible. En el caso de MongoDB, se le conoce como `bulk_write`. Este método permite añadir muchos datos de una sola vez, y es mucho más rápido que hacerlo uno a uno. Además, se pueden añadir fuera de orden y en paralelo, lo que acelera aún más la inserción. Sin embargo, requiere de un código especializado, que se puede ver a continuación:"
      ]
    },
    {
      "cell_type": "code",
      "execution_count": 27,
      "metadata": {},
      "outputs": [],
      "source": [
        "from pymongo import UpdateMany\n",
        "from pymongo.errors import BulkWriteError\n",
        "\n",
        "requests: list[UpdateMany] = [UpdateMany({att: ''},\n",
        "                                        {'$set' : { att: None}})\n",
        "                                        for att in\n",
        "    ['AcceptedAnswerId', 'ClosedDate', 'CommunityOwnedDate', 'CreationDate',\n",
        "            'LastActivityDate', 'LastEditDate', 'LastEditorUserId', 'OwnerUserId', 'ParentId']]\n",
        "\n",
        "try:\n",
        "    db.posts.bulk_write(requests, ordered=False)\n",
        "except BulkWriteError as e:\n",
        "    print(e.details)"
      ]
    },
    {
      "cell_type": "code",
      "execution_count": 28,
      "metadata": {},
      "outputs": [],
      "source": [
        "from pymongo import UpdateMany\n",
        "from pymongo.errors import BulkWriteError\n",
        "\n",
        "requests: list[UpdateMany] = [UpdateMany({att: ''}, {'$set' : { att: 0}}) for att in\n",
        "    ['AnswerCount', 'CommentCount', 'FavoriteCount', 'Score', 'ViewCount']]\n",
        "\n",
        "try:\n",
        "    db.posts.bulk_write(requests, ordered=False)\n",
        "except BulkWriteError as e:\n",
        "    print(e.details)"
      ]
    },
    {
      "cell_type": "markdown",
      "metadata": {
        "id": "rwrJSwdffbrI"
      },
      "source": [
        "## Framework de Agregación\n",
        "\n",
        "Framework de agregación:\n",
        "- Aquí está la referencia de las diferentes etapas por las que puede pasar un pipeline: https://www.mongodb.com/docs/manual/reference/operator/aggregation-pipeline/.\n",
        "- Y aquí los distintos operadores que se permiten dentro de las etapas: https://docs.mongodb.com/manual/reference/operator/aggregation/.\n",
        "- Y aquí incluso un libro completo con usos prácticos de ejecutar agregación: https://www.practical-mongodb-aggregations.com/.\n",
        "\n",
        "A continuación otro vídeo interseante:"
      ]
    },
    {
      "cell_type": "code",
      "execution_count": null,
      "metadata": {
        "id": "2b3WDt0xA1UY"
      },
      "outputs": [],
      "source": [
        "from IPython.display import YouTubeVideo\n",
        "YouTubeVideo('VSX4a3h4SmQ',width=600)"
      ]
    },
    {
      "cell_type": "markdown",
      "metadata": {
        "id": "2ZpnWj3gA1UY"
      },
      "source": [
        "![](https://miro.medium.com/max/1060/1*2lDBxvZ8Cr3JYkoODTa0lQ.png)"
      ]
    },
    {
      "cell_type": "markdown",
      "metadata": {
        "id": "WqP4KjgafbrJ"
      },
      "source": [
        "Proyección:"
      ]
    },
    {
      "cell_type": "code",
      "execution_count": null,
      "metadata": {
        "id": "0HRH68mufbrL"
      },
      "outputs": [],
      "source": [
        "respuestas = db['posts'].aggregate( [\n",
        "    {'$project' : { 'Id' : True }},\n",
        "    {'$limit': 20} ])\n",
        "list(respuestas)"
      ]
    },
    {
      "cell_type": "markdown",
      "metadata": {
        "id": "SXP3qYs7fbrO"
      },
      "source": [
        "_Lookup_!"
      ]
    },
    {
      "cell_type": "code",
      "execution_count": null,
      "metadata": {
        "id": "iyZg-6TLfbrP",
        "scrolled": true
      },
      "outputs": [],
      "source": [
        "respuestas = posts.aggregate( [\n",
        "        {'$match': { 'Score' : {'$gte': 40}}},\n",
        "        {'$lookup': {\n",
        "            'from': \"users\",\n",
        "            'localField': \"OwnerUserId\",\n",
        "            'foreignField': \"Id\",\n",
        "            'as': \"owner\"}\n",
        "        },\n",
        "        {\"$limit\" : 20}\n",
        "        ])\n",
        "list(respuestas)"
      ]
    },
    {
      "cell_type": "markdown",
      "metadata": {
        "id": "Wc14fggBfbrR"
      },
      "source": [
        "El `$lookup` genera un _array_ con todos los resultados. El operador `$arrayElementAt` accede al primer elemento."
      ]
    },
    {
      "cell_type": "markdown",
      "metadata": {
        "id": "E11XU_bufbrU"
      },
      "source": [
        "El `$lookup` genera un *array* con todos los resultados. `$unwind` puede usarse para \"desdoblar\" cada fila por cada elemento del array. En este caso, como sabemos que el array sólo contiene un elemento, sólo habrá una fila por fila original, pero sin el _array_. Finalmente se puede proyectar el campo que se quiera."
      ]
    },
    {
      "cell_type": "code",
      "execution_count": null,
      "metadata": {
        "id": "EphHDIKyfbrU"
      },
      "outputs": [],
      "source": [
        "respuestas = db.posts.aggregate( [\n",
        "        { '$match': { 'Score' : {'$gte': 40}}},\n",
        "        { '$lookup': {\n",
        "            'from': \"users\",\n",
        "            'localField': \"OwnerUserId\",\n",
        "            'foreignField': \"Id\",\n",
        "            'as': \"owner\"\n",
        "          }\n",
        "        },\n",
        "\n",
        "        { '$unwind': '$owner'},\n",
        "\n",
        "        { '$project' : {\n",
        "             'username': '$owner.DisplayName'\n",
        "          }\n",
        "        },\n",
        "        { '$limit' : 20 }\n",
        "        ])\n",
        "list(respuestas)"
      ]
    },
    {
      "cell_type": "markdown",
      "metadata": {
        "id": "aF2UeJhWfbrY"
      },
      "source": [
        "### Ejemplo de realización de la consulta RQ4"
      ]
    },
    {
      "cell_type": "markdown",
      "metadata": {
        "id": "xZCEYMe_fbrY"
      },
      "source": [
        "Como ejemplo de consulta compleja con el Framework de Agregación, adjunto una posible solución a la consulta **RQ4**: \"Do people that have questions answered by other people answer questions of those other people?\". Esto es, ¿hay algún tipo de relación social en Stackoverflow de manera que si alguien te responde una pregunta intentas responder alguna pregunta suya? Veamos."
      ]
    },
    {
      "cell_type": "markdown",
      "metadata": {},
      "source": [
        "Al ser una consulta compleja, la iremos viendo por partes. Lo bueno del Framework de Agregación es que se puede ir viendo paso a paso, y se puede ir depurando. En este caso, la consulta se puede dividir en los siguientes pasos:"
      ]
    },
    {
      "cell_type": "markdown",
      "metadata": {},
      "source": [
        "En un primer paso, cogemos las respuestas (`PostTypeId` = 2) y encontramos sus correspondientes preguntas (`ParentId`), y nos quedamos con el `OwnerUserId` de la respuesta y el `OwnerUserId` de la pregunta. Esto se puede hacer con un `$lookup` y un `$project`:"
      ]
    },
    {
      "cell_type": "code",
      "execution_count": null,
      "metadata": {
        "id": "JMS_VrLtfbrZ",
        "scrolled": true
      },
      "outputs": [],
      "source": [
        "RQ4 = db.posts.aggregate( [\n",
        "        { \"$match\" : {\"PostTypeId\": 2}},\n",
        "        { '$lookup': {\n",
        "            'from': \"posts\",\n",
        "            'localField': \"ParentId\",\n",
        "            'foreignField': \"Id\",\n",
        "            'as': \"question\"\n",
        "          }\n",
        "        },\n",
        "\n",
        "        { '$unwind' : '$question' },\n",
        "\n",
        "        { '$project' : {\n",
        "            'OwnerUserId': True,\n",
        "            'OP' : '$question.OwnerUserId'\n",
        "          }\n",
        "        },\n",
        "        {\n",
        "          '$limit' : 100\n",
        "        }\n",
        "    ])\n",
        "RQ4 = list(RQ4)\n",
        "RQ4"
      ]
    },
    {
      "cell_type": "markdown",
      "metadata": {},
      "source": [
        "A continuación, cubrimos ciertos casos que se pueden dar. Recuérdese que algunas preguntas no llevaban relleno el `OwnerUserId`, por lo que se deben eliminar. Además, se eliminan los casos en los que el `OwnerUserId` de la pregunta es el mismo que el de la respuesta. Esto se puede hacer con un `$match`:"
      ]
    },
    {
      "cell_type": "code",
      "execution_count": null,
      "metadata": {},
      "outputs": [],
      "source": [
        "RQ4 = db.posts.aggregate( [\n",
        "        { \"$match\" : {\"PostTypeId\": 2}},\n",
        "        { '$lookup': {\n",
        "            'from': \"posts\",\n",
        "            'localField': \"ParentId\",\n",
        "            'foreignField': \"Id\",\n",
        "            'as': \"question\"\n",
        "          }\n",
        "        },\n",
        "\n",
        "        { '$unwind' : '$question' },\n",
        "\n",
        "        { '$project' : {\n",
        "            'OwnerUserId': True,\n",
        "            'OP' : '$question.OwnerUserId'\n",
        "          }\n",
        "        },\n",
        "        # Evitar el uso de algún campo nulo, y que el OP no sea el mismo que el OwnerUserId\n",
        "        { '$match' : { '$and' : [ {'OwnerUserId' : { '$ne' : None}},\n",
        "                                  {'OP' : { '$ne' : None}},\n",
        "                                  {'$expr' : { '$ne' : ['$OwnerUserId', '$OP'] }}\n",
        "                                ]\n",
        "                      }\n",
        "        },\n",
        "        { '$limit' : 100 }\n",
        "    ])\n",
        "RQ4 = list(RQ4)\n",
        "RQ4"
      ]
    },
    {
      "cell_type": "markdown",
      "metadata": {},
      "source": [
        "A continuación, de las relaciones que hay entre ambos, el usuario que pregunta y el usuario que responde, se agrupan todas, independientemente del tipo de relación. Para ello, se utilizan ambos identificadores y se construye una clave que elige siempre el mínimo y el máximo. Esta selección es siempre la misma independientemente en el orden que estén. Con esa clave, se agrupan todas las relaciones. Esto se puede hacer con un `$project` y un `$group`. En la agruación, además, se construye el atributo `pairs`, que guarda un **conjunto** con todas las relaciones posibles entre los dos usuarios. Si hay más de una vez que uno preguntó y el otro respondió, sólo se guarda una vez. Si hay más de una vez que el otro preguntó y el uno respondió, también se guarda sólo una vez."
      ]
    },
    {
      "cell_type": "code",
      "execution_count": null,
      "metadata": {},
      "outputs": [],
      "source": [
        "RQ4 = db.posts.aggregate( [\n",
        "        { \"$match\" : {\"PostTypeId\": 2}},\n",
        "        { '$lookup': {\n",
        "            'from': \"posts\",\n",
        "            'localField': \"ParentId\",\n",
        "            'foreignField': \"Id\",\n",
        "            'as': \"question\"\n",
        "          }\n",
        "        },\n",
        "\n",
        "        { '$unwind' : '$question' },\n",
        "\n",
        "        { '$project' : {\n",
        "            'OwnerUserId': True,\n",
        "            'OP' : '$question.OwnerUserId'\n",
        "          }\n",
        "        },\n",
        "        # Evitar el uso de algún campo nulo, y que el OP no sea el mismo que el OwnerUserId\n",
        "        { '$match' : { '$and' : [ {'OwnerUserId' : { '$ne' : None}},\n",
        "                                  {'OP' : { '$ne' : None}},\n",
        "                                  {'$expr' : { '$ne' : ['$OwnerUserId', '$OP'] }}\n",
        "                                ]\n",
        "                      }\n",
        "        },\n",
        "        {\n",
        "          '$group' : {'_id' : {'min' : { '$min' : ['$OwnerUserId' , '$OP'] },\n",
        "                               'max' : { '$max' : ['$OwnerUserId' , '$OP'] }},\n",
        "                      'pairs' : {'$addToSet' : { '0q': '$OP', '1a': '$OwnerUserId'}}\n",
        "          }\n",
        "        },\n",
        "        { '$limit' : 100 }\n",
        "    ])\n",
        "RQ4 = list(RQ4)\n",
        "RQ4"
      ]
    },
    {
      "cell_type": "markdown",
      "metadata": {},
      "source": [
        "Finalmente, se cuenta el número de relaciones que hay en el conjunto `pairs`. Si es mayor que 1, es que hay una relación social. Esto se puede hacer con un `$project` y un `$match`."
      ]
    },
    {
      "cell_type": "code",
      "execution_count": null,
      "metadata": {},
      "outputs": [],
      "source": [
        "RQ4 = db.posts.aggregate( [\n",
        "        { \"$match\" : {\"PostTypeId\": 2}},\n",
        "        { '$lookup': {\n",
        "            'from': \"posts\",\n",
        "            'localField': \"ParentId\",\n",
        "            'foreignField': \"Id\",\n",
        "            'as': \"question\"\n",
        "          }\n",
        "        },\n",
        "\n",
        "        { '$unwind' : '$question' },\n",
        "\n",
        "        { '$project' : {\n",
        "            'OwnerUserId': True,\n",
        "            'OP' : '$question.OwnerUserId'\n",
        "          }\n",
        "        },\n",
        "        # Evitar el uso de algún campo nulo, y que el OP no sea el mismo que el OwnerUserId\n",
        "        { '$match' : { '$and' : [ {'OwnerUserId' : { '$ne' : None}},\n",
        "                                  {'OP' : { '$ne' : None}},\n",
        "                                  {'$expr' : { '$ne' : ['$OwnerUserId', '$OP'] }}\n",
        "                                ]\n",
        "                      }\n",
        "        },\n",
        "        {\n",
        "          '$group' : {'_id' : {'min' : { '$min' : ['$OwnerUserId' , '$OP'] },\n",
        "                               'max' : { '$max' : ['$OwnerUserId' , '$OP'] }},\n",
        "                      'pairs' : {'$addToSet' : { '0q': '$OP', '1a': '$OwnerUserId'}}\n",
        "          }\n",
        "        },\n",
        "        {\n",
        "          '$project': {\n",
        "            'pairs' : True,\n",
        "            'npairs' : { '$size' : '$pairs'}\n",
        "          }\n",
        "        },\n",
        "        {\n",
        "          '$match' : { 'npairs' : { '$eq' : 2}}\n",
        "        }\n",
        "    ])\n",
        "RQ4 = list(RQ4)\n",
        "RQ4"
      ]
    },
    {
      "cell_type": "markdown",
      "metadata": {
        "id": "OtfkubiAfbrc"
      },
      "source": [
        "La explicación es como sigue:\n",
        "\n",
        "1. Se eligen sólo las respuestas\n",
        "2. Se accede a la tabla `posts` para recuperar los datos de la pregunta\n",
        "3. A continuación se proyectan sólo el usuario que pregunta y el que hace la respuesta\n",
        "4. El paso más imaginativo es el de agrupación. Lo que se intenta es que ambos pares de usuarios que están relacionados como preguntante -> respondiente y viceversa, caigan en la misma clave. Por ello, se coge el máximo y el mínimo de ambos identificadores de usuarios y se construye una clave con ambos números en las mismas posiciones. Así, ambas combinaciones de usuario que pregunta y que responde caerán en la misma clave. También se usa un conjunto (en `pairs`), y sólo se añadirá una vez las posibles combinaciones iguales de preguntador/respondiente.\n",
        "5. Sólo nos interesan aquellas tuplas cuyo tamaño del conjunto de pares de pregunta/respuesta sea igual a dos (en un elemento uno de los dos usuarios habrá preguntado y el otro habrá respondido y en el otro viceversa)."
      ]
    },
    {
      "cell_type": "markdown",
      "metadata": {
        "id": "PSQQ52oSfbrc"
      },
      "source": [
        "En el caso de que queramos tener como referencia las preguntas y respuestas a las que se refiere la conversación, se puede añadir un campo más que guarde todas las preguntas junto con sus respuestas consideradas"
      ]
    },
    {
      "cell_type": "code",
      "execution_count": null,
      "metadata": {
        "id": "hkg8Kisqfbrd",
        "scrolled": true
      },
      "outputs": [],
      "source": [
        "RQ4 = db.posts.aggregate( [\n",
        "        { '$match': { 'PostTypeId' : 2}},\n",
        "        { '$lookup': {\n",
        "            'from': \"posts\",\n",
        "            'localField': \"ParentId\",\n",
        "            'foreignField': \"Id\",\n",
        "            'as': \"question\"\n",
        "          }\n",
        "        },\n",
        "\n",
        "        { '$unwind' : '$question' },\n",
        "\n",
        "        { '$project' : {\n",
        "            'OwnerUserId': True,\n",
        "            'QId' : '$question.Id',\n",
        "            'AId' : '$Id',\n",
        "            'OP' : '$question.OwnerUserId'\n",
        "          }\n",
        "        },\n",
        "        # Evitar el uso de algún campo nulo, y que el OP no sea el mismo que el OwnerUserId\n",
        "        { '$match' : { '$and' : [ {'OwnerUserId' : { '$ne' : None}},\n",
        "                                  {'OP' : { '$ne' : None}},\n",
        "                                  {'$expr' : { '$ne' : ['$OwnerUserId', '$OP'] }}\n",
        "                                ]\n",
        "                      }\n",
        "        },\n",
        "        {\n",
        "          '$group' : {'_id' : {'min' : { '$min' : ['$OwnerUserId' , '$OP'] },\n",
        "                               'max' : { '$max' : ['$OwnerUserId' , '$OP'] }},\n",
        "                      'pairs' : {'$addToSet' : { '0q':'$OP', '1a': '$OwnerUserId'}},\n",
        "                      'considered_pairs' : { '$push' : {'QId' : '$QId', 'AId' : '$AId'}}\n",
        "          }\n",
        "        },\n",
        "        { '$project': {\n",
        "            'pairs' : True,\n",
        "            'npairs' : { '$size' : '$pairs'},\n",
        "            'considered_pairs' : True\n",
        "          }\n",
        "        },\n",
        "        { '$match' : { 'npairs' : { '$eq' : 2}} }\n",
        "    ])\n",
        "RQ4 = list(RQ4)\n",
        "RQ4"
      ]
    },
    {
      "cell_type": "code",
      "execution_count": null,
      "metadata": {
        "id": "9Sjnp3LXfbre"
      },
      "outputs": [],
      "source": [
        "(db.posts.find_one({'Id': 238}), db.posts.find_one({'Id': 243}),\n",
        "db.posts.find_one({'Id': 222}), db.posts.find_one({'Id': 223}))"
      ]
    },
    {
      "cell_type": "markdown",
      "metadata": {
        "id": "dcsTmRuxfbrh"
      },
      "source": [
        "### Ejemplo de consulta: Tiempo medio desde que se hace una pregunta hasta que se le da la primera respuesta\n",
        "\n",
        "Veamos cómo calcular el tiempo medio desde que se hace una pregunta hasta que se le da la primera respuesta. No se considerarán pues las preguntas que no tienen respuesta, lo cual es razonable."
      ]
    },
    {
      "cell_type": "markdown",
      "metadata": {
        "id": "PFxtVyRlfbrv"
      },
      "source": [
        "Esto sólo calcula el tiempo mínimo de cada pregunta a su respuesta. Después se añadirá el código que calcula la media final:"
      ]
    },
    {
      "cell_type": "code",
      "execution_count": null,
      "metadata": {
        "id": "qBI8nYpffbrw"
      },
      "outputs": [],
      "source": [
        "min_answer_time = db.posts.aggregate([\n",
        "    { \"$match\" : {\"PostTypeId\" : 2} },\n",
        "    { '$group' : {\n",
        "        '_id' : '$ParentId',\n",
        "        # 'answers' : { '$push' : {'Id' : \"$Id\", 'CreationDate' : \"$CreationDate\"}},\n",
        "        'min' : {'$min' : \"$CreationDate\"}\n",
        "      }\n",
        "    },\n",
        "    { \"$lookup\" : {\n",
        "        'from': \"posts\",\n",
        "        'localField': \"_id\",\n",
        "        'foreignField': \"Id\",\n",
        "        'as': \"post\"}\n",
        "    },\n",
        "    { \"$unwind\" : \"$post\"},\n",
        "    { \"$project\" : {\n",
        "        \"_id\" : True,\n",
        "        \"min\" : True,\n",
        "        #\"post\" : True,\n",
        "        \"diff\" : {\"$subtract\" : [\"$min\", \"$post.CreationDate\"]}\n",
        "      }\n",
        "    },\n",
        "    #    { \"$sort\" : {'_id' : 1} },\n",
        "    #{\n",
        "    #  \"$group\" :  {\n",
        "    #    \"_id\" : None,\n",
        "    #    \"avg\" : { \"$avg\" : \"$diff\"}\n",
        "    #  }\n",
        "    #}\n",
        "    { \"$limit\" : 20}\n",
        "])\n",
        "min_answer_time = list(min_answer_time)\n",
        "min_answer_time"
      ]
    },
    {
      "cell_type": "code",
      "execution_count": null,
      "metadata": {
        "id": "MKwXKnL6k3ls"
      },
      "outputs": [],
      "source": [
        "df = pd.json_normalize(min_answer_time)\n",
        "df.index=df[\"_id\"]\n",
        "df"
      ]
    },
    {
      "cell_type": "code",
      "execution_count": null,
      "metadata": {
        "id": "M3JCCSpnmWvx"
      },
      "outputs": [],
      "source": [
        "df['diff'].plot(kind='bar')"
      ]
    },
    {
      "cell_type": "markdown",
      "metadata": {
        "id": "nZwOr6R-p4_1"
      },
      "source": [
        "La siguiente consulta sí calcula el mínimo:"
      ]
    },
    {
      "cell_type": "code",
      "execution_count": null,
      "metadata": {
        "id": "HjaAdRxOptQQ"
      },
      "outputs": [],
      "source": [
        "avg_answer_time = db.posts.aggregate([\n",
        "    { \"$match\" : {\"PostTypeId\" : 2} },\n",
        "    { '$group' : {\n",
        "        '_id' : '$ParentId',\n",
        "        # 'answers' : { '$push' : {'Id' : \"$Id\", 'CreationDate' : \"$CreationDate\"}},\n",
        "        'min' : {'$min' : \"$CreationDate\"}\n",
        "      }\n",
        "    },\n",
        "    { \"$lookup\" : {\n",
        "        'from': \"posts\",\n",
        "        'localField': \"_id\",\n",
        "        'foreignField': \"Id\",\n",
        "        'as': \"post\"}\n",
        "    },\n",
        "    { \"$unwind\" : \"$post\"},\n",
        "    { \"$project\" : {\n",
        "        \"_id\" : True,\n",
        "        \"min\" : True,\n",
        "        #\"post\" : True,\n",
        "        \"diff\" : {\"$subtract\" : [\"$min\", \"$post.CreationDate\"]}\n",
        "      }\n",
        "    },\n",
        "    #    { \"$sort\" : {'_id' : 1} }\n",
        "    {\n",
        "      \"$group\" :  {\n",
        "        \"_id\" : None,\n",
        "        \"avg\" : { \"$avg\" : \"$diff\"}\n",
        "      }\n",
        "    }\n",
        "])\n",
        "avg_answer_time = list(avg_answer_time)\n",
        "avg_answer_time"
      ]
    },
    {
      "cell_type": "markdown",
      "metadata": {
        "id": "ZSF1uu0tfbrz"
      },
      "source": [
        "## EJERCICIO 1: Con Agregación, construir las colecciones que asocian un usuario con las preguntas que ha hecho de cada tag (dado como su ID de tag) y dado un ID de tag, qué usuarios han hecho preguntas de ese tag (E1)."
      ]
    },
    {
      "cell_type": "code",
      "execution_count": null,
      "metadata": {
        "id": "By9Qt_xFfbrz"
      },
      "outputs": [],
      "source": []
    },
    {
      "cell_type": "markdown",
      "metadata": {
        "id": "059pixp_fbr0"
      },
      "source": [
        "## EJERCICIO 2: Con el Framework de Agregación, generar la colección `StackOverflowFacts` vista en la sesión 2 (E2)."
      ]
    },
    {
      "cell_type": "code",
      "execution_count": null,
      "metadata": {
        "id": "ZKCoN9oAfbr2"
      },
      "outputs": [],
      "source": []
    },
    {
      "cell_type": "markdown",
      "metadata": {
        "id": "R35J7czpA1Uf"
      },
      "source": [
        "## EJERCICIO 3: Con Agregación implementar la consulta RQ3 de la sesión 2."
      ]
    },
    {
      "cell_type": "code",
      "execution_count": null,
      "metadata": {
        "id": "nMS2wYJYA1Ug"
      },
      "outputs": [],
      "source": []
    },
    {
      "cell_type": "markdown",
      "metadata": {
        "id": "B0mhWGpBfbr8"
      },
      "source": [
        "## EJERCICIO 4: Con Agregación, calcular, en la tabla `StackOverflowFacts` la media de tiempo que pasa desde que los usuarios se registran hasta que publican su primera pregunta."
      ]
    },
    {
      "cell_type": "code",
      "execution_count": null,
      "metadata": {
        "id": "_8NNbLnQfbr9"
      },
      "outputs": [],
      "source": []
    },
    {
      "cell_type": "markdown",
      "metadata": {
        "id": "gDPMuAvSKp7i"
      },
      "source": [
        "## EJERCICIO 4: Con Agregación, calcular, en la tabla `StackOverflowFacts` la media de tiempo que pasa desde que se hace una pregunta hasta que se recibe la primera respuesta (ignorar las preguntas sin respuesta), y también desde la pregunta hasta la respuesta aceptada (de nuevo, si no tiene respuesta aceptada, se ignora esa pregunta)"
      ]
    },
    {
      "cell_type": "code",
      "execution_count": null,
      "metadata": {
        "id": "SG4lst2sKr9d"
      },
      "outputs": [],
      "source": []
    }
  ],
  "metadata": {
    "colab": {
      "include_colab_link": true,
      "name": "sesion4.ipynb",
      "provenance": []
    },
    "kernelspec": {
      "display_name": "Python 3 (ipykernel)",
      "language": "python",
      "name": "python3"
    },
    "language_info": {
      "codemirror_mode": {
        "name": "ipython",
        "version": 3
      },
      "file_extension": ".py",
      "mimetype": "text/x-python",
      "name": "python",
      "nbconvert_exporter": "python",
      "pygments_lexer": "ipython3",
      "version": "3.11.10"
    }
  },
  "nbformat": 4,
  "nbformat_minor": 0
}
