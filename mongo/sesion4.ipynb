{
  "cells": [
    {
      "cell_type": "markdown",
      "metadata": {
        "id": "WdqTiGhdfbo4"
      },
      "source": [
        "## NoSQL (MongoDB) (sesión 4)\n"
      ]
    },
    {
      "cell_type": "markdown",
      "metadata": {
        "id": "ZbikzCBUXK2P"
      },
      "source": [
        "![MongoDB](https://webassets.mongodb.com/_com_assets/cms/MongoDB_Logo_FullColorBlack_RGB-4td3yuxzjs.png)\n",
        "\n",
        "Esta hoja muestra cómo acceder a bases de datos MongoDB y también a conectar la salida con Jupyter. Se puede utilizar el *shell* propio de MongoDB en el contenedor usando el programa `mongo`. La diferencia es que ese programa espera código Javascript y aquí trabajaremos con Python."
      ]
    },
    {
      "cell_type": "code",
      "source": [
        "RunningInCOLAB = 'google.colab' in str(get_ipython()) if hasattr(__builtins__,'__IPYTHON__') else False"
      ],
      "metadata": {
        "id": "x9-RN4ZSY5o9"
      },
      "execution_count": null,
      "outputs": []
    },
    {
      "cell_type": "code",
      "source": [
        "db_hostname = \"localhost\" if RunningInCOLAB else \"mongo\""
      ],
      "metadata": {
        "id": "n5BdH3KOZA47"
      },
      "execution_count": null,
      "outputs": []
    },
    {
      "cell_type": "code",
      "source": [
        "!wget -qO - https://www.mongodb.org/static/pgp/server-6.0.asc | sudo gpg --dearmor > /etc/apt/trusted.gpg.d/mongo-server-6.gpg"
      ],
      "metadata": {
        "id": "J2M97e3BfQfB"
      },
      "execution_count": null,
      "outputs": []
    },
    {
      "cell_type": "code",
      "execution_count": null,
      "metadata": {
        "id": "ezAIGix1IehU"
      },
      "outputs": [],
      "source": [
        "%%bash\n",
        "sudo adduser --system --no-create-home mongodb\n",
        "sudo addgroup --system mongodb\n",
        "sudo adduser mongodb mongodb\n",
        "\n",
        "# create db -- note: this should agree with dbpath in mongod.conf\n",
        "if [ ! -d /var/lib/mongodb ]; then\n",
        "  sudo mkdir -p /var/lib/mongodb\n",
        "  sudo chown mongodb:mongodb /var/lib/mongodb\n",
        "fi\n",
        "\n",
        "# create logdir -- note: this should agree with logpath in mongod.conf\n",
        "if [ ! -d /var/log/mongodb ]; then\n",
        "  sudo mkdir -p /var/log/mongodb\n",
        "  sudo chown mongodb:mongodb /var/log/mongodb\n",
        "fi"
      ]
    },
    {
      "cell_type": "code",
      "execution_count": null,
      "metadata": {
        "id": "bkQTZoJDIehX"
      },
      "outputs": [],
      "source": [
        "!echo \"deb [ arch=amd64,arm64 ] https://repo.mongodb.org/apt/ubuntu jammy/mongodb-org/6.0 multiverse\" | sudo tee /etc/apt/sources.list.d/mongodb-org-6.0.list"
      ]
    },
    {
      "cell_type": "code",
      "execution_count": null,
      "metadata": {
        "id": "pJ25BFUcIehY"
      },
      "outputs": [],
      "source": [
        "!sudo apt-get update -qq"
      ]
    },
    {
      "cell_type": "code",
      "execution_count": null,
      "metadata": {
        "id": "aRypLsP2IehZ"
      },
      "outputs": [],
      "source": [
        "!sudo ln -sf /bin/true /bin/systemctl"
      ]
    },
    {
      "cell_type": "code",
      "execution_count": null,
      "metadata": {
        "id": "0CH-EbXBIeha"
      },
      "outputs": [],
      "source": [
        "!sudo apt-get install -y -qq dialog mongodb-org"
      ]
    },
    {
      "cell_type": "code",
      "execution_count": null,
      "metadata": {
        "id": "e4-poVR5Iehb"
      },
      "outputs": [],
      "source": [
        "!sudo /usr/bin/mongod --config /etc/mongod.conf --fork"
      ]
    },
    {
      "cell_type": "code",
      "execution_count": null,
      "metadata": {
        "id": "txLEqNUWIehb"
      },
      "outputs": [],
      "source": [
        "!sudo mongod --version"
      ]
    },
    {
      "cell_type": "markdown",
      "metadata": {
        "id": "GaTsWPro-oOG"
      },
      "source": [
        "## Inicio de la hoja\n"
      ]
    },
    {
      "cell_type": "code",
      "execution_count": null,
      "metadata": {
        "id": "xE0Sl869XK2Y"
      },
      "outputs": [],
      "source": [
        "!pip install --upgrade pymongo"
      ]
    },
    {
      "cell_type": "code",
      "execution_count": null,
      "metadata": {
        "id": "C0Le2anDXK2k"
      },
      "outputs": [],
      "source": [
        "from pprint import pprint as pp\n",
        "import pandas as pd\n",
        "import matplotlib.pyplot as plt\n",
        "import matplotlib\n",
        "\n",
        "%matplotlib inline\n",
        "matplotlib.style.use('ggplot')"
      ]
    },
    {
      "cell_type": "markdown",
      "metadata": {
        "id": "O92AlPcMXK2r"
      },
      "source": [
        "Usaremos la librería `pymongo` para python. La cargamos a continuación."
      ]
    },
    {
      "cell_type": "code",
      "execution_count": null,
      "metadata": {
        "id": "Pc7akqe0XK2t"
      },
      "outputs": [],
      "source": [
        "import pymongo\n",
        "from pymongo import MongoClient"
      ]
    },
    {
      "cell_type": "markdown",
      "metadata": {
        "id": "mkiP6rzXXK2z"
      },
      "source": [
        "La conexión se inicia con `MongoClient` en el `host` descrito en el fichero `docker-compose.yml` (`mongo`), o bien a `localhost` si lo estamos haciendo en Colab."
      ]
    },
    {
      "cell_type": "code",
      "execution_count": null,
      "metadata": {
        "id": "s4BiT5o9XK20"
      },
      "outputs": [],
      "source": [
        "client = MongoClient(db_hostname,27017)\n",
        "client"
      ]
    },
    {
      "cell_type": "code",
      "execution_count": null,
      "metadata": {
        "id": "3xqmSSGdXK25"
      },
      "outputs": [],
      "source": [
        "client.list_database_names()"
      ]
    },
    {
      "cell_type": "markdown",
      "metadata": {
        "id": "NK67vpHdfbpn"
      },
      "source": [
        " - Format: 7zipped\n",
        " - Files:\n",
        "   - **badges**.xml\n",
        "       - UserId, e.g.: \"420\"\n",
        "       - Name, e.g.: \"Teacher\"\n",
        "       - Date, e.g.: \"2008-09-15T08:55:03.923\"\n",
        "   - **comments**.xml\n",
        "       - Id\n",
        "       - PostId\n",
        "       - Score\n",
        "       - Text, e.g.: \"@Stu Thompson: Seems possible to me - why not try it?\"\n",
        "       - CreationDate, e.g.:\"2008-09-06T08:07:10.730\"\n",
        "       - UserId\n",
        "   - **posts**.xml\n",
        "       - Id\n",
        "       - PostTypeId\n",
        "          - 1: Question\n",
        "          - 2: Answer\n",
        "       - ParentID (only present if PostTypeId is 2)\n",
        "       - AcceptedAnswerId (only present if PostTypeId is 1)\n",
        "       - CreationDate\n",
        "       - Score\n",
        "       - ViewCount\n",
        "       - Body\n",
        "       - OwnerUserId\n",
        "       - LastEditorUserId\n",
        "       - LastEditorDisplayName=\"Jeff Atwood\"\n",
        "       - LastEditDate=\"2009-03-05T22:28:34.823\"\n",
        "       - LastActivityDate=\"2009-03-11T12:51:01.480\"\n",
        "       - CommunityOwnedDate=\"2009-03-11T12:51:01.480\"\n",
        "       - ClosedDate=\"2009-03-11T12:51:01.480\"\n",
        "       - Title=\n",
        "       - Tags=\n",
        "       - AnswerCount\n",
        "       - CommentCount\n",
        "       - FavoriteCount\n",
        "   - **posthistory**.xml\n",
        "\t   - Id\n",
        "\t   - PostHistoryTypeId\n",
        "\t\t\t- 1: Initial Title - The first title a question is asked with.\n",
        "\t\t\t- 2: Initial Body - The first raw body text a post is submitted with.\n",
        "\t\t\t- 3: Initial Tags - The first tags a question is asked with.\n",
        "\t\t\t- 4: Edit Title - A question's title has been changed.\n",
        "\t\t\t- 5: Edit Body - A post's body has been changed, the raw text is stored here as markdown.\n",
        "\t\t\t- 6: Edit Tags - A question's tags have been changed.\n",
        "\t\t\t- 7: Rollback Title - A question's title has reverted to a previous version.\n",
        "\t\t\t- 8: Rollback Body - A post's body has reverted to a previous version - the raw text is stored here.\n",
        "\t\t\t- 9: Rollback Tags - A question's tags have reverted to a previous version.\n",
        "\t\t\t- 10: Post Closed - A post was voted to be closed.\n",
        "\t\t\t- 11: Post Reopened - A post was voted to be reopened.\n",
        "\t\t\t- 12: Post Deleted - A post was voted to be removed.\n",
        "\t\t\t- 13: Post Undeleted - A post was voted to be restored.\n",
        "\t\t\t- 14: Post Locked - A post was locked by a moderator.\n",
        "\t\t\t- 15: Post Unlocked - A post was unlocked by a moderator.\n",
        "\t\t\t- 16: Community Owned - A post has become community owned.\n",
        "\t\t\t- 17: Post Migrated - A post was migrated.\n",
        "\t\t\t- 18: Question Merged - A question has had another, deleted question merged into itself.\n",
        "\t\t\t- 19: Question Protected - A question was protected by a moderator\n",
        "\t\t\t- 20: Question Unprotected - A question was unprotected by a moderator\n",
        "\t\t\t- 21: Post Disassociated - An admin removes the OwnerUserId from a post.\n",
        "\t\t\t- 22: Question Unmerged - A previously merged question has had its answers and votes restored.\n",
        "\t\t- PostId\n",
        "\t\t- RevisionGUID: At times more than one type of history record can be recorded by a single action.  All of these will be grouped using the same RevisionGUID\n",
        "\t\t- CreationDate: \"2009-03-05T22:28:34.823\"\n",
        "\t\t- UserId\n",
        "\t\t- UserDisplayName: populated if a user has been removed and no longer referenced by user Id\n",
        "\t\t- Comment: This field will contain the comment made by the user who edited a post\n",
        "\t\t- Text: A raw version of the new value for a given revision\n",
        "\t\t\t- If PostHistoryTypeId = 10, 11, 12, 13, 14, or 15  this column will contain a JSON encoded string with all users who have voted for the PostHistoryTypeId\n",
        "\t\t\t- If PostHistoryTypeId = 17 this column will contain migration details of either \"from <url>\" or \"to <url>\"\n",
        "\t\t- CloseReasonId\n",
        "\t\t\t- 1: Exact Duplicate - This question covers exactly the same ground as earlier questions on this topic; its answers may be merged with another identical question.\n",
        "\t\t\t- 2: off-topic\n",
        "\t\t\t- 3: subjective\n",
        "\t\t\t- 4: not a real question\n",
        "\t\t\t- 7: too localized\n",
        "   - **postlinks**.xml\n",
        "     - Id\n",
        "     - CreationDate\n",
        "     - PostId\n",
        "     - RelatedPostId\n",
        "     - PostLinkTypeId\n",
        "       - 1: Linked\n",
        "       - 3: Duplicate\n",
        "   - **users**.xml\n",
        "     - Id\n",
        "     - Reputation\n",
        "     - CreationDate\n",
        "     - DisplayName\n",
        "     - EmailHash\n",
        "     - LastAccessDate\n",
        "     - WebsiteUrl\n",
        "     - Location\n",
        "     - Age\n",
        "     - AboutMe\n",
        "     - Views\n",
        "     - UpVotes\n",
        "     - DownVotes\n",
        "   - **votes**.xml\n",
        "     - Id\n",
        "     - PostId\n",
        "     - VoteTypeId\n",
        "        - ` 1`: AcceptedByOriginator\n",
        "        - ` 2`: UpMod\n",
        "        - ` 3`: DownMod\n",
        "        - ` 4`: Offensive\n",
        "        - ` 5`: Favorite - if VoteTypeId = 5 UserId will be populated\n",
        "        - ` 6`: Close\n",
        "        - ` 7`: Reopen\n",
        "        - ` 8`: BountyStart\n",
        "        - ` 9`: BountyClose\n",
        "        - `10`: Deletion\n",
        "        - `11`: Undeletion\n",
        "        - `12`: Spam\n",
        "        - `13`: InformModerator\n",
        "     - CreationDate\n",
        "     - UserId (only for VoteTypeId 5)\n",
        "     - BountyAmount (only for VoteTypeId 9)"
      ]
    },
    {
      "cell_type": "markdown",
      "metadata": {
        "id": "y_z-OMVcfbpo"
      },
      "source": [
        "Las bases de datos se crean conforme se nombran. Se puede utilizar la notación punto o la de diccionario. Las colecciones también."
      ]
    },
    {
      "cell_type": "code",
      "execution_count": null,
      "metadata": {
        "id": "D6TpCHUufbpp"
      },
      "outputs": [],
      "source": [
        "db = client.stackoverflow\n",
        "db = client['stackoverflow']\n",
        "db"
      ]
    },
    {
      "cell_type": "markdown",
      "metadata": {
        "id": "zcmwyXkVfbpu"
      },
      "source": [
        "Las bases de datos están compuestas por un conjunto de **colecciones**. Cada colección aglutina a un conjunto de objetos (documentos) del mismo tipo, aunque como vimos en teoría, cada documento puede tener un conjunto de atributos diferente."
      ]
    },
    {
      "cell_type": "code",
      "execution_count": null,
      "metadata": {
        "id": "C0dR1mcffbpu"
      },
      "outputs": [],
      "source": [
        "posts = db.posts\n",
        "posts"
      ]
    },
    {
      "cell_type": "markdown",
      "metadata": {
        "id": "0PMVDICrfbpy"
      },
      "source": [
        "Importación de los ficheros CSV. Por ahora creamos una colección diferente para cada uno. Después estudiaremos cómo poder optimizar el acceso usando agregación."
      ]
    },
    {
      "cell_type": "code",
      "execution_count": null,
      "metadata": {
        "id": "7zSyY2pffbp4"
      },
      "outputs": [],
      "source": [
        "import csv\n",
        "from datetime import datetime\n",
        "\n",
        "def csv_to_mongo(file, coll):\n",
        "    \"\"\"\n",
        "    Carga un fichero CSV en Mongo. file especifica el fichero, coll la colección\n",
        "    dentro de la base de datos, y date_cols las columnas que serán interpretadas\n",
        "    como fechas.\n",
        "    \"\"\"\n",
        "    # Convertir todos los elementos que se puedan a números\n",
        "    def to_numeric(d):\n",
        "        try:\n",
        "            return int(d)\n",
        "        except ValueError:\n",
        "            try:\n",
        "                return float(d)\n",
        "            except ValueError:\n",
        "                return d\n",
        "\n",
        "    def to_date(d):\n",
        "        \"\"\"To ISO Date. If this cannot be converted, return NULL (None)\"\"\"\n",
        "        try:\n",
        "            return datetime.strptime(d, \"%Y-%m-%dT%H:%M:%S.%f\")\n",
        "        except ValueError:\n",
        "            return None\n",
        "\n",
        "    coll.drop()\n",
        "\n",
        "    with open(file, encoding='utf-8') as f:\n",
        "        # La llamada csv.reader() crea un iterador sobre un fichero CSV\n",
        "        reader = csv.reader(f, dialect='excel')\n",
        "\n",
        "        # Se leen las columnas. Sus nombres se usarán para crear las diferentes columnas en la familia\n",
        "        columns = next(reader)\n",
        "\n",
        "        # Las columnas que contienen 'Date' se interpretan como fechas\n",
        "        func_to_cols = list(map(lambda c: to_date if 'date' in c.lower() else to_numeric, columns))\n",
        "\n",
        "        docs=[]\n",
        "        for row in reader:\n",
        "            row = [func(e) for (func,e) in zip(func_to_cols, row)]\n",
        "            docs.append(dict(zip(columns, row)))\n",
        "        coll.insert_many(docs)"
      ]
    },
    {
      "cell_type": "code",
      "execution_count": null,
      "metadata": {
        "id": "PP5jW7W0IWrF"
      },
      "outputs": [],
      "source": [
        "import gzip\n",
        "from urllib.request import Request,urlopen\n",
        "import io\n",
        "import os\n",
        "import os.path as path\n",
        "\n",
        "def download_csv(baseurl, filename):\n",
        "    \"\"\"\n",
        "    Descarga el CSV especificado, que estará comprimido con GZIP. Lo\n",
        "    descomprime y lo guarda en el directorio actual dado por `filename`.\n",
        "    \"\"\"\n",
        "    file = path.abspath(path.join(os.getcwd(),filename))\n",
        "    request = Request(baseurl + '/' + filename+'.gz?raw=true')\n",
        "    response = urlopen(request)\n",
        "    buf = io.BytesIO(response.read())\n",
        "    f = gzip.GzipFile(fileobj=buf)\n",
        "    data = f.read()\n",
        "    with open (filename, 'wb') as ff:\n",
        "      ff.write(data)\n",
        "\n",
        "baseurl = 'https://github.com/dsevilla/bdge-data/blob/master/es.stackoverflow/'\n",
        "download_csv(baseurl, 'Posts.csv')\n",
        "download_csv(baseurl, 'Users.csv')\n",
        "download_csv(baseurl, 'Tags.csv')\n",
        "download_csv(baseurl, 'Comments.csv')\n",
        "download_csv(baseurl, 'Votes.csv')"
      ]
    },
    {
      "cell_type": "code",
      "execution_count": null,
      "metadata": {
        "id": "hUVr0cPGfbp9"
      },
      "outputs": [],
      "source": [
        "csv_to_mongo('Posts.csv',db.posts)"
      ]
    },
    {
      "cell_type": "code",
      "execution_count": null,
      "metadata": {
        "id": "I1JYOx-rfbqJ"
      },
      "outputs": [],
      "source": [
        "csv_to_mongo('Users.csv',db.users)"
      ]
    },
    {
      "cell_type": "code",
      "execution_count": null,
      "metadata": {
        "id": "SdJsUjREfbqO"
      },
      "outputs": [],
      "source": [
        "csv_to_mongo('Votes.csv',db.votes)"
      ]
    },
    {
      "cell_type": "code",
      "execution_count": null,
      "metadata": {
        "id": "ev1yW2-8fbqS"
      },
      "outputs": [],
      "source": [
        "csv_to_mongo('Comments.csv',db.comments)"
      ]
    },
    {
      "cell_type": "code",
      "execution_count": null,
      "metadata": {
        "id": "fCetnARxfbqX"
      },
      "outputs": [],
      "source": [
        "csv_to_mongo('Tags.csv',db.tags)"
      ]
    },
    {
      "cell_type": "code",
      "execution_count": null,
      "metadata": {
        "id": "mIWOxATUfbqb"
      },
      "outputs": [],
      "source": [
        "posts.count_documents({})"
      ]
    },
    {
      "cell_type": "markdown",
      "metadata": {
        "id": "UNt6Pgy4I-lh"
      },
      "source": [
        "### El API de colección de MongoDB\n",
        "\n",
        "El API de colección en Python se puede encontrar aquí: https://docs.mongodb.com/drivers/pymongo/. La mayoría de libros y referencias muestran el uso de mongo desde Javascript, ya que el *shell* de MongoDB acepta ese lenguaje. La sintaxis con respecto a Python cambia un poco, y se puede seguir en el enlace anterior. Existe incluso un curso de la MongoDB University que se puede realizar de forma gratuita: https://learn.mongodb.com/learning-paths/using-mongodb-with-python"
      ]
    },
    {
      "cell_type": "markdown",
      "metadata": {
        "id": "y4Ysbsxyfbqf"
      },
      "source": [
        "### Creación de índices\n",
        "\n",
        "Para que el proceso map-reduce y de agregación funcione mejor, voy a crear índices sobre los atributos que se usarán como índice... Ojo, si no se crea las consultas pueden tardar mucho."
      ]
    },
    {
      "cell_type": "code",
      "execution_count": null,
      "metadata": {
        "id": "kEFZ3Db8fbqg"
      },
      "outputs": [],
      "source": [
        "(\n",
        "    db.posts.create_index([('Id', pymongo.HASHED)]),\n",
        "    db.comments.create_index([('Id', pymongo.HASHED)]),\n",
        "    db.users.create_index([('Id', pymongo.HASHED)])\n",
        ")"
      ]
    },
    {
      "cell_type": "markdown",
      "metadata": {
        "id": "TyYDP31ufbq3"
      },
      "source": [
        "También hay operaciones específicas de la coleción, como `count()`, `groupby()` y `distinct()`:\n",
        "![distinct.bakedsvg.svg](https://github.com/dsevilla/bdge-data/raw/master/misc/mongo-distinct.png)"
      ]
    },
    {
      "cell_type": "code",
      "execution_count": null,
      "metadata": {
        "id": "t2UnpYlJfbq3",
        "scrolled": true
      },
      "outputs": [],
      "source": [
        "db.posts.distinct('Score')"
      ]
    },
    {
      "cell_type": "markdown",
      "metadata": {
        "id": "bEQvwwBlfbq7"
      },
      "source": [
        "## EJERCICIO (resuelto): Construir, con el API de Agregación, una colección 'post_comments', donde se añade el campo 'Comments' a cada Post con la lista de todos los comentarios referidos a un Post."
      ]
    },
    {
      "cell_type": "markdown",
      "metadata": {
        "id": "QtVC-ymNWSeC"
      },
      "source": [
        "## Framework de Agregación\n",
        "\n",
        "Framework de agregación: https://docs.mongodb.com/manual/reference/operator/aggregation/. Y aquí incluso un libro completo con usos prácticos de ejecutar agregación: https://www.practical-mongodb-aggregations.com/. A continuación otro vídeo interseante:"
      ]
    },
    {
      "cell_type": "code",
      "execution_count": null,
      "metadata": {
        "id": "2b3WDt0xA1UY"
      },
      "outputs": [],
      "source": [
        "from IPython.display import YouTubeVideo\n",
        "YouTubeVideo('VSX4a3h4SmQ',width=600)"
      ]
    },
    {
      "cell_type": "markdown",
      "metadata": {
        "id": "2ZpnWj3gA1UY"
      },
      "source": [
        "![](https://miro.medium.com/max/1060/1*2lDBxvZ8Cr3JYkoODTa0lQ.png)"
      ]
    },
    {
      "cell_type": "markdown",
      "metadata": {
        "id": "WqP4KjgafbrJ"
      },
      "source": [
        "Proyección:"
      ]
    },
    {
      "cell_type": "code",
      "execution_count": null,
      "metadata": {
        "id": "0HRH68mufbrL"
      },
      "outputs": [],
      "source": [
        "respuestas = db['posts'].aggregate( [\n",
        "    {'$project' : { 'Id' : True }},\n",
        "    {'$limit': 20} ])\n",
        "list(respuestas)"
      ]
    },
    {
      "cell_type": "markdown",
      "metadata": {
        "id": "SXP3qYs7fbrO"
      },
      "source": [
        "_Lookup_!"
      ]
    },
    {
      "cell_type": "code",
      "execution_count": null,
      "metadata": {
        "id": "iyZg-6TLfbrP",
        "scrolled": true
      },
      "outputs": [],
      "source": [
        "respuestas = posts.aggregate( [\n",
        "        {'$match': { 'Score' : {'$gte': 40}}},\n",
        "        {'$lookup': {\n",
        "            'from': \"users\",\n",
        "            'localField': \"OwnerUserId\",\n",
        "            'foreignField': \"Id\",\n",
        "            'as': \"owner\"}\n",
        "        }\n",
        "        ])\n",
        "list(respuestas)"
      ]
    },
    {
      "cell_type": "markdown",
      "metadata": {
        "id": "Wc14fggBfbrR"
      },
      "source": [
        "El `$lookup` genera un _array_ con todos los resultados. El operador `$arrayElementAt` accede al primer elemento."
      ]
    },
    {
      "cell_type": "code",
      "execution_count": null,
      "metadata": {
        "id": "Ge_iO8dHfbrS"
      },
      "outputs": [],
      "source": [
        "respuestas = db.posts.aggregate( [\n",
        "        {'$match': { 'Score' : {'$gte': 40}}},\n",
        "        {'$lookup': {\n",
        "            'from': \"users\",\n",
        "            'localField': \"OwnerUserId\",\n",
        "            'foreignField': \"Id\",\n",
        "            'as': \"owner\"}\n",
        "        },\n",
        "        { '$project' : {\n",
        "            'Id' : True,\n",
        "            'Score' : True,\n",
        "            'username' : {'$arrayElemAt' : ['$owner.DisplayName', 0]},\n",
        "            'owner.DisplayName' : True\n",
        "          }}\n",
        "        ])\n",
        "list(respuestas)"
      ]
    },
    {
      "cell_type": "markdown",
      "metadata": {
        "id": "E11XU_bufbrU"
      },
      "source": [
        "`$unwind` también puede usarse. \"Desdobla\" cada fila por cada elemento del array. En este caso, como sabemos que el array sólo contiene un elemento, sólo habrá una fila por fila original, pero sin el _array_. Finalmente se puede proyectar el campo que se quiera."
      ]
    },
    {
      "cell_type": "code",
      "execution_count": null,
      "metadata": {
        "id": "EphHDIKyfbrU"
      },
      "outputs": [],
      "source": [
        "respuestas = db.posts.aggregate( [\n",
        "        { '$match': { 'Score' : {'$gte': 40}}},\n",
        "        { '$lookup': {\n",
        "            'from': \"users\",\n",
        "            'localField': \"OwnerUserId\",\n",
        "            'foreignField': \"Id\",\n",
        "            'as': \"owner\"\n",
        "          }\n",
        "        },\n",
        "        { '$unwind': '$owner'},\n",
        "        { '$project' : {\n",
        "             'username': '$owner.DisplayName'\n",
        "          }\n",
        "        }\n",
        "        ])\n",
        "list(respuestas)"
      ]
    },
    {
      "cell_type": "markdown",
      "metadata": {
        "id": "aF2UeJhWfbrY"
      },
      "source": [
        "### Ejemplo de realización de la consulta RQ4"
      ]
    },
    {
      "cell_type": "markdown",
      "metadata": {
        "id": "xZCEYMe_fbrY"
      },
      "source": [
        "Como ejemplo de consulta compleja con el Framework de Agregación, adjunto una posible solución a la consulta RQ4:"
      ]
    },
    {
      "cell_type": "code",
      "execution_count": null,
      "metadata": {
        "id": "JMS_VrLtfbrZ",
        "scrolled": true
      },
      "outputs": [],
      "source": [
        "RQ4 = db.posts.aggregate( [\n",
        "        { \"$match\" : {\"PostTypeId\": 2}},\n",
        "        { '$lookup': {\n",
        "            'from': \"posts\",\n",
        "            'localField': \"ParentId\",\n",
        "            'foreignField': \"Id\",\n",
        "            'as': \"question\"\n",
        "          }\n",
        "        },\n",
        "\n",
        "        { '$unwind' : '$question' },\n",
        "\n",
        "        { '$project' : {\n",
        "            'OwnerUserId': True,\n",
        "            'OP' : '$question.OwnerUserId'\n",
        "          }\n",
        "        },\n",
        "        {\n",
        "          '$group' : {'_id' : {'min' : { '$min' : ['$OwnerUserId' , '$OP'] },\n",
        "                               'max' : { '$max' : ['$OwnerUserId' , '$OP'] }},\n",
        "                      'pairs' : {'$addToSet' : { '0q': '$OP', '1a': '$OwnerUserId'}}\n",
        "          }\n",
        "        },\n",
        "        {\n",
        "          '$project': {\n",
        "            'pairs' : True,\n",
        "            'npairs' : { '$size' : '$pairs'}\n",
        "          }\n",
        "        },\n",
        "        {\n",
        "          '$match' : { 'npairs' : { '$eq' : 2}}\n",
        "        }\n",
        "    ])\n",
        "RQ4 = list(RQ4)\n",
        "RQ4"
      ]
    },
    {
      "cell_type": "markdown",
      "metadata": {
        "id": "OtfkubiAfbrc"
      },
      "source": [
        "La explicación es como sigue:\n",
        "\n",
        "1. Se eligen sólo las respuestas\n",
        "2. Se accede a la tabla `posts` para recuperar los datos de la pregunta\n",
        "3. A continuación se proyectan sólo el usuario que pregunta y el que hace la respuesta\n",
        "4. El paso más imaginativo es el de agrupación. Lo que se intenta es que ambos pares de usuarios que están relacionados como preguntante -> respondiente y viceversa, caigan en la misma clave. Por ello, se coge el máximo y el mínimo de ambos identificadores de usuarios y se construye una clave con ambos números en las mismas posiciones. Así, ambas combinaciones de usuario que pregunta y que responde caerán en la misma clave. También se usa un conjunto (en `pairs`), y sólo se añadirá una vez las posibles combinaciones iguales de preguntador/respondiente.\n",
        "5. Sólo nos interesan aquellas tuplas cuyo tamaño del conjunto de pares de pregunta/respuesta sea igual a dos (en un elemento uno de los dos usuarios habrá preguntado y el otro habrá respondido y en el otro viceversa).\n",
        "\n",
        "La implementación en Map-Reduce se puede realizar con la misma idea."
      ]
    },
    {
      "cell_type": "markdown",
      "metadata": {
        "id": "PSQQ52oSfbrc"
      },
      "source": [
        "En el caso de que queramos tener como referencia las preguntas y respuestas a las que se refiere la conversación, se puede añadir un campo más que guarde todas las preguntas junto con sus respuestas consideradas"
      ]
    },
    {
      "cell_type": "code",
      "execution_count": null,
      "metadata": {
        "id": "hkg8Kisqfbrd",
        "scrolled": true
      },
      "outputs": [],
      "source": [
        "RQ4 = db.posts.aggregate( [\n",
        "        { '$match': { 'PostTypeId' : 2}},\n",
        "        { '$lookup': {\n",
        "            'from': \"posts\",\n",
        "            'localField': \"ParentId\",\n",
        "            'foreignField': \"Id\",\n",
        "            'as': \"question\"\n",
        "          }\n",
        "        },\n",
        "\n",
        "        { '$unwind' : '$question' },\n",
        "\n",
        "        { '$project' : {\n",
        "            'OwnerUserId': True,\n",
        "            'QId' : '$question.Id',\n",
        "            'AId' : '$Id',\n",
        "            'OP' : '$question.OwnerUserId'\n",
        "          }\n",
        "        },\n",
        "        {\n",
        "          '$group' : {'_id' : {'min' : { '$min' : ['$OwnerUserId' , '$OP'] },\n",
        "                               'max' : { '$max' : ['$OwnerUserId' , '$OP'] }},\n",
        "                      'pairs' : {'$addToSet' : { '0q':'$OP', '1a': '$OwnerUserId'}},\n",
        "                      'considered_pairs' : { '$push' : {'QId' : '$QId', 'AId' : '$AId'}}\n",
        "          }\n",
        "        },\n",
        "        { '$project': {\n",
        "            'pairs' : True,\n",
        "            'npairs' : { '$size' : '$pairs'},\n",
        "            'considered_pairs' : True\n",
        "          }\n",
        "        },\n",
        "        { '$match' : { 'npairs' : { '$eq' : 2}} }\n",
        "    ])\n",
        "RQ4 = list(RQ4)\n",
        "RQ4"
      ]
    },
    {
      "cell_type": "code",
      "execution_count": null,
      "metadata": {
        "id": "9Sjnp3LXfbre"
      },
      "outputs": [],
      "source": [
        "(db.posts.find_one({'Id': 238}), db.posts.find_one({'Id': 243}),\n",
        "db.posts.find_one({'Id': 222}), db.posts.find_one({'Id': 223}))"
      ]
    },
    {
      "cell_type": "markdown",
      "metadata": {
        "id": "dcsTmRuxfbrh"
      },
      "source": [
        "### Ejemplo de consulta: Tiempo medio desde que se hace una pregunta hasta que se le da la primera respuesta\n",
        "\n",
        "Veamos cómo calcular el tiempo medio desde que se hace una pregunta hasta que se le da la primera respuesta. No se considerarán pues las preguntas que no tienen respuesta, lo cual es razonable."
      ]
    },
    {
      "cell_type": "markdown",
      "metadata": {
        "id": "PFxtVyRlfbrv"
      },
      "source": [
        "Esto sólo calcula el tiempo mínimo de cada pregunta a su respuesta. Después se añadirá el código que calcula la media final:"
      ]
    },
    {
      "cell_type": "code",
      "execution_count": null,
      "metadata": {
        "id": "qBI8nYpffbrw"
      },
      "outputs": [],
      "source": [
        "min_answer_time = db.posts.aggregate([\n",
        "    { \"$match\" : {\"PostTypeId\" : 2} },\n",
        "    { '$group' : {\n",
        "        '_id' : '$ParentId',\n",
        "        # 'answers' : { '$push' : {'Id' : \"$Id\", 'CreationDate' : \"$CreationDate\"}},\n",
        "        'min' : {'$min' : \"$CreationDate\"}\n",
        "      }\n",
        "    },\n",
        "    { \"$lookup\" : {\n",
        "        'from': \"posts\",\n",
        "        'localField': \"_id\",\n",
        "        'foreignField': \"Id\",\n",
        "        'as': \"post\"}\n",
        "    },\n",
        "    { \"$unwind\" : \"$post\"},\n",
        "    { \"$project\" : {\n",
        "        \"_id\" : True,\n",
        "        \"min\" : True,\n",
        "        #\"post\" : True,\n",
        "        \"diff\" : {\"$subtract\" : [\"$min\", \"$post.CreationDate\"]}\n",
        "      }\n",
        "    },\n",
        "    #    { \"$sort\" : {'_id' : 1} }\n",
        "    #{\n",
        "    #  \"$group\" :  {\n",
        "    #    \"_id\" : None,\n",
        "    #    \"avg\" : { \"$avg\" : \"$diff\"}\n",
        "    #  }\n",
        "    }\n",
        "])\n",
        "min_answer_time = list(min_answer_time)\n",
        "min_answer_time"
      ]
    },
    {
      "cell_type": "code",
      "source": [
        "df = pd.json_normalize(min_answer_time)\n",
        "df.index=df[\"_id\"]\n",
        "df"
      ],
      "metadata": {
        "id": "MKwXKnL6k3ls"
      },
      "execution_count": null,
      "outputs": []
    },
    {
      "cell_type": "code",
      "source": [
        "df['diff'].plot(kind='bar')"
      ],
      "metadata": {
        "id": "M3JCCSpnmWvx"
      },
      "execution_count": null,
      "outputs": []
    },
    {
      "cell_type": "markdown",
      "source": [
        "La siguiente consulta sí calcula el mínimo:"
      ],
      "metadata": {
        "id": "nZwOr6R-p4_1"
      }
    },
    {
      "cell_type": "code",
      "execution_count": null,
      "metadata": {
        "id": "HjaAdRxOptQQ"
      },
      "outputs": [],
      "source": [
        "avg_answer_time = db.posts.aggregate([\n",
        "    { \"$match\" : {\"PostTypeId\" : 2} },\n",
        "    { '$group' : {\n",
        "        '_id' : '$ParentId',\n",
        "        # 'answers' : { '$push' : {'Id' : \"$Id\", 'CreationDate' : \"$CreationDate\"}},\n",
        "        'min' : {'$min' : \"$CreationDate\"}\n",
        "      }\n",
        "    },\n",
        "    { \"$lookup\" : {\n",
        "        'from': \"posts\",\n",
        "        'localField': \"_id\",\n",
        "        'foreignField': \"Id\",\n",
        "        'as': \"post\"}\n",
        "    },\n",
        "    { \"$unwind\" : \"$post\"},\n",
        "    { \"$project\" : {\n",
        "        \"_id\" : True,\n",
        "        \"min\" : True,\n",
        "        #\"post\" : True,\n",
        "        \"diff\" : {\"$subtract\" : [\"$min\", \"$post.CreationDate\"]}\n",
        "      }\n",
        "    },\n",
        "    #    { \"$sort\" : {'_id' : 1} }\n",
        "    {\n",
        "      \"$group\" :  {\n",
        "        \"_id\" : None,\n",
        "        \"avg\" : { \"$avg\" : \"$diff\"}\n",
        "      }\n",
        "    }\n",
        "])\n",
        "avg_answer_time = list(avg_answer_time)\n",
        "avg_answer_time"
      ]
    },
    {
      "cell_type": "markdown",
      "metadata": {
        "id": "ZSF1uu0tfbrz"
      },
      "source": [
        "## EJERCICIO 1: Con Map-Reduce, construir las colecciones que asocian un usuario con las preguntas que ha hecho de cada tags y dado un tag, qué usuarios han hecho preguntas de ese tag (E1)."
      ]
    },
    {
      "cell_type": "code",
      "execution_count": null,
      "metadata": {
        "id": "By9Qt_xFfbrz"
      },
      "outputs": [],
      "source": []
    },
    {
      "cell_type": "markdown",
      "metadata": {
        "id": "059pixp_fbr0"
      },
      "source": [
        "## EJERCICIO 2: Con el Framework de Agregación, generar la colección `StackOverflowFacts` vista en la sesión 2 (E2)."
      ]
    },
    {
      "cell_type": "code",
      "execution_count": null,
      "metadata": {
        "id": "ZKCoN9oAfbr2"
      },
      "outputs": [],
      "source": []
    },
    {
      "cell_type": "markdown",
      "metadata": {
        "id": "R35J7czpA1Uf"
      },
      "source": [
        "## EJERCICIO 3: Con Map-Reduce implementar la consulta RQ1 de la sesión 2."
      ]
    },
    {
      "cell_type": "code",
      "execution_count": null,
      "metadata": {
        "id": "nMS2wYJYA1Ug"
      },
      "outputs": [],
      "source": []
    },
    {
      "cell_type": "markdown",
      "metadata": {
        "id": "oLxBDmnZfbr4"
      },
      "source": [
        "## EJERCICIO 4: Con Map-Reduce, implementar la consulta RQ3 de la sesión 2."
      ]
    },
    {
      "cell_type": "code",
      "execution_count": null,
      "metadata": {
        "id": "nCbJUhO5fbr4"
      },
      "outputs": [],
      "source": []
    },
    {
      "cell_type": "markdown",
      "metadata": {
        "id": "B0mhWGpBfbr8"
      },
      "source": [
        "## EJERCICIO 5 (difícil, opcional): Con Agregación, calcular, enla tabla `StackOverflowFacts` la media de tiempo que pasa desde que los usuarios se registran hasta que publican su primera pregunta."
      ]
    },
    {
      "cell_type": "code",
      "execution_count": null,
      "metadata": {
        "id": "_8NNbLnQfbr9"
      },
      "outputs": [],
      "source": []
    }
  ],
  "metadata": {
    "colab": {
      "name": "sesion4.ipynb",
      "provenance": []
    },
    "kernelspec": {
      "display_name": "Python 3 (ipykernel)",
      "language": "python",
      "name": "python3"
    },
    "language_info": {
      "codemirror_mode": {
        "name": "ipython",
        "version": 3
      },
      "file_extension": ".py",
      "mimetype": "text/x-python",
      "name": "python",
      "nbconvert_exporter": "python",
      "pygments_lexer": "ipython3",
      "version": "3.9.6"
    }
  },
  "nbformat": 4,
  "nbformat_minor": 0
}