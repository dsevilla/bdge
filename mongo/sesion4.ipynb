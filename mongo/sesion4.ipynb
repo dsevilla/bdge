{
  "nbformat": 4,
  "nbformat_minor": 0,
  "metadata": {
    "kernelspec": {
      "display_name": "Python 3",
      "language": "python",
      "name": "python3"
    },
    "language_info": {
      "codemirror_mode": {
        "name": "ipython",
        "version": 3
      },
      "file_extension": ".py",
      "mimetype": "text/x-python",
      "name": "python",
      "nbconvert_exporter": "python",
      "pygments_lexer": "ipython3",
      "version": "3.7.3"
    },
    "colab": {
      "name": "sesion4.ipynb",
      "provenance": []
    }
  },
  "cells": [
    {
      "cell_type": "markdown",
      "metadata": {
        "id": "WdqTiGhdfbo4",
        "colab_type": "text"
      },
      "source": [
        "# NoSQL (MongoDB) (sesión 4)"
      ]
    },
    {
      "cell_type": "markdown",
      "metadata": {
        "id": "ZbikzCBUXK2P",
        "colab_type": "text"
      },
      "source": [
        "![MongoDB](https://webassets.mongodb.com/_com_assets/cms/MongoDB_Logo_FullColorBlack_RGB-4td3yuxzjs.png)\n",
        "\n",
        "Esta hoja muestra cómo acceder a bases de datos MongoDB y también a conectar la salida con Jupyter. Se puede utilizar el *shell* propio de MongoDB en el contenedor usando el programa `mongo`. La diferencia es que ese programa espera código Javascript y aquí trabajaremos con Python."
      ]
    },
    {
      "cell_type": "code",
      "metadata": {
        "id": "7x-xiro_eO3D",
        "colab_type": "code",
        "colab": {}
      },
      "source": [
        "!wget -qO - https://www.mongodb.org/static/pgp/server-4.4.asc | sudo apt-key add -"
      ],
      "execution_count": null,
      "outputs": []
    },
    {
      "cell_type": "code",
      "metadata": {
        "id": "LxPjolcjjRPv",
        "colab_type": "code",
        "colab": {}
      },
      "source": [
        "%%bash\n",
        "sudo adduser --system --no-create-home mongodb\n",
        "sudo addgroup --system mongodb\n",
        "sudo adduser mongodb mongodb\n",
        "\n",
        "# create db -- note: this should agree with dbpath in mongod.conf\n",
        "if [ ! -d /var/lib/mongodb ]; then\n",
        "  sudo mkdir -p /var/lib/mongodb\n",
        "  sudo chown mongodb:mongodb /var/lib/mongodb\n",
        "fi\n",
        "\n",
        "# create logdir -- note: this should agree with logpath in mongod.conf\n",
        "if [ ! -d /var/log/mongodb ]; then\n",
        "  sudo mkdir -p /var/log/mongodb\n",
        "  sudo chown mongodb:mongodb /var/log/mongodb\n",
        "fi"
      ],
      "execution_count": null,
      "outputs": []
    },
    {
      "cell_type": "code",
      "metadata": {
        "id": "TUqh2wrue14R",
        "colab_type": "code",
        "colab": {}
      },
      "source": [
        "!echo \"deb [ arch=amd64,arm64 ] https://repo.mongodb.org/apt/ubuntu bionic/mongodb-org/4.4 multiverse\" | sudo tee /etc/apt/sources.list.d/mongodb-org-4.4.list"
      ],
      "execution_count": null,
      "outputs": []
    },
    {
      "cell_type": "code",
      "metadata": {
        "id": "eYZiYC5KfAgT",
        "colab_type": "code",
        "colab": {}
      },
      "source": [
        "!sudo apt-get update -qq"
      ],
      "execution_count": null,
      "outputs": []
    },
    {
      "cell_type": "code",
      "metadata": {
        "id": "olxoLhh4ai9T",
        "colab_type": "code",
        "colab": {}
      },
      "source": [
        "!sudo ln -sf /bin/true /bin/systemctl "
      ],
      "execution_count": null,
      "outputs": []
    },
    {
      "cell_type": "code",
      "metadata": {
        "id": "ksbGiW3pf_mQ",
        "colab_type": "code",
        "colab": {}
      },
      "source": [
        "!sudo apt-get install -y -qq dialog mongodb-org"
      ],
      "execution_count": null,
      "outputs": []
    },
    {
      "cell_type": "code",
      "metadata": {
        "id": "JpRH8JIrktfm",
        "colab_type": "code",
        "colab": {}
      },
      "source": [
        "!sudo /usr/bin/mongod --config /etc/mongod.conf --fork"
      ],
      "execution_count": null,
      "outputs": []
    },
    {
      "cell_type": "code",
      "metadata": {
        "id": "tmkqwbidaynX",
        "colab_type": "code",
        "colab": {}
      },
      "source": [
        "!sudo mongod --version"
      ],
      "execution_count": null,
      "outputs": []
    },
    {
      "cell_type": "code",
      "metadata": {
        "id": "oFtwxjg5fbo8",
        "colab_type": "code",
        "colab": {}
      },
      "source": [
        "!pip install --upgrade pymongo"
      ],
      "execution_count": null,
      "outputs": []
    },
    {
      "cell_type": "code",
      "metadata": {
        "id": "atGvUBm4fbpJ",
        "colab_type": "code",
        "colab": {}
      },
      "source": [
        "from pprint import pprint as pp\n",
        "import pandas as pd\n",
        "import matplotlib.pyplot as plt\n",
        "import matplotlib\n",
        "\n",
        "%matplotlib inline\n",
        "matplotlib.style.use('ggplot')"
      ],
      "execution_count": null,
      "outputs": []
    },
    {
      "cell_type": "markdown",
      "metadata": {
        "id": "L6vrsRv_fbpR",
        "colab_type": "text"
      },
      "source": [
        "Usaremos la librería `pymongo` para python. La cargamos a continuación."
      ]
    },
    {
      "cell_type": "code",
      "metadata": {
        "id": "Iyv0Q3EJfbpT",
        "colab_type": "code",
        "colab": {}
      },
      "source": [
        "import pymongo\n",
        "from pymongo import MongoClient"
      ],
      "execution_count": null,
      "outputs": []
    },
    {
      "cell_type": "markdown",
      "metadata": {
        "id": "XI6poLPcfbpa",
        "colab_type": "text"
      },
      "source": [
        "La conexión se inicia con `MongoClient` en el `host` local.\n"
      ]
    },
    {
      "cell_type": "code",
      "metadata": {
        "id": "Om6RBG-Qfbpb",
        "colab_type": "code",
        "colab": {}
      },
      "source": [
        "client = MongoClient(\"localhost\",27017)\n",
        "client"
      ],
      "execution_count": null,
      "outputs": []
    },
    {
      "cell_type": "code",
      "metadata": {
        "id": "wYfqs2aZfbph",
        "colab_type": "code",
        "colab": {}
      },
      "source": [
        "client.list_database_names()"
      ],
      "execution_count": null,
      "outputs": []
    },
    {
      "cell_type": "markdown",
      "metadata": {
        "id": "NK67vpHdfbpn",
        "colab_type": "text"
      },
      "source": [
        " - Format: 7zipped\n",
        " - Files:\n",
        "   - **badges**.xml\n",
        "       - UserId, e.g.: \"420\"\n",
        "       - Name, e.g.: \"Teacher\"\n",
        "       - Date, e.g.: \"2008-09-15T08:55:03.923\"\n",
        "   - **comments**.xml\n",
        "       - Id\n",
        "       - PostId\n",
        "       - Score\n",
        "       - Text, e.g.: \"@Stu Thompson: Seems possible to me - why not try it?\"\n",
        "       - CreationDate, e.g.:\"2008-09-06T08:07:10.730\"\n",
        "       - UserId\n",
        "   - **posts**.xml\n",
        "       - Id\n",
        "       - PostTypeId\n",
        "          - 1: Question\n",
        "          - 2: Answer\n",
        "       - ParentID (only present if PostTypeId is 2)\n",
        "       - AcceptedAnswerId (only present if PostTypeId is 1)\n",
        "       - CreationDate\n",
        "       - Score\n",
        "       - ViewCount\n",
        "       - Body\n",
        "       - OwnerUserId\n",
        "       - LastEditorUserId\n",
        "       - LastEditorDisplayName=\"Jeff Atwood\"\n",
        "       - LastEditDate=\"2009-03-05T22:28:34.823\"\n",
        "       - LastActivityDate=\"2009-03-11T12:51:01.480\"\n",
        "       - CommunityOwnedDate=\"2009-03-11T12:51:01.480\"\n",
        "       - ClosedDate=\"2009-03-11T12:51:01.480\"\n",
        "       - Title=\n",
        "       - Tags=\n",
        "       - AnswerCount\n",
        "       - CommentCount\n",
        "       - FavoriteCount\n",
        "   - **posthistory**.xml\n",
        "\t   - Id\n",
        "\t   - PostHistoryTypeId\n",
        "\t\t\t- 1: Initial Title - The first title a question is asked with.\n",
        "\t\t\t- 2: Initial Body - The first raw body text a post is submitted with.\n",
        "\t\t\t- 3: Initial Tags - The first tags a question is asked with.\n",
        "\t\t\t- 4: Edit Title - A question's title has been changed.\n",
        "\t\t\t- 5: Edit Body - A post's body has been changed, the raw text is stored here as markdown.\n",
        "\t\t\t- 6: Edit Tags - A question's tags have been changed.\n",
        "\t\t\t- 7: Rollback Title - A question's title has reverted to a previous version.\n",
        "\t\t\t- 8: Rollback Body - A post's body has reverted to a previous version - the raw text is stored here.\n",
        "\t\t\t- 9: Rollback Tags - A question's tags have reverted to a previous version.\n",
        "\t\t\t- 10: Post Closed - A post was voted to be closed.\n",
        "\t\t\t- 11: Post Reopened - A post was voted to be reopened.\n",
        "\t\t\t- 12: Post Deleted - A post was voted to be removed.\n",
        "\t\t\t- 13: Post Undeleted - A post was voted to be restored.\n",
        "\t\t\t- 14: Post Locked - A post was locked by a moderator.\n",
        "\t\t\t- 15: Post Unlocked - A post was unlocked by a moderator.\n",
        "\t\t\t- 16: Community Owned - A post has become community owned.\n",
        "\t\t\t- 17: Post Migrated - A post was migrated.\n",
        "\t\t\t- 18: Question Merged - A question has had another, deleted question merged into itself.\n",
        "\t\t\t- 19: Question Protected - A question was protected by a moderator\n",
        "\t\t\t- 20: Question Unprotected - A question was unprotected by a moderator\n",
        "\t\t\t- 21: Post Disassociated - An admin removes the OwnerUserId from a post.\n",
        "\t\t\t- 22: Question Unmerged - A previously merged question has had its answers and votes restored.\n",
        "\t\t- PostId\n",
        "\t\t- RevisionGUID: At times more than one type of history record can be recorded by a single action.  All of these will be grouped using the same RevisionGUID\n",
        "\t\t- CreationDate: \"2009-03-05T22:28:34.823\"\n",
        "\t\t- UserId\n",
        "\t\t- UserDisplayName: populated if a user has been removed and no longer referenced by user Id\n",
        "\t\t- Comment: This field will contain the comment made by the user who edited a post\n",
        "\t\t- Text: A raw version of the new value for a given revision\n",
        "\t\t\t- If PostHistoryTypeId = 10, 11, 12, 13, 14, or 15  this column will contain a JSON encoded string with all users who have voted for the PostHistoryTypeId\n",
        "\t\t\t- If PostHistoryTypeId = 17 this column will contain migration details of either \"from <url>\" or \"to <url>\"\n",
        "\t\t- CloseReasonId\n",
        "\t\t\t- 1: Exact Duplicate - This question covers exactly the same ground as earlier questions on this topic; its answers may be merged with another identical question.\n",
        "\t\t\t- 2: off-topic\n",
        "\t\t\t- 3: subjective\n",
        "\t\t\t- 4: not a real question\n",
        "\t\t\t- 7: too localized\n",
        "   - **postlinks**.xml\n",
        "     - Id\n",
        "     - CreationDate\n",
        "     - PostId\n",
        "     - RelatedPostId\n",
        "     - PostLinkTypeId\n",
        "       - 1: Linked\n",
        "       - 3: Duplicate\n",
        "   - **users**.xml\n",
        "     - Id\n",
        "     - Reputation\n",
        "     - CreationDate\n",
        "     - DisplayName\n",
        "     - EmailHash\n",
        "     - LastAccessDate\n",
        "     - WebsiteUrl\n",
        "     - Location\n",
        "     - Age\n",
        "     - AboutMe\n",
        "     - Views\n",
        "     - UpVotes\n",
        "     - DownVotes\n",
        "   - **votes**.xml\n",
        "     - Id\n",
        "     - PostId\n",
        "     - VoteTypeId\n",
        "        - ` 1`: AcceptedByOriginator\n",
        "        - ` 2`: UpMod\n",
        "        - ` 3`: DownMod\n",
        "        - ` 4`: Offensive\n",
        "        - ` 5`: Favorite - if VoteTypeId = 5 UserId will be populated\n",
        "        - ` 6`: Close\n",
        "        - ` 7`: Reopen\n",
        "        - ` 8`: BountyStart\n",
        "        - ` 9`: BountyClose\n",
        "        - `10`: Deletion\n",
        "        - `11`: Undeletion\n",
        "        - `12`: Spam\n",
        "        - `13`: InformModerator\n",
        "     - CreationDate\n",
        "     - UserId (only for VoteTypeId 5)\n",
        "     - BountyAmount (only for VoteTypeId 9)"
      ]
    },
    {
      "cell_type": "markdown",
      "metadata": {
        "id": "y_z-OMVcfbpo",
        "colab_type": "text"
      },
      "source": [
        "Las bases de datos se crean conforme se nombran. Se puede utilizar la notación punto o la de diccionario. Las colecciones también."
      ]
    },
    {
      "cell_type": "code",
      "metadata": {
        "id": "D6TpCHUufbpp",
        "colab_type": "code",
        "colab": {}
      },
      "source": [
        "db = client.stackoverflow\n",
        "db = client['stackoverflow']\n",
        "db"
      ],
      "execution_count": null,
      "outputs": []
    },
    {
      "cell_type": "markdown",
      "metadata": {
        "id": "zcmwyXkVfbpu",
        "colab_type": "text"
      },
      "source": [
        "Las bases de datos están compuestas por un conjunto de **colecciones**. Cada colección aglutina a un conjunto de objetos (documentos) del mismo tipo, aunque como vimos en teoría, cada documento puede tener un conjunto de atributos diferente."
      ]
    },
    {
      "cell_type": "code",
      "metadata": {
        "id": "C0dR1mcffbpu",
        "colab_type": "code",
        "colab": {}
      },
      "source": [
        "posts = db.posts\n",
        "posts"
      ],
      "execution_count": null,
      "outputs": []
    },
    {
      "cell_type": "markdown",
      "metadata": {
        "id": "0PMVDICrfbpy",
        "colab_type": "text"
      },
      "source": [
        "Importación de los ficheros CSV. Por ahora creamos una colección diferente para cada uno. Después estudiaremos cómo poder optimizar el acceso usando agregación."
      ]
    },
    {
      "cell_type": "code",
      "metadata": {
        "id": "7zSyY2pffbp4",
        "colab_type": "code",
        "colab": {}
      },
      "source": [
        "import csv\n",
        "from datetime import datetime\n",
        "\n",
        "def csv_to_mongo(file, coll):\n",
        "    \"\"\"\n",
        "    Carga un fichero CSV en Mongo. file especifica el fichero, coll la colección\n",
        "    dentro de la base de datos, y date_cols las columnas que serán interpretadas\n",
        "    como fechas.\n",
        "    \"\"\"\n",
        "    # Convertir todos los elementos que se puedan a números\n",
        "    def to_numeric(d):\n",
        "        try:\n",
        "            return int(d)\n",
        "        except ValueError:\n",
        "            try:\n",
        "                return float(d)\n",
        "            except ValueError:\n",
        "                return d\n",
        "    \n",
        "    def to_date(d):\n",
        "        \"\"\"To ISO Date. If this cannot be converted, return NULL (None)\"\"\"\n",
        "        try:\n",
        "            return datetime.strptime(d, \"%Y-%m-%dT%H:%M:%S.%f\")\n",
        "        except ValueError:\n",
        "            return None\n",
        "    \n",
        "    coll.drop()\n",
        "\n",
        "    with open(file, encoding='utf-8') as f:\n",
        "        # La llamada csv.reader() crea un iterador sobre un fichero CSV\n",
        "        reader = csv.reader(f, dialect='excel')\n",
        "        \n",
        "        # Se leen las columnas. Sus nombres se usarán para crear las diferentes columnas en la familia\n",
        "        columns = next(reader)\n",
        "        \n",
        "        # Las columnas que contienen 'Date' se interpretan como fechas\n",
        "        func_to_cols = list(map(lambda c: to_date if 'date' in c.lower() else to_numeric, columns))\n",
        "        \n",
        "        docs=[]\n",
        "        for row in reader:\n",
        "            row = [func(e) for (func,e) in zip(func_to_cols, row)]\n",
        "            docs.append(dict(zip(columns, row)))\n",
        "        coll.insert_many(docs)"
      ],
      "execution_count": null,
      "outputs": []
    },
    {
      "cell_type": "code",
      "metadata": {
        "id": "PP5jW7W0IWrF",
        "colab_type": "code",
        "colab": {}
      },
      "source": [
        "import gzip\n",
        "from urllib.request import Request,urlopen\n",
        "import io\n",
        "import os\n",
        "import os.path as path\n",
        "\n",
        "def download_csv(baseurl, filename):\n",
        "    file = path.abspath(path.join(os.getcwd(),filename))\n",
        "    request = Request(baseurl + '/' + filename+'.gz?raw=true')\n",
        "    response = urlopen(request)\n",
        "    buf = io.BytesIO(response.read())\n",
        "    f = gzip.GzipFile(fileobj=buf)\n",
        "    data = f.read()\n",
        "    with open (filename, 'wb') as ff:\n",
        "      ff.write(data)\n",
        "        \n",
        "baseurl = 'https://github.com/dsevilla/bdge-data/blob/master/es.stackoverflow/'\n",
        "download_csv(baseurl, 'Posts.csv')\n",
        "download_csv(baseurl, 'Users.csv')\n",
        "download_csv(baseurl, 'Tags.csv')\n",
        "download_csv(baseurl, 'Comments.csv')\n",
        "download_csv(baseurl, 'Votes.csv')"
      ],
      "execution_count": null,
      "outputs": []
    },
    {
      "cell_type": "code",
      "metadata": {
        "id": "hUVr0cPGfbp9",
        "colab_type": "code",
        "colab": {}
      },
      "source": [
        "csv_to_mongo('Posts.csv',db.posts)"
      ],
      "execution_count": null,
      "outputs": []
    },
    {
      "cell_type": "code",
      "metadata": {
        "id": "I1JYOx-rfbqJ",
        "colab_type": "code",
        "colab": {}
      },
      "source": [
        "csv_to_mongo('Users.csv',db.users)"
      ],
      "execution_count": null,
      "outputs": []
    },
    {
      "cell_type": "code",
      "metadata": {
        "id": "SdJsUjREfbqO",
        "colab_type": "code",
        "colab": {}
      },
      "source": [
        "csv_to_mongo('Votes.csv',db.votes)"
      ],
      "execution_count": null,
      "outputs": []
    },
    {
      "cell_type": "code",
      "metadata": {
        "id": "ev1yW2-8fbqS",
        "colab_type": "code",
        "colab": {}
      },
      "source": [
        "csv_to_mongo('Comments.csv',db.comments)"
      ],
      "execution_count": null,
      "outputs": []
    },
    {
      "cell_type": "code",
      "metadata": {
        "id": "fCetnARxfbqX",
        "colab_type": "code",
        "colab": {}
      },
      "source": [
        "csv_to_mongo('Tags.csv',db.tags)"
      ],
      "execution_count": null,
      "outputs": []
    },
    {
      "cell_type": "code",
      "metadata": {
        "id": "mIWOxATUfbqb",
        "colab_type": "code",
        "colab": {}
      },
      "source": [
        "posts.count_documents()"
      ],
      "execution_count": null,
      "outputs": []
    },
    {
      "cell_type": "markdown",
      "metadata": {
        "id": "Z9OMoebSfbqf",
        "colab_type": "text"
      },
      "source": [
        "El API de colección en Python se puede encontrar aquí: https://api.mongodb.com/python/current/api/pymongo/collection.html. La mayoría de libros y referencias muestran el uso de mongo desde Javascript, ya que el *shell* de MongoDB acepta ese lenguaje. La sintaxis con respecto a Python cambia un poco, y se puede seguir en el enlace anterior."
      ]
    },
    {
      "cell_type": "markdown",
      "metadata": {
        "id": "y4Ysbsxyfbqf",
        "colab_type": "text"
      },
      "source": [
        "### Creación de índices\n",
        "\n",
        "Para que el proceso map-reduce y de agregación funcione mejor, voy a crear índices sobre los atributos que se usarán como índice... Ojo, si no se crea las consultas pueden tardar mucho."
      ]
    },
    {
      "cell_type": "code",
      "metadata": {
        "id": "kEFZ3Db8fbqg",
        "colab_type": "code",
        "colab": {}
      },
      "source": [
        "(\n",
        "    db.posts.create_index([('Id', pymongo.HASHED)]),\n",
        "    db.comments.create_index([('Id', pymongo.HASHED)]),\n",
        "    db.users.create_index([('Id', pymongo.HASHED)])\n",
        ")"
      ],
      "execution_count": null,
      "outputs": []
    },
    {
      "cell_type": "markdown",
      "metadata": {
        "id": "EpzKs50Sfbqi",
        "colab_type": "text"
      },
      "source": [
        "## Map-Reduce\n",
        "\n",
        "Mongodb incluye dos APIs para procesar y buscar documentos: el API de Map-Reduce y el API de agregación. Veremos primero el de Map-Reduce. Manual: https://docs.mongodb.com/manual/aggregation/#map-reduce\n",
        "\n",
        "![map-reduce.bakedsvg.svg](https://docs.mongodb.com/manual/_images/map-reduce.bakedsvg.svg)"
      ]
    },
    {
      "cell_type": "code",
      "metadata": {
        "id": "lpfWHertfbqj",
        "colab_type": "code",
        "colab": {}
      },
      "source": [
        "from bson.code import Code"
      ],
      "execution_count": null,
      "outputs": []
    },
    {
      "cell_type": "code",
      "metadata": {
        "id": "QebaFL4efbqn",
        "colab_type": "code",
        "colab": {}
      },
      "source": [
        "map = Code(\n",
        "'''\n",
        "function () {\n",
        "    emit(this.OwnerUserId, 1);\n",
        "}\n",
        "''')"
      ],
      "execution_count": null,
      "outputs": []
    },
    {
      "cell_type": "code",
      "metadata": {
        "id": "u1fFeLAYfbqq",
        "colab_type": "code",
        "colab": {}
      },
      "source": [
        "reduce = Code(\n",
        "'''\n",
        "function (key, values)\n",
        "{\n",
        "    return Array.sum(values);\n",
        "}\n",
        "''')"
      ],
      "execution_count": null,
      "outputs": []
    },
    {
      "cell_type": "code",
      "metadata": {
        "id": "HYcZ2rbifbqt",
        "colab_type": "code",
        "colab": {}
      },
      "source": [
        "results = posts.map_reduce(map, reduce, \"posts_by_userid\")"
      ],
      "execution_count": null,
      "outputs": []
    },
    {
      "cell_type": "code",
      "metadata": {
        "id": "lUtZf5vufbqw",
        "colab_type": "code",
        "colab": {}
      },
      "source": [
        "posts_by_userid = db.posts_by_userid\n",
        "list(posts_by_userid.find())"
      ],
      "execution_count": null,
      "outputs": []
    },
    {
      "cell_type": "markdown",
      "metadata": {
        "id": "ko61_XGCfbq1",
        "colab_type": "text"
      },
      "source": [
        "Se le puede añadir una etiqueta para especificar sobre qué elementos queremos trabajar (`query`):"
      ]
    },
    {
      "cell_type": "markdown",
      "metadata": {
        "id": "ejKN1GS1fbq1",
        "colab_type": "text"
      },
      "source": [
        "La función `map_reduce` puede llevar añadida una serie de *keywords*, los mismos especificados en la documentación:\n",
        "\n",
        "- `query`: Restringe los datos que se tratan\n",
        "- `sort`: Ordena los documentos de entrada por alguna clave\n",
        "- `limit`: Limita el número de resultados\n",
        "- `out`: Especifica la colección de salida y otras opciones. Lo veremos después.\n",
        "- etc."
      ]
    },
    {
      "cell_type": "markdown",
      "metadata": {
        "id": "LQjN7oT5fbq1",
        "colab_type": "text"
      },
      "source": [
        "En el parámetro `out` se puede especificar en qué colección se quedarán los datos resultado del map-reduce. Por defecto, en la colección origen. (Todos los parámetros aquí: https://docs.mongodb.com/manual/reference/command/mapReduce/#mapreduce-out-cmd). En la operación `map_reduce()`  podemos especificar la colección de salida, pero también podemos añadir un parámetro final `out={...}`.\n",
        "\n",
        "Hay varias posibilidades para `out`:\n",
        "\n",
        "- `replace`: Sustituye la colección, si la hubiera, con la especificada (p. ej.: `out={ \"replace\" : \"coll\" }`.\n",
        "- `merge`: Mezcla la colección existente, sustituyendo los documentos que existan por los generados.\n",
        "- `reduce`: Si existe un documento con el mismo \\_id en la colección, se aplica la función `reduce` para *fusionar* ambos documentos y producir un nuevo documento.\n",
        "\n",
        "Veremos a continuación, al resolver el ejercicio de crear `post_comments` con map-reduce cómo se utilizan estas posibilidades."
      ]
    },
    {
      "cell_type": "markdown",
      "metadata": {
        "id": "TyYDP31ufbq3",
        "colab_type": "text"
      },
      "source": [
        "También hay operaciones específicas de la coleción, como `count()`, `groupby()` y `distinct()`:\n",
        "![distinct.bakedsvg.svg](attachment:distinct.bakedsvg.svg)"
      ]
    },
    {
      "cell_type": "code",
      "metadata": {
        "scrolled": true,
        "id": "t2UnpYlJfbq3",
        "colab_type": "code",
        "colab": {}
      },
      "source": [
        "db.posts.distinct('Score')"
      ],
      "execution_count": null,
      "outputs": []
    },
    {
      "cell_type": "markdown",
      "metadata": {
        "id": "bEQvwwBlfbq7",
        "colab_type": "text"
      },
      "source": [
        "## EJERCICIO (resuelto): Construir, con el API de Map-Reduce, una colección 'post_comments', donde se añade el campo 'Comments' a cada Post con la lista de todos los comentarios referidos a un Post."
      ]
    },
    {
      "cell_type": "markdown",
      "metadata": {
        "id": "bIBzEzU8fbq7",
        "colab_type": "text"
      },
      "source": [
        "Veremos la resolución de este ejercicio para que haga de ejemplo para los siguientes a implementar. En primer lugar, una operación map/reduce sólo se puede ejecutar sobre una colección, así que sólo puede contener resultados de la misma. Por lo tanto, con sólo una operación map/reduce no va a ser posible realizar todo el ejercicio.\n",
        "\n",
        "Así, en primer lugar, parece interesante agrupar todos los comentarios que se han producido de un Post en particular. En cada comentario, el atributo `PostId` marca una referencia al Post al que se refiere.\n",
        "\n",
        "Es importante cómo se construyen las operaciones `map()` y `reduce()`. Primero, la función `map()` se ejecutará para todos los documentos (o para todos los que cumplan la condición si se utiliza el modificador `query=`). Sin embargo, la función `reduce()` no se ejecutará a no ser que haya más de un elemento asociado a la misma clave.\n",
        "\n",
        "Por lo tanto, la salida de la función `map()` debe ser la misma que la de la función `reduce()`. En nuestro caso, es un objeto JSON de la forma:\n",
        "\n",
        "    { type: 'comment', comments: [ {comentario1, comentario2} ] }\n",
        "\n",
        "En el caso de que sólo se ejecute la función `map()`, nótese cómo el objeto tiene la misma composición, pero con un array de sólo un elemento (comentario): sí mismo."
      ]
    },
    {
      "cell_type": "code",
      "metadata": {
        "id": "7poT9YXXfbq8",
        "colab_type": "code",
        "colab": {}
      },
      "source": [
        "from bson.code import Code\n",
        "\n",
        "comments_map = Code('''\n",
        "function () {\n",
        "  emit(this.PostId, { type: 'comment', comments: [this]});\n",
        "}\n",
        "''')\n",
        "\n",
        "comments_reduce = Code('''\n",
        "function (key, values) {\n",
        "    comments = [];\n",
        "    values.forEach(function(v) {\n",
        "        if ('comments' in v)\n",
        "            comments = comments.concat(v.comments)\n",
        "    })\n",
        "    return { type: 'comment', comments: comments };\n",
        "}\n",
        "''')\n",
        "\n",
        "db.comments.map_reduce(comments_map, comments_reduce, \"post_comments\")"
      ],
      "execution_count": null,
      "outputs": []
    },
    {
      "cell_type": "code",
      "metadata": {
        "scrolled": true,
        "id": "r4OKOEaXfbq_",
        "colab_type": "code",
        "colab": {}
      },
      "source": [
        "list(db.post_comments.find()[:10])"
      ],
      "execution_count": null,
      "outputs": []
    },
    {
      "cell_type": "markdown",
      "metadata": {
        "id": "bJvOhTPffbrC",
        "colab_type": "text"
      },
      "source": [
        "Esto demuestra que en general el esquema de datos en MongoDB no estaría así desde el principio."
      ]
    },
    {
      "cell_type": "markdown",
      "metadata": {
        "id": "OoXCuYIofbrC",
        "colab_type": "text"
      },
      "source": [
        "Después del primer paso de map/reduce, tenemos que construir la colección final que asocia cada Post con sus comentarios. Como hemos construido antes la colección `post_comments` indizada por el `Id` del Post, podemos utilizar ahora una ejecución de map/reduce que *mezcle* los datos en `post_comments` con los datos en `posts`.\n",
        "\n",
        "La segunda ejecución de map/reduce la haremos sobre `posts`, para que el resultado sea completo, incluso para los Posts que no aparecen en comentarios, y por lo tanto tendrán el atributo `comments` vacío.\n",
        "\n",
        "En este caso, debemos hacer que la función `map()` produzca una salida de documentos que también están indizados con el atributo `Id`, y, como sólo hay uno para cada `Id`, la función `reduce()` no se ejecutará. **Tan sólo se ejecutará para mezclar ambas colecciones**, así que la función `reduce()` tendrá que estar preparada para mezclar objetos de tipo \"comment\" y Posts. En cualquier caso, como se puede ver, es válida también aunque sólo se llame con un objeto de tipo Post. Finalmente, la función `map()` prepara a cada objeto Post, inicialmente, con una lista de comentarios vacíos"
      ]
    },
    {
      "cell_type": "code",
      "metadata": {
        "id": "XglbdprhfbrD",
        "colab_type": "code",
        "colab": {}
      },
      "source": [
        "posts_map = Code(\"\"\"\n",
        "function () {\n",
        "  this.comments = [];\n",
        "  emit(this.Id, this);\n",
        "}\n",
        "\"\"\")\n",
        "\n",
        "posts_reduce = Code(\"\"\"\n",
        "function (key, values) {\n",
        "  comments = []; // The set of comments\n",
        "  obj = {}; // The object to return\n",
        "  \n",
        "  values.forEach(function(v) {\n",
        "    if (v['type'] === 'comment')\n",
        "      comments = comments.concat(v.comments);\n",
        "    else // Object\n",
        "    {\n",
        "      obj = v;\n",
        "      // obj.comments will always be there because of the map() operation\n",
        "      comments = comments.concat(obj.comments);\n",
        "    }\n",
        "  })\n",
        "  \n",
        "  // Finalize: Add the comments to the object to return\n",
        "  obj.comments = comments;\n",
        "\n",
        "  return obj;\n",
        "}\n",
        "\"\"\")\n",
        "\n",
        "db.posts.map_reduce(posts_map, posts_reduce, out={'reduce' : 'post_comments'})"
      ],
      "execution_count": null,
      "outputs": []
    },
    {
      "cell_type": "code",
      "metadata": {
        "id": "z8F5qYdafbrF",
        "colab_type": "code",
        "colab": {}
      },
      "source": [
        "list(db.post_comments.find()[:10])"
      ],
      "execution_count": null,
      "outputs": []
    },
    {
      "cell_type": "markdown",
      "metadata": {
        "id": "rwrJSwdffbrI",
        "colab_type": "text"
      },
      "source": [
        "## Framework de Agregación\n",
        "\n",
        "Framework de agregación: https://docs.mongodb.com/manual/reference/operator/aggregation/. Y aquí una presentación interesante sobre el tema: https://www.mongodb.com/presentations/aggregation-framework-0?jmp=docs&_ga=1.223708571.1466850754.1477658152\n",
        "\n",
        "<video style=\"width:100%;\" src=\"https://docs.mongodb.com/manual/_images/agg-pipeline.mp4\" controls> </video>\n",
        "![](https://miro.medium.com/max/1060/1*2lDBxvZ8Cr3JYkoODTa0lQ.png)"
      ]
    },
    {
      "cell_type": "markdown",
      "metadata": {
        "id": "WqP4KjgafbrJ",
        "colab_type": "text"
      },
      "source": [
        "Proyección:"
      ]
    },
    {
      "cell_type": "code",
      "metadata": {
        "id": "0HRH68mufbrL",
        "colab_type": "code",
        "colab": {}
      },
      "source": [
        "respuestas = db['posts'].aggregate( [ {'$project' : { 'Id' : True }}, {'$limit': 20} ])\n",
        "list(respuestas)"
      ],
      "execution_count": null,
      "outputs": []
    },
    {
      "cell_type": "markdown",
      "metadata": {
        "id": "SXP3qYs7fbrO",
        "colab_type": "text"
      },
      "source": [
        "_Lookup_!"
      ]
    },
    {
      "cell_type": "code",
      "metadata": {
        "scrolled": true,
        "id": "iyZg-6TLfbrP",
        "colab_type": "code",
        "colab": {}
      },
      "source": [
        "respuestas = posts.aggregate( [\n",
        "        {'$match': { 'Score' : {'$gte': 40}}},\n",
        "        {'$lookup': {\n",
        "            'from': \"users\", \n",
        "            'localField': \"OwnerUserId\",\n",
        "            'foreignField': \"Id\",\n",
        "            'as': \"owner\"}\n",
        "        }\n",
        "        ])\n",
        "list(respuestas)"
      ],
      "execution_count": null,
      "outputs": []
    },
    {
      "cell_type": "markdown",
      "metadata": {
        "id": "Wc14fggBfbrR",
        "colab_type": "text"
      },
      "source": [
        "El `$lookup` genera un _array_ con todos los resultados. El operador `$arrayElementAt` accede al primer elemento."
      ]
    },
    {
      "cell_type": "code",
      "metadata": {
        "id": "Ge_iO8dHfbrS",
        "colab_type": "code",
        "colab": {}
      },
      "source": [
        "respuestas = db.posts.aggregate( [\n",
        "        {'$match': { 'Score' : {'$gte': 40}}},\n",
        "        {'$lookup': {\n",
        "            'from': \"users\", \n",
        "            'localField': \"OwnerUserId\",\n",
        "            'foreignField': \"Id\",\n",
        "            'as': \"owner\"}\n",
        "        },\n",
        "        { '$project' :\n",
        "        {\n",
        "            'Id' : True,\n",
        "            'Score' : True,\n",
        "            'username' : {'$arrayElemAt' : ['$owner.DisplayName', 0]},\n",
        "            'owner.DisplayName'  : True\n",
        "        }}\n",
        "        ])\n",
        "list(respuestas)"
      ],
      "execution_count": null,
      "outputs": []
    },
    {
      "cell_type": "markdown",
      "metadata": {
        "id": "E11XU_bufbrU",
        "colab_type": "text"
      },
      "source": [
        "`$unwind` también puede usarse. \"Desdobla\" cada fila por cada elemento del array. En este caso, como sabemos que el array sólo contiene un elemento, sólo habrá una fila por fila original, pero sin el _array_. Finalmente se puede proyectar el campo que se quiera."
      ]
    },
    {
      "cell_type": "code",
      "metadata": {
        "id": "EphHDIKyfbrU",
        "colab_type": "code",
        "colab": {}
      },
      "source": [
        "respuestas = db.posts.aggregate( [\n",
        "        {'$match': { 'Score' : {'$gte': 40}}},\n",
        "        {'$lookup': {\n",
        "            'from': \"users\", \n",
        "            'localField': \"OwnerUserId\",\n",
        "            'foreignField': \"Id\",\n",
        "            'as': \"owner\"}\n",
        "        },\n",
        "        { '$unwind': '$owner'},\n",
        "        { '$project' : \n",
        "         {\n",
        "             'username': '$owner.DisplayName'\n",
        "         }\n",
        "        }\n",
        "        ])\n",
        "list(respuestas)"
      ],
      "execution_count": null,
      "outputs": []
    },
    {
      "cell_type": "markdown",
      "metadata": {
        "id": "aF2UeJhWfbrY",
        "colab_type": "text"
      },
      "source": [
        "### Ejemplo de realización de la consulta RQ4"
      ]
    },
    {
      "cell_type": "markdown",
      "metadata": {
        "id": "xZCEYMe_fbrY",
        "colab_type": "text"
      },
      "source": [
        "Como ejemplo de consulta compleja con el Framework de Agregación, adjunto una posible solución a la consulta RQ4:"
      ]
    },
    {
      "cell_type": "code",
      "metadata": {
        "scrolled": true,
        "id": "JMS_VrLtfbrZ",
        "colab_type": "code",
        "colab": {}
      },
      "source": [
        "RQ4 = db.posts.aggregate( [\n",
        "        { \"$match\" : {\"PostTypeId\": 2}},\n",
        "        {'$lookup': {\n",
        "            'from': \"posts\", \n",
        "            'localField': \"ParentId\",\n",
        "            'foreignField': \"Id\",\n",
        "            'as': \"question\"\n",
        "            }\n",
        "        },\n",
        "        {\n",
        "            '$unwind' : '$question'\n",
        "        },\n",
        "        {\n",
        "            '$project' : { 'OwnerUserId': True, \n",
        "                           'OP' : '$question.OwnerUserId'\n",
        "                         }\n",
        "        },\n",
        "        {\n",
        "            '$group' : {'_id' : {'min' : { '$min' : ['$OwnerUserId' , '$OP'] },\n",
        "                                 'max' : { '$max' : ['$OwnerUserId' , '$OP'] }},\n",
        "                        'pairs' : {'$addToSet' : { '0q': '$OP', '1a': '$OwnerUserId'}}\n",
        "                        }\n",
        "        },\n",
        "        {\n",
        "            '$project': {\n",
        "                'pairs' : True,\n",
        "                'npairs' : { '$size' : '$pairs'}\n",
        "            }\n",
        "        },\n",
        "        {\n",
        "            '$match' : { 'npairs' : { '$eq' : 2}}\n",
        "        }\n",
        "    ])\n",
        "RQ4 = list(RQ4)\n",
        "RQ4"
      ],
      "execution_count": null,
      "outputs": []
    },
    {
      "cell_type": "markdown",
      "metadata": {
        "id": "OtfkubiAfbrc",
        "colab_type": "text"
      },
      "source": [
        "La explicación es como sigue:\n",
        "\n",
        "1. Se eligen sólo las respuestas\n",
        "2. Se accede a la tabla `posts` para recuperar los datos de la pregunta\n",
        "3. A continuación se proyectan sólo el usuario que pregunta y el que hace la respuesta\n",
        "4. El paso más imaginativo es el de agrupación. Lo que se intenta es que ambos pares de usuarios que están relacionados como preguntante -> respondiente y viceversa, caigan en la misma clave. Por ello, se coge el máximo y el mínimo de ambos identificadores de usuarios y se construye una clave con ambos números en las mismas posiciones. Así, ambas combinaciones de usuario que pregunta y que responde caerán en la misma clave. También se usa un conjunto (en `pairs`), y sólo se añadirá una vez las posibles combinaciones iguales de preguntador/respondiente.\n",
        "5. Sólo nos interesan aquellas tuplas cuyo tamaño del conjunto de pares de pregunta/respuesta sea igual a dos (en un elemento uno de los dos usuarios habrá preguntado y el otro habrá respondido y en el otro viceversa).\n",
        "\n",
        "La implementación en Map-Reduce se puede realizar con la misma idea."
      ]
    },
    {
      "cell_type": "markdown",
      "metadata": {
        "id": "PSQQ52oSfbrc",
        "colab_type": "text"
      },
      "source": [
        "En el caso de que queramos tener como referencia las preguntas y respuestas a las que se refiere la conversación, se puede añadir un campo más que guarde todas las preguntas junto con sus respuestas consideradas "
      ]
    },
    {
      "cell_type": "code",
      "metadata": {
        "scrolled": true,
        "id": "hkg8Kisqfbrd",
        "colab_type": "code",
        "colab": {}
      },
      "source": [
        "RQ4 = db.posts.aggregate( [\n",
        "        {'$match': { 'PostTypeId' : 2}},\n",
        "        {'$lookup': {\n",
        "            'from': \"posts\", \n",
        "            'localField': \"ParentId\",\n",
        "            'foreignField': \"Id\",\n",
        "            'as': \"question\"}\n",
        "        },\n",
        "        {\n",
        "            '$unwind' : '$question'\n",
        "        },\n",
        "        {\n",
        "            '$project' : {'OwnerUserId': True,\n",
        "                          'QId' : '$question.Id',\n",
        "                          'AId' : '$Id',\n",
        "                          'OP' : '$question.OwnerUserId'\n",
        "                         }\n",
        "        },\n",
        "        {\n",
        "            '$group' : {'_id' : {'min' : { '$min' : ['$OwnerUserId' , '$OP'] },\n",
        "                                 'max' : { '$max' : ['$OwnerUserId' , '$OP'] }},\n",
        "                        'pairs' : {'$addToSet' : { '0q':'$OP', '1a': '$OwnerUserId'}},\n",
        "                        'considered_pairs' : { '$push' : {'QId' : '$QId', 'AId' : '$AId'}}\n",
        "                        }\n",
        "        },\n",
        "        {\n",
        "            '$project': {\n",
        "                'pairs' : True,\n",
        "                'npairs' : { '$size' : '$pairs'},\n",
        "                'considered_pairs' : True\n",
        "            }\n",
        "        },\n",
        "        {\n",
        "            '$match' : { 'npairs' : { '$eq' : 2}}\n",
        "        }\n",
        "    ])\n",
        "RQ4 = list(RQ4)\n",
        "RQ4"
      ],
      "execution_count": null,
      "outputs": []
    },
    {
      "cell_type": "code",
      "metadata": {
        "id": "9Sjnp3LXfbre",
        "colab_type": "code",
        "colab": {}
      },
      "source": [
        "(db.posts.find_one({'Id': 238}), db.posts.find_one({'Id': 243}),\n",
        "db.posts.find_one({'Id': 222}), db.posts.find_one({'Id': 223}))"
      ],
      "execution_count": null,
      "outputs": []
    },
    {
      "cell_type": "markdown",
      "metadata": {
        "id": "dcsTmRuxfbrh",
        "colab_type": "text"
      },
      "source": [
        "### Ejemplo de consulta: Tiempo medio desde que se hace una pregunta hasta que se le da la primera respuesta\n",
        "\n",
        "Veamos cómo calcular el tiempo medio desde que se hace una pregunta hasta que se le da la primera respuesta. En este caso se puede utilizar las respuestas para apuntar a qué pregunta correspondieron. No se considerarán pues las preguntas que no tienen respuesta, lo cual es razonable. Sin embargo, la función map debe guardar también las preguntas para poder calcular el tiempo menor (la primera repuesta)."
      ]
    },
    {
      "cell_type": "code",
      "metadata": {
        "id": "RN1HRsPTfbri",
        "colab_type": "code",
        "colab": {}
      },
      "source": [
        "from bson.code import Code\n",
        "\n",
        "# La función map agrupará todas las respuestas, pero también necesita las \n",
        "mapcode = Code(\"\"\"\n",
        "function () {\n",
        "    if (this.PostTypeId == 2)\n",
        "        emit(this.ParentId, {q: null, a: {Id: this.Id, CreationDate: this.CreationDate}, diff: null})\n",
        "    else if (this.PostTypeId == 1)\n",
        "        emit(this.Id, {q: {Id: this.Id, CreationDate: this.CreationDate}, a: null, diff: null})\n",
        "}\n",
        "\"\"\")\n",
        "\n",
        "reducecode = Code(\"\"\"\n",
        "function (key, values) {\n",
        "    q = null // Pregunta\n",
        "    a = null // Respuesta con la fecha más cercana a la pregunta\n",
        "  \n",
        "    values.forEach(function(v) {\n",
        "        if (v.q != null) // Pregunta\n",
        "            q = v.q\n",
        "        if (v.a != null) // Respuesta\n",
        "        {\n",
        "            if (a == null || v.a.CreationDate < a.CreationDate)\n",
        "                a = v.a\n",
        "        }\n",
        "    })\n",
        "\n",
        "    mindiff = null\n",
        "    if (q != null && a != null)\n",
        "        mindiff = a.CreationDate - q.CreationDate;\n",
        "\n",
        "    return {q: q, a: a, diff: mindiff}\n",
        "}\n",
        "\"\"\")\n",
        "\n",
        "db.posts.map_reduce(mapcode, reducecode, \"min_response_time\")"
      ],
      "execution_count": null,
      "outputs": []
    },
    {
      "cell_type": "code",
      "metadata": {
        "scrolled": true,
        "id": "iWxKnlhtfbrj",
        "colab_type": "code",
        "colab": {}
      },
      "source": [
        "mrt = list(db.min_response_time.find())"
      ],
      "execution_count": null,
      "outputs": []
    },
    {
      "cell_type": "code",
      "metadata": {
        "id": "8rWZgKUWfbrl",
        "colab_type": "code",
        "colab": {}
      },
      "source": [
        "from pandas.io.json import json_normalize\n",
        "\n",
        "df = json_normalize(mrt)"
      ],
      "execution_count": null,
      "outputs": []
    },
    {
      "cell_type": "code",
      "metadata": {
        "id": "dWOGK4u-fbrn",
        "colab_type": "code",
        "colab": {}
      },
      "source": [
        "df.index=df[\"_id\"]"
      ],
      "execution_count": null,
      "outputs": []
    },
    {
      "cell_type": "code",
      "metadata": {
        "id": "53NNAfC4fbrr",
        "colab_type": "code",
        "colab": {}
      },
      "source": [
        "df"
      ],
      "execution_count": null,
      "outputs": []
    },
    {
      "cell_type": "code",
      "metadata": {
        "id": "3vJ0iHC6fbrs",
        "colab_type": "code",
        "colab": {}
      },
      "source": [
        "df['value.diff'].plot()"
      ],
      "execution_count": null,
      "outputs": []
    },
    {
      "cell_type": "markdown",
      "metadata": {
        "id": "PFxtVyRlfbrv",
        "colab_type": "text"
      },
      "source": [
        "Esto sólo calcula el tiempo mínimo de cada pregunta a su respuesta. Después habría que aplicar lo visto en otros ejemplos para calcular la media. Con agregación, a continuación, sí que se puede calcular la media de forma relativament sencilla:"
      ]
    },
    {
      "cell_type": "code",
      "metadata": {
        "id": "qBI8nYpffbrw",
        "colab_type": "code",
        "colab": {}
      },
      "source": [
        "min_answer_time = db.posts.aggregate([\n",
        "    {\"$match\" : {\"PostTypeId\" : 2}},\n",
        "    {\n",
        "        '$group' : {'_id' : '$ParentId',\n",
        "                   # 'answers' : { '$push' : {'Id' : \"$Id\", 'CreationDate' : \"$CreationDate\"}},\n",
        "                    'min' : {'$min' : \"$CreationDate\"}\n",
        "                    }\n",
        "    },\n",
        "    { \"$lookup\" : {\n",
        "        'from': \"posts\", \n",
        "        'localField': \"_id\",\n",
        "        'foreignField': \"Id\",\n",
        "        'as': \"post\"}\n",
        "    },\n",
        "    { \"$unwind\" : \"$post\"},\n",
        "    {\"$project\" :\n",
        "        {\"_id\" : True,\n",
        "        \"min\" : True,\n",
        "        #\"post\" : True,\n",
        "        \"diff\" : {\"$subtract\" : [\"$min\", \"$post.CreationDate\"]}}\n",
        "    },\n",
        "    #    { \"$sort\" : {'_id' : 1} }\n",
        "    {\n",
        "        \"$group\" :  {\n",
        "            \"_id\" : None,\n",
        "            \"avg\" : { \"$avg\" : \"$diff\"}\n",
        "        }\n",
        "    }\n",
        "])\n",
        "min_answer_time = list(min_answer_time)\n",
        "min_answer_time"
      ],
      "execution_count": null,
      "outputs": []
    },
    {
      "cell_type": "markdown",
      "metadata": {
        "id": "ZSF1uu0tfbrz",
        "colab_type": "text"
      },
      "source": [
        "## EJERCICIO: Con Map-Reduce, construir las colecciones que asocian un usuario con sus tags y los tags con los usuarios que las utilizan (E1)."
      ]
    },
    {
      "cell_type": "code",
      "metadata": {
        "id": "By9Qt_xFfbrz",
        "colab_type": "code",
        "colab": {}
      },
      "source": [
        ""
      ],
      "execution_count": null,
      "outputs": []
    },
    {
      "cell_type": "markdown",
      "metadata": {
        "id": "059pixp_fbr0",
        "colab_type": "text"
      },
      "source": [
        "## EJERCICIO: Con el Framework de Agregación, generar la colección `StackOverflowFacts` vista en la sesión 2 (E2)."
      ]
    },
    {
      "cell_type": "code",
      "metadata": {
        "id": "ZKCoN9oAfbr2",
        "colab_type": "code",
        "colab": {}
      },
      "source": [
        ""
      ],
      "execution_count": null,
      "outputs": []
    },
    {
      "cell_type": "markdown",
      "metadata": {
        "id": "oLxBDmnZfbr4",
        "colab_type": "text"
      },
      "source": [
        "## EJERCICIO: Con Map-Reduce, implementar la consulta RQ3 de la sesión 2."
      ]
    },
    {
      "cell_type": "code",
      "metadata": {
        "id": "nCbJUhO5fbr4",
        "colab_type": "code",
        "colab": {}
      },
      "source": [
        ""
      ],
      "execution_count": null,
      "outputs": []
    },
    {
      "cell_type": "markdown",
      "metadata": {
        "id": "B0mhWGpBfbr8",
        "colab_type": "text"
      },
      "source": [
        "## EJERCICIO (difícil, opcional): Con Agregación, calcular, enla tabla `StackOverflowFacts` la media de tiempo que pasa desde que los usuarios se registran hasta que publican su primera pregunta."
      ]
    },
    {
      "cell_type": "code",
      "metadata": {
        "id": "_8NNbLnQfbr9",
        "colab_type": "code",
        "colab": {}
      },
      "source": [
        ""
      ],
      "execution_count": null,
      "outputs": []
    }
  ]
}