{
  "nbformat": 4,
  "nbformat_minor": 0,
  "metadata": {
    "kernelspec": {
      "display_name": "Python 3",
      "language": "python",
      "name": "python3"
    },
    "language_info": {
      "codemirror_mode": {
        "name": "ipython",
        "version": 3
      },
      "file_extension": ".py",
      "mimetype": "text/x-python",
      "name": "python",
      "nbconvert_exporter": "python",
      "pygments_lexer": "ipython3",
      "version": "3.7.3"
    },
    "colab": {
      "name": "sesion0.ipynb",
      "provenance": []
    }
  },
  "cells": [
    {
      "cell_type": "markdown",
      "metadata": {
        "id": "la8Wi7C_0gyZ",
        "colab_type": "text"
      },
      "source": [
        "# Introducción a Jupyter Notebook, Pandas, Matplotlib, etc.\n",
        "\n",
        "En esta hoja introduciremos la forma de trabajar con Jupyter Notebook/Google Colab. Veremos cómo los distintos elementos de las librerías de Python interactúan con el notebook para mostrar imágenes, gráficos, etc. También, en las siguientes sesiones los usaremos para acceder a conexiones SQL y a bases de datos NoSQL.\n",
        "\n",
        "Enlaces a otros tutoriales introductorios (que también se centran en tratamiento de datos para Big Data): [1](https://github.com/CharlestonDataScience/PythonNotebooks/blob/master/notebooks/tutorial_01/pandas_tutorial.ipynb) y [2](https://github.com/phelps-sg/python-bigdata/blob/master/src/main/ipynb/pandas.ipynb), entre otros muchos."
      ]
    },
    {
      "cell_type": "markdown",
      "metadata": {
        "id": "AVwChyC10gyl",
        "colab_type": "text"
      },
      "source": [
        "## Jupyter/Colab Notebook\n",
        "\n",
        "Los *Notebooks* contienen una mezcla de texto y código, y se pueden ir ejecutando paso a paso. En general utilizaremos el lenguaje Python en su versión 3, así que las hojas son en realidad un programa Python que se puede ejecutar en orden, junto con imágenes y texto explicativo adjunto.\n",
        "\n",
        "Al pulsar Ctrl+Intro en una celda, se ejecuta el código de la celda y se muestra el la siguiente celda. Al pulsar Shift+Intro se ejecuta la celda actual y pasa automáticamente a la siguiente.\n",
        "\n",
        "Existen también \"magics\", que sirven para obtener información de la hoja, o ejecutar comandos especiales. Por ejemplo, órdenes de shell, como en la siguiente celda. Hay varios tutoriales Online. Por ejemplo: [Tutorial](https://github.com/esc/scipy2013-tutorial-numpy-ipython/blob/master/ipython.ipynb)."
      ]
    },
    {
      "cell_type": "code",
      "metadata": {
        "id": "sQP8GpuC0gyr",
        "colab_type": "code",
        "colab": {}
      },
      "source": [
        "!uname -a"
      ],
      "execution_count": null,
      "outputs": []
    },
    {
      "cell_type": "code",
      "metadata": {
        "id": "16n5PqCp0gzM",
        "colab_type": "code",
        "colab": {}
      },
      "source": [
        "%lsmagic"
      ],
      "execution_count": null,
      "outputs": []
    },
    {
      "cell_type": "markdown",
      "metadata": {
        "id": "Fs7khh660gze",
        "colab_type": "text"
      },
      "source": [
        "A continuación mostramos los paquetes que usaremos regularmente para tratar datos, `pandas`, `numpy`, `matplotlib`. Al ser un programa en Python, se pueden importar paquetes que seguirán siendo válidos hasta el final del _notebook_."
      ]
    },
    {
      "cell_type": "code",
      "metadata": {
        "id": "Zm7Lxq3b0gzi",
        "colab_type": "code",
        "colab": {}
      },
      "source": [
        "import numpy as np\n",
        "import pandas as pd\n",
        "import matplotlib.pyplot as plt\n",
        "import matplotlib"
      ],
      "execution_count": null,
      "outputs": []
    },
    {
      "cell_type": "markdown",
      "metadata": {
        "id": "cnHsIiOJ0gzx",
        "colab_type": "text"
      },
      "source": [
        "Lo siguiente hace que los gráficos se muestren inline. Para figuras pequeñas se puede utilizar unas figuras interactivas que permiten zoom, usando `%maplotlib nbagg`."
      ]
    },
    {
      "cell_type": "code",
      "metadata": {
        "id": "54LyaN9h0gz2",
        "colab_type": "code",
        "colab": {}
      },
      "source": [
        "%matplotlib inline\n",
        "matplotlib.style.use('ggplot')"
      ],
      "execution_count": null,
      "outputs": []
    },
    {
      "cell_type": "markdown",
      "metadata": {
        "id": "FbNgEEmW0g0F",
        "colab_type": "text"
      },
      "source": [
        "## Numpy\n",
        "\n",
        "Numpy es una de las librerías más utilizadas en Python, y ofrece un interfaz sencillo para operaciones eficientes con números, _arrays_ y matrices. Numpy se utilizará de apoyo muchas veces que haya que hacer procesamiento local de datos recogidos de una base de datos, o como preparación para la graficación de datos. En la celda siguiente se muestra un vídeo introductorio, y también se puede acceder a tutoriales online: [Tutorial](https://github.com/esc/scipy2013-tutorial-numpy-ipython/blob/master/operations.ipynb)."
      ]
    },
    {
      "cell_type": "code",
      "metadata": {
        "id": "7tqi4z-h0g0J",
        "colab_type": "code",
        "colab": {}
      },
      "source": [
        "from IPython.display import YouTubeVideo\n",
        "YouTubeVideo('o8fmjaW9a0A') # Yes, it can also embed youtube videos."
      ],
      "execution_count": null,
      "outputs": []
    },
    {
      "cell_type": "markdown",
      "metadata": {
        "id": "PAssJtAv0g0c",
        "colab_type": "text"
      },
      "source": [
        "Numpy permite generar y procesar arrays de datos de forma muy eficiente. A continuación se muestran algunos ejemplos:"
      ]
    },
    {
      "cell_type": "code",
      "metadata": {
        "id": "XTIZsrqm0g0e",
        "colab_type": "code",
        "colab": {}
      },
      "source": [
        "a = np.array([4,5,6])\n",
        "print(a.shape)\n",
        "print(a[0])\n",
        "a[0] = 9\n",
        "print (a)"
      ],
      "execution_count": null,
      "outputs": []
    },
    {
      "cell_type": "code",
      "metadata": {
        "id": "hqwxBBDR0g0q",
        "colab_type": "code",
        "colab": {}
      },
      "source": [
        "np.arange(10)"
      ],
      "execution_count": null,
      "outputs": []
    },
    {
      "cell_type": "code",
      "metadata": {
        "id": "juBoOUXv0g03",
        "colab_type": "code",
        "colab": {}
      },
      "source": [
        "np.arange(1,20)"
      ],
      "execution_count": null,
      "outputs": []
    },
    {
      "cell_type": "markdown",
      "metadata": {
        "id": "Ur7PeiO40g1H",
        "colab_type": "text"
      },
      "source": [
        "También arrays multidimensionales:"
      ]
    },
    {
      "cell_type": "code",
      "metadata": {
        "id": "RAxRAAUn0g1K",
        "colab_type": "code",
        "colab": {}
      },
      "source": [
        "a = np.zeros((2,2))\n",
        "print (a)"
      ],
      "execution_count": null,
      "outputs": []
    },
    {
      "cell_type": "code",
      "metadata": {
        "id": "JrvObDnf0g1Y",
        "colab_type": "code",
        "colab": {}
      },
      "source": [
        "a.ndim"
      ],
      "execution_count": null,
      "outputs": []
    },
    {
      "cell_type": "code",
      "metadata": {
        "id": "VXEAG5cV0g1l",
        "colab_type": "code",
        "colab": {}
      },
      "source": [
        "a.dtype"
      ],
      "execution_count": null,
      "outputs": []
    },
    {
      "cell_type": "code",
      "metadata": {
        "id": "OTpwAgyj0g14",
        "colab_type": "code",
        "colab": {}
      },
      "source": [
        "b = np.random.random((2,2))\n",
        "print (b)"
      ],
      "execution_count": null,
      "outputs": []
    },
    {
      "cell_type": "code",
      "metadata": {
        "id": "webIPAma0g2F",
        "colab_type": "code",
        "colab": {}
      },
      "source": [
        "a = np.random.random((2,2))\n",
        "print(a)"
      ],
      "execution_count": null,
      "outputs": []
    },
    {
      "cell_type": "markdown",
      "metadata": {
        "id": "5o0QZDMy0g2T",
        "colab_type": "text"
      },
      "source": [
        "Se pueden aplicar funciones sobre todo el array o matriz, y el resultado será una matriz idéntica con el operador aplicado. Similar a lo que ocurre con la operación `map` de algunos lenguajes de programación (incluído Python):"
      ]
    },
    {
      "cell_type": "code",
      "metadata": {
        "id": "dFpNqjd-0g2V",
        "colab_type": "code",
        "colab": {}
      },
      "source": [
        "print (a >= .5)"
      ],
      "execution_count": null,
      "outputs": []
    },
    {
      "cell_type": "markdown",
      "metadata": {
        "id": "09xWrIqZ0g2u",
        "colab_type": "text"
      },
      "source": [
        "También se pueden _filtrar_ los elementos de un array o matriz que cumplan una condición. Para eso se utiliza el operador de indización (`[]`) con una expresión booleana."
      ]
    },
    {
      "cell_type": "code",
      "metadata": {
        "id": "lf8zXQ6r0g2w",
        "colab_type": "code",
        "colab": {}
      },
      "source": [
        "print (a[a >= .5])"
      ],
      "execution_count": null,
      "outputs": []
    },
    {
      "cell_type": "markdown",
      "metadata": {
        "id": "LntLnGSC0g29",
        "colab_type": "text"
      },
      "source": [
        "¿Por qué usar Numpy? \n",
        "\n",
        "`%%capture` captura la salida de la ejecución de la celda en la variable dada como parámetro. Después se puede imprimir.\n",
        "\n",
        "`%timeit` se utiliza para ejecutar varias veces una instrucción y calcular un promedio de su duración."
      ]
    },
    {
      "cell_type": "code",
      "metadata": {
        "id": "GUM4mNqc0g3A",
        "colab_type": "code",
        "colab": {}
      },
      "source": [
        "%%capture timeit_output\n",
        "\n",
        "%timeit l1 = range(1,1000)\n",
        "\n",
        "%timeit l2 = np.arange(1,1000)"
      ],
      "execution_count": null,
      "outputs": []
    },
    {
      "cell_type": "code",
      "metadata": {
        "id": "AUXOSmWP0g3M",
        "colab_type": "code",
        "colab": {}
      },
      "source": [
        "print(timeit_output)"
      ],
      "execution_count": null,
      "outputs": []
    },
    {
      "cell_type": "code",
      "metadata": {
        "scrolled": true,
        "id": "nZJKGRoj0g3Z",
        "colab_type": "code",
        "colab": {}
      },
      "source": [
        "x = np.array([[1,2],[3,4]])\n",
        "\n",
        "print (np.sum(x))  # Compute sum of all elements; prints \"10\"\n",
        "print (np.sum(x, axis=0))  # Compute sum of each column; prints \"[4 6]\"\n",
        "print (np.sum(x, axis=1))  # Compute sum of each row; prints \"[3 7]\""
      ],
      "execution_count": null,
      "outputs": []
    },
    {
      "cell_type": "code",
      "metadata": {
        "id": "2pLMfeT10g3j",
        "colab_type": "code",
        "colab": {}
      },
      "source": [
        "x * 2"
      ],
      "execution_count": null,
      "outputs": []
    },
    {
      "cell_type": "code",
      "metadata": {
        "id": "qyW6o5hI0g4C",
        "colab_type": "code",
        "colab": {}
      },
      "source": [
        "x ** 2"
      ],
      "execution_count": null,
      "outputs": []
    },
    {
      "cell_type": "markdown",
      "metadata": {
        "id": "-uig7nF20g4N",
        "colab_type": "text"
      },
      "source": [
        "`numpy` tiene infinidad de funciones, por lo que sería interesante darse una vuelta por su documentación: https://docs.scipy.org/doc/."
      ]
    },
    {
      "cell_type": "markdown",
      "metadata": {
        "id": "yQV9Ttle0g4P",
        "colab_type": "text"
      },
      "source": [
        "## Matplotlib\n",
        "\n",
        "Matplotlib permite generar gráficos de forma sencilla. Lo veremos aquí primero conectado sólo con `Numpy` y después conectado con `Pandas`."
      ]
    },
    {
      "cell_type": "code",
      "metadata": {
        "id": "f5kz-KFL0g4R",
        "colab_type": "code",
        "colab": {}
      },
      "source": [
        "x = np.arange(0, 3 * np.pi, 0.1)\n",
        "y = np.sin(x)\n",
        "plt.subplot()\n",
        "# Plot the points using matplotlib\n",
        "plt.plot(x, y)\n",
        "plt.show()"
      ],
      "execution_count": null,
      "outputs": []
    },
    {
      "cell_type": "code",
      "metadata": {
        "id": "VgdTh4Y60g4e",
        "colab_type": "code",
        "colab": {}
      },
      "source": [
        "plt.subplot(211)\n",
        "plt.plot(range(12))\n",
        "plt.subplot(212, facecolor='y')\n",
        "plt.plot(range(100))\n",
        "plt.show()"
      ],
      "execution_count": null,
      "outputs": []
    },
    {
      "cell_type": "code",
      "metadata": {
        "id": "s_PgM4a20g4q",
        "colab_type": "code",
        "colab": {}
      },
      "source": [
        "# Compute the x and y coordinates for points on sine and cosine curves\n",
        "x = np.arange(0, 3 * np.pi, 0.1)\n",
        "y_sin = np.sin(x)\n",
        "y_cos = np.cos(x)\n",
        "\n",
        "# Plot the points using matplotlib\n",
        "plt.plot(x, y_sin)\n",
        "plt.plot(x, y_cos)\n",
        "plt.xlabel('x axis label')\n",
        "plt.ylabel('y axis label')\n",
        "plt.title('Sine and Cosine')\n",
        "plt.legend(['Sine', 'Cosine'])\n",
        "plt.show()"
      ],
      "execution_count": null,
      "outputs": []
    },
    {
      "cell_type": "markdown",
      "metadata": {
        "id": "ui_uyztA0g4y",
        "colab_type": "text"
      },
      "source": [
        "## Pandas\n",
        "\n",
        "Tutoriales: [1](http://pandas.pydata.org/pandas-docs/version/0.18.1/tutorials.html), [2](https://dev.socrata.com/blog/2016/02/01/pandas-and-jupyter-notebook.html), [3](http://nikgrozev.com/2015/12/27/pandas-in-jupyter-quickstart-and-useful-snippets/)."
      ]
    },
    {
      "cell_type": "markdown",
      "metadata": {
        "id": "LOyrsZB10g40",
        "colab_type": "text"
      },
      "source": [
        "Pandas permite gestionar conjuntos de datos n-dimensionales de diferentes formas, y también conectarlo con matplotlib para hacer gráficas.\n",
        "\n",
        "Los conceptos principales de Pandas son los `Dataframes` y las `Series`. La diferencia entre ambas es que la serie guarda sólo una serie (una columna o una fila, depende de como se quiera interpretar), mientras que un Dataframe guarda estructuras multidimensaionales agregando series.\n",
        "\n",
        "Ambas tienen una (o varias) \"columna fantasma\", que sirve de índice, y que se puede acceder con `d.index` (tanto si `d` es una serie o un dataframe). Si no se especifica un índice, se le añade uno virtual numerando las filas desde cero. Además, los índices pueden ser multidimensionales (por ejemplo, tener un índice por mes y dentro uno por dia de la semana)."
      ]
    },
    {
      "cell_type": "code",
      "metadata": {
        "id": "cl0Bh4Q-0g44",
        "colab_type": "code",
        "colab": {}
      },
      "source": [
        "ts = pd.Series(np.random.randn(1000), index=pd.date_range('1/1/2000', periods=1000))\n",
        "ts"
      ],
      "execution_count": null,
      "outputs": []
    },
    {
      "cell_type": "code",
      "metadata": {
        "id": "6RQFSUOW0g5A",
        "colab_type": "code",
        "colab": {}
      },
      "source": [
        "ts.describe()"
      ],
      "execution_count": null,
      "outputs": []
    },
    {
      "cell_type": "code",
      "metadata": {
        "id": "pEYsgmGG0g5N",
        "colab_type": "code",
        "colab": {}
      },
      "source": [
        "ts = ts.cumsum()\n",
        "ts.plot();"
      ],
      "execution_count": null,
      "outputs": []
    },
    {
      "cell_type": "code",
      "metadata": {
        "id": "NJnJN3Mx0g5s",
        "colab_type": "code",
        "colab": {}
      },
      "source": [
        "df = pd.DataFrame(np.random.randn(1000, 4), index=ts.index, columns=list('ABCD'))\n",
        "\n",
        "df = df.cumsum()\n",
        "\n",
        "df.plot();"
      ],
      "execution_count": null,
      "outputs": []
    },
    {
      "cell_type": "markdown",
      "metadata": {
        "id": "gGSFAtW10g5z",
        "colab_type": "text"
      },
      "source": [
        "Se puede hacer plot también de una columna contra otra."
      ]
    },
    {
      "cell_type": "code",
      "metadata": {
        "scrolled": true,
        "id": "a5adevuK0g51",
        "colab_type": "code",
        "colab": {}
      },
      "source": [
        "df3 = pd.DataFrame(np.random.randn(1000, 2), columns=['B', 'C']).cumsum()\n",
        "df3['A'] = pd.Series(list(range(len(df3))))\n",
        "df3.plot(x='A', y='B');"
      ],
      "execution_count": null,
      "outputs": []
    },
    {
      "cell_type": "markdown",
      "metadata": {
        "id": "Q4UceYje0g6A",
        "colab_type": "text"
      },
      "source": [
        "Valores incompletos. Si no se establecen, se pone a `NaN` (_not a number_). "
      ]
    },
    {
      "cell_type": "code",
      "metadata": {
        "id": "Qc6-3Cdu0g6C",
        "colab_type": "code",
        "colab": {}
      },
      "source": [
        "d = {'one' : pd.Series([1., 2., 3.], index=['a', 'b', 'c']),\n",
        "     'two' : pd.Series([1., 2., 3., 4.], index=['a', 'b', 'c', 'd'])}\n",
        "df = pd.DataFrame(d)\n",
        "df"
      ],
      "execution_count": null,
      "outputs": []
    },
    {
      "cell_type": "markdown",
      "metadata": {
        "id": "EXZ4QkcK0g6J",
        "colab_type": "text"
      },
      "source": [
        "`fillna()` permite cambiar el valor de los datos faltantes."
      ]
    },
    {
      "cell_type": "code",
      "metadata": {
        "id": "rgsfR4sx0g6K",
        "colab_type": "code",
        "colab": {}
      },
      "source": [
        "df.fillna(0)"
      ],
      "execution_count": null,
      "outputs": []
    },
    {
      "cell_type": "code",
      "metadata": {
        "id": "9rM1X2lV0g6R",
        "colab_type": "code",
        "colab": {}
      },
      "source": [
        "pd.DataFrame(d, index=['d', 'b', 'a'])"
      ],
      "execution_count": null,
      "outputs": []
    },
    {
      "cell_type": "code",
      "metadata": {
        "id": "HanNMeBa0g6b",
        "colab_type": "code",
        "colab": {}
      },
      "source": [
        "pd.DataFrame(d, index=['d', 'b', 'a'], columns=['two', 'three'])"
      ],
      "execution_count": null,
      "outputs": []
    },
    {
      "cell_type": "markdown",
      "metadata": {
        "id": "ROQ0H5Ny0g6k",
        "colab_type": "text"
      },
      "source": [
        "A continuación se muestra un ejemplo de uso de Pandas para leer datos y procesarlos en un Dataframe.\n",
        "\n",
        "El primer ejemplo completo carga desde el fichero `swift-question-dates.txt.gz` las fechas de las preguntas en Stackoverflow que contienen el tag \"swift\"."
      ]
    },
    {
      "cell_type": "markdown",
      "metadata": {
        "id": "fPUsDbL00g6m",
        "colab_type": "text"
      },
      "source": [
        "La función `read_csv` es capaz de leer cualquier fichero CSV y lo convierte en un \"Dataframe\", una estructura de tabla que guarda también los nombres y los tipos de las columnas, así como un índice por el que se identificarán las tablas. La lista incluye la fecha en donde se produjo una pregunta con el tag \"swift\". Como los datos en sí son las fechas, hacemos que la columna de fechas haga a su vez de índice."
      ]
    },
    {
      "cell_type": "code",
      "metadata": {
        "id": "QvDjN15R0g6o",
        "colab_type": "code",
        "colab": {}
      },
      "source": [
        "df = pd.read_csv('https://github.com/dsevilla/bdge/raw/master/intro/swift-question-dates.txt.gz',\n",
        "                 header=None,\n",
        "                 names=['date'],\n",
        "                 compression='gzip',\n",
        "                 parse_dates=['date'],\n",
        "                 index_col='date')"
      ],
      "execution_count": null,
      "outputs": []
    },
    {
      "cell_type": "code",
      "metadata": {
        "scrolled": true,
        "id": "fgVSv1lt0g6v",
        "colab_type": "code",
        "colab": {}
      },
      "source": [
        "df"
      ],
      "execution_count": null,
      "outputs": []
    },
    {
      "cell_type": "markdown",
      "metadata": {
        "id": "dzPabHwO0g62",
        "colab_type": "text"
      },
      "source": [
        "De la fecha, extraer sólo la fecha (no la hora, que no nos interesa)."
      ]
    },
    {
      "cell_type": "code",
      "metadata": {
        "id": "Fs9Z3Bd50g68",
        "colab_type": "code",
        "colab": {}
      },
      "source": [
        "df.index = df.index.date"
      ],
      "execution_count": null,
      "outputs": []
    },
    {
      "cell_type": "markdown",
      "metadata": {
        "id": "wwZuo_Dh0g7D",
        "colab_type": "text"
      },
      "source": [
        "Añadimos una columna de todo \"1\" para especificar que cada pregunta cuenta como 1."
      ]
    },
    {
      "cell_type": "code",
      "metadata": {
        "scrolled": true,
        "id": "SZYjrZoW0g7F",
        "colab_type": "code",
        "colab": {}
      },
      "source": [
        "df['Count'] = 1\n",
        "df"
      ],
      "execution_count": null,
      "outputs": []
    },
    {
      "cell_type": "markdown",
      "metadata": {
        "id": "IK9lb7_e0g7L",
        "colab_type": "text"
      },
      "source": [
        "A los Dataframe de Pandas también se les puede aplicar operaciones de agregación, como `groupby` o `sum`. Finalmente, la funcion `plot()` permite mostrar los datos en un gráfico."
      ]
    },
    {
      "cell_type": "code",
      "metadata": {
        "id": "jHCSo_G60g7M",
        "colab_type": "code",
        "colab": {}
      },
      "source": [
        "accum = df.groupby(df.index).sum()\n",
        "accum"
      ],
      "execution_count": null,
      "outputs": []
    },
    {
      "cell_type": "code",
      "metadata": {
        "id": "HUWdf1E30g7S",
        "colab_type": "code",
        "colab": {}
      },
      "source": [
        "# Los 30 primeros registros que tengan un número de preguntas mayor que 20 por día.\n",
        "accum = accum[accum.Count > 20][:30]\n",
        "accum"
      ],
      "execution_count": null,
      "outputs": []
    },
    {
      "cell_type": "code",
      "metadata": {
        "scrolled": true,
        "id": "Oj-c5bzw0g7Z",
        "colab_type": "code",
        "colab": {}
      },
      "source": [
        "accum[accum.Count > 30][:30].plot.bar()"
      ],
      "execution_count": null,
      "outputs": []
    },
    {
      "cell_type": "markdown",
      "metadata": {
        "id": "3rD7gtAn0g7g",
        "colab_type": "text"
      },
      "source": [
        "A continuación comprobamos con la página de la Wikipedia cuándo apareció el lenguaje Swift:"
      ]
    },
    {
      "cell_type": "code",
      "metadata": {
        "id": "mlYdNb0I0g7h",
        "colab_type": "code",
        "colab": {}
      },
      "source": [
        "!pip install lxml"
      ],
      "execution_count": null,
      "outputs": []
    },
    {
      "cell_type": "code",
      "metadata": {
        "id": "MEL7lZ4B0g7p",
        "colab_type": "code",
        "colab": {}
      },
      "source": [
        "dfwiki = pd.read_html('https://en.wikipedia.org/wiki/Swift_(programming_language)',attrs={'class': 'infobox vevent'})"
      ],
      "execution_count": null,
      "outputs": []
    },
    {
      "cell_type": "code",
      "metadata": {
        "id": "NulSTjML0g70",
        "colab_type": "code",
        "colab": {}
      },
      "source": [
        "dfwiki[0]"
      ],
      "execution_count": null,
      "outputs": []
    },
    {
      "cell_type": "code",
      "metadata": {
        "id": "AVOS7lyB0g77",
        "colab_type": "code",
        "colab": {}
      },
      "source": [
        "firstdate = dfwiki[0][1][4]\n",
        "firstdate"
      ],
      "execution_count": null,
      "outputs": []
    },
    {
      "cell_type": "code",
      "metadata": {
        "id": "HrkmQ8O80g8C",
        "colab_type": "code",
        "colab": {}
      },
      "source": [
        "from dateutil.parser import parse\n",
        "dt = parse(firstdate.split(';')[0])\n",
        "print (dt.date().isoformat())\n",
        "print (accum.index[0].isoformat())\n",
        "\n",
        "assert dt.date().isoformat() == accum.index[0].isoformat()"
      ],
      "execution_count": null,
      "outputs": []
    },
    {
      "cell_type": "markdown",
      "metadata": {
        "id": "3_QaMNS80g8K",
        "colab_type": "text"
      },
      "source": [
        "A continuación se muestra cómo ubicar posiciones en un mapa con el paquete `folium`. Se muestra también cómo acceder a distintas posiciones del Dataframe con `iloc`, `loc`, etc."
      ]
    },
    {
      "cell_type": "code",
      "metadata": {
        "id": "3M3icJez0g8O",
        "colab_type": "code",
        "colab": {}
      },
      "source": [
        "# cargar municipios y mostrarlos en el mapa\n",
        "df = pd.read_csv('https://github.com/dsevilla/bdge/raw/master/intro/municipios-2017.csv.gz',header=0,compression='gzip')"
      ],
      "execution_count": null,
      "outputs": []
    },
    {
      "cell_type": "code",
      "metadata": {
        "id": "wUb91na40g8X",
        "colab_type": "code",
        "colab": {}
      },
      "source": [
        "df.head()"
      ],
      "execution_count": null,
      "outputs": []
    },
    {
      "cell_type": "code",
      "metadata": {
        "scrolled": true,
        "id": "VCzxEycf0g8f",
        "colab_type": "code",
        "colab": {}
      },
      "source": [
        "df.iloc[0]"
      ],
      "execution_count": null,
      "outputs": []
    },
    {
      "cell_type": "code",
      "metadata": {
        "id": "QZiOqQHT0g8q",
        "colab_type": "code",
        "colab": {}
      },
      "source": [
        "df.iloc[0].NOMBRE_ACTUAL"
      ],
      "execution_count": null,
      "outputs": []
    },
    {
      "cell_type": "code",
      "metadata": {
        "scrolled": true,
        "id": "YpSPc31P0g8x",
        "colab_type": "code",
        "colab": {}
      },
      "source": [
        "df.loc[:,'NOMBRE_ACTUAL']"
      ],
      "execution_count": null,
      "outputs": []
    },
    {
      "cell_type": "code",
      "metadata": {
        "scrolled": true,
        "id": "Bjc7tJwB0g84",
        "colab_type": "code",
        "colab": {}
      },
      "source": [
        "df.iloc[:,0]"
      ],
      "execution_count": null,
      "outputs": []
    },
    {
      "cell_type": "code",
      "metadata": {
        "scrolled": true,
        "id": "iLhnqWHH0g9D",
        "colab_type": "code",
        "colab": {}
      },
      "source": [
        "df.PROVINCIA"
      ],
      "execution_count": null,
      "outputs": []
    },
    {
      "cell_type": "code",
      "metadata": {
        "scrolled": true,
        "id": "9B0dPbdY0g9L",
        "colab_type": "code",
        "colab": {}
      },
      "source": [
        "df[df.PROVINCIA == 'A Coruña']"
      ],
      "execution_count": null,
      "outputs": []
    },
    {
      "cell_type": "code",
      "metadata": {
        "id": "TFI6VSW80g9R",
        "colab_type": "code",
        "colab": {}
      },
      "source": [
        "mula = df[df.NOMBRE_ACTUAL == 'Mula'].iloc[0]\n",
        "mula"
      ],
      "execution_count": null,
      "outputs": []
    },
    {
      "cell_type": "code",
      "metadata": {
        "id": "GN1qCKKr0g9W",
        "colab_type": "code",
        "colab": {}
      },
      "source": [
        "(mula_lat,mula_lon) = (mula.LATITUD_ETRS89, mula.LONGITUD_ETRS89)\n",
        "(mula_lat,mula_lon)"
      ],
      "execution_count": null,
      "outputs": []
    },
    {
      "cell_type": "markdown",
      "metadata": {
        "id": "N6QFogNJ0g9d",
        "colab_type": "text"
      },
      "source": [
        "El paquete `folium` permite generar mapas de posiciones. El siguiente ejemplo centra un mapa en Mula y pone un marcador con su nombre:"
      ]
    },
    {
      "cell_type": "code",
      "metadata": {
        "id": "8j6EsIXJ0g9e",
        "colab_type": "code",
        "colab": {}
      },
      "source": [
        "!pip install folium"
      ],
      "execution_count": null,
      "outputs": []
    },
    {
      "cell_type": "code",
      "metadata": {
        "id": "K-LS4MWO0g9j",
        "colab_type": "code",
        "colab": {}
      },
      "source": [
        "import folium\n",
        "\n",
        "map = folium.Map(location=[mula_lat, mula_lon],zoom_start=10)\n",
        "folium.Marker(location = [mula_lat, mula_lon], popup=\"{} ({} habitantes)\".format(mula.NOMBRE_ACTUAL,mula.POBLACION_MUNI)).add_to(map)\n",
        "\n",
        "map"
      ],
      "execution_count": null,
      "outputs": []
    },
    {
      "cell_type": "markdown",
      "metadata": {
        "id": "zdcsqsxU0g9p",
        "colab_type": "text"
      },
      "source": [
        "## Ejercicio\n",
        "\n",
        "Mostrar con `folium` marcadores para cada pueblo de A Coruña y Murcia. Se pueden usar las funciones `itertuples()` o `iterrows()` de un `Dataframe` para recorrer los elementos del mismo."
      ]
    },
    {
      "cell_type": "code",
      "metadata": {
        "id": "SQHuDE-D0g9q",
        "colab_type": "code",
        "colab": {}
      },
      "source": [
        ""
      ],
      "execution_count": null,
      "outputs": []
    }
  ]
}